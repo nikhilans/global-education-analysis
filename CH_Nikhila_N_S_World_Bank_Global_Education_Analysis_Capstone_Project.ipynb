{
  "nbformat": 4,
  "nbformat_minor": 0,
  "metadata": {
    "kernelspec": {
      "display_name": "Python 3",
      "language": "python",
      "name": "python3"
    },
    "language_info": {
      "codemirror_mode": {
        "name": "ipython",
        "version": 3
      },
      "file_extension": ".py",
      "mimetype": "text/x-python",
      "name": "python",
      "nbconvert_exporter": "python",
      "pygments_lexer": "ipython3",
      "version": "3.6.6"
    },
    "colab": {
      "name": "CH - Nikhila N S - World Bank Global Education Analysis - Capstone Project.ipynb",
      "provenance": [],
      "collapsed_sections": [],
      "include_colab_link": true
    }
  },
  "cells": [
    {
      "cell_type": "markdown",
      "metadata": {
        "id": "view-in-github",
        "colab_type": "text"
      },
      "source": [
        "<a href=\"https://colab.research.google.com/github/nikhilans/global-education-analysis/blob/main/CH_Nikhila_N_S_World_Bank_Global_Education_Analysis_Capstone_Project.ipynb\" target=\"_parent\"><img src=\"https://colab.research.google.com/assets/colab-badge.svg\" alt=\"Open In Colab\"/></a>"
      ]
    },
    {
      "cell_type": "markdown",
      "metadata": {
        "id": "Y06xIdG26kRF"
      },
      "source": [
        "## <b> The World Bank EdStats All Indicator Query holds over 4,000 internationally comparable indicators that describe education access, progression, completion, literacy, teachers, population, and expenditures.The indicators cover the education cycle from pre-primary to vocational and tertiary education and also holds learning outcome data from international and regional learning assessments (e.g. PISA, TIMSS, PIRLS), equity data from household surveys, and projection/attainment data. </b>\n",
        "\n",
        "## <b> Explore and analyze the data to identify variation of indicators across the globe, which countries are more alike and different. Feel free to add more extensive analyses and details.</b>"
      ]
    },
    {
      "cell_type": "code",
      "metadata": {
        "id": "dByMsuzT8Tnw",
        "colab": {
          "base_uri": "https://localhost:8080/"
        },
        "outputId": "287f517d-cd0f-4eb7-9ac5-7b6c91e83963"
      },
      "source": [
        "from google.colab import drive\n",
        "drive.mount('/content/drive')"
      ],
      "execution_count": 1,
      "outputs": [
        {
          "output_type": "stream",
          "text": [
            "Mounted at /content/drive\n"
          ],
          "name": "stdout"
        }
      ]
    },
    {
      "cell_type": "code",
      "metadata": {
        "id": "Fufb8zMlY-Dz"
      },
      "source": [
        "path = '/content/drive/MyDrive/AlmaBetter - Cohort Himalaya/Module 1: Python for Data Science/World Bank Global Education Analysis - Nikhila N S/data/'"
      ],
      "execution_count": 2,
      "outputs": []
    },
    {
      "cell_type": "code",
      "metadata": {
        "id": "VLZm1Xj_gBd5"
      },
      "source": [
        "# Import packages\n",
        "import pandas as pd\n",
        "import numpy as np\n",
        "\n",
        "from matplotlib import pyplot as plt\n",
        "%matplotlib inline"
      ],
      "execution_count": 3,
      "outputs": []
    },
    {
      "cell_type": "code",
      "metadata": {
        "id": "S1KDRbK6Y9_B"
      },
      "source": [
        "df_country = pd.read_csv(path+ \"EdStatsCountry.csv\")\n",
        "df_data = pd.read_csv(path + \"EdStatsData.csv\")\n",
        "df_series = pd.read_csv(path + \"EdStatsSeries.csv\")\n",
        "df_footnote = pd.read_csv(path + \"EdStatsFootNote.csv\")\n",
        "df_countryseries = pd.read_csv(path + \"EdStatsCountry-Series.csv\")"
      ],
      "execution_count": 4,
      "outputs": []
    },
    {
      "cell_type": "markdown",
      "metadata": {
        "id": "_E6dKq_pxNdI"
      },
      "source": [
        "Let's try to understand what each dataset contains"
      ]
    },
    {
      "cell_type": "code",
      "metadata": {
        "id": "e_dfgKRzY98p",
        "colab": {
          "base_uri": "https://localhost:8080/",
          "height": 420
        },
        "outputId": "1612c8f3-b3f3-411a-a8c9-f7fc1c7226a4"
      },
      "source": [
        "df_country.head(2)"
      ],
      "execution_count": 5,
      "outputs": [
        {
          "output_type": "execute_result",
          "data": {
            "text/html": [
              "<div>\n",
              "<style scoped>\n",
              "    .dataframe tbody tr th:only-of-type {\n",
              "        vertical-align: middle;\n",
              "    }\n",
              "\n",
              "    .dataframe tbody tr th {\n",
              "        vertical-align: top;\n",
              "    }\n",
              "\n",
              "    .dataframe thead th {\n",
              "        text-align: right;\n",
              "    }\n",
              "</style>\n",
              "<table border=\"1\" class=\"dataframe\">\n",
              "  <thead>\n",
              "    <tr style=\"text-align: right;\">\n",
              "      <th></th>\n",
              "      <th>Country Code</th>\n",
              "      <th>Short Name</th>\n",
              "      <th>Table Name</th>\n",
              "      <th>Long Name</th>\n",
              "      <th>2-alpha code</th>\n",
              "      <th>Currency Unit</th>\n",
              "      <th>Special Notes</th>\n",
              "      <th>Region</th>\n",
              "      <th>Income Group</th>\n",
              "      <th>WB-2 code</th>\n",
              "      <th>National accounts base year</th>\n",
              "      <th>National accounts reference year</th>\n",
              "      <th>SNA price valuation</th>\n",
              "      <th>Lending category</th>\n",
              "      <th>Other groups</th>\n",
              "      <th>System of National Accounts</th>\n",
              "      <th>Alternative conversion factor</th>\n",
              "      <th>PPP survey year</th>\n",
              "      <th>Balance of Payments Manual in use</th>\n",
              "      <th>External debt Reporting status</th>\n",
              "      <th>System of trade</th>\n",
              "      <th>Government Accounting concept</th>\n",
              "      <th>IMF data dissemination standard</th>\n",
              "      <th>Latest population census</th>\n",
              "      <th>Latest household survey</th>\n",
              "      <th>Source of most recent Income and expenditure data</th>\n",
              "      <th>Vital registration complete</th>\n",
              "      <th>Latest agricultural census</th>\n",
              "      <th>Latest industrial data</th>\n",
              "      <th>Latest trade data</th>\n",
              "      <th>Latest water withdrawal data</th>\n",
              "      <th>Unnamed: 31</th>\n",
              "    </tr>\n",
              "  </thead>\n",
              "  <tbody>\n",
              "    <tr>\n",
              "      <th>0</th>\n",
              "      <td>ABW</td>\n",
              "      <td>Aruba</td>\n",
              "      <td>Aruba</td>\n",
              "      <td>Aruba</td>\n",
              "      <td>AW</td>\n",
              "      <td>Aruban florin</td>\n",
              "      <td>SNA data for 2000-2011 are updated from offici...</td>\n",
              "      <td>Latin America &amp; Caribbean</td>\n",
              "      <td>High income: nonOECD</td>\n",
              "      <td>AW</td>\n",
              "      <td>2000</td>\n",
              "      <td>NaN</td>\n",
              "      <td>Value added at basic prices (VAB)</td>\n",
              "      <td>NaN</td>\n",
              "      <td>NaN</td>\n",
              "      <td>Country uses the 1993 System of National Accou...</td>\n",
              "      <td>NaN</td>\n",
              "      <td>NaN</td>\n",
              "      <td>IMF Balance of Payments Manual, 6th edition.</td>\n",
              "      <td>NaN</td>\n",
              "      <td>Special trade system</td>\n",
              "      <td>NaN</td>\n",
              "      <td>NaN</td>\n",
              "      <td>2010</td>\n",
              "      <td>NaN</td>\n",
              "      <td>NaN</td>\n",
              "      <td>Yes</td>\n",
              "      <td>NaN</td>\n",
              "      <td>NaN</td>\n",
              "      <td>2012.0</td>\n",
              "      <td>NaN</td>\n",
              "      <td>NaN</td>\n",
              "    </tr>\n",
              "    <tr>\n",
              "      <th>1</th>\n",
              "      <td>AFG</td>\n",
              "      <td>Afghanistan</td>\n",
              "      <td>Afghanistan</td>\n",
              "      <td>Islamic State of Afghanistan</td>\n",
              "      <td>AF</td>\n",
              "      <td>Afghan afghani</td>\n",
              "      <td>Fiscal year end: March 20; reporting period fo...</td>\n",
              "      <td>South Asia</td>\n",
              "      <td>Low income</td>\n",
              "      <td>AF</td>\n",
              "      <td>2002/03</td>\n",
              "      <td>NaN</td>\n",
              "      <td>Value added at basic prices (VAB)</td>\n",
              "      <td>IDA</td>\n",
              "      <td>HIPC</td>\n",
              "      <td>Country uses the 1993 System of National Accou...</td>\n",
              "      <td>NaN</td>\n",
              "      <td>NaN</td>\n",
              "      <td>NaN</td>\n",
              "      <td>Actual</td>\n",
              "      <td>General trade system</td>\n",
              "      <td>Consolidated central government</td>\n",
              "      <td>General Data Dissemination System (GDDS)</td>\n",
              "      <td>1979</td>\n",
              "      <td>Multiple Indicator Cluster Survey (MICS), 2010/11</td>\n",
              "      <td>Integrated household survey (IHS), 2008</td>\n",
              "      <td>NaN</td>\n",
              "      <td>2013/14</td>\n",
              "      <td>NaN</td>\n",
              "      <td>2012.0</td>\n",
              "      <td>2000</td>\n",
              "      <td>NaN</td>\n",
              "    </tr>\n",
              "  </tbody>\n",
              "</table>\n",
              "</div>"
            ],
            "text/plain": [
              "  Country Code   Short Name  ... Latest water withdrawal data Unnamed: 31\n",
              "0          ABW        Aruba  ...                          NaN         NaN\n",
              "1          AFG  Afghanistan  ...                         2000         NaN\n",
              "\n",
              "[2 rows x 32 columns]"
            ]
          },
          "metadata": {
            "tags": []
          },
          "execution_count": 5
        }
      ]
    },
    {
      "cell_type": "code",
      "metadata": {
        "id": "xITG0-G7Y96R",
        "colab": {
          "base_uri": "https://localhost:8080/"
        },
        "outputId": "35fbb37e-9718-475d-ab68-1605033f8ae1"
      },
      "source": [
        "df_country.info()"
      ],
      "execution_count": 6,
      "outputs": [
        {
          "output_type": "stream",
          "text": [
            "<class 'pandas.core.frame.DataFrame'>\n",
            "RangeIndex: 241 entries, 0 to 240\n",
            "Data columns (total 32 columns):\n",
            " #   Column                                             Non-Null Count  Dtype  \n",
            "---  ------                                             --------------  -----  \n",
            " 0   Country Code                                       241 non-null    object \n",
            " 1   Short Name                                         241 non-null    object \n",
            " 2   Table Name                                         241 non-null    object \n",
            " 3   Long Name                                          241 non-null    object \n",
            " 4   2-alpha code                                       238 non-null    object \n",
            " 5   Currency Unit                                      215 non-null    object \n",
            " 6   Special Notes                                      145 non-null    object \n",
            " 7   Region                                             214 non-null    object \n",
            " 8   Income Group                                       214 non-null    object \n",
            " 9   WB-2 code                                          240 non-null    object \n",
            " 10  National accounts base year                        205 non-null    object \n",
            " 11  National accounts reference year                   32 non-null     float64\n",
            " 12  SNA price valuation                                197 non-null    object \n",
            " 13  Lending category                                   144 non-null    object \n",
            " 14  Other groups                                       58 non-null     object \n",
            " 15  System of National Accounts                        215 non-null    object \n",
            " 16  Alternative conversion factor                      47 non-null     object \n",
            " 17  PPP survey year                                    145 non-null    object \n",
            " 18  Balance of Payments Manual in use                  181 non-null    object \n",
            " 19  External debt Reporting status                     124 non-null    object \n",
            " 20  System of trade                                    200 non-null    object \n",
            " 21  Government Accounting concept                      161 non-null    object \n",
            " 22  IMF data dissemination standard                    181 non-null    object \n",
            " 23  Latest population census                           213 non-null    object \n",
            " 24  Latest household survey                            141 non-null    object \n",
            " 25  Source of most recent Income and expenditure data  160 non-null    object \n",
            " 26  Vital registration complete                        111 non-null    object \n",
            " 27  Latest agricultural census                         142 non-null    object \n",
            " 28  Latest industrial data                             107 non-null    float64\n",
            " 29  Latest trade data                                  185 non-null    float64\n",
            " 30  Latest water withdrawal data                       179 non-null    object \n",
            " 31  Unnamed: 31                                        0 non-null      float64\n",
            "dtypes: float64(4), object(28)\n",
            "memory usage: 60.4+ KB\n"
          ],
          "name": "stdout"
        }
      ]
    },
    {
      "cell_type": "code",
      "metadata": {
        "colab": {
          "base_uri": "https://localhost:8080/"
        },
        "id": "pzqxph28SXj0",
        "outputId": "a8683c9d-7ea1-4f61-d047-61b1194a5621"
      },
      "source": [
        "df_country['Special Notes'].unique()"
      ],
      "execution_count": 7,
      "outputs": [
        {
          "output_type": "execute_result",
          "data": {
            "text/plain": [
              "array(['SNA data for 2000-2011 are updated from official government statistics; 1994-1999 from UN databases. Base year has changed from 1995 to 2000.',\n",
              "       'Fiscal year end: March 20; reporting period for national accounts data: FY (from 2013 are CY). National accounts data are sourced from the IMF and differ from the Central Statistics Organization numbers due to exclusion of the opium economy.',\n",
              "       'April 2013 database update: Based on IMF data, national accounts data were revised for 2000 onward; the base year changed to 2002.',\n",
              "       nan,\n",
              "       'Arab World aggregate. Arab World is composed of members of the League of Arab States.',\n",
              "       'April 2013 database update: Based on data from the National Bureau of Statistics, national accounts data were revised for 2001 onward; the base year changed to 2007.',\n",
              "       'April 2012 database update: Based on official government statistics, national accounts data were revised for 2000 onward; the base year changed to 2006.',\n",
              "       'Fiscal year end: June 30; reporting period for national accounts data: FY. Value added current series updated by the Australian Bureau of Statistics; data revised from 1990 onward; Australia reports using SNA 2008.',\n",
              "       'A simple multiplier is used to convert the national currencies of EMU members to euros. The following irrevocable euro conversion rate was adopted by the EU Council on January 1, 1999: 1 euro = 13.7603 Austrian schilling. Please note that historical data before 1999 are not actual euros and are not comparable or suitable for aggregation across countries.',\n",
              "       'April 2012 database update: National accounts historical expenditure series in constant prices were revised in line with State Statistical Committee data that were not previously available.',\n",
              "       'A simple multiplier is used to convert the national currencies of EMU members to euros. The following irrevocable euro conversion rate was adopted by the EU Council on January 1, 1999: 1 euro = 40.3399 Belgian franc. Please note that historical data before 1999 are not actual euros and are not comparable or suitable for aggregation across countries.',\n",
              "       'Fiscal year end: June 30; reporting period for national accounts data: FY.',\n",
              "       'April 2011 database update: The National Statistical Office revised national accounts data from 1995 onward. GDP in current prices were about 4 percent higher than previous estimates.',\n",
              "       'April 2013 database update: Data were updated using the government of Bhutan macroeconomic framework.',\n",
              "       'Fiscal year end: March 31; reporting period for national accounts data: CY. Based on official government statistics, national accounts data have been revised from 2006 onward; the new base year is 2006. Data before 2006 were reported on a fiscal year basis.',\n",
              "       'Fiscal year end: March 31; reporting period for national accounts data: CY.',\n",
              "       'On 1 July 1997 China resumed its exercise of sovereignty over Hong Kong; and on 20 December 1999 China resumed its exercise of sovereignty over Macao. Unless otherwise noted, data for China do not include data for Hong Kong SAR, China; Macao SAR, China; or Taiwan, China. Based on data from the National Bureau of Statistics, the methodology for national accounts exports and imports of goods and services in constant prices have been revised from 2000 onward.',\n",
              "       'Based on INS (2000-09) and IMF (2010-13) data, national accounts data were revised for 2000 onward; the base year changed to 2005.',\n",
              "       'April 2013 database update: Based on IMF data, national accounts data were revised for 1990 onward; the base year changed to 1990.',\n",
              "       'Cabo Verde is the new name for the country previously listed as Cape Verde. Based on official government statistics and IMF data, national accounts data have been revised from 1990 onward; the new base year is 2007.',\n",
              "       'A simple multiplier is used to convert the national currencies of EMU members to euros. The following irrevocable euro conversion rate entered into force on January 1, 2008: 1 euro = 0.585274 Cyprus pounds. Please note that historical data are not actual euros and are not comparable or suitable for aggregation across countries.',\n",
              "       'A simple multiplier is used to convert the national currencies of EMU members to euros. The following irrevocable euro conversion rate was adopted by the EU Council on January 1, 1999: 1 euro = 1.95583 German mark. Please note that historical data before 1999 are not actual euros and are not comparable or suitable for aggregation across countries.',\n",
              "       'East Asia and Pacific regional aggregate (does not include high-income economies).',\n",
              "       'East Asia and Pacific regional aggregate (including high-income economies).',\n",
              "       'Europe and Central Asia regional aggregate (does not include high-income economies).',\n",
              "       'Europe and Central Asia regional aggregate (including high-income economies).',\n",
              "       'National accounts have been revised from 1965 onward based on official government data; the new base year is 2007. The large upward changes are due to an improved calculation method for nominal GDP.',\n",
              "       'Euro area aggregate.',\n",
              "       'April 2013 database update: Based on IMF data, national accounts data were revised for 2000 onward; the base year changed to 2000.',\n",
              "       'A simple multiplier is used to convert the national currencies of EMU members to euros. The following irrevocable euro conversion rate was adopted by the EU Council on January 1, 1999: 1 euro = 166.386 Spanish peseta. Please note that historical data before 1999 are not actual euros and are not comparable or suitable for aggregation across countries.',\n",
              "       'A simple multiplier is used to convert the national currencies of EMU members to euros. The following irrevocable euro conversion rate entered into force on January 1, 2011: 1 euro = 15.6466 Estonian kroon. Please note that historical data are not actual euros and are not comparable or suitable for aggregation across countries.',\n",
              "       'Fiscal year end: July 7; reporting period for national accounts data: FY. Based on IMF data, national accounts data have been revised for 2000 onward; the new base year is 2011.',\n",
              "       'European Union aggregate.',\n",
              "       'A simple multiplier is used to convert the national currencies of EMU members to euros. The following irrevocable euro conversion rate was adopted by the EU Council on January 1, 1999: 1 euro = 5.94573 Finnish markka. Please note that historical data before 1999 are not actual euros and are not comparable or suitable for aggregation across countries.',\n",
              "       'Based on data from the Bureau of Statistics, national accounts data on the expenditure side have been revised from 2005 onward; the new base year is 2005.',\n",
              "       'A simple multiplier is used to convert the national currencies of EMU members to euros. The following irrevocable euro conversion rate was adopted by the EU Council on January 1, 1999: 1 euro = 6.55957 French franc. Please note that historical data before 1999 are not actual euros and are not comparable or suitable for aggregation across countries.',\n",
              "       'Fiscal year ends on September 30; reporting period for national accounts data: FY. Based on the Pacific and Virgin Islands Training Initiative, national accounts data have been revised from 2009 onward. 2013 estimates are based on the IMF Small States Monitor, Issue 1.2014. In 2010, the government statistical office revised national accounts data for 1995-2008.',\n",
              "       \"In 2010, the Ghana Statistical Service revised the base year for Ghana's national accounts series from 1993 to 2006. The new GDP data were about 60 percent higher than previously reported and incorporated improved data sources and methodology.\",\n",
              "       'Fiscal year end: June 30; reporting period for national accounts data: CY. April 2013 database update: Based on official government statistics, national accounts data were revised for 2004 onward; the base year changed to 2004.',\n",
              "       'In 2010, national accounts data for 2003-09 were revised. The new data had broader coverage of all sectors of the economy, and GDP in current prices averaged 89 percent higher than previous estimates.',\n",
              "       'National accounts have been revised from 1980 onward based on official government data; the new base year is 2006.',\n",
              "       'A simple multiplier is used to convert the national currencies of EMU members to euros. The following irrevocable euro conversion rate was adopted by the EU Council on January 1, 1999: 1 euro = 340.75 Greek drachma. Please note that historical data before 1999 are not actual euros and are not comparable or suitable for aggregation across countries.',\n",
              "       'In 2010, the Bureau of Statistics introduced a new series of GDP rebased to year 2006. Current price GDP averaged 63 percent higher than previous estimates.',\n",
              "       'High income group aggregate. High-income economies are those in which 2013 GNI per capita was $12,746 or more.',\n",
              "       'On 1 July 1997 China resumed its exercise of sovereignty over Hong Kong. Unless otherwise noted, data for China do not include data for Hong Kong SAR, China; Macao SAR, China; or Taiwan, China. Agriculture value added includes mining and quarrying.',\n",
              "       'Heavily indebted poor countries aggregate.',\n",
              "       'April 2013 database update: Based on official government statistics, the base year for constant price series changed to 2005.',\n",
              "       'Fiscal year end: September 30; reporting period for national accounts data: FY. In 2010, the government revised national accounts data following changes in the methodology. Current price series since 1991 and constant price series since 1996 were revised.',\n",
              "       'April 2012 database update: Based on data from the Organisation for Economic Co-operation and Development, national accounts data were revised for 1991 onward.',\n",
              "       'Fiscal year end: March 31; reporting period for national accounts data: CY. Data for Indonesia include Timor-Leste through 1999 unless otherwise noted.',\n",
              "       'Fiscal year end: March 31; reporting period for national accounts data: FY. April 2013 database update: The India Central Statistical Office revised historical data series both current and constant going back to 1960 with 2004–05 as the base.',\n",
              "       'A simple multiplier is used to convert the national currencies of EMU members to euros. The following irrevocable euro conversion rate was adopted by the EU Council on January 1, 1999: 1 euro = 0.787564 Irish pound. Please note that historical data before 1999 are not actual euros and are not comparable or suitable for aggregation across countries.',\n",
              "       'Fiscal year end: March 20; reporting period for national accounts data: FY.',\n",
              "       'National accounts have been revised from 2000 onward based on official government data; the new base year is 1988. The new series raises GDP significantly from previous estimates.',\n",
              "       'A simple multiplier is used to convert the national currencies of EMU members to euros. The following irrevocable euro conversion rate was adopted by the EU Council on January 1, 1999: 1 euro = 1936.27 Italian lira. Please note that historical data before 1999 are not actual euros and are not comparable or suitable for aggregation across countries.',\n",
              "       'April 2013 database update: Based on official government statistics, national accounts data were revised for 2002 onward; the base year changed to 2007.',\n",
              "       'Fiscal year end: June 30; reporting period for national accounts data: CY.',\n",
              "       'Based on IMF and World Bank data, GDP in current and constant prices have been revised from 2000 onward. Value added components are calculated using shares from the Asian Development Bank.',\n",
              "       'New base year is 2010. GDP data are available from 1970 onward while components are revised from 2000 onward only. Historical data in constant prices are linked to preserve growth rates.',\n",
              "       'Latin America and Caribbean regional aggregate (does not include high-income economies).',\n",
              "       'National accounts data are revised from 2010 to 2013 based on IMF and World Bank staff estimates.',\n",
              "       'Latin America and Caribbean regional aggregate (including high-income economies).',\n",
              "       'Least developed countries (UN classification) aggregate.',\n",
              "       'Low income group aggregate. Low-income economies are those in which 2013 GNI per capita was $1,045 or less.',\n",
              "       'Lower middle income group aggregate. Lower-middle-income economies are those in which 2013 GNI per capita was between $1,046 and $4,125.',\n",
              "       'Low and middle income group aggregate (all developing economies). Low- and middle-income economies are those in which 2013 GNI per capita was $12,745 or less.',\n",
              "       'A simple multiplier is used to convert the national currencies of EMU members to euros. The following irrevocable euro conversion rate was adopted by the EU Council on January 1, 1999: 1 euro = 40.3399 Luxembourg franc. Please note that historical data before 1999 are not actual euros and are not comparable or suitable for aggregation across countries.',\n",
              "       'Country joined euro area on 1 January 2014; data in the WDI database are reported in lats.',\n",
              "       'On 20 December 1999 China resumed its exercise of sovereignty over Macao. Unless otherwise noted, data for China do not include data for Hong Kong SAR, China; Macao SAR, China; or Taiwan, China.',\n",
              "       'April 2012 database update: The Department of National Planning revised national accounts data for 2000 onward; the base year changed to 2003.',\n",
              "       'Middle East and North Africa regional aggregate (including high-income economies).',\n",
              "       'The new base year is 2008.',\n",
              "       'Fiscal year ends on September 30; reporting period for national accounts data: FY.',\n",
              "       'Middle income group aggregate. Middle-income economies are those in which 2013 GNI per capita was between $1,046 and $12,745.',\n",
              "       'April 2012 database update: Based on official statistics, national accounts data were revised for 2003 onward.',\n",
              "       'A simple multiplier is used to convert the national currencies of EMU members to euros. The following irrevocable euro conversion rate entered into force on January 1, 2008: 1 euro = 0.4293 Maltese lira. Please note that historical data are not actual euros and are not comparable or suitable for aggregation across countries.',\n",
              "       'Fiscal year end: March 31; reporting period for national accounts data: FY.',\n",
              "       'Middle East and North Africa regional aggregate (does not include high-income economies).',\n",
              "       'Montenegro declared independence from Serbia and Montenegro on June 3, 2006. Where available, data for each country are shown separately. However, for Serbia, some indicators continue to include data for Montenegro through 2005.',\n",
              "       'April 2012 database update: Based on official government statistics, data were revised for 1991 onward; the base year for constant price series changed to 2004.',\n",
              "       'Fiscal year end: March 31; reporting period for national accounts data: CY. Based on IMF data, national accounts data have been revised for 2000 onward; the new base year is 2009.',\n",
              "       'Based on official government statistics, value added in services in constant and current prices have been revised from 1990 onward. National accounts data in constant prices have been linked back to 1960; the new base year is 2005.',\n",
              "       'North America regional aggregate. There are no economies in North America classified as low or middle income.',\n",
              "       'Fiscal year end: March 31; reporting period for national accounts data: CY. Based on official government statistics, national accounts data have been revised from 1980 onward; the new base year is 2010.',\n",
              "       'Based on official government statistics, national accounts data have been revised from 2006 onward; the new base year is 2006.',\n",
              "       'Based on official government statistics released 6 April, 2014, national accounts data have been revised from 2010 onward; the new base year is 2010. The new GDP data are 60 to 75 percent higher than previously reported and incorporate improved data sources and methodology.',\n",
              "       'April 2013 database update: Based on official government statistics, national accounts data were revised for 1994 onward; the base year changed to 2006.',\n",
              "       'A simple multiplier is used to convert the national currencies of EMU members to euros. The following irrevocable euro conversion rate was adopted by the EU Council on January 1, 1999: 1 euro = 2.20371 Netherlands guilder. Please note that historical data before 1999 are not actual euros and are not comparable or suitable for aggregation across countries.',\n",
              "       'Fiscal year end: July 14; reporting period for national accounts data: FY.',\n",
              "       'OECD members aggregate (all, including developing countries).',\n",
              "       'Fiscal year end: June 30; reporting period for national accounts data: FY. The new base year is 2005/06.',\n",
              "       'Source for GNI and net income from abroad is changed to national statistical office from central bank. April 2012 database update: National accounts data were revised for 1998 onward. Because intellectual property products are now reported as a part of gross fixed capital formation, gross domestic product (GDP) in current prices averaged 4 percent higher than previous estimates.',\n",
              "       'Fiscal year ends on September 30; reporting period for national accounts data: FY. National accounts data are revised based on IMF reports.',\n",
              "       'Fiscal year end: June 30; reporting period for national accounts data: FY. April 2012 database update: Based on data from the Instituto de Estadísticas de Puerto Rico, national accounts data were revised for 2001 onward.',\n",
              "       'A simple multiplier is used to convert the national currencies of EMU members to euros. The following irrevocable euro conversion rate was adopted by the EU Council on January 1, 1999: 1 euro = 200.482 Portuguese escudo. Please note that historical data before 1999 are not actual euros and are not comparable or suitable for aggregation across countries.',\n",
              "       'National accounts data have been revised from 1960 onward. The methodology and base year have not changed but the output of two hydroelectric plants (shared with neighboring countries) has been added raising GDP from previous estimates. On the supply side, it was added in \"gas, electricity and water.\" On the demand side changes were mainly to exports, but also for imports, investment and consumption. National accounts price valuations for 1991 to 2012 have also been corrected and changed from VAP to VAB.',\n",
              "       'National accounts have been revised based on data from the National Statistical Institute; the new base year is 2000.',\n",
              "       'Based on official government statistics, national accounts data are revised for 2006 onward; the new base year is 2011.',\n",
              "       'South Asia regional aggregate. There are no economies in South Asia classified as high income.',\n",
              "       'Total population data are reported separately for Sudan and South Sudan; see specific notes for other demographic-related series. National accounts data exclude South Sudan after July 9, 2011. Other data reported for Sudan include South Sudan unless otherwise noted.',\n",
              "       'Fiscal year end: March 31; reporting period for national accounts data: CY. Country reports using a blend of SNA 1993 and SNA 2008. April 2012 database update: National accounts time series were replaced with official government statistics.',\n",
              "       'National accounts data have been revised from 2007 to 2013 based on IMF reports.',\n",
              "       'Fiscal year end: June 30; reporting period for national accounts data: CY. April 2013 database update: Based on official government statistics, national accounts data were revised for 1990 onward; the base year changed to 2006.',\n",
              "       'Montenegro declared independence from Serbia and Montenegro on June 3, 2006. Where available, data for each country are shown separately. However, for Serbia, some indicators, such as those series for which data appear only for Serbia and not Montenegro--e.g., aid, environment, external debt, balance of payments, various social indicators excluding population--continue to include data for Montenegro through 2005. Moreover, data from 1999 onward for Serbia for most indicators exclude data for Kosovo, 1999 being the year when Kosovo became a territory under international administration pursuant to UN Security Council Resolution 1244 (1999); any exceptions are noted. Kosovo became a World Bank member on June 29, 2009; available data are shown separately for Kosovo. In 2011, the Statistical Office of Serbia improved the methodology of national accounts data for 2003 onward. Specifically, the classification of sectors was revised, and GDP is now calculated using chain linked volumes in 2005 prices.',\n",
              "       'Sub-Saharan Africa regional aggregate (does not include high-income economies).',\n",
              "       \"South Sudan declared its independence on July 9, 2011. Data are shown separately for South Sudan where available. However, data reported for Sudan include South Sudan unless otherwise noted. Though limited data are available in the WDI database for South Sudan, additional data are available from South Sudan's National Bureau of Statistics (http://ssnbs.org/).\",\n",
              "       'Sub-Saharan Africa regional aggregate (including high-income economies).',\n",
              "       'Based on IMF data, national accounts data have been revised for 2000 onward; the new base year is 2000.',\n",
              "       'A simple multiplier is used to convert the national currencies of EMU members to euros. The following irrevocable euro conversion rate entered into force on January 1, 2009: 1 euro = 30.126 Slovak koruna. Please note that historical data are not actual euros and are not comparable or suitable for aggregation across countries.',\n",
              "       'A simple multiplier is used to convert the national currencies of EMU members to euros. The following irrevocable euro conversion rate entered into force on January 1, 2007: 1 euro = 239.64 Slovenian tolar. Please note that historical data are not actual euros and are not comparable or suitable for aggregation across countries.',\n",
              "       'Fiscal year end: March 31; reporting period for national accounts data: CY. In 2011, the Central Statistical Office revised national accounts data for 1990 onward.',\n",
              "       'April 2013 database update: Based on official government statistics, national accounts data were revised for 1976 onward; the base year changed to 2006.',\n",
              "       'April 2013 database update: Based on data from the Central Bureau of Statistics, national accounts data were revised for 2003 onward.',\n",
              "       'Based on IMF data, national accounts data have been revised for 2005 onward; the new base year is 2005.',\n",
              "       'April 2013 database update: Based on IMF data, national accounts data have been revised for 2000; the new base year is 2000.',\n",
              "       'Fiscal year end: September 30; reporting period for national accounts data: CY.',\n",
              "       'On January 1, 2009, the Turkmen manat was redenominated (1 new manat = 5,000 old manats).',\n",
              "       'Based on official government statistics, national account data have been revised, and value added is measured at basic prices; the new base year is 2010.',\n",
              "       'Fiscal year ends on June 30; reporting period for national accounts data: FY. April 2013 database update: Based on data from the National Bureau of Statistics, national accounts data were revised; the base year changed to 2010/11.',\n",
              "       'National accounts data from 2005 onward have been revised based on data published by the Tunisian authorities. April 2012 database update: Based on data from the Central Bank and its Statistical Bulletin, national accounts data were revised for 1997 onward.',\n",
              "       'Based on data from the IMF, World Bank and government official statistics, national accounts data have been revised from 2006 onward. Value added is measured at producer prices up to 1999 and at basic prices from 2000 onward.',\n",
              "       'Fiscal year end: June 30; reporting period for national accounts data: FY. In 2011, the Bureau of Statistics revised national accounts series for 1998 onward; the base year for constant price series changed to 2001/02.',\n",
              "       'Upper middle income group aggregate. Upper-middle-income economies are those in which 2013 GNI per capita was between $4,126 and $12,745.',\n",
              "       'In 2011, the Central Bank revised national accounts data for 2006 onward.',\n",
              "       'Based on data from the Vietnam Statistics Office, national accounts data have been revised from 2000 onward; the new base year is 2010.',\n",
              "       'Based on official government statistics, value added is measured at producer prices through 1997 and at basic prices from 1998 onward.',\n",
              "       'World aggregate.',\n",
              "       'Fiscal year ends on June 30; reporting period for national accounts data: FY. Data are revised from Samoa Bureau of Statistics and Central Bank of Samoa.',\n",
              "       'Kosovo became a World Bank member on June 29, 2009. Since 1999, Kosovo has been a territory under international administration pursuant to UN Security Council Resolution 1244 (1999).',\n",
              "       'Based on official government statistics and International Monetary Fund data, national accounts data have been revised for 1990 onward.',\n",
              "       'National accounts data have rebased to reflect the January 1, 2013, introduction of the new Zambian kwacha at a rate of 1,000 old kwacha = 1 new kwacha.',\n",
              "       'Fiscal year end: June 30; reporting period for national accounts data: CY. As of January 2009, multiple hard currencies, such as rand, pound sterling, euro and U.S. dollar are in use. Data are reported in U.S. dollars, the most-used currency.'],\n",
              "      dtype=object)"
            ]
          },
          "metadata": {
            "tags": []
          },
          "execution_count": 7
        }
      ]
    },
    {
      "cell_type": "code",
      "metadata": {
        "colab": {
          "base_uri": "https://localhost:8080/"
        },
        "id": "5UaVXmGISXhV",
        "outputId": "46ea486c-dddd-4f65-d56e-85f57ddfb829"
      },
      "source": [
        "df_country['Region'].unique()"
      ],
      "execution_count": 8,
      "outputs": [
        {
          "output_type": "execute_result",
          "data": {
            "text/plain": [
              "array(['Latin America & Caribbean', 'South Asia', 'Sub-Saharan Africa',\n",
              "       'Europe & Central Asia', nan, 'Middle East & North Africa',\n",
              "       'East Asia & Pacific', 'North America'], dtype=object)"
            ]
          },
          "metadata": {
            "tags": []
          },
          "execution_count": 8
        }
      ]
    },
    {
      "cell_type": "code",
      "metadata": {
        "id": "AQ8X2COooxjC",
        "colab": {
          "base_uri": "https://localhost:8080/"
        },
        "outputId": "92f8d318-3bb0-4efd-81a1-1e5a4a75f662"
      },
      "source": [
        "df_country['Country Code'].nunique()"
      ],
      "execution_count": 9,
      "outputs": [
        {
          "output_type": "execute_result",
          "data": {
            "text/plain": [
              "241"
            ]
          },
          "metadata": {
            "tags": []
          },
          "execution_count": 9
        }
      ]
    },
    {
      "cell_type": "code",
      "metadata": {
        "id": "VPea_29mY93p",
        "colab": {
          "base_uri": "https://localhost:8080/",
          "height": 318
        },
        "outputId": "a5a03909-d4d6-47bd-8a13-1fdd4be09d50"
      },
      "source": [
        "df_data.head(2)"
      ],
      "execution_count": 10,
      "outputs": [
        {
          "output_type": "execute_result",
          "data": {
            "text/html": [
              "<div>\n",
              "<style scoped>\n",
              "    .dataframe tbody tr th:only-of-type {\n",
              "        vertical-align: middle;\n",
              "    }\n",
              "\n",
              "    .dataframe tbody tr th {\n",
              "        vertical-align: top;\n",
              "    }\n",
              "\n",
              "    .dataframe thead th {\n",
              "        text-align: right;\n",
              "    }\n",
              "</style>\n",
              "<table border=\"1\" class=\"dataframe\">\n",
              "  <thead>\n",
              "    <tr style=\"text-align: right;\">\n",
              "      <th></th>\n",
              "      <th>Country Name</th>\n",
              "      <th>Country Code</th>\n",
              "      <th>Indicator Name</th>\n",
              "      <th>Indicator Code</th>\n",
              "      <th>1970</th>\n",
              "      <th>1971</th>\n",
              "      <th>1972</th>\n",
              "      <th>1973</th>\n",
              "      <th>1974</th>\n",
              "      <th>1975</th>\n",
              "      <th>1976</th>\n",
              "      <th>1977</th>\n",
              "      <th>1978</th>\n",
              "      <th>1979</th>\n",
              "      <th>1980</th>\n",
              "      <th>1981</th>\n",
              "      <th>1982</th>\n",
              "      <th>1983</th>\n",
              "      <th>1984</th>\n",
              "      <th>1985</th>\n",
              "      <th>1986</th>\n",
              "      <th>1987</th>\n",
              "      <th>1988</th>\n",
              "      <th>1989</th>\n",
              "      <th>1990</th>\n",
              "      <th>1991</th>\n",
              "      <th>1992</th>\n",
              "      <th>1993</th>\n",
              "      <th>1994</th>\n",
              "      <th>1995</th>\n",
              "      <th>1996</th>\n",
              "      <th>1997</th>\n",
              "      <th>1998</th>\n",
              "      <th>1999</th>\n",
              "      <th>2000</th>\n",
              "      <th>2001</th>\n",
              "      <th>2002</th>\n",
              "      <th>2003</th>\n",
              "      <th>2004</th>\n",
              "      <th>2005</th>\n",
              "      <th>2006</th>\n",
              "      <th>2007</th>\n",
              "      <th>2008</th>\n",
              "      <th>2009</th>\n",
              "      <th>2010</th>\n",
              "      <th>2011</th>\n",
              "      <th>2012</th>\n",
              "      <th>2013</th>\n",
              "      <th>2014</th>\n",
              "      <th>2015</th>\n",
              "      <th>2016</th>\n",
              "      <th>2017</th>\n",
              "      <th>2020</th>\n",
              "      <th>2025</th>\n",
              "      <th>2030</th>\n",
              "      <th>2035</th>\n",
              "      <th>2040</th>\n",
              "      <th>2045</th>\n",
              "      <th>2050</th>\n",
              "      <th>2055</th>\n",
              "      <th>2060</th>\n",
              "      <th>2065</th>\n",
              "      <th>2070</th>\n",
              "      <th>2075</th>\n",
              "      <th>2080</th>\n",
              "      <th>2085</th>\n",
              "      <th>2090</th>\n",
              "      <th>2095</th>\n",
              "      <th>2100</th>\n",
              "      <th>Unnamed: 69</th>\n",
              "    </tr>\n",
              "  </thead>\n",
              "  <tbody>\n",
              "    <tr>\n",
              "      <th>0</th>\n",
              "      <td>Arab World</td>\n",
              "      <td>ARB</td>\n",
              "      <td>Adjusted net enrolment rate, lower secondary, ...</td>\n",
              "      <td>UIS.NERA.2</td>\n",
              "      <td>NaN</td>\n",
              "      <td>NaN</td>\n",
              "      <td>NaN</td>\n",
              "      <td>NaN</td>\n",
              "      <td>NaN</td>\n",
              "      <td>NaN</td>\n",
              "      <td>NaN</td>\n",
              "      <td>NaN</td>\n",
              "      <td>NaN</td>\n",
              "      <td>NaN</td>\n",
              "      <td>NaN</td>\n",
              "      <td>NaN</td>\n",
              "      <td>NaN</td>\n",
              "      <td>NaN</td>\n",
              "      <td>NaN</td>\n",
              "      <td>NaN</td>\n",
              "      <td>NaN</td>\n",
              "      <td>NaN</td>\n",
              "      <td>NaN</td>\n",
              "      <td>NaN</td>\n",
              "      <td>NaN</td>\n",
              "      <td>NaN</td>\n",
              "      <td>NaN</td>\n",
              "      <td>NaN</td>\n",
              "      <td>NaN</td>\n",
              "      <td>NaN</td>\n",
              "      <td>NaN</td>\n",
              "      <td>NaN</td>\n",
              "      <td>NaN</td>\n",
              "      <td>NaN</td>\n",
              "      <td>NaN</td>\n",
              "      <td>NaN</td>\n",
              "      <td>NaN</td>\n",
              "      <td>NaN</td>\n",
              "      <td>NaN</td>\n",
              "      <td>NaN</td>\n",
              "      <td>NaN</td>\n",
              "      <td>NaN</td>\n",
              "      <td>NaN</td>\n",
              "      <td>NaN</td>\n",
              "      <td>NaN</td>\n",
              "      <td>NaN</td>\n",
              "      <td>NaN</td>\n",
              "      <td>NaN</td>\n",
              "      <td>NaN</td>\n",
              "      <td>NaN</td>\n",
              "      <td>NaN</td>\n",
              "      <td>NaN</td>\n",
              "      <td>NaN</td>\n",
              "      <td>NaN</td>\n",
              "      <td>NaN</td>\n",
              "      <td>NaN</td>\n",
              "      <td>NaN</td>\n",
              "      <td>NaN</td>\n",
              "      <td>NaN</td>\n",
              "      <td>NaN</td>\n",
              "      <td>NaN</td>\n",
              "      <td>NaN</td>\n",
              "      <td>NaN</td>\n",
              "      <td>NaN</td>\n",
              "      <td>NaN</td>\n",
              "      <td>NaN</td>\n",
              "      <td>NaN</td>\n",
              "      <td>NaN</td>\n",
              "      <td>NaN</td>\n",
              "      <td>NaN</td>\n",
              "    </tr>\n",
              "    <tr>\n",
              "      <th>1</th>\n",
              "      <td>Arab World</td>\n",
              "      <td>ARB</td>\n",
              "      <td>Adjusted net enrolment rate, lower secondary, ...</td>\n",
              "      <td>UIS.NERA.2.F</td>\n",
              "      <td>NaN</td>\n",
              "      <td>NaN</td>\n",
              "      <td>NaN</td>\n",
              "      <td>NaN</td>\n",
              "      <td>NaN</td>\n",
              "      <td>NaN</td>\n",
              "      <td>NaN</td>\n",
              "      <td>NaN</td>\n",
              "      <td>NaN</td>\n",
              "      <td>NaN</td>\n",
              "      <td>NaN</td>\n",
              "      <td>NaN</td>\n",
              "      <td>NaN</td>\n",
              "      <td>NaN</td>\n",
              "      <td>NaN</td>\n",
              "      <td>NaN</td>\n",
              "      <td>NaN</td>\n",
              "      <td>NaN</td>\n",
              "      <td>NaN</td>\n",
              "      <td>NaN</td>\n",
              "      <td>NaN</td>\n",
              "      <td>NaN</td>\n",
              "      <td>NaN</td>\n",
              "      <td>NaN</td>\n",
              "      <td>NaN</td>\n",
              "      <td>NaN</td>\n",
              "      <td>NaN</td>\n",
              "      <td>NaN</td>\n",
              "      <td>NaN</td>\n",
              "      <td>NaN</td>\n",
              "      <td>NaN</td>\n",
              "      <td>NaN</td>\n",
              "      <td>NaN</td>\n",
              "      <td>NaN</td>\n",
              "      <td>NaN</td>\n",
              "      <td>NaN</td>\n",
              "      <td>NaN</td>\n",
              "      <td>NaN</td>\n",
              "      <td>NaN</td>\n",
              "      <td>NaN</td>\n",
              "      <td>NaN</td>\n",
              "      <td>NaN</td>\n",
              "      <td>NaN</td>\n",
              "      <td>NaN</td>\n",
              "      <td>NaN</td>\n",
              "      <td>NaN</td>\n",
              "      <td>NaN</td>\n",
              "      <td>NaN</td>\n",
              "      <td>NaN</td>\n",
              "      <td>NaN</td>\n",
              "      <td>NaN</td>\n",
              "      <td>NaN</td>\n",
              "      <td>NaN</td>\n",
              "      <td>NaN</td>\n",
              "      <td>NaN</td>\n",
              "      <td>NaN</td>\n",
              "      <td>NaN</td>\n",
              "      <td>NaN</td>\n",
              "      <td>NaN</td>\n",
              "      <td>NaN</td>\n",
              "      <td>NaN</td>\n",
              "      <td>NaN</td>\n",
              "      <td>NaN</td>\n",
              "      <td>NaN</td>\n",
              "      <td>NaN</td>\n",
              "      <td>NaN</td>\n",
              "    </tr>\n",
              "  </tbody>\n",
              "</table>\n",
              "</div>"
            ],
            "text/plain": [
              "  Country Name Country Code  ... 2100 Unnamed: 69\n",
              "0   Arab World          ARB  ...  NaN         NaN\n",
              "1   Arab World          ARB  ...  NaN         NaN\n",
              "\n",
              "[2 rows x 70 columns]"
            ]
          },
          "metadata": {
            "tags": []
          },
          "execution_count": 10
        }
      ]
    },
    {
      "cell_type": "code",
      "metadata": {
        "id": "FoY4RrkVY91B",
        "colab": {
          "base_uri": "https://localhost:8080/"
        },
        "outputId": "593f5135-c512-4172-905c-105acd6f200d"
      },
      "source": [
        "df_data.info()"
      ],
      "execution_count": 11,
      "outputs": [
        {
          "output_type": "stream",
          "text": [
            "<class 'pandas.core.frame.DataFrame'>\n",
            "RangeIndex: 886930 entries, 0 to 886929\n",
            "Data columns (total 70 columns):\n",
            " #   Column          Non-Null Count   Dtype  \n",
            "---  ------          --------------   -----  \n",
            " 0   Country Name    886930 non-null  object \n",
            " 1   Country Code    886930 non-null  object \n",
            " 2   Indicator Name  886930 non-null  object \n",
            " 3   Indicator Code  886930 non-null  object \n",
            " 4   1970            72288 non-null   float64\n",
            " 5   1971            35537 non-null   float64\n",
            " 6   1972            35619 non-null   float64\n",
            " 7   1973            35545 non-null   float64\n",
            " 8   1974            35730 non-null   float64\n",
            " 9   1975            87306 non-null   float64\n",
            " 10  1976            37483 non-null   float64\n",
            " 11  1977            37574 non-null   float64\n",
            " 12  1978            37576 non-null   float64\n",
            " 13  1979            36809 non-null   float64\n",
            " 14  1980            89122 non-null   float64\n",
            " 15  1981            38777 non-null   float64\n",
            " 16  1982            37511 non-null   float64\n",
            " 17  1983            38460 non-null   float64\n",
            " 18  1984            38606 non-null   float64\n",
            " 19  1985            90296 non-null   float64\n",
            " 20  1986            39372 non-null   float64\n",
            " 21  1987            38641 non-null   float64\n",
            " 22  1988            38552 non-null   float64\n",
            " 23  1989            37540 non-null   float64\n",
            " 24  1990            124405 non-null  float64\n",
            " 25  1991            74437 non-null   float64\n",
            " 26  1992            75543 non-null   float64\n",
            " 27  1993            75793 non-null   float64\n",
            " 28  1994            77462 non-null   float64\n",
            " 29  1995            131361 non-null  float64\n",
            " 30  1996            76807 non-null   float64\n",
            " 31  1997            73453 non-null   float64\n",
            " 32  1998            84914 non-null   float64\n",
            " 33  1999            118839 non-null  float64\n",
            " 34  2000            176676 non-null  float64\n",
            " 35  2001            123509 non-null  float64\n",
            " 36  2002            124205 non-null  float64\n",
            " 37  2003            130363 non-null  float64\n",
            " 38  2004            128814 non-null  float64\n",
            " 39  2005            184108 non-null  float64\n",
            " 40  2006            140312 non-null  float64\n",
            " 41  2007            137272 non-null  float64\n",
            " 42  2008            134387 non-null  float64\n",
            " 43  2009            142108 non-null  float64\n",
            " 44  2010            242442 non-null  float64\n",
            " 45  2011            146012 non-null  float64\n",
            " 46  2012            147264 non-null  float64\n",
            " 47  2013            137509 non-null  float64\n",
            " 48  2014            113789 non-null  float64\n",
            " 49  2015            131058 non-null  float64\n",
            " 50  2016            16460 non-null   float64\n",
            " 51  2017            143 non-null     float64\n",
            " 52  2020            51436 non-null   float64\n",
            " 53  2025            51436 non-null   float64\n",
            " 54  2030            51436 non-null   float64\n",
            " 55  2035            51436 non-null   float64\n",
            " 56  2040            51436 non-null   float64\n",
            " 57  2045            51436 non-null   float64\n",
            " 58  2050            51436 non-null   float64\n",
            " 59  2055            51436 non-null   float64\n",
            " 60  2060            51436 non-null   float64\n",
            " 61  2065            51436 non-null   float64\n",
            " 62  2070            51436 non-null   float64\n",
            " 63  2075            51436 non-null   float64\n",
            " 64  2080            51436 non-null   float64\n",
            " 65  2085            51436 non-null   float64\n",
            " 66  2090            51436 non-null   float64\n",
            " 67  2095            51436 non-null   float64\n",
            " 68  2100            51436 non-null   float64\n",
            " 69  Unnamed: 69     0 non-null       float64\n",
            "dtypes: float64(66), object(4)\n",
            "memory usage: 473.7+ MB\n"
          ],
          "name": "stdout"
        }
      ]
    },
    {
      "cell_type": "code",
      "metadata": {
        "id": "YGA31uAczpyX",
        "colab": {
          "base_uri": "https://localhost:8080/"
        },
        "outputId": "9703729f-e95a-4e30-9215-e5d2d9ef94f5"
      },
      "source": [
        "df_data['Indicator Name'].nunique()"
      ],
      "execution_count": 12,
      "outputs": [
        {
          "output_type": "execute_result",
          "data": {
            "text/plain": [
              "3665"
            ]
          },
          "metadata": {
            "tags": []
          },
          "execution_count": 12
        }
      ]
    },
    {
      "cell_type": "code",
      "metadata": {
        "colab": {
          "base_uri": "https://localhost:8080/"
        },
        "id": "u9xCOkmp-DkS",
        "outputId": "34e5f112-c118-40ba-aa8c-c49a98ebca32"
      },
      "source": [
        "df_data['Country Code'].nunique()"
      ],
      "execution_count": 13,
      "outputs": [
        {
          "output_type": "execute_result",
          "data": {
            "text/plain": [
              "242"
            ]
          },
          "metadata": {
            "tags": []
          },
          "execution_count": 13
        }
      ]
    },
    {
      "cell_type": "code",
      "metadata": {
        "id": "v5WzelDDuXM4",
        "colab": {
          "base_uri": "https://localhost:8080/"
        },
        "outputId": "b02123f4-ee0f-486e-8332-432c52756611"
      },
      "source": [
        "df_data.columns"
      ],
      "execution_count": 14,
      "outputs": [
        {
          "output_type": "execute_result",
          "data": {
            "text/plain": [
              "Index(['Country Name', 'Country Code', 'Indicator Name', 'Indicator Code',\n",
              "       '1970', '1971', '1972', '1973', '1974', '1975', '1976', '1977', '1978',\n",
              "       '1979', '1980', '1981', '1982', '1983', '1984', '1985', '1986', '1987',\n",
              "       '1988', '1989', '1990', '1991', '1992', '1993', '1994', '1995', '1996',\n",
              "       '1997', '1998', '1999', '2000', '2001', '2002', '2003', '2004', '2005',\n",
              "       '2006', '2007', '2008', '2009', '2010', '2011', '2012', '2013', '2014',\n",
              "       '2015', '2016', '2017', '2020', '2025', '2030', '2035', '2040', '2045',\n",
              "       '2050', '2055', '2060', '2065', '2070', '2075', '2080', '2085', '2090',\n",
              "       '2095', '2100', 'Unnamed: 69'],\n",
              "      dtype='object')"
            ]
          },
          "metadata": {
            "tags": []
          },
          "execution_count": 14
        }
      ]
    },
    {
      "cell_type": "code",
      "metadata": {
        "id": "icD4NtZBsAZr"
      },
      "source": [
        "df_data_subset2 = df_data[~df_data['2020'].isna()][['Country Name', 'Country Code', 'Indicator Name', 'Indicator Code', '2020', '2025', '2030', '2035', '2040', '2045',\n",
        "       '2050', '2055', '2060', '2065', '2070', '2075', '2080', '2085', '2090',\n",
        "       '2095', '2100']]"
      ],
      "execution_count": 15,
      "outputs": []
    },
    {
      "cell_type": "code",
      "metadata": {
        "id": "jvdSrfgesAcN",
        "colab": {
          "base_uri": "https://localhost:8080/"
        },
        "outputId": "622c7b56-450f-42b4-bec5-14a57bba81a5"
      },
      "source": [
        "df_data_subset2['Indicator Name'].unique()"
      ],
      "execution_count": 16,
      "outputs": [
        {
          "output_type": "execute_result",
          "data": {
            "text/plain": [
              "array(['Wittgenstein Projection: Mean years of schooling. Age 0-19. Female',\n",
              "       'Wittgenstein Projection: Mean years of schooling. Age 0-19. Male',\n",
              "       'Wittgenstein Projection: Mean years of schooling. Age 0-19. Total',\n",
              "       'Wittgenstein Projection: Mean years of schooling. Age 15+. Female',\n",
              "       'Wittgenstein Projection: Mean Years of Schooling. Age 15+. Gender Gap',\n",
              "       'Wittgenstein Projection: Mean years of schooling. Age 15+. Male',\n",
              "       'Wittgenstein Projection: Mean years of schooling. Age 15+. Total',\n",
              "       'Wittgenstein Projection: Mean years of schooling. Age 15-19. Female',\n",
              "       'Wittgenstein Projection: Mean years of schooling. Age 15-19. Male',\n",
              "       'Wittgenstein Projection: Mean years of schooling. Age 15-19. Total',\n",
              "       'Wittgenstein Projection: Mean years of schooling. Age 20-24. Female',\n",
              "       'Wittgenstein Projection: Mean years of schooling. Age 20-24. Male',\n",
              "       'Wittgenstein Projection: Mean years of schooling. Age 20-24. Total',\n",
              "       'Wittgenstein Projection: Mean years of schooling. Age 20-39. Female',\n",
              "       'Wittgenstein Projection: Mean years of schooling. Age 20-39. Male',\n",
              "       'Wittgenstein Projection: Mean years of schooling. Age 20-39. Total',\n",
              "       'Wittgenstein Projection: Mean years of schooling. Age 20-64. Female',\n",
              "       'Wittgenstein Projection: Mean years of schooling. Age 20-64. Male',\n",
              "       'Wittgenstein Projection: Mean years of schooling. Age 20-64. Total',\n",
              "       'Wittgenstein Projection: Mean years of schooling. Age 25+. Female',\n",
              "       'Wittgenstein Projection: Mean Years of Schooling. Age 25+. Gender Gap',\n",
              "       'Wittgenstein Projection: Mean years of schooling. Age 25+. Male',\n",
              "       'Wittgenstein Projection: Mean years of schooling. Age 25+. Total',\n",
              "       'Wittgenstein Projection: Mean years of schooling. Age 25-29. Female',\n",
              "       'Wittgenstein Projection: Mean years of schooling. Age 25-29. Male',\n",
              "       'Wittgenstein Projection: Mean years of schooling. Age 25-29. Total',\n",
              "       'Wittgenstein Projection: Mean years of schooling. Age 40-64. Female',\n",
              "       'Wittgenstein Projection: Mean years of schooling. Age 40-64. Male',\n",
              "       'Wittgenstein Projection: Mean years of schooling. Age 40-64. Total',\n",
              "       'Wittgenstein Projection: Mean years of schooling. Age 60+. Female',\n",
              "       'Wittgenstein Projection: Mean years of schooling. Age 60+. Male',\n",
              "       'Wittgenstein Projection: Mean years of schooling. Age 60+. Total',\n",
              "       'Wittgenstein Projection: Mean years of schooling. Age 65+. Female',\n",
              "       'Wittgenstein Projection: Mean years of schooling. Age 65+. Male',\n",
              "       'Wittgenstein Projection: Mean years of schooling. Age 65+. Total',\n",
              "       'Wittgenstein Projection: Mean years of schooling. Age 80+. Female',\n",
              "       'Wittgenstein Projection: Mean years of schooling. Age 80+. Male',\n",
              "       'Wittgenstein Projection: Mean years of schooling. Age 80+. Total',\n",
              "       'Wittgenstein Projection: Percentage of the population age 15+ by highest level of educational attainment. Incomplete Primary. Female',\n",
              "       'Wittgenstein Projection: Percentage of the population age 15+ by highest level of educational attainment. Incomplete Primary. Male',\n",
              "       'Wittgenstein Projection: Percentage of the population age 15+ by highest level of educational attainment. Incomplete Primary. Total',\n",
              "       'Wittgenstein Projection: Percentage of the population age 15+ by highest level of educational attainment. Lower Secondary. Female',\n",
              "       'Wittgenstein Projection: Percentage of the population age 15+ by highest level of educational attainment. Lower Secondary. Male',\n",
              "       'Wittgenstein Projection: Percentage of the population age 15+ by highest level of educational attainment. Lower Secondary. Total',\n",
              "       'Wittgenstein Projection: Percentage of the population age 15+ by highest level of educational attainment. No Education. Female',\n",
              "       'Wittgenstein Projection: Percentage of the population age 15+ by highest level of educational attainment. No Education. Male',\n",
              "       'Wittgenstein Projection: Percentage of the population age 15+ by highest level of educational attainment. No Education. Total',\n",
              "       'Wittgenstein Projection: Percentage of the population age 15+ by highest level of educational attainment. Post Secondary. Female',\n",
              "       'Wittgenstein Projection: Percentage of the population age 15+ by highest level of educational attainment. Post Secondary. Male',\n",
              "       'Wittgenstein Projection: Percentage of the population age 15+ by highest level of educational attainment. Post Secondary. Total',\n",
              "       'Wittgenstein Projection: Percentage of the population age 15+ by highest level of educational attainment. Primary. Female',\n",
              "       'Wittgenstein Projection: Percentage of the population age 15+ by highest level of educational attainment. Primary. Male',\n",
              "       'Wittgenstein Projection: Percentage of the population age 15+ by highest level of educational attainment. Primary. Total',\n",
              "       'Wittgenstein Projection: Percentage of the population age 15+ by highest level of educational attainment. Upper Secondary. Female',\n",
              "       'Wittgenstein Projection: Percentage of the population age 15+ by highest level of educational attainment. Upper Secondary. Male',\n",
              "       'Wittgenstein Projection: Percentage of the population age 15+ by highest level of educational attainment. Upper Secondary. Total',\n",
              "       'Wittgenstein Projection: Percentage of the population age 15-19 by highest level of educational attainment. Incomplete Primary. Female',\n",
              "       'Wittgenstein Projection: Percentage of the population age 15-19 by highest level of educational attainment. Incomplete Primary. Male',\n",
              "       'Wittgenstein Projection: Percentage of the population age 15-19 by highest level of educational attainment. Incomplete Primary. Total',\n",
              "       'Wittgenstein Projection: Percentage of the population age 15-19 by highest level of educational attainment. Lower Secondary. Female',\n",
              "       'Wittgenstein Projection: Percentage of the population age 15-19 by highest level of educational attainment. Lower Secondary. Male',\n",
              "       'Wittgenstein Projection: Percentage of the population age 15-19 by highest level of educational attainment. Lower Secondary. Total',\n",
              "       'Wittgenstein Projection: Percentage of the population age 15-19 by highest level of educational attainment. No Education. Female',\n",
              "       'Wittgenstein Projection: Percentage of the population age 15-19 by highest level of educational attainment. No Education. Male',\n",
              "       'Wittgenstein Projection: Percentage of the population age 15-19 by highest level of educational attainment. No Education. Total',\n",
              "       'Wittgenstein Projection: Percentage of the population age 15-19 by highest level of educational attainment. Post Secondary. Female',\n",
              "       'Wittgenstein Projection: Percentage of the population age 15-19 by highest level of educational attainment. Post Secondary. Male',\n",
              "       'Wittgenstein Projection: Percentage of the population age 15-19 by highest level of educational attainment. Post Secondary. Total',\n",
              "       'Wittgenstein Projection: Percentage of the population age 15-19 by highest level of educational attainment. Primary. Female',\n",
              "       'Wittgenstein Projection: Percentage of the population age 15-19 by highest level of educational attainment. Primary. Male',\n",
              "       'Wittgenstein Projection: Percentage of the population age 15-19 by highest level of educational attainment. Primary. Total',\n",
              "       'Wittgenstein Projection: Percentage of the population age 15-19 by highest level of educational attainment. Upper Secondary. Female',\n",
              "       'Wittgenstein Projection: Percentage of the population age 15-19 by highest level of educational attainment. Upper Secondary. Male',\n",
              "       'Wittgenstein Projection: Percentage of the population age 15-19 by highest level of educational attainment. Upper Secondary. Total',\n",
              "       'Wittgenstein Projection: Percentage of the population age 20-24 by highest level of educational attainment. Incomplete Primary. Female',\n",
              "       'Wittgenstein Projection: Percentage of the population age 20-24 by highest level of educational attainment. Incomplete Primary. Male',\n",
              "       'Wittgenstein Projection: Percentage of the population age 20-24 by highest level of educational attainment. Incomplete Primary. Total',\n",
              "       'Wittgenstein Projection: Percentage of the population age 20-24 by highest level of educational attainment. Lower Secondary. Female',\n",
              "       'Wittgenstein Projection: Percentage of the population age 20-24 by highest level of educational attainment. Lower Secondary. Male',\n",
              "       'Wittgenstein Projection: Percentage of the population age 20-24 by highest level of educational attainment. Lower Secondary. Total',\n",
              "       'Wittgenstein Projection: Percentage of the population age 20-24 by highest level of educational attainment. No Education. Female',\n",
              "       'Wittgenstein Projection: Percentage of the population age 20-24 by highest level of educational attainment. No Education. Male',\n",
              "       'Wittgenstein Projection: Percentage of the population age 20-24 by highest level of educational attainment. No Education. Total',\n",
              "       'Wittgenstein Projection: Percentage of the population age 20-24 by highest level of educational attainment. Post Secondary. Female',\n",
              "       'Wittgenstein Projection: Percentage of the population age 20-24 by highest level of educational attainment. Post Secondary. Male',\n",
              "       'Wittgenstein Projection: Percentage of the population age 20-24 by highest level of educational attainment. Post Secondary. Total',\n",
              "       'Wittgenstein Projection: Percentage of the population age 20-24 by highest level of educational attainment. Primary. Female',\n",
              "       'Wittgenstein Projection: Percentage of the population age 20-24 by highest level of educational attainment. Primary. Male',\n",
              "       'Wittgenstein Projection: Percentage of the population age 20-24 by highest level of educational attainment. Primary. Total',\n",
              "       'Wittgenstein Projection: Percentage of the population age 20-24 by highest level of educational attainment. Upper Secondary. Female',\n",
              "       'Wittgenstein Projection: Percentage of the population age 20-24 by highest level of educational attainment. Upper Secondary. Male',\n",
              "       'Wittgenstein Projection: Percentage of the population age 20-24 by highest level of educational attainment. Upper Secondary. Total',\n",
              "       'Wittgenstein Projection: Percentage of the population age 20-39 by highest level of educational attainment. Incomplete Primary. Female',\n",
              "       'Wittgenstein Projection: Percentage of the population age 20-39 by highest level of educational attainment. Incomplete Primary. Male',\n",
              "       'Wittgenstein Projection: Percentage of the population age 20-39 by highest level of educational attainment. Incomplete Primary. Total',\n",
              "       'Wittgenstein Projection: Percentage of the population age 20-39 by highest level of educational attainment. Lower Secondary. Female',\n",
              "       'Wittgenstein Projection: Percentage of the population age 20-39 by highest level of educational attainment. Lower Secondary. Male',\n",
              "       'Wittgenstein Projection: Percentage of the population age 20-39 by highest level of educational attainment. Lower Secondary. Total',\n",
              "       'Wittgenstein Projection: Percentage of the population age 20-39 by highest level of educational attainment. No Education. Female',\n",
              "       'Wittgenstein Projection: Percentage of the population age 20-39 by highest level of educational attainment. No Education. Male',\n",
              "       'Wittgenstein Projection: Percentage of the population age 20-39 by highest level of educational attainment. No Education. Total',\n",
              "       'Wittgenstein Projection: Percentage of the population age 20-39 by highest level of educational attainment. Post Secondary. Female',\n",
              "       'Wittgenstein Projection: Percentage of the population age 20-39 by highest level of educational attainment. Post Secondary. Male',\n",
              "       'Wittgenstein Projection: Percentage of the population age 20-39 by highest level of educational attainment. Post Secondary. Total',\n",
              "       'Wittgenstein Projection: Percentage of the population age 20-39 by highest level of educational attainment. Primary. Female',\n",
              "       'Wittgenstein Projection: Percentage of the population age 20-39 by highest level of educational attainment. Primary. Male',\n",
              "       'Wittgenstein Projection: Percentage of the population age 20-39 by highest level of educational attainment. Primary. Total',\n",
              "       'Wittgenstein Projection: Percentage of the population age 20-39 by highest level of educational attainment. Upper Secondary. Female',\n",
              "       'Wittgenstein Projection: Percentage of the population age 20-39 by highest level of educational attainment. Upper Secondary. Male',\n",
              "       'Wittgenstein Projection: Percentage of the population age 20-39 by highest level of educational attainment. Upper Secondary. Total',\n",
              "       'Wittgenstein Projection: Percentage of the population age 20-64 by highest level of educational attainment. Incomplete Primary. Female',\n",
              "       'Wittgenstein Projection: Percentage of the population age 20-64 by highest level of educational attainment. Incomplete Primary. Male',\n",
              "       'Wittgenstein Projection: Percentage of the population age 20-64 by highest level of educational attainment. Incomplete Primary. Total',\n",
              "       'Wittgenstein Projection: Percentage of the population age 20-64 by highest level of educational attainment. Lower Secondary. Female',\n",
              "       'Wittgenstein Projection: Percentage of the population age 20-64 by highest level of educational attainment. Lower Secondary. Male',\n",
              "       'Wittgenstein Projection: Percentage of the population age 20-64 by highest level of educational attainment. Lower Secondary. Total',\n",
              "       'Wittgenstein Projection: Percentage of the population age 20-64 by highest level of educational attainment. No Education. Female',\n",
              "       'Wittgenstein Projection: Percentage of the population age 20-64 by highest level of educational attainment. No Education. Male',\n",
              "       'Wittgenstein Projection: Percentage of the population age 20-64 by highest level of educational attainment. No Education. Total',\n",
              "       'Wittgenstein Projection: Percentage of the population age 20-64 by highest level of educational attainment. Post Secondary. Female',\n",
              "       'Wittgenstein Projection: Percentage of the population age 20-64 by highest level of educational attainment. Post Secondary. Male',\n",
              "       'Wittgenstein Projection: Percentage of the population age 20-64 by highest level of educational attainment. Post Secondary. Total',\n",
              "       'Wittgenstein Projection: Percentage of the population age 20-64 by highest level of educational attainment. Primary. Female',\n",
              "       'Wittgenstein Projection: Percentage of the population age 20-64 by highest level of educational attainment. Primary. Male',\n",
              "       'Wittgenstein Projection: Percentage of the population age 20-64 by highest level of educational attainment. Primary. Total',\n",
              "       'Wittgenstein Projection: Percentage of the population age 20-64 by highest level of educational attainment. Upper Secondary. Female',\n",
              "       'Wittgenstein Projection: Percentage of the population age 20-64 by highest level of educational attainment. Upper Secondary. Male',\n",
              "       'Wittgenstein Projection: Percentage of the population age 20-64 by highest level of educational attainment. Upper Secondary. Total',\n",
              "       'Wittgenstein Projection: Percentage of the population age 25+ by highest level of educational attainment. Incomplete Primary. Female',\n",
              "       'Wittgenstein Projection: Percentage of the population age 25+ by highest level of educational attainment. Incomplete Primary. Male',\n",
              "       'Wittgenstein Projection: Percentage of the population age 25+ by highest level of educational attainment. Incomplete Primary. Total',\n",
              "       'Wittgenstein Projection: Percentage of the population age 25+ by highest level of educational attainment. Lower Secondary. Female',\n",
              "       'Wittgenstein Projection: Percentage of the population age 25+ by highest level of educational attainment. Lower Secondary. Male',\n",
              "       'Wittgenstein Projection: Percentage of the population age 25+ by highest level of educational attainment. Lower Secondary. Total',\n",
              "       'Wittgenstein Projection: Percentage of the population age 25+ by highest level of educational attainment. No Education. Female',\n",
              "       'Wittgenstein Projection: Percentage of the population age 25+ by highest level of educational attainment. No Education. Male',\n",
              "       'Wittgenstein Projection: Percentage of the population age 25+ by highest level of educational attainment. No Education. Total',\n",
              "       'Wittgenstein Projection: Percentage of the population age 25+ by highest level of educational attainment. Post Secondary. Female',\n",
              "       'Wittgenstein Projection: Percentage of the population age 25+ by highest level of educational attainment. Post Secondary. Male',\n",
              "       'Wittgenstein Projection: Percentage of the population age 25+ by highest level of educational attainment. Post Secondary. Total',\n",
              "       'Wittgenstein Projection: Percentage of the population age 25+ by highest level of educational attainment. Primary. Female',\n",
              "       'Wittgenstein Projection: Percentage of the population age 25+ by highest level of educational attainment. Primary. Male',\n",
              "       'Wittgenstein Projection: Percentage of the population age 25+ by highest level of educational attainment. Primary. Total',\n",
              "       'Wittgenstein Projection: Percentage of the population age 25+ by highest level of educational attainment. Upper Secondary. Female',\n",
              "       'Wittgenstein Projection: Percentage of the population age 25+ by highest level of educational attainment. Upper Secondary. Male',\n",
              "       'Wittgenstein Projection: Percentage of the population age 25+ by highest level of educational attainment. Upper Secondary. Total',\n",
              "       'Wittgenstein Projection: Percentage of the population age 25-29 by highest level of educational attainment. Incomplete Primary. Female',\n",
              "       'Wittgenstein Projection: Percentage of the population age 25-29 by highest level of educational attainment. Incomplete Primary. Male',\n",
              "       'Wittgenstein Projection: Percentage of the population age 25-29 by highest level of educational attainment. Incomplete Primary. Total',\n",
              "       'Wittgenstein Projection: Percentage of the population age 25-29 by highest level of educational attainment. Lower Secondary. Female',\n",
              "       'Wittgenstein Projection: Percentage of the population age 25-29 by highest level of educational attainment. Lower Secondary. Male',\n",
              "       'Wittgenstein Projection: Percentage of the population age 25-29 by highest level of educational attainment. Lower Secondary. Total',\n",
              "       'Wittgenstein Projection: Percentage of the population age 25-29 by highest level of educational attainment. No Education. Female',\n",
              "       'Wittgenstein Projection: Percentage of the population age 25-29 by highest level of educational attainment. No Education. Male',\n",
              "       'Wittgenstein Projection: Percentage of the population age 25-29 by highest level of educational attainment. No Education. Total',\n",
              "       'Wittgenstein Projection: Percentage of the population age 25-29 by highest level of educational attainment. Post Secondary. Female',\n",
              "       'Wittgenstein Projection: Percentage of the population age 25-29 by highest level of educational attainment. Post Secondary. Male',\n",
              "       'Wittgenstein Projection: Percentage of the population age 25-29 by highest level of educational attainment. Post Secondary. Total',\n",
              "       'Wittgenstein Projection: Percentage of the population age 25-29 by highest level of educational attainment. Primary. Female',\n",
              "       'Wittgenstein Projection: Percentage of the population age 25-29 by highest level of educational attainment. Primary. Male',\n",
              "       'Wittgenstein Projection: Percentage of the population age 25-29 by highest level of educational attainment. Primary. Total',\n",
              "       'Wittgenstein Projection: Percentage of the population age 25-29 by highest level of educational attainment. Upper Secondary. Female',\n",
              "       'Wittgenstein Projection: Percentage of the population age 25-29 by highest level of educational attainment. Upper Secondary. Male',\n",
              "       'Wittgenstein Projection: Percentage of the population age 25-29 by highest level of educational attainment. Upper Secondary. Total',\n",
              "       'Wittgenstein Projection: Percentage of the population age 40-64 by highest level of educational attainment. Incomplete Primary. Female',\n",
              "       'Wittgenstein Projection: Percentage of the population age 40-64 by highest level of educational attainment. Incomplete Primary. Male',\n",
              "       'Wittgenstein Projection: Percentage of the population age 40-64 by highest level of educational attainment. Incomplete Primary. Total',\n",
              "       'Wittgenstein Projection: Percentage of the population age 40-64 by highest level of educational attainment. Lower Secondary. Female',\n",
              "       'Wittgenstein Projection: Percentage of the population age 40-64 by highest level of educational attainment. Lower Secondary. Male',\n",
              "       'Wittgenstein Projection: Percentage of the population age 40-64 by highest level of educational attainment. Lower Secondary. Total',\n",
              "       'Wittgenstein Projection: Percentage of the population age 40-64 by highest level of educational attainment. No Education. Female',\n",
              "       'Wittgenstein Projection: Percentage of the population age 40-64 by highest level of educational attainment. No Education. Male',\n",
              "       'Wittgenstein Projection: Percentage of the population age 40-64 by highest level of educational attainment. No Education. Total',\n",
              "       'Wittgenstein Projection: Percentage of the population age 40-64 by highest level of educational attainment. Post Secondary. Female',\n",
              "       'Wittgenstein Projection: Percentage of the population age 40-64 by highest level of educational attainment. Post Secondary. Male',\n",
              "       'Wittgenstein Projection: Percentage of the population age 40-64 by highest level of educational attainment. Post Secondary. Total',\n",
              "       'Wittgenstein Projection: Percentage of the population age 40-64 by highest level of educational attainment. Primary. Female',\n",
              "       'Wittgenstein Projection: Percentage of the population age 40-64 by highest level of educational attainment. Primary. Male',\n",
              "       'Wittgenstein Projection: Percentage of the population age 40-64 by highest level of educational attainment. Primary. Total',\n",
              "       'Wittgenstein Projection: Percentage of the population age 40-64 by highest level of educational attainment. Upper Secondary. Female',\n",
              "       'Wittgenstein Projection: Percentage of the population age 40-64 by highest level of educational attainment. Upper Secondary. Male',\n",
              "       'Wittgenstein Projection: Percentage of the population age 40-64 by highest level of educational attainment. Upper Secondary. Total',\n",
              "       'Wittgenstein Projection: Percentage of the population age 60+ by highest level of educational attainment. Incomplete Primary. Female',\n",
              "       'Wittgenstein Projection: Percentage of the population age 60+ by highest level of educational attainment. Incomplete Primary. Male',\n",
              "       'Wittgenstein Projection: Percentage of the population age 60+ by highest level of educational attainment. Incomplete Primary. Total',\n",
              "       'Wittgenstein Projection: Percentage of the population age 60+ by highest level of educational attainment. Lower Secondary. Female',\n",
              "       'Wittgenstein Projection: Percentage of the population age 60+ by highest level of educational attainment. Lower Secondary. Male',\n",
              "       'Wittgenstein Projection: Percentage of the population age 60+ by highest level of educational attainment. Lower Secondary. Total',\n",
              "       'Wittgenstein Projection: Percentage of the population age 60+ by highest level of educational attainment. No Education. Female',\n",
              "       'Wittgenstein Projection: Percentage of the population age 60+ by highest level of educational attainment. No Education. Male',\n",
              "       'Wittgenstein Projection: Percentage of the population age 60+ by highest level of educational attainment. No Education. Total',\n",
              "       'Wittgenstein Projection: Percentage of the population age 60+ by highest level of educational attainment. Post Secondary. Female',\n",
              "       'Wittgenstein Projection: Percentage of the population age 60+ by highest level of educational attainment. Post Secondary. Male',\n",
              "       'Wittgenstein Projection: Percentage of the population age 60+ by highest level of educational attainment. Post Secondary. Total',\n",
              "       'Wittgenstein Projection: Percentage of the population age 60+ by highest level of educational attainment. Primary. Female',\n",
              "       'Wittgenstein Projection: Percentage of the population age 60+ by highest level of educational attainment. Primary. Male',\n",
              "       'Wittgenstein Projection: Percentage of the population age 60+ by highest level of educational attainment. Primary. Total',\n",
              "       'Wittgenstein Projection: Percentage of the population age 60+ by highest level of educational attainment. Upper Secondary. Female',\n",
              "       'Wittgenstein Projection: Percentage of the population age 60+ by highest level of educational attainment. Upper Secondary. Male',\n",
              "       'Wittgenstein Projection: Percentage of the population age 60+ by highest level of educational attainment. Upper Secondary. Total',\n",
              "       'Wittgenstein Projection: Percentage of the population age 80+ by highest level of educational attainment. Incomplete Primary. Female',\n",
              "       'Wittgenstein Projection: Percentage of the population age 80+ by highest level of educational attainment. Incomplete Primary. Male',\n",
              "       'Wittgenstein Projection: Percentage of the population age 80+ by highest level of educational attainment. Incomplete Primary. Total',\n",
              "       'Wittgenstein Projection: Percentage of the population age 80+ by highest level of educational attainment. Lower Secondary. Female',\n",
              "       'Wittgenstein Projection: Percentage of the population age 80+ by highest level of educational attainment. Lower Secondary. Male',\n",
              "       'Wittgenstein Projection: Percentage of the population age 80+ by highest level of educational attainment. Lower Secondary. Total',\n",
              "       'Wittgenstein Projection: Percentage of the population age 80+ by highest level of educational attainment. No Education. Female',\n",
              "       'Wittgenstein Projection: Percentage of the population age 80+ by highest level of educational attainment. No Education. Male',\n",
              "       'Wittgenstein Projection: Percentage of the population age 80+ by highest level of educational attainment. No Education. Total',\n",
              "       'Wittgenstein Projection: Percentage of the population age 80+ by highest level of educational attainment. Post Secondary. Female',\n",
              "       'Wittgenstein Projection: Percentage of the population age 80+ by highest level of educational attainment. Post Secondary. Male',\n",
              "       'Wittgenstein Projection: Percentage of the population age 80+ by highest level of educational attainment. Post Secondary. Total',\n",
              "       'Wittgenstein Projection: Percentage of the population age 80+ by highest level of educational attainment. Primary. Female',\n",
              "       'Wittgenstein Projection: Percentage of the population age 80+ by highest level of educational attainment. Primary. Male',\n",
              "       'Wittgenstein Projection: Percentage of the population age 80+ by highest level of educational attainment. Primary. Total',\n",
              "       'Wittgenstein Projection: Percentage of the population age 80+ by highest level of educational attainment. Upper Secondary. Female',\n",
              "       'Wittgenstein Projection: Percentage of the population age 80+ by highest level of educational attainment. Upper Secondary. Male',\n",
              "       'Wittgenstein Projection: Percentage of the population age 80+ by highest level of educational attainment. Upper Secondary. Total',\n",
              "       'Wittgenstein Projection: Percentage of the total population by highest level of educational attainment. Incomplete Primary. Female',\n",
              "       'Wittgenstein Projection: Percentage of the total population by highest level of educational attainment. Incomplete Primary. Male',\n",
              "       'Wittgenstein Projection: Percentage of the total population by highest level of educational attainment. Incomplete Primary. Total',\n",
              "       'Wittgenstein Projection: Percentage of the total population by highest level of educational attainment. Lower Secondary. Female',\n",
              "       'Wittgenstein Projection: Percentage of the total population by highest level of educational attainment. Lower Secondary. Male',\n",
              "       'Wittgenstein Projection: Percentage of the total population by highest level of educational attainment. Lower Secondary. Total',\n",
              "       'Wittgenstein Projection: Percentage of the total population by highest level of educational attainment. No Education. Female',\n",
              "       'Wittgenstein Projection: Percentage of the total population by highest level of educational attainment. No Education. Male',\n",
              "       'Wittgenstein Projection: Percentage of the total population by highest level of educational attainment. No Education. Total',\n",
              "       'Wittgenstein Projection: Percentage of the total population by highest level of educational attainment. Post Secondary. Female',\n",
              "       'Wittgenstein Projection: Percentage of the total population by highest level of educational attainment. Post Secondary. Male',\n",
              "       'Wittgenstein Projection: Percentage of the total population by highest level of educational attainment. Post Secondary. Total',\n",
              "       'Wittgenstein Projection: Percentage of the total population by highest level of educational attainment. Primary. Female',\n",
              "       'Wittgenstein Projection: Percentage of the total population by highest level of educational attainment. Primary. Male',\n",
              "       'Wittgenstein Projection: Percentage of the total population by highest level of educational attainment. Primary. Total',\n",
              "       'Wittgenstein Projection: Percentage of the total population by highest level of educational attainment. Upper Secondary. Female',\n",
              "       'Wittgenstein Projection: Percentage of the total population by highest level of educational attainment. Upper Secondary. Male',\n",
              "       'Wittgenstein Projection: Percentage of the total population by highest level of educational attainment. Upper Secondary. Total',\n",
              "       'Wittgenstein Projection: Population age 15-19 in thousands by highest level of educational attainment. Incomplete Primary. Female',\n",
              "       'Wittgenstein Projection: Population age 15-19 in thousands by highest level of educational attainment. Incomplete Primary. Male',\n",
              "       'Wittgenstein Projection: Population age 15-19 in thousands by highest level of educational attainment. Incomplete Primary. Total',\n",
              "       'Wittgenstein Projection: Population age 15-19 in thousands by highest level of educational attainment. Lower Secondary. Female',\n",
              "       'Wittgenstein Projection: Population age 15-19 in thousands by highest level of educational attainment. Lower Secondary. Male',\n",
              "       'Wittgenstein Projection: Population age 15-19 in thousands by highest level of educational attainment. Lower Secondary. Total',\n",
              "       'Wittgenstein Projection: Population age 15-19 in thousands by highest level of educational attainment. No Education. Female',\n",
              "       'Wittgenstein Projection: Population age 15-19 in thousands by highest level of educational attainment. No Education. Male',\n",
              "       'Wittgenstein Projection: Population age 15-19 in thousands by highest level of educational attainment. No Education. Total',\n",
              "       'Wittgenstein Projection: Population age 15-19 in thousands by highest level of educational attainment. Post Secondary. Female',\n",
              "       'Wittgenstein Projection: Population age 15-19 in thousands by highest level of educational attainment. Post Secondary. Male',\n",
              "       'Wittgenstein Projection: Population age 15-19 in thousands by highest level of educational attainment. Post Secondary. Total',\n",
              "       'Wittgenstein Projection: Population age 15-19 in thousands by highest level of educational attainment. Primary. Female',\n",
              "       'Wittgenstein Projection: Population age 15-19 in thousands by highest level of educational attainment. Primary. Male',\n",
              "       'Wittgenstein Projection: Population age 15-19 in thousands by highest level of educational attainment. Primary. Total',\n",
              "       'Wittgenstein Projection: Population age 15-19 in thousands by highest level of educational attainment. Upper Secondary. Female',\n",
              "       'Wittgenstein Projection: Population age 15-19 in thousands by highest level of educational attainment. Upper Secondary. Male',\n",
              "       'Wittgenstein Projection: Population age 15-19 in thousands by highest level of educational attainment. Upper Secondary. Total',\n",
              "       'Wittgenstein Projection: Population age 20-24 in thousands by highest level of educational attainment. Incomplete Primary. Female',\n",
              "       'Wittgenstein Projection: Population age 20-24 in thousands by highest level of educational attainment. Incomplete Primary. Male',\n",
              "       'Wittgenstein Projection: Population age 20-24 in thousands by highest level of educational attainment. Incomplete Primary. Total',\n",
              "       'Wittgenstein Projection: Population age 20-24 in thousands by highest level of educational attainment. Lower Secondary. Female',\n",
              "       'Wittgenstein Projection: Population age 20-24 in thousands by highest level of educational attainment. Lower Secondary. Male',\n",
              "       'Wittgenstein Projection: Population age 20-24 in thousands by highest level of educational attainment. Lower Secondary. Total',\n",
              "       'Wittgenstein Projection: Population age 20-24 in thousands by highest level of educational attainment. No Education. Female',\n",
              "       'Wittgenstein Projection: Population age 20-24 in thousands by highest level of educational attainment. No Education. Male',\n",
              "       'Wittgenstein Projection: Population age 20-24 in thousands by highest level of educational attainment. No Education. Total',\n",
              "       'Wittgenstein Projection: Population age 20-24 in thousands by highest level of educational attainment. Post Secondary. Female',\n",
              "       'Wittgenstein Projection: Population age 20-24 in thousands by highest level of educational attainment. Post Secondary. Male',\n",
              "       'Wittgenstein Projection: Population age 20-24 in thousands by highest level of educational attainment. Post Secondary. Total',\n",
              "       'Wittgenstein Projection: Population age 20-24 in thousands by highest level of educational attainment. Primary. Female',\n",
              "       'Wittgenstein Projection: Population age 20-24 in thousands by highest level of educational attainment. Primary. Male',\n",
              "       'Wittgenstein Projection: Population age 20-24 in thousands by highest level of educational attainment. Primary. Total',\n",
              "       'Wittgenstein Projection: Population age 20-24 in thousands by highest level of educational attainment. Upper Secondary. Female',\n",
              "       'Wittgenstein Projection: Population age 20-24 in thousands by highest level of educational attainment. Upper Secondary. Male',\n",
              "       'Wittgenstein Projection: Population age 20-24 in thousands by highest level of educational attainment. Upper Secondary. Total',\n",
              "       'Wittgenstein Projection: Population age 25-29 in thousands by highest level of educational attainment. Incomplete Primary. Female',\n",
              "       'Wittgenstein Projection: Population age 25-29 in thousands by highest level of educational attainment. Incomplete Primary. Male',\n",
              "       'Wittgenstein Projection: Population age 25-29 in thousands by highest level of educational attainment. Incomplete Primary. Total',\n",
              "       'Wittgenstein Projection: Population age 25-29 in thousands by highest level of educational attainment. Lower Secondary. Female',\n",
              "       'Wittgenstein Projection: Population age 25-29 in thousands by highest level of educational attainment. Lower Secondary. Male',\n",
              "       'Wittgenstein Projection: Population age 25-29 in thousands by highest level of educational attainment. Lower Secondary. Total',\n",
              "       'Wittgenstein Projection: Population age 25-29 in thousands by highest level of educational attainment. No Education. Female',\n",
              "       'Wittgenstein Projection: Population age 25-29 in thousands by highest level of educational attainment. No Education. Male',\n",
              "       'Wittgenstein Projection: Population age 25-29 in thousands by highest level of educational attainment. No Education. Total',\n",
              "       'Wittgenstein Projection: Population age 25-29 in thousands by highest level of educational attainment. Post Secondary. Female',\n",
              "       'Wittgenstein Projection: Population age 25-29 in thousands by highest level of educational attainment. Post Secondary. Male',\n",
              "       'Wittgenstein Projection: Population age 25-29 in thousands by highest level of educational attainment. Post Secondary. Total',\n",
              "       'Wittgenstein Projection: Population age 25-29 in thousands by highest level of educational attainment. Primary. Female',\n",
              "       'Wittgenstein Projection: Population age 25-29 in thousands by highest level of educational attainment. Primary. Male',\n",
              "       'Wittgenstein Projection: Population age 25-29 in thousands by highest level of educational attainment. Primary. Total',\n",
              "       'Wittgenstein Projection: Population age 25-29 in thousands by highest level of educational attainment. Upper Secondary. Female',\n",
              "       'Wittgenstein Projection: Population age 25-29 in thousands by highest level of educational attainment. Upper Secondary. Male',\n",
              "       'Wittgenstein Projection: Population age 25-29 in thousands by highest level of educational attainment. Upper Secondary. Total',\n",
              "       'Wittgenstein Projection: Population in thousands by highest level of educational attainment. Incomplete Primary. Female',\n",
              "       'Wittgenstein Projection: Population in thousands by highest level of educational attainment. Incomplete Primary. Male',\n",
              "       'Wittgenstein Projection: Population in thousands by highest level of educational attainment. Incomplete Primary. Total',\n",
              "       'Wittgenstein Projection: Population in thousands by highest level of educational attainment. Lower Secondary. Female',\n",
              "       'Wittgenstein Projection: Population in thousands by highest level of educational attainment. Lower Secondary. Male',\n",
              "       'Wittgenstein Projection: Population in thousands by highest level of educational attainment. Lower Secondary. Total',\n",
              "       'Wittgenstein Projection: Population in thousands by highest level of educational attainment. No Education. Female',\n",
              "       'Wittgenstein Projection: Population in thousands by highest level of educational attainment. No Education. Male',\n",
              "       'Wittgenstein Projection: Population in thousands by highest level of educational attainment. No Education. Total',\n",
              "       'Wittgenstein Projection: Population in thousands by highest level of educational attainment. Post Secondary. Female',\n",
              "       'Wittgenstein Projection: Population in thousands by highest level of educational attainment. Post Secondary. Male',\n",
              "       'Wittgenstein Projection: Population in thousands by highest level of educational attainment. Post Secondary. Total',\n",
              "       'Wittgenstein Projection: Population in thousands by highest level of educational attainment. Primary. Female',\n",
              "       'Wittgenstein Projection: Population in thousands by highest level of educational attainment. Primary. Male',\n",
              "       'Wittgenstein Projection: Population in thousands by highest level of educational attainment. Primary. Total',\n",
              "       'Wittgenstein Projection: Population in thousands by highest level of educational attainment. Upper Secondary. Female',\n",
              "       'Wittgenstein Projection: Population in thousands by highest level of educational attainment. Upper Secondary. Male',\n",
              "       'Wittgenstein Projection: Population in thousands by highest level of educational attainment. Upper Secondary. Total'],\n",
              "      dtype=object)"
            ]
          },
          "metadata": {
            "tags": []
          },
          "execution_count": 16
        }
      ]
    },
    {
      "cell_type": "code",
      "metadata": {
        "colab": {
          "base_uri": "https://localhost:8080/",
          "height": 131
        },
        "id": "KJCC4Re-ekEE",
        "outputId": "92daed11-5fe4-446d-ffa3-6526df979e45"
      },
      "source": [
        "# Let's look at which years have the least data available\n",
        "years = df_data.iloc[:, 4:-1]\n",
        "percent_missing = years.isnull().sum() * 100 / len(years)\n",
        "percent_missing =  pd.DataFrame({'years': years.columns,\n",
        "                                 'percent_missing': percent_missing})\n",
        "\n",
        "percent_missing.T"
      ],
      "execution_count": 20,
      "outputs": [
        {
          "output_type": "execute_result",
          "data": {
            "text/html": [
              "<div>\n",
              "<style scoped>\n",
              "    .dataframe tbody tr th:only-of-type {\n",
              "        vertical-align: middle;\n",
              "    }\n",
              "\n",
              "    .dataframe tbody tr th {\n",
              "        vertical-align: top;\n",
              "    }\n",
              "\n",
              "    .dataframe thead th {\n",
              "        text-align: right;\n",
              "    }\n",
              "</style>\n",
              "<table border=\"1\" class=\"dataframe\">\n",
              "  <thead>\n",
              "    <tr style=\"text-align: right;\">\n",
              "      <th></th>\n",
              "      <th>1970</th>\n",
              "      <th>1971</th>\n",
              "      <th>1972</th>\n",
              "      <th>1973</th>\n",
              "      <th>1974</th>\n",
              "      <th>1975</th>\n",
              "      <th>1976</th>\n",
              "      <th>1977</th>\n",
              "      <th>1978</th>\n",
              "      <th>1979</th>\n",
              "      <th>1980</th>\n",
              "      <th>1981</th>\n",
              "      <th>1982</th>\n",
              "      <th>1983</th>\n",
              "      <th>1984</th>\n",
              "      <th>1985</th>\n",
              "      <th>1986</th>\n",
              "      <th>1987</th>\n",
              "      <th>1988</th>\n",
              "      <th>1989</th>\n",
              "      <th>1990</th>\n",
              "      <th>1991</th>\n",
              "      <th>1992</th>\n",
              "      <th>1993</th>\n",
              "      <th>1994</th>\n",
              "      <th>1995</th>\n",
              "      <th>1996</th>\n",
              "      <th>1997</th>\n",
              "      <th>1998</th>\n",
              "      <th>1999</th>\n",
              "      <th>2000</th>\n",
              "      <th>2001</th>\n",
              "      <th>2002</th>\n",
              "      <th>2003</th>\n",
              "      <th>2004</th>\n",
              "      <th>2005</th>\n",
              "      <th>2006</th>\n",
              "      <th>2007</th>\n",
              "      <th>2008</th>\n",
              "      <th>2009</th>\n",
              "      <th>2010</th>\n",
              "      <th>2011</th>\n",
              "      <th>2012</th>\n",
              "      <th>2013</th>\n",
              "      <th>2014</th>\n",
              "      <th>2015</th>\n",
              "      <th>2016</th>\n",
              "      <th>2017</th>\n",
              "      <th>2020</th>\n",
              "      <th>2025</th>\n",
              "      <th>2030</th>\n",
              "      <th>2035</th>\n",
              "      <th>2040</th>\n",
              "      <th>2045</th>\n",
              "      <th>2050</th>\n",
              "      <th>2055</th>\n",
              "      <th>2060</th>\n",
              "      <th>2065</th>\n",
              "      <th>2070</th>\n",
              "      <th>2075</th>\n",
              "      <th>2080</th>\n",
              "      <th>2085</th>\n",
              "      <th>2090</th>\n",
              "      <th>2095</th>\n",
              "      <th>2100</th>\n",
              "    </tr>\n",
              "  </thead>\n",
              "  <tbody>\n",
              "    <tr>\n",
              "      <th>years</th>\n",
              "      <td>1970</td>\n",
              "      <td>1971</td>\n",
              "      <td>1972</td>\n",
              "      <td>1973</td>\n",
              "      <td>1974</td>\n",
              "      <td>1975</td>\n",
              "      <td>1976</td>\n",
              "      <td>1977</td>\n",
              "      <td>1978</td>\n",
              "      <td>1979</td>\n",
              "      <td>1980</td>\n",
              "      <td>1981</td>\n",
              "      <td>1982</td>\n",
              "      <td>1983</td>\n",
              "      <td>1984</td>\n",
              "      <td>1985</td>\n",
              "      <td>1986</td>\n",
              "      <td>1987</td>\n",
              "      <td>1988</td>\n",
              "      <td>1989</td>\n",
              "      <td>1990</td>\n",
              "      <td>1991</td>\n",
              "      <td>1992</td>\n",
              "      <td>1993</td>\n",
              "      <td>1994</td>\n",
              "      <td>1995</td>\n",
              "      <td>1996</td>\n",
              "      <td>1997</td>\n",
              "      <td>1998</td>\n",
              "      <td>1999</td>\n",
              "      <td>2000</td>\n",
              "      <td>2001</td>\n",
              "      <td>2002</td>\n",
              "      <td>2003</td>\n",
              "      <td>2004</td>\n",
              "      <td>2005</td>\n",
              "      <td>2006</td>\n",
              "      <td>2007</td>\n",
              "      <td>2008</td>\n",
              "      <td>2009</td>\n",
              "      <td>2010</td>\n",
              "      <td>2011</td>\n",
              "      <td>2012</td>\n",
              "      <td>2013</td>\n",
              "      <td>2014</td>\n",
              "      <td>2015</td>\n",
              "      <td>2016</td>\n",
              "      <td>2017</td>\n",
              "      <td>2020</td>\n",
              "      <td>2025</td>\n",
              "      <td>2030</td>\n",
              "      <td>2035</td>\n",
              "      <td>2040</td>\n",
              "      <td>2045</td>\n",
              "      <td>2050</td>\n",
              "      <td>2055</td>\n",
              "      <td>2060</td>\n",
              "      <td>2065</td>\n",
              "      <td>2070</td>\n",
              "      <td>2075</td>\n",
              "      <td>2080</td>\n",
              "      <td>2085</td>\n",
              "      <td>2090</td>\n",
              "      <td>2095</td>\n",
              "      <td>2100</td>\n",
              "    </tr>\n",
              "    <tr>\n",
              "      <th>percent_missing</th>\n",
              "      <td>91.8496</td>\n",
              "      <td>95.9933</td>\n",
              "      <td>95.984</td>\n",
              "      <td>95.9924</td>\n",
              "      <td>95.9715</td>\n",
              "      <td>90.1564</td>\n",
              "      <td>95.7738</td>\n",
              "      <td>95.7636</td>\n",
              "      <td>95.7634</td>\n",
              "      <td>95.8498</td>\n",
              "      <td>89.9516</td>\n",
              "      <td>95.628</td>\n",
              "      <td>95.7707</td>\n",
              "      <td>95.6637</td>\n",
              "      <td>95.6472</td>\n",
              "      <td>89.8193</td>\n",
              "      <td>95.5609</td>\n",
              "      <td>95.6433</td>\n",
              "      <td>95.6533</td>\n",
              "      <td>95.7674</td>\n",
              "      <td>85.9735</td>\n",
              "      <td>91.6073</td>\n",
              "      <td>91.4826</td>\n",
              "      <td>91.4545</td>\n",
              "      <td>91.2663</td>\n",
              "      <td>85.1892</td>\n",
              "      <td>91.3401</td>\n",
              "      <td>91.7183</td>\n",
              "      <td>90.4261</td>\n",
              "      <td>86.6011</td>\n",
              "      <td>80.0801</td>\n",
              "      <td>86.0745</td>\n",
              "      <td>85.9961</td>\n",
              "      <td>85.3018</td>\n",
              "      <td>85.4764</td>\n",
              "      <td>79.2421</td>\n",
              "      <td>84.18</td>\n",
              "      <td>84.5228</td>\n",
              "      <td>84.8481</td>\n",
              "      <td>83.9775</td>\n",
              "      <td>72.665</td>\n",
              "      <td>83.5374</td>\n",
              "      <td>83.3962</td>\n",
              "      <td>84.4961</td>\n",
              "      <td>87.1705</td>\n",
              "      <td>85.2234</td>\n",
              "      <td>98.1442</td>\n",
              "      <td>99.9839</td>\n",
              "      <td>94.2007</td>\n",
              "      <td>94.2007</td>\n",
              "      <td>94.2007</td>\n",
              "      <td>94.2007</td>\n",
              "      <td>94.2007</td>\n",
              "      <td>94.2007</td>\n",
              "      <td>94.2007</td>\n",
              "      <td>94.2007</td>\n",
              "      <td>94.2007</td>\n",
              "      <td>94.2007</td>\n",
              "      <td>94.2007</td>\n",
              "      <td>94.2007</td>\n",
              "      <td>94.2007</td>\n",
              "      <td>94.2007</td>\n",
              "      <td>94.2007</td>\n",
              "      <td>94.2007</td>\n",
              "      <td>94.2007</td>\n",
              "    </tr>\n",
              "  </tbody>\n",
              "</table>\n",
              "</div>"
            ],
            "text/plain": [
              "                    1970     1971    1972  ...     2090     2095     2100\n",
              "years               1970     1971    1972  ...     2090     2095     2100\n",
              "percent_missing  91.8496  95.9933  95.984  ...  94.2007  94.2007  94.2007\n",
              "\n",
              "[2 rows x 65 columns]"
            ]
          },
          "metadata": {
            "tags": []
          },
          "execution_count": 20
        }
      ]
    },
    {
      "cell_type": "code",
      "metadata": {
        "colab": {
          "base_uri": "https://localhost:8080/"
        },
        "id": "vxF-n-8JkRjC",
        "outputId": "8b5f6e75-1cf4-4c8d-ed69-26ca0999bd9c"
      },
      "source": [
        "len(years)"
      ],
      "execution_count": 21,
      "outputs": [
        {
          "output_type": "execute_result",
          "data": {
            "text/plain": [
              "886930"
            ]
          },
          "metadata": {
            "tags": []
          },
          "execution_count": 21
        }
      ]
    },
    {
      "cell_type": "code",
      "metadata": {
        "colab": {
          "base_uri": "https://localhost:8080/",
          "height": 320
        },
        "id": "WKYeXZnXiuc8",
        "outputId": "899e8eb2-945f-44d7-c549-90ac0fb02419"
      },
      "source": [
        "from matplotlib import pyplot as plt\n",
        "%matplotlib inline\n",
        "percent_missing.plot(figsize=(20,5), grid=True)\n",
        "plt.show()"
      ],
      "execution_count": null,
      "outputs": [
        {
          "output_type": "display_data",
          "data": {
            "image/png": "[encoded data removed]",
            "text/plain": [
              "<Figure size 1440x360 with 1 Axes>"
            ]
          },
          "metadata": {
            "tags": [],
            "needs_background": "light"
          }
        }
      ]
    },
    {
      "cell_type": "markdown",
      "metadata": {
        "id": "lMAW97TTkp9l"
      },
      "source": [
        "Null values are least starting from 2000 to 2015 - which means, most data is available for the years 2000 to 2010\n",
        "Also, post 2020, the data mostly contains only projections"
      ]
    },
    {
      "cell_type": "code",
      "metadata": {
        "colab": {
          "base_uri": "https://localhost:8080/",
          "height": 111
        },
        "id": "7EaWvSpdkp3E",
        "outputId": "6713817d-cbcd-4404-db5a-3d2a378a70bb"
      },
      "source": [
        "df_data_subset = df_data.drop(df_data.iloc[:, 4:34], axis=1)\n",
        "df_data_subset = df_data_subset.drop(df_data_subset.iloc[:, 20:], axis=1)\n",
        "df_data_subset.head(2)"
      ],
      "execution_count": 22,
      "outputs": [
        {
          "output_type": "execute_result",
          "data": {
            "text/html": [
              "<div>\n",
              "<style scoped>\n",
              "    .dataframe tbody tr th:only-of-type {\n",
              "        vertical-align: middle;\n",
              "    }\n",
              "\n",
              "    .dataframe tbody tr th {\n",
              "        vertical-align: top;\n",
              "    }\n",
              "\n",
              "    .dataframe thead th {\n",
              "        text-align: right;\n",
              "    }\n",
              "</style>\n",
              "<table border=\"1\" class=\"dataframe\">\n",
              "  <thead>\n",
              "    <tr style=\"text-align: right;\">\n",
              "      <th></th>\n",
              "      <th>Country Name</th>\n",
              "      <th>Country Code</th>\n",
              "      <th>Indicator Name</th>\n",
              "      <th>Indicator Code</th>\n",
              "      <th>2000</th>\n",
              "      <th>2001</th>\n",
              "      <th>2002</th>\n",
              "      <th>2003</th>\n",
              "      <th>2004</th>\n",
              "      <th>2005</th>\n",
              "      <th>2006</th>\n",
              "      <th>2007</th>\n",
              "      <th>2008</th>\n",
              "      <th>2009</th>\n",
              "      <th>2010</th>\n",
              "      <th>2011</th>\n",
              "      <th>2012</th>\n",
              "      <th>2013</th>\n",
              "      <th>2014</th>\n",
              "      <th>2015</th>\n",
              "    </tr>\n",
              "  </thead>\n",
              "  <tbody>\n",
              "    <tr>\n",
              "      <th>0</th>\n",
              "      <td>Arab World</td>\n",
              "      <td>ARB</td>\n",
              "      <td>Adjusted net enrolment rate, lower secondary, ...</td>\n",
              "      <td>UIS.NERA.2</td>\n",
              "      <td>NaN</td>\n",
              "      <td>NaN</td>\n",
              "      <td>NaN</td>\n",
              "      <td>NaN</td>\n",
              "      <td>NaN</td>\n",
              "      <td>NaN</td>\n",
              "      <td>NaN</td>\n",
              "      <td>NaN</td>\n",
              "      <td>NaN</td>\n",
              "      <td>NaN</td>\n",
              "      <td>NaN</td>\n",
              "      <td>NaN</td>\n",
              "      <td>NaN</td>\n",
              "      <td>NaN</td>\n",
              "      <td>NaN</td>\n",
              "      <td>NaN</td>\n",
              "    </tr>\n",
              "    <tr>\n",
              "      <th>1</th>\n",
              "      <td>Arab World</td>\n",
              "      <td>ARB</td>\n",
              "      <td>Adjusted net enrolment rate, lower secondary, ...</td>\n",
              "      <td>UIS.NERA.2.F</td>\n",
              "      <td>NaN</td>\n",
              "      <td>NaN</td>\n",
              "      <td>NaN</td>\n",
              "      <td>NaN</td>\n",
              "      <td>NaN</td>\n",
              "      <td>NaN</td>\n",
              "      <td>NaN</td>\n",
              "      <td>NaN</td>\n",
              "      <td>NaN</td>\n",
              "      <td>NaN</td>\n",
              "      <td>NaN</td>\n",
              "      <td>NaN</td>\n",
              "      <td>NaN</td>\n",
              "      <td>NaN</td>\n",
              "      <td>NaN</td>\n",
              "      <td>NaN</td>\n",
              "    </tr>\n",
              "  </tbody>\n",
              "</table>\n",
              "</div>"
            ],
            "text/plain": [
              "  Country Name Country Code  ... 2014 2015\n",
              "0   Arab World          ARB  ...  NaN  NaN\n",
              "1   Arab World          ARB  ...  NaN  NaN\n",
              "\n",
              "[2 rows x 20 columns]"
            ]
          },
          "metadata": {
            "tags": []
          },
          "execution_count": 22
        }
      ]
    },
    {
      "cell_type": "code",
      "metadata": {
        "colab": {
          "base_uri": "https://localhost:8080/"
        },
        "id": "UGDnE_PnAYDU",
        "outputId": "0feeeb53-24fb-4726-9699-0bbc065b7f78"
      },
      "source": [
        "df_data_subset[df_data_subset['Indicator Name'].str.contains('GDP')]['Indicator Name'].unique()"
      ],
      "execution_count": 23,
      "outputs": [
        {
          "output_type": "execute_result",
          "data": {
            "text/plain": [
              "array(['GDP at market prices (constant 2005 US$)',\n",
              "       'GDP at market prices (current US$)',\n",
              "       'GDP per capita (constant 2005 US$)',\n",
              "       'GDP per capita (current US$)',\n",
              "       'GDP per capita, PPP (constant 2011 international $)',\n",
              "       'GDP per capita, PPP (current international $)',\n",
              "       'GDP, PPP (constant 2011 international $)',\n",
              "       'GDP, PPP (current international $)',\n",
              "       'Government expenditure in educational institutions as % of GDP (%)',\n",
              "       'Government expenditure in post-secondary non-tertiary institutions as % of GDP (%)',\n",
              "       'Government expenditure in pre-primary institutions as % of GDP (%)',\n",
              "       'Government expenditure in primary institutions as % of GDP (%)',\n",
              "       'Government expenditure in secondary institutions education as % of GDP (%)',\n",
              "       'Government expenditure in tertiary institutions as % of GDP (%)',\n",
              "       'Government expenditure on education as % of GDP (%)',\n",
              "       'Government expenditure on post-secondary non-tertiary education as % of GDP (%)',\n",
              "       'Government expenditure on pre-primary education as % of GDP (%)',\n",
              "       'Government expenditure on primary education as % of GDP (%)',\n",
              "       'Government expenditure on secondary and post-secondary non-tertiary vocational education as % of GDP (%)',\n",
              "       'Government expenditure on secondary education as % of GDP (%)',\n",
              "       'Government expenditure on tertiary education as % of GDP (%)',\n",
              "       'Government expenditure per lower secondary student as % of GDP per capita (%)',\n",
              "       'Government expenditure per post-secondary non-tertiary student as % of GDP per capita (%)',\n",
              "       'Government expenditure per primary student as % of GDP per capita (%)',\n",
              "       'Government expenditure per secondary student as % of GDP per capita (%)',\n",
              "       'Government expenditure per tertiary student as % of GDP per capita (%)',\n",
              "       'Government expenditure per upper secondary student as % of GDP per capita (%)'],\n",
              "      dtype=object)"
            ]
          },
          "metadata": {
            "tags": []
          },
          "execution_count": 23
        }
      ]
    },
    {
      "cell_type": "code",
      "metadata": {
        "colab": {
          "base_uri": "https://localhost:8080/"
        },
        "id": "o68_j5zIAYBK",
        "outputId": "ce44db31-afeb-4d1d-988e-d83065947757"
      },
      "source": [
        "df_data_subset[df_data_subset['Indicator Name'].str.contains('literacy')]['Indicator Name'].unique()"
      ],
      "execution_count": 24,
      "outputs": [
        {
          "output_type": "execute_result",
          "data": {
            "text/plain": [
              "array(['Adult literacy rate, population 15+ years, both sexes (%)',\n",
              "       'Adult literacy rate, population 15+ years, female (%)',\n",
              "       'Adult literacy rate, population 15+ years, gender parity index (GPI)',\n",
              "       'Adult literacy rate, population 15+ years, male (%)',\n",
              "       'Elderly literacy rate, population 65+ years, both sexes (%)',\n",
              "       'Elderly literacy rate, population 65+ years, female (%)',\n",
              "       'Elderly literacy rate, population 65+ years, gender parity index (GPI)',\n",
              "       'Elderly literacy rate, population 65+ years, male (%)',\n",
              "       'PIAAC: Adults by literacy proficiency level (%). Below Level 1',\n",
              "       'PIAAC: Adults by literacy proficiency level (%). Level 1',\n",
              "       'PIAAC: Adults by literacy proficiency level (%). Level 2',\n",
              "       'PIAAC: Adults by literacy proficiency level (%). Level 3',\n",
              "       'PIAAC: Adults by literacy proficiency level (%). Level 4',\n",
              "       'PIAAC: Adults by literacy proficiency level (%). Level 5',\n",
              "       'PIAAC: Female adults by literacy proficiency level (%). Below Level 1',\n",
              "       'PIAAC: Female adults by literacy proficiency level (%). Level 1',\n",
              "       'PIAAC: Female adults by literacy proficiency level (%). Level 2',\n",
              "       'PIAAC: Female adults by literacy proficiency level (%). Level 3',\n",
              "       'PIAAC: Female adults by literacy proficiency level (%). Level 4 & 5',\n",
              "       'PIAAC: Male adults by literacy proficiency level (%). Below Level 1',\n",
              "       'PIAAC: Male adults by literacy proficiency level (%). Level 1',\n",
              "       'PIAAC: Male adults by literacy proficiency level (%). Level 2',\n",
              "       'PIAAC: Male adults by literacy proficiency level (%). Level 3',\n",
              "       'PIAAC: Male adults by literacy proficiency level (%). Level 4 & 5',\n",
              "       'PIAAC: Young adults by literacy proficiency level (%). Below Level 1',\n",
              "       'PIAAC: Young adults by literacy proficiency level (%). Level 1',\n",
              "       'PIAAC: Young adults by literacy proficiency level (%). Level 2',\n",
              "       'PIAAC: Young adults by literacy proficiency level (%). Level 3',\n",
              "       'PIAAC: Young adults by literacy proficiency level (%). Level 4 & 5',\n",
              "       'Youth literacy rate, population 15-24 years, both sexes (%)',\n",
              "       'Youth literacy rate, population 15-24 years, female (%)',\n",
              "       'Youth literacy rate, population 15-24 years, gender parity index (GPI)',\n",
              "       'Youth literacy rate, population 15-24 years, male (%)'],\n",
              "      dtype=object)"
            ]
          },
          "metadata": {
            "tags": []
          },
          "execution_count": 24
        }
      ]
    },
    {
      "cell_type": "code",
      "metadata": {
        "colab": {
          "base_uri": "https://localhost:8080/"
        },
        "id": "itFbahgJAX-m",
        "outputId": "f8b2b56a-898a-4ea4-a2e5-0a670d63a7ac"
      },
      "source": [
        "df1 = pd.merge(df_data_subset, df_country[['Country Code', 'Region', 'Income Group', 'Special Notes']], how = 'left', on = 'Country Code').reset_index(drop=True)\n",
        "df1.shape"
      ],
      "execution_count": 73,
      "outputs": [
        {
          "output_type": "execute_result",
          "data": {
            "text/plain": [
              "(886930, 23)"
            ]
          },
          "metadata": {
            "tags": []
          },
          "execution_count": 73
        }
      ]
    },
    {
      "cell_type": "code",
      "metadata": {
        "colab": {
          "base_uri": "https://localhost:8080/"
        },
        "id": "Ml51cLnAAX8Q",
        "outputId": "9478fb64-b947-4275-ba90-3606e64956c8"
      },
      "source": [
        "df1['Region'].value_counts()"
      ],
      "execution_count": 74,
      "outputs": [
        {
          "output_type": "execute_result",
          "data": {
            "text/plain": [
              "Europe & Central Asia         208905\n",
              "Sub-Saharan Africa            175920\n",
              "Latin America & Caribbean     150265\n",
              "East Asia & Pacific           131940\n",
              "Middle East & North Africa     76965\n",
              "South Asia                     29320\n",
              "North America                  10995\n",
              "Name: Region, dtype: int64"
            ]
          },
          "metadata": {
            "tags": []
          },
          "execution_count": 74
        }
      ]
    },
    {
      "cell_type": "code",
      "metadata": {
        "colab": {
          "base_uri": "https://localhost:8080/"
        },
        "id": "okhqTCfeAX3A",
        "outputId": "e53b3041-0055-46a1-8ee3-fefa0bc6e807"
      },
      "source": [
        "df1.groupby(['Region', 'Country Name']).size()"
      ],
      "execution_count": 75,
      "outputs": [
        {
          "output_type": "execute_result",
          "data": {
            "text/plain": [
              "Region               Country Name     \n",
              "East Asia & Pacific  American Samoa       3665\n",
              "                     Australia            3665\n",
              "                     Brunei Darussalam    3665\n",
              "                     Cambodia             3665\n",
              "                     China                3665\n",
              "                                          ... \n",
              "Sub-Saharan Africa   Tanzania             3665\n",
              "                     Togo                 3665\n",
              "                     Uganda               3665\n",
              "                     Zambia               3665\n",
              "                     Zimbabwe             3665\n",
              "Length: 214, dtype: int64"
            ]
          },
          "metadata": {
            "tags": []
          },
          "execution_count": 75
        }
      ]
    },
    {
      "cell_type": "code",
      "metadata": {
        "colab": {
          "base_uri": "https://localhost:8080/"
        },
        "id": "T5t44fJpIuw1",
        "outputId": "25d0d429-c0f9-4830-849a-27de26eb077d"
      },
      "source": [
        "df1.info()"
      ],
      "execution_count": 76,
      "outputs": [
        {
          "output_type": "stream",
          "text": [
            "<class 'pandas.core.frame.DataFrame'>\n",
            "RangeIndex: 886930 entries, 0 to 886929\n",
            "Data columns (total 23 columns):\n",
            " #   Column          Non-Null Count   Dtype  \n",
            "---  ------          --------------   -----  \n",
            " 0   Country Name    886930 non-null  object \n",
            " 1   Country Code    886930 non-null  object \n",
            " 2   Indicator Name  886930 non-null  object \n",
            " 3   Indicator Code  886930 non-null  object \n",
            " 4   2000            176676 non-null  float64\n",
            " 5   2001            123509 non-null  float64\n",
            " 6   2002            124205 non-null  float64\n",
            " 7   2003            130363 non-null  float64\n",
            " 8   2004            128814 non-null  float64\n",
            " 9   2005            184108 non-null  float64\n",
            " 10  2006            140312 non-null  float64\n",
            " 11  2007            137272 non-null  float64\n",
            " 12  2008            134387 non-null  float64\n",
            " 13  2009            142108 non-null  float64\n",
            " 14  2010            242442 non-null  float64\n",
            " 15  2011            146012 non-null  float64\n",
            " 16  2012            147264 non-null  float64\n",
            " 17  2013            137509 non-null  float64\n",
            " 18  2014            113789 non-null  float64\n",
            " 19  2015            131058 non-null  float64\n",
            " 20  Region          784310 non-null  object \n",
            " 21  Income Group    784310 non-null  object \n",
            " 22  Special Notes   531425 non-null  object \n",
            "dtypes: float64(16), object(7)\n",
            "memory usage: 155.6+ MB\n"
          ],
          "name": "stdout"
        }
      ]
    },
    {
      "cell_type": "code",
      "metadata": {
        "colab": {
          "base_uri": "https://localhost:8080/"
        },
        "id": "rnWHCxkfAX0Z",
        "outputId": "a7e061b6-23d3-407a-dad9-54d69f127f50"
      },
      "source": [
        "df2 = df1[~df1['Region'].isna()]\n",
        "\n",
        "df2[df2['Region'].str.contains('South Asia')]['Country Name'].unique()"
      ],
      "execution_count": 77,
      "outputs": [
        {
          "output_type": "execute_result",
          "data": {
            "text/plain": [
              "array(['Afghanistan', 'Bangladesh', 'Bhutan', 'India', 'Maldives',\n",
              "       'Nepal', 'Pakistan', 'Sri Lanka'], dtype=object)"
            ]
          },
          "metadata": {
            "tags": []
          },
          "execution_count": 77
        }
      ]
    },
    {
      "cell_type": "code",
      "metadata": {
        "colab": {
          "base_uri": "https://localhost:8080/"
        },
        "id": "yf5c_AlAl5O4",
        "outputId": "ca4fe7d9-1d01-4c4b-b64c-5a1b9fc029cb"
      },
      "source": [
        "df1[df1['Region'].isna()]['Special Notes'].unique()\n",
        "# The countries that are not mapped to any region are only aggregates as per special notes and are not individual countries"
      ],
      "execution_count": 79,
      "outputs": [
        {
          "output_type": "execute_result",
          "data": {
            "text/plain": [
              "array(['Arab World aggregate. Arab World is composed of members of the League of Arab States.',\n",
              "       'East Asia and Pacific regional aggregate (including high-income economies).',\n",
              "       'East Asia and Pacific regional aggregate (does not include high-income economies).',\n",
              "       'Euro area aggregate.',\n",
              "       'Europe and Central Asia regional aggregate (including high-income economies).',\n",
              "       'Europe and Central Asia regional aggregate (does not include high-income economies).',\n",
              "       'European Union aggregate.',\n",
              "       'Heavily indebted poor countries aggregate.',\n",
              "       'High income group aggregate. High-income economies are those in which 2013 GNI per capita was $12,746 or more.',\n",
              "       'Latin America and Caribbean regional aggregate (including high-income economies).',\n",
              "       'Latin America and Caribbean regional aggregate (does not include high-income economies).',\n",
              "       'Least developed countries (UN classification) aggregate.',\n",
              "       'Low and middle income group aggregate (all developing economies). Low- and middle-income economies are those in which 2013 GNI per capita was $12,745 or less.',\n",
              "       'Low income group aggregate. Low-income economies are those in which 2013 GNI per capita was $1,045 or less.',\n",
              "       'Lower middle income group aggregate. Lower-middle-income economies are those in which 2013 GNI per capita was between $1,046 and $4,125.',\n",
              "       'Middle East and North Africa regional aggregate (including high-income economies).',\n",
              "       'Middle East and North Africa regional aggregate (does not include high-income economies).',\n",
              "       'Middle income group aggregate. Middle-income economies are those in which 2013 GNI per capita was between $1,046 and $12,745.',\n",
              "       'North America regional aggregate. There are no economies in North America classified as low or middle income.',\n",
              "       'OECD members aggregate (all, including developing countries).',\n",
              "       'South Asia regional aggregate. There are no economies in South Asia classified as high income.',\n",
              "       'Sub-Saharan Africa regional aggregate (including high-income economies).',\n",
              "       'Sub-Saharan Africa regional aggregate (does not include high-income economies).',\n",
              "       'Upper middle income group aggregate. Upper-middle-income economies are those in which 2013 GNI per capita was between $4,126 and $12,745.',\n",
              "       'World aggregate.', nan], dtype=object)"
            ]
          },
          "metadata": {
            "tags": []
          },
          "execution_count": 79
        }
      ]
    },
    {
      "cell_type": "code",
      "metadata": {
        "colab": {
          "base_uri": "https://localhost:8080/"
        },
        "id": "WdiCe1voJSDM",
        "outputId": "726b0b95-a95c-4cee-839a-6113b4fa8081"
      },
      "source": [
        "df2['Income Group'].unique()"
      ],
      "execution_count": 30,
      "outputs": [
        {
          "output_type": "execute_result",
          "data": {
            "text/plain": [
              "array(['Low income', 'Upper middle income', 'High income: nonOECD',\n",
              "       'Lower middle income', 'High income: OECD'], dtype=object)"
            ]
          },
          "metadata": {
            "tags": []
          },
          "execution_count": 30
        }
      ]
    },
    {
      "cell_type": "code",
      "metadata": {
        "colab": {
          "base_uri": "https://localhost:8080/"
        },
        "id": "Th3Rk62aJMv0",
        "outputId": "82c41483-9c37-4d99-92f3-0153c27467fc"
      },
      "source": [
        "df2[df2['Income Group'].str.contains('Lower middle income')]['Country Name'].unique()"
      ],
      "execution_count": 31,
      "outputs": [
        {
          "output_type": "execute_result",
          "data": {
            "text/plain": [
              "array(['Armenia', 'Bhutan', 'Bolivia', 'Cabo Verde', 'Cameroon',\n",
              "       'Congo, Rep.', \"Cote d'Ivoire\", 'Djibouti', 'Egypt, Arab Rep.',\n",
              "       'El Salvador', 'Georgia', 'Ghana', 'Guatemala', 'Guyana',\n",
              "       'Honduras', 'India', 'Indonesia', 'Kiribati', 'Kosovo',\n",
              "       'Kyrgyz Republic', 'Lao PDR', 'Lesotho', 'Mauritania',\n",
              "       'Micronesia, Fed. Sts.', 'Moldova', 'Mongolia', 'Morocco',\n",
              "       'Nicaragua', 'Nigeria', 'Pakistan', 'Papua New Guinea', 'Paraguay',\n",
              "       'Philippines', 'Samoa', 'Sao Tome and Principe', 'Senegal',\n",
              "       'Solomon Islands', 'South Sudan', 'Sri Lanka', 'Sudan',\n",
              "       'Swaziland', 'Syrian Arab Republic', 'Timor-Leste', 'Ukraine',\n",
              "       'Uzbekistan', 'Vanuatu', 'Vietnam', 'West Bank and Gaza',\n",
              "       'Yemen, Rep.', 'Zambia'], dtype=object)"
            ]
          },
          "metadata": {
            "tags": []
          },
          "execution_count": 31
        }
      ]
    },
    {
      "cell_type": "code",
      "metadata": {
        "colab": {
          "base_uri": "https://localhost:8080/"
        },
        "id": "IxwkTivLKtOB",
        "outputId": "06d848e7-1b35-47c7-b671-76bfb4d6d02b"
      },
      "source": [
        "df1[df1['Indicator Name'].str.contains('PISA')]['Indicator Name'].unique()"
      ],
      "execution_count": 32,
      "outputs": [
        {
          "output_type": "execute_result",
          "data": {
            "text/plain": [
              "array(['PISA: 15-year-olds by mathematics proficiency level (%). Below Level 1',\n",
              "       'PISA: 15-year-olds by mathematics proficiency level (%). Level 1',\n",
              "       'PISA: 15-year-olds by mathematics proficiency level (%). Level 2',\n",
              "       'PISA: 15-year-olds by mathematics proficiency level (%). Level 3',\n",
              "       'PISA: 15-year-olds by mathematics proficiency level (%). Level 4',\n",
              "       'PISA: 15-year-olds by mathematics proficiency level (%). Level 5',\n",
              "       'PISA: 15-year-olds by mathematics proficiency level (%). Level 6',\n",
              "       'PISA: 15-year-olds by reading proficiency level (%). Below Level 1B',\n",
              "       'PISA: 15-year-olds by reading proficiency level (%). Level 1A',\n",
              "       'PISA: 15-year-olds by reading proficiency level (%). Level 1B',\n",
              "       'PISA: 15-year-olds by reading proficiency level (%). Level 2',\n",
              "       'PISA: 15-year-olds by reading proficiency level (%). Level 3',\n",
              "       'PISA: 15-year-olds by reading proficiency level (%). Level 4',\n",
              "       'PISA: 15-year-olds by reading proficiency level (%). Level 5',\n",
              "       'PISA: 15-year-olds by reading proficiency level (%). Level 6',\n",
              "       'PISA: 15-year-olds by science proficiency level (%). Below Level 1B',\n",
              "       'PISA: 15-year-olds by science proficiency level (%). Level 1A',\n",
              "       'PISA: 15-year-olds by science proficiency level (%). Level 1B',\n",
              "       'PISA: 15-year-olds by science proficiency level (%). Level 2',\n",
              "       'PISA: 15-year-olds by science proficiency level (%). Level 3',\n",
              "       'PISA: 15-year-olds by science proficiency level (%). Level 4',\n",
              "       'PISA: 15-year-olds by science proficiency level (%). Level 5',\n",
              "       'PISA: 15-year-olds by science proficiency level (%). Level 6',\n",
              "       'PISA: Distribution of Mathematics Scores: 10th Percentile Score',\n",
              "       'PISA: Distribution of Mathematics Scores: 25th Percentile Score',\n",
              "       'PISA: Distribution of Mathematics Scores: 50th Percentile Score',\n",
              "       'PISA: Distribution of Mathematics Scores: 5th Percentile Score',\n",
              "       'PISA: Distribution of Mathematics Scores: 75th Percentile Score',\n",
              "       'PISA: Distribution of Mathematics Scores: 90th Percentile Score',\n",
              "       'PISA: Distribution of Mathematics Scores: 95th Percentile Score',\n",
              "       'PISA: Distribution of Reading Scores: 10th Percentile Score',\n",
              "       'PISA: Distribution of Reading Scores: 25th Percentile Score',\n",
              "       'PISA: Distribution of Reading Scores: 50th Percentile Score',\n",
              "       'PISA: Distribution of Reading Scores: 5th Percentile Score',\n",
              "       'PISA: Distribution of Reading Scores: 75th Percentile Score',\n",
              "       'PISA: Distribution of Reading Scores: 90th Percentile Score',\n",
              "       'PISA: Distribution of Reading Scores: 95th Percentile Score',\n",
              "       'PISA: Distribution of Science Scores: 10th Percentile Score',\n",
              "       'PISA: Distribution of Science Scores: 25th Percentile Score',\n",
              "       'PISA: Distribution of Science Scores: 50th Percentile Score',\n",
              "       'PISA: Distribution of Science Scores: 5th Percentile Score',\n",
              "       'PISA: Distribution of Science Scores: 75th Percentile Score',\n",
              "       'PISA: Distribution of Science Scores: 90th Percentile Score',\n",
              "       'PISA: Distribution of Science Scores: 95th Percentile Score',\n",
              "       'PISA: Female 15-year-olds by mathematics proficiency level (%). Below Level 1',\n",
              "       'PISA: Female 15-year-olds by mathematics proficiency level (%). Level 1',\n",
              "       'PISA: Female 15-year-olds by mathematics proficiency level (%). Level 2',\n",
              "       'PISA: Female 15-year-olds by mathematics proficiency level (%). Level 3',\n",
              "       'PISA: Female 15-year-olds by mathematics proficiency level (%). Level 4',\n",
              "       'PISA: Female 15-year-olds by mathematics proficiency level (%). Level 5',\n",
              "       'PISA: Female 15-year-olds by mathematics proficiency level (%). Level 6',\n",
              "       'PISA: Female 15-year-olds by reading proficiency level (%). Below Level 1B',\n",
              "       'PISA: Female 15-year-olds by reading proficiency level (%). Level 1A',\n",
              "       'PISA: Female 15-year-olds by reading proficiency level (%). Level 1B',\n",
              "       'PISA: Female 15-year-olds by reading proficiency level (%). Level 2',\n",
              "       'PISA: Female 15-year-olds by reading proficiency level (%). Level 3',\n",
              "       'PISA: Female 15-year-olds by reading proficiency level (%). Level 4',\n",
              "       'PISA: Female 15-year-olds by reading proficiency level (%). Level 5',\n",
              "       'PISA: Female 15-year-olds by reading proficiency level (%). Level 6',\n",
              "       'PISA: Female 15-year-olds by science proficiency level (%). Below Level 1B',\n",
              "       'PISA: Female 15-year-olds by science proficiency level (%). Level 1A',\n",
              "       'PISA: Female 15-year-olds by science proficiency level (%). Level 1B',\n",
              "       'PISA: Female 15-year-olds by science proficiency level (%). Level 2',\n",
              "       'PISA: Female 15-year-olds by science proficiency level (%). Level 3',\n",
              "       'PISA: Female 15-year-olds by science proficiency level (%). Level 4',\n",
              "       'PISA: Female 15-year-olds by science proficiency level (%). Level 5',\n",
              "       'PISA: Female 15-year-olds by science proficiency level (%). Level 6',\n",
              "       'PISA: Male 15-year-olds by mathematics proficiency level (%). Below Level 1',\n",
              "       'PISA: Male 15-year-olds by mathematics proficiency level (%). Level 1',\n",
              "       'PISA: Male 15-year-olds by mathematics proficiency level (%). Level 2',\n",
              "       'PISA: Male 15-year-olds by mathematics proficiency level (%). Level 3',\n",
              "       'PISA: Male 15-year-olds by mathematics proficiency level (%). Level 4',\n",
              "       'PISA: Male 15-year-olds by mathematics proficiency level (%). Level 5',\n",
              "       'PISA: Male 15-year-olds by mathematics proficiency level (%). Level 6',\n",
              "       'PISA: Male 15-year-olds by reading proficiency level (%). Below Level 1B',\n",
              "       'PISA: Male 15-year-olds by reading proficiency level (%). Level 1A',\n",
              "       'PISA: Male 15-year-olds by reading proficiency level (%). Level 1B',\n",
              "       'PISA: Male 15-year-olds by reading proficiency level (%). Level 2',\n",
              "       'PISA: Male 15-year-olds by reading proficiency level (%). Level 3',\n",
              "       'PISA: Male 15-year-olds by reading proficiency level (%). Level 4',\n",
              "       'PISA: Male 15-year-olds by reading proficiency level (%). Level 5',\n",
              "       'PISA: Male 15-year-olds by reading proficiency level (%). Level 6',\n",
              "       'PISA: Male 15-year-olds by science proficiency level (%). Below Level 1B',\n",
              "       'PISA: Male 15-year-olds by science proficiency level (%). Level 1A',\n",
              "       'PISA: Male 15-year-olds by science proficiency level (%). Level 1B',\n",
              "       'PISA: Male 15-year-olds by science proficiency level (%). Level 2',\n",
              "       'PISA: Male 15-year-olds by science proficiency level (%). Level 3',\n",
              "       'PISA: Male 15-year-olds by science proficiency level (%). Level 4',\n",
              "       'PISA: Male 15-year-olds by science proficiency level (%). Level 5',\n",
              "       'PISA: Male 15-year-olds by science proficiency level (%). Level 6',\n",
              "       'PISA: Mean performance on the mathematics scale',\n",
              "       'PISA: Mean performance on the mathematics scale. Female',\n",
              "       'PISA: Mean performance on the mathematics scale. Male',\n",
              "       'PISA: Mean performance on the reading scale',\n",
              "       'PISA: Mean performance on the reading scale. Female',\n",
              "       'PISA: Mean performance on the reading scale. Male',\n",
              "       'PISA: Mean performance on the science scale',\n",
              "       'PISA: Mean performance on the science scale. Female',\n",
              "       'PISA: Mean performance on the science scale. Male'], dtype=object)"
            ]
          },
          "metadata": {
            "tags": []
          },
          "execution_count": 32
        }
      ]
    },
    {
      "cell_type": "code",
      "metadata": {
        "colab": {
          "base_uri": "https://localhost:8080/"
        },
        "id": "3aU32AAGKtQa",
        "outputId": "4b3925f4-f8c4-4a1b-c9f3-b619fcb4aad0"
      },
      "source": [
        "df1[df1['Indicator Name'].str.contains('TIMSS')]['Indicator Name'].unique()"
      ],
      "execution_count": 33,
      "outputs": [
        {
          "output_type": "execute_result",
          "data": {
            "text/plain": [
              "array(['TIMSS: Distribution of 4th Grade Mathematics Scores: 10th Percentile Score',\n",
              "       'TIMSS: Distribution of 4th Grade Mathematics Scores: 25th Percentile Score',\n",
              "       'TIMSS: Distribution of 4th Grade Mathematics Scores: 50th Percentile Score',\n",
              "       'TIMSS: Distribution of 4th Grade Mathematics Scores: 5th Percentile Score',\n",
              "       'TIMSS: Distribution of 4th Grade Mathematics Scores: 75th Percentile Score',\n",
              "       'TIMSS: Distribution of 4th Grade Mathematics Scores: 90th Percentile Score',\n",
              "       'TIMSS: Distribution of 4th Grade Mathematics Scores: 95th Percentile Score',\n",
              "       'TIMSS: Distribution of 4th Grade Science Scores: 10th Percentile Score',\n",
              "       'TIMSS: Distribution of 4th Grade Science Scores: 25th Percentile Score',\n",
              "       'TIMSS: Distribution of 4th Grade Science Scores: 50th Percentile Score',\n",
              "       'TIMSS: Distribution of 4th Grade Science Scores: 5th Percentile Score',\n",
              "       'TIMSS: Distribution of 4th Grade Science Scores: 75th Percentile Score',\n",
              "       'TIMSS: Distribution of 4th Grade Science Scores: 90th Percentile Score',\n",
              "       'TIMSS: Distribution of 4th Grade Science Scores: 95th Percentile Score',\n",
              "       'TIMSS: Distribution of 8th Grade Mathematics Scores: 10th Percentile Score',\n",
              "       'TIMSS: Distribution of 8th Grade Mathematics Scores: 25th Percentile Score',\n",
              "       'TIMSS: Distribution of 8th Grade Mathematics Scores: 50th Percentile Score',\n",
              "       'TIMSS: Distribution of 8th Grade Mathematics Scores: 5th Percentile Score',\n",
              "       'TIMSS: Distribution of 8th Grade Mathematics Scores: 75th Percentile Score',\n",
              "       'TIMSS: Distribution of 8th Grade Mathematics Scores: 90th Percentile Score',\n",
              "       'TIMSS: Distribution of 8th Grade Mathematics Scores: 95th Percentile Score',\n",
              "       'TIMSS: Distribution of 8th Grade Science Scores: 10th Percentile Score',\n",
              "       'TIMSS: Distribution of 8th Grade Science Scores: 25th Percentile Score',\n",
              "       'TIMSS: Distribution of 8th Grade Science Scores: 50th Percentile Score',\n",
              "       'TIMSS: Distribution of 8th Grade Science Scores: 5th Percentile Score',\n",
              "       'TIMSS: Distribution of 8th Grade Science Scores: 75th Percentile Score',\n",
              "       'TIMSS: Distribution of 8th Grade Science Scores: 90th Percentile Score',\n",
              "       'TIMSS: Distribution of 8th Grade Science Scores: 95th Percentile Score',\n",
              "       'TIMSS: Eighth grade students reaching the advanced international benchmark of mathematics achievement (%)',\n",
              "       'TIMSS: Eighth grade students reaching the advanced international benchmark of science achievement (%)',\n",
              "       'TIMSS: Eighth grade students reaching the high international benchmark of mathematics achievement (%)',\n",
              "       'TIMSS: Eighth grade students reaching the high international benchmark of science achievement (%)',\n",
              "       'TIMSS: Eighth grade students reaching the intermediate international benchmark of mathematics achievement (%)',\n",
              "       'TIMSS: Eighth grade students reaching the intermediate international benchmark of science achievement (%)',\n",
              "       'TIMSS: Eighth grade students reaching the low international benchmark of mathematics achievement (%)',\n",
              "       'TIMSS: Eighth grade students reaching the low international benchmark of science achievement (%)',\n",
              "       'TIMSS: Eighth grade students who did not reach the low international benchmark of mathematics achievement (%)',\n",
              "       'TIMSS: Eighth grade students who did not reach the low international benchmark of science achievement (%)',\n",
              "       'TIMSS: Female 4th grade students reaching the advanced international benchmark of mathematics achievement (%)',\n",
              "       'TIMSS: Female 4th grade students reaching the advanced international benchmark of science achievement (%)',\n",
              "       'TIMSS: Female 4th grade students reaching the high international benchmark of mathematics achievement (%)',\n",
              "       'TIMSS: Female 4th grade students reaching the high international benchmark of science achievement (%)',\n",
              "       'TIMSS: Female 4th grade students reaching the intermediate international benchmark of mathematics achievement (%)',\n",
              "       'TIMSS: Female 4th grade students reaching the intermediate international benchmark of science achievement (%)',\n",
              "       'TIMSS: Female 4th grade students reaching the low international benchmark of mathematics achievement (%)',\n",
              "       'TIMSS: Female 4th grade students reaching the low international benchmark of science achievement (%)',\n",
              "       'TIMSS: Female 4th grade students who did not reach the low international benchmark of mathematics achievement (%)',\n",
              "       'TIMSS: Female 4th grade students who did not reach the low international benchmark of science achievement (%)',\n",
              "       'TIMSS: Female 8th grade students reaching the advanced international benchmark of mathematics achievement (%)',\n",
              "       'TIMSS: Female 8th grade students reaching the advanced international benchmark of science achievement (%)',\n",
              "       'TIMSS: Female 8th grade students reaching the high international benchmark of mathematics achievement (%)',\n",
              "       'TIMSS: Female 8th grade students reaching the high international benchmark of science achievement (%)',\n",
              "       'TIMSS: Female 8th grade students reaching the intermediate international benchmark of mathematics achievement (%)',\n",
              "       'TIMSS: Female 8th grade students reaching the intermediate international benchmark of science achievement (%)',\n",
              "       'TIMSS: Female 8th grade students reaching the low international benchmark of mathematics achievement (%)',\n",
              "       'TIMSS: Female 8th grade students reaching the low international benchmark of science achievement (%)',\n",
              "       'TIMSS: Female 8th grade students who did not reach the low international benchmark of mathematics achievement (%)',\n",
              "       'TIMSS: Female 8th grade students who did not reach the low international benchmark of science achievement (%)',\n",
              "       'TIMSS: Fourth grade students reaching the advanced international benchmark of mathematics achievement (%)',\n",
              "       'TIMSS: Fourth grade students reaching the advanced international benchmark of science achievement (%)',\n",
              "       'TIMSS: Fourth grade students reaching the high international benchmark of mathematics achievement (%)',\n",
              "       'TIMSS: Fourth grade students reaching the high international benchmark of science achievement (%)',\n",
              "       'TIMSS: Fourth grade students reaching the intermediate international benchmark of mathematics achievement (%)',\n",
              "       'TIMSS: Fourth grade students reaching the intermediate international benchmark of science achievement (%)',\n",
              "       'TIMSS: Fourth grade students reaching the low international benchmark of mathematics achievement (%)',\n",
              "       'TIMSS: Fourth grade students reaching the low international benchmark of science achievement (%)',\n",
              "       'TIMSS: Fourth grade students who did not reach the low international benchmark of mathematics achievement (%)',\n",
              "       'TIMSS: Fourth grade students who did not reach the low international benchmark of science achievement (%)',\n",
              "       'TIMSS: Male 4th grade students reaching the advanced international benchmark of mathematics achievement (%)',\n",
              "       'TIMSS: Male 4th grade students reaching the advanced international benchmark of science achievement (%)',\n",
              "       'TIMSS: Male 4th grade students reaching the high international benchmark of mathematics achievement (%)',\n",
              "       'TIMSS: Male 4th grade students reaching the high international benchmark of science achievement (%)',\n",
              "       'TIMSS: Male 4th grade students reaching the intermediate international benchmark of mathematics achievement (%)',\n",
              "       'TIMSS: Male 4th grade students reaching the intermediate international benchmark of science achievement (%)',\n",
              "       'TIMSS: Male 4th grade students reaching the low international benchmark of mathematics achievement (%)',\n",
              "       'TIMSS: Male 4th grade students reaching the low international benchmark of science achievement (%)',\n",
              "       'TIMSS: Male 4th grade students who did not reach the low international benchmark of mathematics achievement (%)',\n",
              "       'TIMSS: Male 4th grade students who did not reach the low international benchmark of science achievement (%)',\n",
              "       'TIMSS: Male 8th grade students reaching the advanced international benchmark of mathematics achievement (%)',\n",
              "       'TIMSS: Male 8th grade students reaching the advanced international benchmark of science achievement (%)',\n",
              "       'TIMSS: Male 8th grade students reaching the high international benchmark of mathematics achievement (%)',\n",
              "       'TIMSS: Male 8th grade students reaching the high international benchmark of science achievement (%)',\n",
              "       'TIMSS: Male 8th grade students reaching the intermediate international benchmark of mathematics achievement (%)',\n",
              "       'TIMSS: Male 8th grade students reaching the intermediate international benchmark of science achievement (%)',\n",
              "       'TIMSS: Male 8th grade students reaching the low international benchmark of mathematics achievement (%)',\n",
              "       'TIMSS: Male 8th grade students reaching the low international benchmark of science achievement (%)',\n",
              "       'TIMSS: Male 8th grade students who did not reach the low international benchmark of mathematics achievement (%)',\n",
              "       'TIMSS: Male 8th grade students who did not reach the low international benchmark of science achievement (%)',\n",
              "       'TIMSS: Mean performance on the mathematics scale for eighth grade students, female',\n",
              "       'TIMSS: Mean performance on the mathematics scale for eighth grade students, male',\n",
              "       'TIMSS: Mean performance on the mathematics scale for eighth grade students, total',\n",
              "       'TIMSS: Mean performance on the mathematics scale for fourth grade students, female',\n",
              "       'TIMSS: Mean performance on the mathematics scale for fourth grade students, male',\n",
              "       'TIMSS: Mean performance on the mathematics scale for fourth grade students, total',\n",
              "       'TIMSS: Mean performance on the science scale for eighth grade students, female',\n",
              "       'TIMSS: Mean performance on the science scale for eighth grade students, male',\n",
              "       'TIMSS: Mean performance on the science scale for eighth grade students, total',\n",
              "       'TIMSS: Mean performance on the science scale for fourth grade students, female',\n",
              "       'TIMSS: Mean performance on the science scale for fourth grade students, male',\n",
              "       'TIMSS: Mean performance on the science scale for fourth grade students, total'],\n",
              "      dtype=object)"
            ]
          },
          "metadata": {
            "tags": []
          },
          "execution_count": 33
        }
      ]
    },
    {
      "cell_type": "code",
      "metadata": {
        "colab": {
          "base_uri": "https://localhost:8080/"
        },
        "id": "UGDFk1XoKtS5",
        "outputId": "190f99a4-a6fd-49af-fcdb-0ce70ec6088c"
      },
      "source": [
        "df1[df1['Indicator Name'].str.contains('Enrolment')]['Indicator Name'].unique()"
      ],
      "execution_count": 34,
      "outputs": [
        {
          "output_type": "execute_result",
          "data": {
            "text/plain": [
              "array(['Enrolment in early childhood education, both sexes (number)',\n",
              "       'Enrolment in early childhood education, female (number)',\n",
              "       'Enrolment in early childhood education, private institutions, both sexes (number)',\n",
              "       'Enrolment in early childhood education, private institutions, female (number)',\n",
              "       'Enrolment in early childhood education, public institutions, both sexes (number)',\n",
              "       'Enrolment in early childhood education, public institutions, female (number)',\n",
              "       'Enrolment in early childhood educational development programmes, both sexes (number)',\n",
              "       'Enrolment in early childhood educational development programmes, female (number)',\n",
              "       'Enrolment in early childhood educational development programmes, private institutions, both sexes (number)',\n",
              "       'Enrolment in early childhood educational development programmes, private institutions, female (number)',\n",
              "       'Enrolment in early childhood educational development programmes, public institutions, both sexes (number)',\n",
              "       'Enrolment in early childhood educational development programmes, public institutions, female (number)',\n",
              "       'Enrolment in Grade 1 of lower secondary general education, both sexes (number)',\n",
              "       'Enrolment in Grade 1 of lower secondary general education, female (number)',\n",
              "       'Enrolment in Grade 1 of primary education, both sexes (number)',\n",
              "       'Enrolment in Grade 1 of primary education, female (number)',\n",
              "       'Enrolment in Grade 2 of lower secondary general education, both sexes (number)',\n",
              "       'Enrolment in Grade 2 of lower secondary general education, female (number)',\n",
              "       'Enrolment in Grade 2 of primary education, both sexes (number)',\n",
              "       'Enrolment in Grade 2 of primary education, female (number)',\n",
              "       'Enrolment in Grade 3 of lower secondary general education, both sexes (number)',\n",
              "       'Enrolment in Grade 3 of lower secondary general education, female (number)',\n",
              "       'Enrolment in Grade 3 of primary education, both sexes (number)',\n",
              "       'Enrolment in Grade 3 of primary education, female (number)',\n",
              "       'Enrolment in Grade 4 of lower secondary general education, both sexes (number)',\n",
              "       'Enrolment in Grade 4 of lower secondary general education, female (number)',\n",
              "       'Enrolment in Grade 4 of primary education, both sexes (number)',\n",
              "       'Enrolment in Grade 4 of primary education, female (number)',\n",
              "       'Enrolment in Grade 5 of lower secondary general education, both sexes (number)',\n",
              "       'Enrolment in Grade 5 of lower secondary general education, female (number)',\n",
              "       'Enrolment in Grade 5 of primary education, both sexes (number)',\n",
              "       'Enrolment in Grade 5 of primary education, female (number)',\n",
              "       'Enrolment in Grade 6 of lower secondary general education, both sexes (number)',\n",
              "       'Enrolment in Grade 6 of lower secondary general education, female (number)',\n",
              "       'Enrolment in Grade 6 of primary education, both sexes (number)',\n",
              "       'Enrolment in Grade 6 of primary education, female (number)',\n",
              "       'Enrolment in Grade 7 of primary education, both sexes (number)',\n",
              "       'Enrolment in Grade 7 of primary education, female (number)',\n",
              "       'Enrolment in lower secondary education, both sexes (number)',\n",
              "       'Enrolment in lower secondary education, female (number)',\n",
              "       'Enrolment in lower secondary education, private institutions, both sexes (number)',\n",
              "       'Enrolment in lower secondary education, private institutions, female (number)',\n",
              "       'Enrolment in lower secondary education, public institutions, both sexes (number)',\n",
              "       'Enrolment in lower secondary education, public institutions, female (number)',\n",
              "       'Enrolment in lower secondary general education, Grade unspecified, both sexes (number)',\n",
              "       'Enrolment in lower secondary general education, Grade unspecified, female (number)',\n",
              "       'Enrolment in lower secondary general, both sexes (number)',\n",
              "       'Enrolment in lower secondary general, female (number)',\n",
              "       'Enrolment in lower secondary vocational, both sexes (number)',\n",
              "       'Enrolment in lower secondary vocational, female (number)',\n",
              "       'Enrolment in post-secondary non-tertiary education, both sexes (number)',\n",
              "       'Enrolment in post-secondary non-tertiary education, female (number)',\n",
              "       'Enrolment in post-secondary non-tertiary education, private institutions, both sexes (number)',\n",
              "       'Enrolment in post-secondary non-tertiary education, private institutions, female (number)',\n",
              "       'Enrolment in post-secondary non-tertiary education, public institutions, both sexes (number)',\n",
              "       'Enrolment in post-secondary non-tertiary education, public institutions, female (number)',\n",
              "       'Enrolment in pre-primary education, both sexes (number)',\n",
              "       'Enrolment in pre-primary education, female (number)',\n",
              "       'Enrolment in pre-primary education, private institutions, both sexes (number)',\n",
              "       'Enrolment in pre-primary education, private institutions, female (number)',\n",
              "       'Enrolment in pre-primary education, public institutions, both sexes (number)',\n",
              "       'Enrolment in pre-primary education, public institutions, female (number)',\n",
              "       'Enrolment in primary education, both sexes (number)',\n",
              "       'Enrolment in primary education, female (number)',\n",
              "       'Enrolment in primary education, Grade unspecified, both sexes (number)',\n",
              "       'Enrolment in primary education, Grade unspecified, female (number)',\n",
              "       'Enrolment in primary education, private institutions, both sexes (number)',\n",
              "       'Enrolment in primary education, private institutions, female (number)',\n",
              "       'Enrolment in primary education, public institutions, both sexes (number)',\n",
              "       'Enrolment in primary education, public institutions, female (number)',\n",
              "       'Enrolment in secondary education, both sexes (number)',\n",
              "       'Enrolment in secondary education, female (number)',\n",
              "       'Enrolment in secondary education, private institutions, both sexes (number)',\n",
              "       'Enrolment in secondary education, private institutions, female (number)',\n",
              "       'Enrolment in secondary education, public institutions, both sexes (number)',\n",
              "       'Enrolment in secondary education, public institutions, female (number)',\n",
              "       'Enrolment in secondary general, both sexes (number)',\n",
              "       'Enrolment in secondary general, female (number)',\n",
              "       'Enrolment in secondary vocational, both sexes (number)',\n",
              "       'Enrolment in secondary vocational, female (number)',\n",
              "       'Enrolment in tertiary education per 100,000 inhabitants, both sexes',\n",
              "       'Enrolment in tertiary education per 100,000 inhabitants, female',\n",
              "       'Enrolment in tertiary education per 100,000 inhabitants, male',\n",
              "       'Enrolment in tertiary education, all programmes, both sexes (number)',\n",
              "       'Enrolment in tertiary education, all programmes, female (number)',\n",
              "       'Enrolment in tertiary education, ISCED 5 programmes, both sexes (number)',\n",
              "       'Enrolment in tertiary education, ISCED 5 programmes, female (number)',\n",
              "       'Enrolment in tertiary education, ISCED 6 programmes, both sexes (number)',\n",
              "       'Enrolment in tertiary education, ISCED 6 programmes, female (number)',\n",
              "       'Enrolment in tertiary education, ISCED 7 programmes, both sexes (number)',\n",
              "       'Enrolment in tertiary education, ISCED 7 programmes, female (number)',\n",
              "       'Enrolment in tertiary education, ISCED 8 programmes, both sexes (number)',\n",
              "       'Enrolment in tertiary education, ISCED 8 programmes, female (number)',\n",
              "       'Enrolment in upper secondary education, both sexes (number)',\n",
              "       'Enrolment in upper secondary education, female (number)',\n",
              "       'Enrolment in upper secondary education, private institutions, both sexes (number)',\n",
              "       'Enrolment in upper secondary education, private institutions, female (number)',\n",
              "       'Enrolment in upper secondary education, public institutions, both sexes (number)',\n",
              "       'Enrolment in upper secondary education, public institutions, female (number)',\n",
              "       'Enrolment in upper secondary general, both sexes (number)',\n",
              "       'Enrolment in upper secondary general, female (number)',\n",
              "       'Enrolment in upper secondary vocational, both sexes (number)',\n",
              "       'Enrolment in upper secondary vocational, female (number)'],\n",
              "      dtype=object)"
            ]
          },
          "metadata": {
            "tags": []
          },
          "execution_count": 34
        }
      ]
    },
    {
      "cell_type": "code",
      "metadata": {
        "colab": {
          "base_uri": "https://localhost:8080/"
        },
        "id": "YlV-0iGZNWnq",
        "outputId": "533937b5-a3e3-4590-ad47-d7381c9a6f4b"
      },
      "source": [
        "df1[df1['Indicator Name'].str.contains('Complete')]['Indicator Name'].unique()"
      ],
      "execution_count": 35,
      "outputs": [
        {
          "output_type": "execute_result",
          "data": {
            "text/plain": [
              "array(['Barro-Lee: Percentage of female population age 15+ with primary schooling. Completed Primary',\n",
              "       'Barro-Lee: Percentage of female population age 15+ with primary schooling. Total (Incomplete and Completed Primary)',\n",
              "       'Barro-Lee: Percentage of female population age 15+ with secondary schooling. Completed Secondary',\n",
              "       'Barro-Lee: Percentage of female population age 15+ with secondary schooling. Total (Incomplete and Completed Secondary)',\n",
              "       'Barro-Lee: Percentage of female population age 15+ with tertiary schooling. Completed Tertiary',\n",
              "       'Barro-Lee: Percentage of female population age 15+ with tertiary schooling. Total (Incomplete and Completed Tertiary)',\n",
              "       'Barro-Lee: Percentage of female population age 15-19 with primary schooling. Completed Primary',\n",
              "       'Barro-Lee: Percentage of female population age 15-19 with primary schooling. Total (Incomplete and Completed Primary)',\n",
              "       'Barro-Lee: Percentage of female population age 15-19 with secondary schooling. Completed Secondary',\n",
              "       'Barro-Lee: Percentage of female population age 15-19 with secondary schooling. Total (Incomplete and Completed Secondary)',\n",
              "       'Barro-Lee: Percentage of female population age 15-19 with tertiary schooling. Completed Tertiary',\n",
              "       'Barro-Lee: Percentage of female population age 15-19 with tertiary schooling. Total (Incomplete and Completed Tertiary)',\n",
              "       'Barro-Lee: Percentage of female population age 20-24 with primary schooling. Completed Primary',\n",
              "       'Barro-Lee: Percentage of female population age 20-24 with primary schooling. Total (Incomplete and Completed Primary)',\n",
              "       'Barro-Lee: Percentage of female population age 20-24 with secondary schooling. Completed Secondary',\n",
              "       'Barro-Lee: Percentage of female population age 20-24 with secondary schooling. Total (Incomplete and Completed Secondary)',\n",
              "       'Barro-Lee: Percentage of female population age 20-24 with tertiary schooling. Completed Tertiary',\n",
              "       'Barro-Lee: Percentage of female population age 20-24 with tertiary schooling. Total (Incomplete and Completed Tertiary)',\n",
              "       'Barro-Lee: Percentage of female population age 25+ with primary schooling. Completed Primary',\n",
              "       'Barro-Lee: Percentage of female population age 25+ with primary schooling. Total (Incomplete and Completed Primary)',\n",
              "       'Barro-Lee: Percentage of female population age 25+ with secondary schooling. Completed Secondary',\n",
              "       'Barro-Lee: Percentage of female population age 25+ with secondary schooling. Total (Incomplete and Completed Secondary)',\n",
              "       'Barro-Lee: Percentage of female population age 25+ with tertiary schooling. Completed Tertiary',\n",
              "       'Barro-Lee: Percentage of female population age 25+ with tertiary schooling. Total (Incomplete and Completed Tertiary)',\n",
              "       'Barro-Lee: Percentage of female population age 25-29 with primary schooling. Completed Primary',\n",
              "       'Barro-Lee: Percentage of female population age 25-29 with primary schooling. Total (Incomplete and Completed Primary)',\n",
              "       'Barro-Lee: Percentage of female population age 25-29 with secondary schooling. Completed Secondary',\n",
              "       'Barro-Lee: Percentage of female population age 25-29 with secondary schooling. Total (Incomplete and Completed Secondary)',\n",
              "       'Barro-Lee: Percentage of female population age 25-29 with tertiary schooling. Completed Tertiary',\n",
              "       'Barro-Lee: Percentage of female population age 25-29 with tertiary schooling. Total (Incomplete and Completed Tertiary)',\n",
              "       'Barro-Lee: Percentage of female population age 30-34 with primary schooling. Completed Primary',\n",
              "       'Barro-Lee: Percentage of female population age 30-34 with primary schooling. Total (Incomplete and Completed Primary)',\n",
              "       'Barro-Lee: Percentage of female population age 30-34 with secondary schooling. Completed Secondary',\n",
              "       'Barro-Lee: Percentage of female population age 30-34 with secondary schooling. Total (Incomplete and Completed Secondary)',\n",
              "       'Barro-Lee: Percentage of female population age 30-34 with tertiary schooling. Completed Tertiary',\n",
              "       'Barro-Lee: Percentage of female population age 30-34 with tertiary schooling. Total (Incomplete and Completed Tertiary)',\n",
              "       'Barro-Lee: Percentage of female population age 35-39 with primary schooling. Completed Primary',\n",
              "       'Barro-Lee: Percentage of female population age 35-39 with primary schooling. Total (Incomplete and Completed Primary)',\n",
              "       'Barro-Lee: Percentage of female population age 35-39 with secondary schooling. Completed Secondary',\n",
              "       'Barro-Lee: Percentage of female population age 35-39 with secondary schooling. Total (Incomplete and Completed Secondary)',\n",
              "       'Barro-Lee: Percentage of female population age 35-39 with tertiary schooling. Completed Tertiary',\n",
              "       'Barro-Lee: Percentage of female population age 35-39 with tertiary schooling. Total (Incomplete and Completed Tertiary)',\n",
              "       'Barro-Lee: Percentage of female population age 40-44 with primary schooling. Completed Primary',\n",
              "       'Barro-Lee: Percentage of female population age 40-44 with primary schooling. Total (Incomplete and Completed Primary)',\n",
              "       'Barro-Lee: Percentage of female population age 40-44 with secondary schooling. Completed Secondary',\n",
              "       'Barro-Lee: Percentage of female population age 40-44 with secondary schooling. Total (Incomplete and Completed Secondary)',\n",
              "       'Barro-Lee: Percentage of female population age 40-44 with tertiary schooling. Completed Tertiary',\n",
              "       'Barro-Lee: Percentage of female population age 40-44 with tertiary schooling. Total (Incomplete and Completed Tertiary)',\n",
              "       'Barro-Lee: Percentage of female population age 45-49 with primary schooling. Completed Primary',\n",
              "       'Barro-Lee: Percentage of female population age 45-49 with primary schooling. Total (Incomplete and Completed Primary)',\n",
              "       'Barro-Lee: Percentage of female population age 45-49 with secondary schooling. Completed Secondary',\n",
              "       'Barro-Lee: Percentage of female population age 45-49 with secondary schooling. Total (Incomplete and Completed Secondary)',\n",
              "       'Barro-Lee: Percentage of female population age 45-49 with tertiary schooling. Completed Tertiary',\n",
              "       'Barro-Lee: Percentage of female population age 45-49 with tertiary schooling. Total (Incomplete and Completed Tertiary)',\n",
              "       'Barro-Lee: Percentage of female population age 50-54 with primary schooling. Completed Primary',\n",
              "       'Barro-Lee: Percentage of female population age 50-54 with primary schooling. Total (Incomplete and Completed Primary)',\n",
              "       'Barro-Lee: Percentage of female population age 50-54 with secondary schooling. Completed Secondary',\n",
              "       'Barro-Lee: Percentage of female population age 50-54 with secondary schooling. Total (Incomplete and Completed Secondary)',\n",
              "       'Barro-Lee: Percentage of female population age 50-54 with tertiary schooling. Completed Tertiary',\n",
              "       'Barro-Lee: Percentage of female population age 50-54 with tertiary schooling. Total (Incomplete and Completed Tertiary)',\n",
              "       'Barro-Lee: Percentage of female population age 55-59 with primary schooling. Completed Primary',\n",
              "       'Barro-Lee: Percentage of female population age 55-59 with primary schooling. Total (Incomplete and Completed Primary)',\n",
              "       'Barro-Lee: Percentage of female population age 55-59 with secondary schooling. Completed Secondary',\n",
              "       'Barro-Lee: Percentage of female population age 55-59 with secondary schooling. Total (Incomplete and Completed Secondary)',\n",
              "       'Barro-Lee: Percentage of female population age 55-59 with tertiary schooling. Completed Tertiary',\n",
              "       'Barro-Lee: Percentage of female population age 55-59 with tertiary schooling. Total (Incomplete and Completed Tertiary)',\n",
              "       'Barro-Lee: Percentage of female population age 60-64 with primary schooling. Completed Primary',\n",
              "       'Barro-Lee: Percentage of female population age 60-64 with primary schooling. Total (Incomplete and Completed Primary)',\n",
              "       'Barro-Lee: Percentage of female population age 60-64 with secondary schooling. Completed Secondary',\n",
              "       'Barro-Lee: Percentage of female population age 60-64 with secondary schooling. Total (Incomplete and Completed Secondary)',\n",
              "       'Barro-Lee: Percentage of female population age 60-64 with tertiary schooling. Completed Tertiary',\n",
              "       'Barro-Lee: Percentage of female population age 60-64 with tertiary schooling. Total (Incomplete and Completed Tertiary)',\n",
              "       'Barro-Lee: Percentage of female population age 65-69 with primary schooling. Completed Primary',\n",
              "       'Barro-Lee: Percentage of female population age 65-69 with primary schooling. Total (Incomplete and Completed Primary)',\n",
              "       'Barro-Lee: Percentage of female population age 65-69 with secondary schooling. Completed Secondary',\n",
              "       'Barro-Lee: Percentage of female population age 65-69 with secondary schooling. Total (Incomplete and Completed Secondary)',\n",
              "       'Barro-Lee: Percentage of female population age 65-69 with tertiary schooling. Completed Tertiary',\n",
              "       'Barro-Lee: Percentage of female population age 65-69 with tertiary schooling. Total (Incomplete and Completed Tertiary)',\n",
              "       'Barro-Lee: Percentage of female population age 70-74 with primary schooling. Completed Primary',\n",
              "       'Barro-Lee: Percentage of female population age 70-74 with primary schooling. Total (Incomplete and Completed Primary)',\n",
              "       'Barro-Lee: Percentage of female population age 70-74 with secondary schooling. Completed Secondary',\n",
              "       'Barro-Lee: Percentage of female population age 70-74 with secondary schooling. Total (Incomplete and Completed Secondary)',\n",
              "       'Barro-Lee: Percentage of female population age 70-74 with tertiary schooling. Completed Tertiary',\n",
              "       'Barro-Lee: Percentage of female population age 70-74 with tertiary schooling. Total (Incomplete and Completed Tertiary)',\n",
              "       'Barro-Lee: Percentage of female population age 75+ with primary schooling. Completed Primary',\n",
              "       'Barro-Lee: Percentage of female population age 75+ with primary schooling. Total (Incomplete and Completed Primary)',\n",
              "       'Barro-Lee: Percentage of female population age 75+ with secondary schooling. Completed Secondary',\n",
              "       'Barro-Lee: Percentage of female population age 75+ with secondary schooling. Total (Incomplete and Completed Secondary)',\n",
              "       'Barro-Lee: Percentage of female population age 75+ with tertiary schooling. Completed Tertiary',\n",
              "       'Barro-Lee: Percentage of female population age 75+ with tertiary schooling. Total (Incomplete and Completed Tertiary)',\n",
              "       'Barro-Lee: Percentage of population age 15+ with primary schooling. Completed Primary',\n",
              "       'Barro-Lee: Percentage of population age 15+ with primary schooling. Total (Incomplete and Completed Primary)',\n",
              "       'Barro-Lee: Percentage of population age 15+ with secondary schooling. Completed Secondary',\n",
              "       'Barro-Lee: Percentage of population age 15+ with secondary schooling. Total (Incomplete and Completed Secondary)',\n",
              "       'Barro-Lee: Percentage of population age 15+ with tertiary schooling. Completed Tertiary',\n",
              "       'Barro-Lee: Percentage of population age 15+ with tertiary schooling. Total (Incomplete and Completed Tertiary)',\n",
              "       'Barro-Lee: Percentage of population age 15-19 with primary schooling. Completed Primary',\n",
              "       'Barro-Lee: Percentage of population age 15-19 with primary schooling. Total (Incomplete and Completed Primary)',\n",
              "       'Barro-Lee: Percentage of population age 15-19 with secondary schooling. Completed Secondary',\n",
              "       'Barro-Lee: Percentage of population age 15-19 with secondary schooling. Total (Incomplete and Completed Secondary)',\n",
              "       'Barro-Lee: Percentage of population age 15-19 with tertiary schooling. Completed Tertiary',\n",
              "       'Barro-Lee: Percentage of population age 15-19 with tertiary schooling. Total (Incomplete and Completed Tertiary)',\n",
              "       'Barro-Lee: Percentage of population age 20-24 with primary schooling. Completed Primary',\n",
              "       'Barro-Lee: Percentage of population age 20-24 with primary schooling. Total (Incomplete and Completed Primary)',\n",
              "       'Barro-Lee: Percentage of population age 20-24 with secondary schooling. Completed Secondary',\n",
              "       'Barro-Lee: Percentage of population age 20-24 with secondary schooling. Total (Incomplete and Completed Secondary)',\n",
              "       'Barro-Lee: Percentage of population age 20-24 with tertiary schooling. Completed Tertiary',\n",
              "       'Barro-Lee: Percentage of population age 20-24 with tertiary schooling. Total (Incomplete and Completed Tertiary)',\n",
              "       'Barro-Lee: Percentage of population age 25+ with primary schooling. Completed Primary',\n",
              "       'Barro-Lee: Percentage of population age 25+ with primary schooling. Total (Incomplete and Completed Primary)',\n",
              "       'Barro-Lee: Percentage of population age 25+ with secondary schooling. Completed Secondary',\n",
              "       'Barro-Lee: Percentage of population age 25+ with secondary schooling. Total (Incomplete and Completed Secondary)',\n",
              "       'Barro-Lee: Percentage of population age 25+ with tertiary schooling. Completed Tertiary',\n",
              "       'Barro-Lee: Percentage of population age 25+ with tertiary schooling. Total (Incomplete and Completed Tertiary)',\n",
              "       'Barro-Lee: Percentage of population age 25-29 with primary schooling. Completed Primary',\n",
              "       'Barro-Lee: Percentage of population age 25-29 with primary schooling. Total (Incomplete and Completed Primary)',\n",
              "       'Barro-Lee: Percentage of population age 25-29 with secondary schooling. Completed Secondary',\n",
              "       'Barro-Lee: Percentage of population age 25-29 with secondary schooling. Total (Incomplete and Completed Secondary)',\n",
              "       'Barro-Lee: Percentage of population age 25-29 with tertiary schooling. Completed Tertiary',\n",
              "       'Barro-Lee: Percentage of population age 25-29 with tertiary schooling. Total (Incomplete and Completed Tertiary)',\n",
              "       'Barro-Lee: Percentage of population age 30-34 with primary schooling. Completed Primary',\n",
              "       'Barro-Lee: Percentage of population age 30-34 with primary schooling. Total (Incomplete and Completed Primary)',\n",
              "       'Barro-Lee: Percentage of population age 30-34 with secondary schooling. Completed Secondary',\n",
              "       'Barro-Lee: Percentage of population age 30-34 with secondary schooling. Total (Incomplete and Completed Secondary)',\n",
              "       'Barro-Lee: Percentage of population age 30-34 with tertiary schooling. Completed Tertiary',\n",
              "       'Barro-Lee: Percentage of population age 30-34 with tertiary schooling. Total (Incomplete and Completed Tertiary)',\n",
              "       'Barro-Lee: Percentage of population age 35-39 with primary schooling. Completed Primary',\n",
              "       'Barro-Lee: Percentage of population age 35-39 with primary schooling. Total (Incomplete and Completed Primary)',\n",
              "       'Barro-Lee: Percentage of population age 35-39 with secondary schooling. Completed Secondary',\n",
              "       'Barro-Lee: Percentage of population age 35-39 with secondary schooling. Total (Incomplete and Completed Secondary)',\n",
              "       'Barro-Lee: Percentage of population age 35-39 with tertiary schooling. Completed Tertiary',\n",
              "       'Barro-Lee: Percentage of population age 35-39 with tertiary schooling. Total (Incomplete and Completed Tertiary)',\n",
              "       'Barro-Lee: Percentage of population age 40-44 with primary schooling. Completed Primary',\n",
              "       'Barro-Lee: Percentage of population age 40-44 with primary schooling. Total (Incomplete and Completed Primary)',\n",
              "       'Barro-Lee: Percentage of population age 40-44 with secondary schooling. Completed Secondary',\n",
              "       'Barro-Lee: Percentage of population age 40-44 with secondary schooling. Total (Incomplete and Completed Secondary)',\n",
              "       'Barro-Lee: Percentage of population age 40-44 with tertiary schooling. Completed Tertiary',\n",
              "       'Barro-Lee: Percentage of population age 40-44 with tertiary schooling. Total (Incomplete and Completed Tertiary)',\n",
              "       'Barro-Lee: Percentage of population age 45-49 with primary schooling. Completed Primary',\n",
              "       'Barro-Lee: Percentage of population age 45-49 with primary schooling. Total (Incomplete and Completed Primary)',\n",
              "       'Barro-Lee: Percentage of population age 45-49 with secondary schooling. Completed Secondary',\n",
              "       'Barro-Lee: Percentage of population age 45-49 with secondary schooling. Total (Incomplete and Completed Secondary)',\n",
              "       'Barro-Lee: Percentage of population age 45-49 with tertiary schooling. Completed Tertiary',\n",
              "       'Barro-Lee: Percentage of population age 45-49 with tertiary schooling. Total (Incomplete and Completed Tertiary)',\n",
              "       'Barro-Lee: Percentage of population age 50-54 with primary schooling. Completed Primary',\n",
              "       'Barro-Lee: Percentage of population age 50-54 with primary schooling. Total (Incomplete and Completed Primary)',\n",
              "       'Barro-Lee: Percentage of population age 50-54 with secondary schooling. Completed Secondary',\n",
              "       'Barro-Lee: Percentage of population age 50-54 with secondary schooling. Total (Incomplete and Completed Secondary)',\n",
              "       'Barro-Lee: Percentage of population age 50-54 with tertiary schooling. Completed Tertiary',\n",
              "       'Barro-Lee: Percentage of population age 50-54 with tertiary schooling. Total (Incomplete and Completed Tertiary)',\n",
              "       'Barro-Lee: Percentage of population age 55-59 with primary schooling. Completed Primary',\n",
              "       'Barro-Lee: Percentage of population age 55-59 with primary schooling. Total (Incomplete and Completed Primary)',\n",
              "       'Barro-Lee: Percentage of population age 55-59 with secondary schooling. Completed Secondary',\n",
              "       'Barro-Lee: Percentage of population age 55-59 with secondary schooling. Total (Incomplete and Completed Secondary)',\n",
              "       'Barro-Lee: Percentage of population age 55-59 with tertiary schooling. Completed Tertiary',\n",
              "       'Barro-Lee: Percentage of population age 55-59 with tertiary schooling. Total (Incomplete and Completed Tertiary)',\n",
              "       'Barro-Lee: Percentage of population age 60-64 with primary schooling. Completed Primary',\n",
              "       'Barro-Lee: Percentage of population age 60-64 with primary schooling. Total (Incomplete and Completed Primary)',\n",
              "       'Barro-Lee: Percentage of population age 60-64 with secondary schooling. Completed Secondary',\n",
              "       'Barro-Lee: Percentage of population age 60-64 with secondary schooling. Total (Incomplete and Completed Secondary)',\n",
              "       'Barro-Lee: Percentage of population age 60-64 with tertiary schooling. Completed Tertiary',\n",
              "       'Barro-Lee: Percentage of population age 60-64 with tertiary schooling. Total (Incomplete and Completed Tertiary)',\n",
              "       'Barro-Lee: Percentage of population age 65-69 with primary schooling. Completed Primary',\n",
              "       'Barro-Lee: Percentage of population age 65-69 with primary schooling. Total (Incomplete and Completed Primary)',\n",
              "       'Barro-Lee: Percentage of population age 65-69 with secondary schooling. Completed Secondary',\n",
              "       'Barro-Lee: Percentage of population age 65-69 with secondary schooling. Total (Incomplete and Completed Secondary)',\n",
              "       'Barro-Lee: Percentage of population age 65-69 with tertiary schooling. Completed Tertiary',\n",
              "       'Barro-Lee: Percentage of population age 65-69 with tertiary schooling. Total (Incomplete and Completed Tertiary)',\n",
              "       'Barro-Lee: Percentage of population age 70-74 with primary schooling. Completed Primary',\n",
              "       'Barro-Lee: Percentage of population age 70-74 with primary schooling. Total (Incomplete and Completed Primary)',\n",
              "       'Barro-Lee: Percentage of population age 70-74 with secondary schooling. Completed Secondary',\n",
              "       'Barro-Lee: Percentage of population age 70-74 with secondary schooling. Total (Incomplete and Completed Secondary)',\n",
              "       'Barro-Lee: Percentage of population age 70-74 with tertiary schooling. Completed Tertiary',\n",
              "       'Barro-Lee: Percentage of population age 70-74 with tertiary schooling. Total (Incomplete and Completed Tertiary)',\n",
              "       'Barro-Lee: Percentage of population age 75+ with primary schooling. Completed Primary',\n",
              "       'Barro-Lee: Percentage of population age 75+ with primary schooling. Total (Incomplete and Completed Primary)',\n",
              "       'Barro-Lee: Percentage of population age 75+ with secondary schooling. Completed Secondary',\n",
              "       'Barro-Lee: Percentage of population age 75+ with secondary schooling. Total (Incomplete and Completed Secondary)',\n",
              "       'Barro-Lee: Percentage of population age 75+ with tertiary schooling. Completed Tertiary',\n",
              "       'Barro-Lee: Percentage of population age 75+ with tertiary schooling. Total (Incomplete and Completed Tertiary)'],\n",
              "      dtype=object)"
            ]
          },
          "metadata": {
            "tags": []
          },
          "execution_count": 35
        }
      ]
    },
    {
      "cell_type": "code",
      "metadata": {
        "colab": {
          "base_uri": "https://localhost:8080/"
        },
        "id": "pcrc1HYSKtVM",
        "outputId": "d7eac38a-b98b-4970-9aa7-3ffb96b7113f"
      },
      "source": [
        "df1[df1['Indicator Name'].str.contains('Internet')]['Indicator Name'].unique()"
      ],
      "execution_count": 36,
      "outputs": [
        {
          "output_type": "execute_result",
          "data": {
            "text/plain": [
              "array(['Internet users (per 100 people)'], dtype=object)"
            ]
          },
          "metadata": {
            "tags": []
          },
          "execution_count": 36
        }
      ]
    },
    {
      "cell_type": "code",
      "metadata": {
        "id": "kvrHFSPrsAep",
        "colab": {
          "base_uri": "https://localhost:8080/",
          "height": 335
        },
        "outputId": "9e14b51e-8a1c-4afe-f248-6c37f9395914"
      },
      "source": [
        "df_series.head(2)"
      ],
      "execution_count": 37,
      "outputs": [
        {
          "output_type": "execute_result",
          "data": {
            "text/html": [
              "<div>\n",
              "<style scoped>\n",
              "    .dataframe tbody tr th:only-of-type {\n",
              "        vertical-align: middle;\n",
              "    }\n",
              "\n",
              "    .dataframe tbody tr th {\n",
              "        vertical-align: top;\n",
              "    }\n",
              "\n",
              "    .dataframe thead th {\n",
              "        text-align: right;\n",
              "    }\n",
              "</style>\n",
              "<table border=\"1\" class=\"dataframe\">\n",
              "  <thead>\n",
              "    <tr style=\"text-align: right;\">\n",
              "      <th></th>\n",
              "      <th>Series Code</th>\n",
              "      <th>Topic</th>\n",
              "      <th>Indicator Name</th>\n",
              "      <th>Short definition</th>\n",
              "      <th>Long definition</th>\n",
              "      <th>Unit of measure</th>\n",
              "      <th>Periodicity</th>\n",
              "      <th>Base Period</th>\n",
              "      <th>Other notes</th>\n",
              "      <th>Aggregation method</th>\n",
              "      <th>Limitations and exceptions</th>\n",
              "      <th>Notes from original source</th>\n",
              "      <th>General comments</th>\n",
              "      <th>Source</th>\n",
              "      <th>Statistical concept and methodology</th>\n",
              "      <th>Development relevance</th>\n",
              "      <th>Related source links</th>\n",
              "      <th>Other web links</th>\n",
              "      <th>Related indicators</th>\n",
              "      <th>License Type</th>\n",
              "      <th>Unnamed: 20</th>\n",
              "    </tr>\n",
              "  </thead>\n",
              "  <tbody>\n",
              "    <tr>\n",
              "      <th>0</th>\n",
              "      <td>BAR.NOED.1519.FE.ZS</td>\n",
              "      <td>Attainment</td>\n",
              "      <td>Barro-Lee: Percentage of female population age...</td>\n",
              "      <td>Percentage of female population age 15-19 with...</td>\n",
              "      <td>Percentage of female population age 15-19 with...</td>\n",
              "      <td>NaN</td>\n",
              "      <td>NaN</td>\n",
              "      <td>NaN</td>\n",
              "      <td>NaN</td>\n",
              "      <td>NaN</td>\n",
              "      <td>NaN</td>\n",
              "      <td>NaN</td>\n",
              "      <td>NaN</td>\n",
              "      <td>Robert J. Barro and Jong-Wha Lee: http://www.b...</td>\n",
              "      <td>NaN</td>\n",
              "      <td>NaN</td>\n",
              "      <td>NaN</td>\n",
              "      <td>NaN</td>\n",
              "      <td>NaN</td>\n",
              "      <td>NaN</td>\n",
              "      <td>NaN</td>\n",
              "    </tr>\n",
              "    <tr>\n",
              "      <th>1</th>\n",
              "      <td>BAR.NOED.1519.ZS</td>\n",
              "      <td>Attainment</td>\n",
              "      <td>Barro-Lee: Percentage of population age 15-19 ...</td>\n",
              "      <td>Percentage of population age 15-19 with no edu...</td>\n",
              "      <td>Percentage of population age 15-19 with no edu...</td>\n",
              "      <td>NaN</td>\n",
              "      <td>NaN</td>\n",
              "      <td>NaN</td>\n",
              "      <td>NaN</td>\n",
              "      <td>NaN</td>\n",
              "      <td>NaN</td>\n",
              "      <td>NaN</td>\n",
              "      <td>NaN</td>\n",
              "      <td>Robert J. Barro and Jong-Wha Lee: http://www.b...</td>\n",
              "      <td>NaN</td>\n",
              "      <td>NaN</td>\n",
              "      <td>NaN</td>\n",
              "      <td>NaN</td>\n",
              "      <td>NaN</td>\n",
              "      <td>NaN</td>\n",
              "      <td>NaN</td>\n",
              "    </tr>\n",
              "  </tbody>\n",
              "</table>\n",
              "</div>"
            ],
            "text/plain": [
              "           Series Code       Topic  ... License Type Unnamed: 20\n",
              "0  BAR.NOED.1519.FE.ZS  Attainment  ...          NaN         NaN\n",
              "1     BAR.NOED.1519.ZS  Attainment  ...          NaN         NaN\n",
              "\n",
              "[2 rows x 21 columns]"
            ]
          },
          "metadata": {
            "tags": []
          },
          "execution_count": 37
        }
      ]
    },
    {
      "cell_type": "code",
      "metadata": {
        "id": "Rk9RMTS8v9cA",
        "colab": {
          "base_uri": "https://localhost:8080/"
        },
        "outputId": "9857f43b-b1ce-45d3-d241-26d910c4b9d3"
      },
      "source": [
        "df_series.info()"
      ],
      "execution_count": 38,
      "outputs": [
        {
          "output_type": "stream",
          "text": [
            "<class 'pandas.core.frame.DataFrame'>\n",
            "RangeIndex: 3665 entries, 0 to 3664\n",
            "Data columns (total 21 columns):\n",
            " #   Column                               Non-Null Count  Dtype  \n",
            "---  ------                               --------------  -----  \n",
            " 0   Series Code                          3665 non-null   object \n",
            " 1   Topic                                3665 non-null   object \n",
            " 2   Indicator Name                       3665 non-null   object \n",
            " 3   Short definition                     2156 non-null   object \n",
            " 4   Long definition                      3665 non-null   object \n",
            " 5   Unit of measure                      0 non-null      float64\n",
            " 6   Periodicity                          99 non-null     object \n",
            " 7   Base Period                          314 non-null    object \n",
            " 8   Other notes                          552 non-null    object \n",
            " 9   Aggregation method                   47 non-null     object \n",
            " 10  Limitations and exceptions           14 non-null     object \n",
            " 11  Notes from original source           0 non-null      float64\n",
            " 12  General comments                     14 non-null     object \n",
            " 13  Source                               3665 non-null   object \n",
            " 14  Statistical concept and methodology  23 non-null     object \n",
            " 15  Development relevance                3 non-null      object \n",
            " 16  Related source links                 215 non-null    object \n",
            " 17  Other web links                      0 non-null      float64\n",
            " 18  Related indicators                   0 non-null      float64\n",
            " 19  License Type                         0 non-null      float64\n",
            " 20  Unnamed: 20                          0 non-null      float64\n",
            "dtypes: float64(6), object(15)\n",
            "memory usage: 601.4+ KB\n"
          ],
          "name": "stdout"
        }
      ]
    },
    {
      "cell_type": "code",
      "metadata": {
        "colab": {
          "base_uri": "https://localhost:8080/"
        },
        "id": "wwRMOpGRV-zL",
        "outputId": "1d828907-5c53-4471-aafe-cbdc1f35042b"
      },
      "source": [
        "df_series['Series Code'].nunique()"
      ],
      "execution_count": 39,
      "outputs": [
        {
          "output_type": "execute_result",
          "data": {
            "text/plain": [
              "3665"
            ]
          },
          "metadata": {
            "tags": []
          },
          "execution_count": 39
        }
      ]
    },
    {
      "cell_type": "code",
      "metadata": {
        "colab": {
          "base_uri": "https://localhost:8080/"
        },
        "id": "6SFfEd_6V-xC",
        "outputId": "7ea46784-aeac-49bd-fbce-d44bd48c3737"
      },
      "source": [
        "df_series['Topic'].unique()"
      ],
      "execution_count": 40,
      "outputs": [
        {
          "output_type": "execute_result",
          "data": {
            "text/plain": [
              "array(['Attainment', 'Education Equality',\n",
              "       'Infrastructure: Communications', 'Learning Outcomes',\n",
              "       'Economic Policy & Debt: National accounts: US$ at current prices: Aggregate indicators',\n",
              "       'Economic Policy & Debt: National accounts: US$ at constant 2010 prices: Aggregate indicators',\n",
              "       'Economic Policy & Debt: Purchasing power parity',\n",
              "       'Economic Policy & Debt: National accounts: Atlas GNI & GNI per capita',\n",
              "       'Teachers', 'Education Management Information Systems (SABER)',\n",
              "       'Early Child Development (SABER)',\n",
              "       'Engaging the Private Sector (SABER)',\n",
              "       'School Health and School Feeding (SABER)',\n",
              "       'School Autonomy and Accountability (SABER)',\n",
              "       'School Finance (SABER)', 'Student Assessment (SABER)',\n",
              "       'Teachers (SABER)', 'Tertiary Education (SABER)',\n",
              "       'Workforce Development (SABER)', 'Literacy', 'Background',\n",
              "       'Primary', 'Secondary', 'Tertiary', 'Early Childhood Education',\n",
              "       'Pre-Primary', 'Expenditures', 'Health: Risk factors',\n",
              "       'Health: Mortality',\n",
              "       'Social Protection & Labor: Labor force structure', 'Laber',\n",
              "       'Social Protection & Labor: Unemployment',\n",
              "       'Health: Population: Structure', 'Population',\n",
              "       'Health: Population: Dynamics', 'EMIS',\n",
              "       'Post-Secondary/Non-Tertiary'], dtype=object)"
            ]
          },
          "metadata": {
            "tags": []
          },
          "execution_count": 40
        }
      ]
    },
    {
      "cell_type": "code",
      "metadata": {
        "id": "_omXpJVhsAg4",
        "colab": {
          "base_uri": "https://localhost:8080/",
          "height": 111
        },
        "outputId": "3127e791-e22e-4c7d-bbf4-dfc42f630d9a"
      },
      "source": [
        "df_countryseries.head(2)"
      ],
      "execution_count": 41,
      "outputs": [
        {
          "output_type": "execute_result",
          "data": {
            "text/html": [
              "<div>\n",
              "<style scoped>\n",
              "    .dataframe tbody tr th:only-of-type {\n",
              "        vertical-align: middle;\n",
              "    }\n",
              "\n",
              "    .dataframe tbody tr th {\n",
              "        vertical-align: top;\n",
              "    }\n",
              "\n",
              "    .dataframe thead th {\n",
              "        text-align: right;\n",
              "    }\n",
              "</style>\n",
              "<table border=\"1\" class=\"dataframe\">\n",
              "  <thead>\n",
              "    <tr style=\"text-align: right;\">\n",
              "      <th></th>\n",
              "      <th>CountryCode</th>\n",
              "      <th>SeriesCode</th>\n",
              "      <th>DESCRIPTION</th>\n",
              "      <th>Unnamed: 3</th>\n",
              "    </tr>\n",
              "  </thead>\n",
              "  <tbody>\n",
              "    <tr>\n",
              "      <th>0</th>\n",
              "      <td>ABW</td>\n",
              "      <td>SP.POP.TOTL</td>\n",
              "      <td>Data sources : United Nations World Population...</td>\n",
              "      <td>NaN</td>\n",
              "    </tr>\n",
              "    <tr>\n",
              "      <th>1</th>\n",
              "      <td>ABW</td>\n",
              "      <td>SP.POP.GROW</td>\n",
              "      <td>Data sources: United Nations World Population ...</td>\n",
              "      <td>NaN</td>\n",
              "    </tr>\n",
              "  </tbody>\n",
              "</table>\n",
              "</div>"
            ],
            "text/plain": [
              "  CountryCode  ... Unnamed: 3\n",
              "0         ABW  ...        NaN\n",
              "1         ABW  ...        NaN\n",
              "\n",
              "[2 rows x 4 columns]"
            ]
          },
          "metadata": {
            "tags": []
          },
          "execution_count": 41
        }
      ]
    },
    {
      "cell_type": "code",
      "metadata": {
        "id": "ZfzXkOursAjL",
        "colab": {
          "base_uri": "https://localhost:8080/"
        },
        "outputId": "ec5bcfab-32d4-4b41-d91a-c1ec3f958faa"
      },
      "source": [
        "df_countryseries.info()"
      ],
      "execution_count": 42,
      "outputs": [
        {
          "output_type": "stream",
          "text": [
            "<class 'pandas.core.frame.DataFrame'>\n",
            "RangeIndex: 613 entries, 0 to 612\n",
            "Data columns (total 4 columns):\n",
            " #   Column       Non-Null Count  Dtype  \n",
            "---  ------       --------------  -----  \n",
            " 0   CountryCode  613 non-null    object \n",
            " 1   SeriesCode   613 non-null    object \n",
            " 2   DESCRIPTION  613 non-null    object \n",
            " 3   Unnamed: 3   0 non-null      float64\n",
            "dtypes: float64(1), object(3)\n",
            "memory usage: 19.3+ KB\n"
          ],
          "name": "stdout"
        }
      ]
    },
    {
      "cell_type": "code",
      "metadata": {
        "id": "G6GtsvykwOne",
        "colab": {
          "base_uri": "https://localhost:8080/"
        },
        "outputId": "d6083c7e-2089-4baa-cf94-5872ac8cfe98"
      },
      "source": [
        "df_countryseries['DESCRIPTION']"
      ],
      "execution_count": 43,
      "outputs": [
        {
          "output_type": "execute_result",
          "data": {
            "text/plain": [
              "0                               Data sources : United Nations World Population Prospects\n",
              "1                                Data sources: United Nations World Population Prospects\n",
              "2                                Data sources: United Nations World Population Prospects\n",
              "3                                                     Estimates are based on regression.\n",
              "4                               Data sources : United Nations World Population Prospects\n",
              "                                             ...                                        \n",
              "608    Data sources : Statistics South Africa, United Nations World Population Prospects\n",
              "609                              Data sources: United Nations World Population Prospects\n",
              "610                             Data sources : United Nations World Population Prospects\n",
              "611                             Data sources : United Nations World Population Prospects\n",
              "612                              Data sources: United Nations World Population Prospects\n",
              "Name: DESCRIPTION, Length: 613, dtype: object"
            ]
          },
          "metadata": {
            "tags": []
          },
          "execution_count": 43
        }
      ]
    },
    {
      "cell_type": "code",
      "metadata": {
        "id": "r-qNcz4qwiI2",
        "colab": {
          "base_uri": "https://localhost:8080/"
        },
        "outputId": "c349fe3c-7491-4d79-d524-9d193a91d201"
      },
      "source": [
        "df_countryseries['CountryCode'].nunique()"
      ],
      "execution_count": 44,
      "outputs": [
        {
          "output_type": "execute_result",
          "data": {
            "text/plain": [
              "211"
            ]
          },
          "metadata": {
            "tags": []
          },
          "execution_count": 44
        }
      ]
    },
    {
      "cell_type": "code",
      "metadata": {
        "id": "SLBiSVOKwsQP",
        "colab": {
          "base_uri": "https://localhost:8080/",
          "height": 514
        },
        "outputId": "2ca244df-4e96-4f7f-8a19-fddc0524c4e9"
      },
      "source": [
        "df_footnote.head(15)"
      ],
      "execution_count": 45,
      "outputs": [
        {
          "output_type": "execute_result",
          "data": {
            "text/html": [
              "<div>\n",
              "<style scoped>\n",
              "    .dataframe tbody tr th:only-of-type {\n",
              "        vertical-align: middle;\n",
              "    }\n",
              "\n",
              "    .dataframe tbody tr th {\n",
              "        vertical-align: top;\n",
              "    }\n",
              "\n",
              "    .dataframe thead th {\n",
              "        text-align: right;\n",
              "    }\n",
              "</style>\n",
              "<table border=\"1\" class=\"dataframe\">\n",
              "  <thead>\n",
              "    <tr style=\"text-align: right;\">\n",
              "      <th></th>\n",
              "      <th>CountryCode</th>\n",
              "      <th>SeriesCode</th>\n",
              "      <th>Year</th>\n",
              "      <th>DESCRIPTION</th>\n",
              "      <th>Unnamed: 4</th>\n",
              "    </tr>\n",
              "  </thead>\n",
              "  <tbody>\n",
              "    <tr>\n",
              "      <th>0</th>\n",
              "      <td>ABW</td>\n",
              "      <td>SE.PRE.ENRL.FE</td>\n",
              "      <td>YR2001</td>\n",
              "      <td>Country estimation.</td>\n",
              "      <td>NaN</td>\n",
              "    </tr>\n",
              "    <tr>\n",
              "      <th>1</th>\n",
              "      <td>ABW</td>\n",
              "      <td>SE.TER.TCHR.FE</td>\n",
              "      <td>YR2005</td>\n",
              "      <td>Country estimation.</td>\n",
              "      <td>NaN</td>\n",
              "    </tr>\n",
              "    <tr>\n",
              "      <th>2</th>\n",
              "      <td>ABW</td>\n",
              "      <td>SE.PRE.TCHR.FE</td>\n",
              "      <td>YR2000</td>\n",
              "      <td>Country estimation.</td>\n",
              "      <td>NaN</td>\n",
              "    </tr>\n",
              "    <tr>\n",
              "      <th>3</th>\n",
              "      <td>ABW</td>\n",
              "      <td>SE.SEC.ENRL.GC</td>\n",
              "      <td>YR2004</td>\n",
              "      <td>Country estimation.</td>\n",
              "      <td>NaN</td>\n",
              "    </tr>\n",
              "    <tr>\n",
              "      <th>4</th>\n",
              "      <td>ABW</td>\n",
              "      <td>SE.PRE.TCHR</td>\n",
              "      <td>YR2006</td>\n",
              "      <td>Country estimation.</td>\n",
              "      <td>NaN</td>\n",
              "    </tr>\n",
              "    <tr>\n",
              "      <th>5</th>\n",
              "      <td>ABW</td>\n",
              "      <td>SE.PRE.NENR</td>\n",
              "      <td>YR2000</td>\n",
              "      <td>Country estimation.</td>\n",
              "      <td>NaN</td>\n",
              "    </tr>\n",
              "    <tr>\n",
              "      <th>6</th>\n",
              "      <td>ABW</td>\n",
              "      <td>SE.SEC.ENRL.VO.FE</td>\n",
              "      <td>YR2005</td>\n",
              "      <td>Country estimation.</td>\n",
              "      <td>NaN</td>\n",
              "    </tr>\n",
              "    <tr>\n",
              "      <th>7</th>\n",
              "      <td>ABW</td>\n",
              "      <td>SE.SEC.ENRL.GC</td>\n",
              "      <td>YR2003</td>\n",
              "      <td>Country estimation.</td>\n",
              "      <td>NaN</td>\n",
              "    </tr>\n",
              "    <tr>\n",
              "      <th>8</th>\n",
              "      <td>ABW</td>\n",
              "      <td>SE.PRM.TCHR.FE</td>\n",
              "      <td>YR1999</td>\n",
              "      <td>Country estimation.</td>\n",
              "      <td>NaN</td>\n",
              "    </tr>\n",
              "    <tr>\n",
              "      <th>9</th>\n",
              "      <td>ABW</td>\n",
              "      <td>SE.PRE.TCHR.FE.ZS</td>\n",
              "      <td>YR2008</td>\n",
              "      <td>Country estimation.</td>\n",
              "      <td>NaN</td>\n",
              "    </tr>\n",
              "    <tr>\n",
              "      <th>10</th>\n",
              "      <td>ABW</td>\n",
              "      <td>SE.PRE.ENRL</td>\n",
              "      <td>YR2006</td>\n",
              "      <td>Country estimation.</td>\n",
              "      <td>NaN</td>\n",
              "    </tr>\n",
              "    <tr>\n",
              "      <th>11</th>\n",
              "      <td>ABW</td>\n",
              "      <td>SE.PRE.NENR.FE</td>\n",
              "      <td>YR2000</td>\n",
              "      <td>Country estimation.</td>\n",
              "      <td>NaN</td>\n",
              "    </tr>\n",
              "    <tr>\n",
              "      <th>12</th>\n",
              "      <td>ABW</td>\n",
              "      <td>SE.SEC.ENRL.VO.FE.ZS</td>\n",
              "      <td>YR2002</td>\n",
              "      <td>Country estimation.</td>\n",
              "      <td>NaN</td>\n",
              "    </tr>\n",
              "    <tr>\n",
              "      <th>13</th>\n",
              "      <td>ABW</td>\n",
              "      <td>SE.SEC.TCHR.FE</td>\n",
              "      <td>YR2006</td>\n",
              "      <td>Country estimation.</td>\n",
              "      <td>NaN</td>\n",
              "    </tr>\n",
              "    <tr>\n",
              "      <th>14</th>\n",
              "      <td>ABW</td>\n",
              "      <td>SE.SEC.ENRL.VO.FE.ZS</td>\n",
              "      <td>YR2007</td>\n",
              "      <td>Country estimation.</td>\n",
              "      <td>NaN</td>\n",
              "    </tr>\n",
              "  </tbody>\n",
              "</table>\n",
              "</div>"
            ],
            "text/plain": [
              "   CountryCode            SeriesCode    Year          DESCRIPTION  Unnamed: 4\n",
              "0          ABW        SE.PRE.ENRL.FE  YR2001  Country estimation.         NaN\n",
              "1          ABW        SE.TER.TCHR.FE  YR2005  Country estimation.         NaN\n",
              "2          ABW        SE.PRE.TCHR.FE  YR2000  Country estimation.         NaN\n",
              "3          ABW        SE.SEC.ENRL.GC  YR2004  Country estimation.         NaN\n",
              "4          ABW           SE.PRE.TCHR  YR2006  Country estimation.         NaN\n",
              "5          ABW           SE.PRE.NENR  YR2000  Country estimation.         NaN\n",
              "6          ABW     SE.SEC.ENRL.VO.FE  YR2005  Country estimation.         NaN\n",
              "7          ABW        SE.SEC.ENRL.GC  YR2003  Country estimation.         NaN\n",
              "8          ABW        SE.PRM.TCHR.FE  YR1999  Country estimation.         NaN\n",
              "9          ABW     SE.PRE.TCHR.FE.ZS  YR2008  Country estimation.         NaN\n",
              "10         ABW           SE.PRE.ENRL  YR2006  Country estimation.         NaN\n",
              "11         ABW        SE.PRE.NENR.FE  YR2000  Country estimation.         NaN\n",
              "12         ABW  SE.SEC.ENRL.VO.FE.ZS  YR2002  Country estimation.         NaN\n",
              "13         ABW        SE.SEC.TCHR.FE  YR2006  Country estimation.         NaN\n",
              "14         ABW  SE.SEC.ENRL.VO.FE.ZS  YR2007  Country estimation.         NaN"
            ]
          },
          "metadata": {
            "tags": []
          },
          "execution_count": 45
        }
      ]
    },
    {
      "cell_type": "code",
      "metadata": {
        "id": "ehvW0gWB1MAV",
        "colab": {
          "base_uri": "https://localhost:8080/"
        },
        "outputId": "14642fd3-857c-4258-a2a4-14fbe714f50a"
      },
      "source": [
        "np.sort(df_footnote['Year'].unique())"
      ],
      "execution_count": 46,
      "outputs": [
        {
          "output_type": "execute_result",
          "data": {
            "text/plain": [
              "array(['YR1970', 'YR1971', 'YR1972', 'YR1973', 'YR1974', 'YR1975',\n",
              "       'YR1976', 'YR1977', 'YR1978', 'YR1979', 'YR1980', 'YR1981',\n",
              "       'YR1982', 'YR1983', 'YR1984', 'YR1985', 'YR1986', 'YR1987',\n",
              "       'YR1988', 'YR1989', 'YR1990', 'YR1991', 'YR1992', 'YR1993',\n",
              "       'YR1994', 'YR1995', 'YR1996', 'YR1997', 'YR1998', 'YR1999',\n",
              "       'YR2000', 'YR2001', 'YR2002', 'YR2003', 'YR2004', 'YR2005',\n",
              "       'YR2006', 'YR2007', 'YR2008', 'YR2009', 'YR2010', 'YR2011',\n",
              "       'YR2012', 'YR2013', 'YR2014', 'YR2015', 'YR2016', 'YR2017',\n",
              "       'YR2020', 'YR2025', 'YR2030', 'YR2035', 'YR2040', 'YR2045',\n",
              "       'YR2050', 'yr2012'], dtype=object)"
            ]
          },
          "metadata": {
            "tags": []
          },
          "execution_count": 46
        }
      ]
    },
    {
      "cell_type": "code",
      "metadata": {
        "id": "7TiNGPGn1--N",
        "colab": {
          "base_uri": "https://localhost:8080/"
        },
        "outputId": "9298daf5-3416-43d6-c441-6ca3eb1773f3"
      },
      "source": [
        "df_footnote.info()"
      ],
      "execution_count": 47,
      "outputs": [
        {
          "output_type": "stream",
          "text": [
            "<class 'pandas.core.frame.DataFrame'>\n",
            "RangeIndex: 643638 entries, 0 to 643637\n",
            "Data columns (total 5 columns):\n",
            " #   Column       Non-Null Count   Dtype  \n",
            "---  ------       --------------   -----  \n",
            " 0   CountryCode  643638 non-null  object \n",
            " 1   SeriesCode   643638 non-null  object \n",
            " 2   Year         643638 non-null  object \n",
            " 3   DESCRIPTION  643638 non-null  object \n",
            " 4   Unnamed: 4   0 non-null       float64\n",
            "dtypes: float64(1), object(4)\n",
            "memory usage: 24.6+ MB\n"
          ],
          "name": "stdout"
        }
      ]
    },
    {
      "cell_type": "code",
      "metadata": {
        "id": "7mLhNEshw8UO",
        "colab": {
          "base_uri": "https://localhost:8080/"
        },
        "outputId": "5477da23-e723-4425-cc64-3f8f74513a29"
      },
      "source": [
        "df_footnote['DESCRIPTION'].value_counts()"
      ],
      "execution_count": 48,
      "outputs": [
        {
          "output_type": "execute_result",
          "data": {
            "text/plain": [
              "Country Data                                      191188\n",
              "UNESCO Institute for Statistics (UIS) estimate    171527\n",
              "Estimated                                         117155\n",
              "UIS Estimation                                     31395\n",
              "Country estimation.                                26308\n",
              "                                                   ...  \n",
              "Uncertainty bound is 108.1 - 146.9                     1\n",
              "Uncertainty bound is 27.1 - 33.2                       1\n",
              "Uncertainty bound is 52.1 - 71.7                       1\n",
              "Uncertainty bound is 173.1 - 216                       1\n",
              "Uncertainty bound is 69.5 - 75.3                       1\n",
              "Name: DESCRIPTION, Length: 9102, dtype: int64"
            ]
          },
          "metadata": {
            "tags": []
          },
          "execution_count": 48
        }
      ]
    },
    {
      "cell_type": "markdown",
      "metadata": {
        "id": "PQcMJ8Uqw8SK"
      },
      "source": [
        "Initial understanding of each of the datasets:\n",
        "\n",
        "* df_country(EdStatsCountry.csv) - contains list of all countries that are present in the data (total of 241 countries) - along with other features specific to the country like - Region, Income Group specific to the country etc\n",
        "* df_data(EdStatsData.csv) - contains each country, with list of indicators (3665 unique indicators); contains measurement value for each indicator from years 1970 to 2017; from 2020 to 2100 - contains projections\n",
        "* df_series - contains list of all indicators and the definition of each indicator\n",
        "* df_countryseries - contains indicators and data sources for certain countries\n",
        "* df_footnote - contains the estimations and uncertainty bounds for each year - looks like some years are missing\n",
        "\n"
      ]
    },
    {
      "cell_type": "code",
      "metadata": {
        "id": "GQ9xlWFEw8PX",
        "colab": {
          "base_uri": "https://localhost:8080/"
        },
        "outputId": "db18c722-1cc5-45f7-c4bd-8e2dbc3fa4b7"
      },
      "source": [
        "df2.info()"
      ],
      "execution_count": 80,
      "outputs": [
        {
          "output_type": "stream",
          "text": [
            "<class 'pandas.core.frame.DataFrame'>\n",
            "Int64Index: 784310 entries, 91625 to 886929\n",
            "Data columns (total 23 columns):\n",
            " #   Column          Non-Null Count   Dtype  \n",
            "---  ------          --------------   -----  \n",
            " 0   Country Name    784310 non-null  object \n",
            " 1   Country Code    784310 non-null  object \n",
            " 2   Indicator Name  784310 non-null  object \n",
            " 3   Indicator Code  784310 non-null  object \n",
            " 4   2000            168090 non-null  float64\n",
            " 5   2001            114784 non-null  float64\n",
            " 6   2002            115517 non-null  float64\n",
            " 7   2003            121794 non-null  float64\n",
            " 8   2004            120230 non-null  float64\n",
            " 9   2005            175458 non-null  float64\n",
            " 10  2006            131642 non-null  float64\n",
            " 11  2007            128478 non-null  float64\n",
            " 12  2008            125636 non-null  float64\n",
            " 13  2009            133278 non-null  float64\n",
            " 14  2010            233465 non-null  float64\n",
            " 15  2011            137310 non-null  float64\n",
            " 16  2012            138101 non-null  float64\n",
            " 17  2013            128578 non-null  float64\n",
            " 18  2014            105246 non-null  float64\n",
            " 19  2015            129126 non-null  float64\n",
            " 20  Region          784310 non-null  object \n",
            " 21  Income Group    784310 non-null  object \n",
            " 22  Special Notes   439800 non-null  object \n",
            "dtypes: float64(16), object(7)\n",
            "memory usage: 143.6+ MB\n"
          ],
          "name": "stdout"
        }
      ]
    },
    {
      "cell_type": "code",
      "metadata": {
        "id": "Me3vBYlEw8Mu"
      },
      "source": [
        "import seaborn as sns"
      ],
      "execution_count": 82,
      "outputs": []
    },
    {
      "cell_type": "code",
      "metadata": {
        "colab": {
          "base_uri": "https://localhost:8080/",
          "height": 266
        },
        "id": "iUegxAwSzhmY",
        "outputId": "e6ec453c-2c47-4c0a-9949-b98543ddea07"
      },
      "source": [
        "gp1 = df1.groupby('Region')['2015'].count().reset_index()\n",
        "gp1"
      ],
      "execution_count": 134,
      "outputs": [
        {
          "output_type": "execute_result",
          "data": {
            "text/html": [
              "<div>\n",
              "<style scoped>\n",
              "    .dataframe tbody tr th:only-of-type {\n",
              "        vertical-align: middle;\n",
              "    }\n",
              "\n",
              "    .dataframe tbody tr th {\n",
              "        vertical-align: top;\n",
              "    }\n",
              "\n",
              "    .dataframe thead th {\n",
              "        text-align: right;\n",
              "    }\n",
              "</style>\n",
              "<table border=\"1\" class=\"dataframe\">\n",
              "  <thead>\n",
              "    <tr style=\"text-align: right;\">\n",
              "      <th></th>\n",
              "      <th>Region</th>\n",
              "      <th>2015</th>\n",
              "    </tr>\n",
              "  </thead>\n",
              "  <tbody>\n",
              "    <tr>\n",
              "      <th>0</th>\n",
              "      <td>East Asia &amp; Pacific</td>\n",
              "      <td>18661</td>\n",
              "    </tr>\n",
              "    <tr>\n",
              "      <th>1</th>\n",
              "      <td>Europe &amp; Central Asia</td>\n",
              "      <td>38640</td>\n",
              "    </tr>\n",
              "    <tr>\n",
              "      <th>2</th>\n",
              "      <td>Latin America &amp; Caribbean</td>\n",
              "      <td>22008</td>\n",
              "    </tr>\n",
              "    <tr>\n",
              "      <th>3</th>\n",
              "      <td>Middle East &amp; North Africa</td>\n",
              "      <td>14206</td>\n",
              "    </tr>\n",
              "    <tr>\n",
              "      <th>4</th>\n",
              "      <td>North America</td>\n",
              "      <td>1708</td>\n",
              "    </tr>\n",
              "    <tr>\n",
              "      <th>5</th>\n",
              "      <td>South Asia</td>\n",
              "      <td>4722</td>\n",
              "    </tr>\n",
              "    <tr>\n",
              "      <th>6</th>\n",
              "      <td>Sub-Saharan Africa</td>\n",
              "      <td>29181</td>\n",
              "    </tr>\n",
              "  </tbody>\n",
              "</table>\n",
              "</div>"
            ],
            "text/plain": [
              "                       Region   2015\n",
              "0         East Asia & Pacific  18661\n",
              "1       Europe & Central Asia  38640\n",
              "2   Latin America & Caribbean  22008\n",
              "3  Middle East & North Africa  14206\n",
              "4               North America   1708\n",
              "5                  South Asia   4722\n",
              "6          Sub-Saharan Africa  29181"
            ]
          },
          "metadata": {
            "tags": []
          },
          "execution_count": 134
        }
      ]
    },
    {
      "cell_type": "code",
      "metadata": {
        "colab": {
          "base_uri": "https://localhost:8080/",
          "height": 485
        },
        "id": "cM-ODduwmxsl",
        "outputId": "13e40c2b-f9e4-422b-9dbf-2f03b711b5c5"
      },
      "source": [
        "sns.set_theme()\n",
        "fig, ax = plt.subplots(figsize=(12,6))\n",
        "colors = sns.color_palette(\"muted\")\n",
        "ax = sns.barplot(x=\"Region\", y=\"2015\", data=gp1, palette=colors)\n",
        "ax.set(xlabel='Regions',ylabel='No. of Indicators that are populated')\n",
        "ax.set_title('Number of Indicators populated for Regions in 2015', fontsize = 16)\n",
        "plt.setp(ax.get_xticklabels(), rotation=30, horizontalalignment='right')\n",
        "plt.show()"
      ],
      "execution_count": 133,
      "outputs": [
        {
          "output_type": "display_data",
          "data": {
            "image/png": "[encoded data removed]",
            "text/plain": [
              "<Figure size 864x432 with 1 Axes>"
            ]
          },
          "metadata": {
            "tags": []
          }
        }
      ]
    },
    {
      "cell_type": "markdown",
      "metadata": {
        "id": "gs7zzzNfmxqb"
      },
      "source": [
        "### 1. GDP vs Literacy Rate - is there any correlation?"
      ]
    },
    {
      "cell_type": "code",
      "metadata": {
        "id": "J633Ot6733s8"
      },
      "source": [
        "list1 = ['GDP per capita, PPP (current international $)', 'Youth literacy rate, population 15-24 years, both sexes (%)', \n",
        "         'Adult literacy rate, population 15+ years, both sexes (%)', 'Literacy rate, population 25-64 years, both sexes (%)', \n",
        "         'Elderly literacy rate, population 65+ years, both sexes (%)'] "
      ],
      "execution_count": 216,
      "outputs": []
    },
    {
      "cell_type": "code",
      "metadata": {
        "id": "SVVPF7lN5G99"
      },
      "source": [
        "# gdp_df = df2[~df2['2015'].isna()][['Country Name', 'Indicator Name', '2015']]\n",
        "gdp_df = df2.loc[df2['Indicator Name'] == 'GDP per capita, PPP (current international $)'][['Country Name', '2015']]\n",
        "gdp_df = gdp_df[~gdp_df['2015'].isna()]\n",
        "gdp_df.rename(columns={'2015':'GDP_2015'}, inplace=True)"
      ],
      "execution_count": 263,
      "outputs": []
    },
    {
      "cell_type": "code",
      "metadata": {
        "id": "ihaDNW6u90Vb"
      },
      "source": [
        "filter1 = df2.loc[df2['Indicator Name'] == 'Literacy rate, population 25-64 years, both sexes (%)'][['Country Name', '2015']]\n",
        "filter1 = filter1[~filter1['2015'].isna()]\n",
        "filter1.rename(columns={'2015':'Literacy Rate: 25-64 years 2015'}, inplace=True)\n",
        "\n",
        "filter2 = df2.loc[df2['Indicator Name'] == 'Youth literacy rate, population 15-24 years, both sexes (%)'][['Country Name', '2015']]\n",
        "filter2 = filter2[~filter2['2015'].isna()]\n",
        "filter2.rename(columns={'2015':'Youth Literacy Rate: 15-24 years 2015'}, inplace=True)\n",
        "\n",
        "filter3 = df2.loc[df2['Indicator Name'] == 'Elderly literacy rate, population 65+ years, both sexes (%)'][['Country Name', '2015']]\n",
        "filter3 = filter3[~filter3['2015'].isna()]\n",
        "filter3.rename(columns={'2015':'Elderly Literacy Rate: 65+ years 2015'}, inplace=True)"
      ],
      "execution_count": 269,
      "outputs": []
    },
    {
      "cell_type": "code",
      "metadata": {
        "id": "jzMO5hcf-aps"
      },
      "source": [
        "obj1 = pd.merge(gdp_df, filter1, how='inner', on='Country Name')\n",
        "obj2 = pd.merge(gdp_df, filter2, how='inner', on='Country Name')\n",
        "obj3 = pd.merge(gdp_df, filter3, how='inner', on='Country Name')"
      ],
      "execution_count": 287,
      "outputs": []
    },
    {
      "cell_type": "code",
      "metadata": {
        "id": "v4nyfbCXOEjy"
      },
      "source": [
        ""
      ],
      "execution_count": 300,
      "outputs": []
    },
    {
      "cell_type": "code",
      "metadata": {
        "colab": {
          "base_uri": "https://localhost:8080/",
          "height": 437
        },
        "id": "fYAZ-KAOGlxi",
        "outputId": "bd730ca2-0e34-4e32-f517-28fef0572dff"
      },
      "source": [
        "plt.subplots(figsize=(20,6))\n",
        "\n",
        "plt.suptitle('Literacy Rate in 2015 vs GDP 2015')\n",
        "\n",
        "plt.subplot(1,3,2)\n",
        "plt.scatter('Literacy Rate: 25-64 years 2015', 'GDP_2015', data=obj1)\n",
        "plt.xlabel('Literacy Rate: 25-64 years')\n",
        "plt.ylabel('GDP')\n",
        "\n",
        "plt.subplot(1,3,1)\n",
        "plt.scatter(x='Youth Literacy Rate: 15-24 years 2015', y='GDP_2015', data=obj2)\n",
        "plt.xlabel('Youth Literacy Rate: 15-24 years')\n",
        "\n",
        "plt.subplot(1,3,3)\n",
        "plt.scatter(x='Elderly Literacy Rate: 65+ years 2015', y='GDP_2015', data=obj3)\n",
        "plt.xlabel('Elderly Literacy Rate: 65+ years 2015')\n",
        "\n",
        "plt.show()"
      ],
      "execution_count": 306,
      "outputs": [
        {
          "output_type": "display_data",
          "data": {
            "image/png": "[encoded data removed]",
            "text/plain": [
              "<Figure size 1440x432 with 3 Axes>"
            ]
          },
          "metadata": {
            "tags": []
          }
        }
      ]
    },
    {
      "cell_type": "markdown",
      "metadata": {
        "id": "nvCpqPFbG_bB"
      },
      "source": [
        "### 2. Comparing India with Pakistan, Nepal, Bhutan, China, Sri Lanka and Afghanistan in Gross Enrolment Ratio\n",
        "\n",
        "Gross Enrolement Ratio = Total enrollment in pre-primary education, regardless of age, expressed as a percentage of the total population of official pre-primary education age. GER can exceed 100% due to the inclusion of over-aged and under-aged students because of early or late school entrance and grade repetition."
      ]
    },
    {
      "cell_type": "code",
      "metadata": {
        "id": "KxIwl-z0SHaj"
      },
      "source": [
        "# filter countries\n",
        "ctr_df = df2.loc[df2['Country Code'].isin(['IND', 'NPL', 'PAK', 'CHN', 'BGD', 'AFG'])][['Country Name', 'Indicator Name', '2015']]\n",
        "\n",
        "# filter for Indicators\n",
        "list1 = ['Gross enrolment ratio, lower secondary, both sexes (%)', 'Gross enrolment ratio, primary, both sexes (%)', 'Gross enrolment ratio, secondary, both sexes (%)', \n",
        "         'Gross enrolment ratio, upper secondary, both sexes (%)']\n",
        "filter1 = ctr_df.loc[ctr_df['Indicator Name'].isin(list1)]"
      ],
      "execution_count": 320,
      "outputs": []
    },
    {
      "cell_type": "code",
      "metadata": {
        "colab": {
          "base_uri": "https://localhost:8080/",
          "height": 173
        },
        "id": "fGHEmDNCSHdK",
        "outputId": "1e6b156f-5078-4c88-f30c-3427d06c7a4d"
      },
      "source": [
        "filter2 = filter1.pivot(index='Indicator Name', columns='Country Name', values='2015').reset_index()\n",
        "filter2"
      ],
      "execution_count": 349,
      "outputs": [
        {
          "output_type": "execute_result",
          "data": {
            "text/html": [
              "<div>\n",
              "<style scoped>\n",
              "    .dataframe tbody tr th:only-of-type {\n",
              "        vertical-align: middle;\n",
              "    }\n",
              "\n",
              "    .dataframe tbody tr th {\n",
              "        vertical-align: top;\n",
              "    }\n",
              "\n",
              "    .dataframe thead th {\n",
              "        text-align: right;\n",
              "    }\n",
              "</style>\n",
              "<table border=\"1\" class=\"dataframe\">\n",
              "  <thead>\n",
              "    <tr style=\"text-align: right;\">\n",
              "      <th>Country Name</th>\n",
              "      <th>Indicator Name</th>\n",
              "      <th>Afghanistan</th>\n",
              "      <th>Bangladesh</th>\n",
              "      <th>China</th>\n",
              "      <th>India</th>\n",
              "      <th>Nepal</th>\n",
              "      <th>Pakistan</th>\n",
              "    </tr>\n",
              "  </thead>\n",
              "  <tbody>\n",
              "    <tr>\n",
              "      <th>0</th>\n",
              "      <td>Gross enrolment ratio, lower secondary, both sexes (%)</td>\n",
              "      <td>67.447617</td>\n",
              "      <td>83.449203</td>\n",
              "      <td>99.125870</td>\n",
              "      <td>87.525589</td>\n",
              "      <td>90.407013</td>\n",
              "      <td>56.638809</td>\n",
              "    </tr>\n",
              "    <tr>\n",
              "      <th>1</th>\n",
              "      <td>Gross enrolment ratio, primary, both sexes (%)</td>\n",
              "      <td>111.877083</td>\n",
              "      <td>120.433060</td>\n",
              "      <td>104.125130</td>\n",
              "      <td>108.600616</td>\n",
              "      <td>135.433502</td>\n",
              "      <td>92.709541</td>\n",
              "    </tr>\n",
              "    <tr>\n",
              "      <th>2</th>\n",
              "      <td>Gross enrolment ratio, secondary, both sexes (%)</td>\n",
              "      <td>55.644409</td>\n",
              "      <td>63.524529</td>\n",
              "      <td>94.299210</td>\n",
              "      <td>73.969200</td>\n",
              "      <td>67.169853</td>\n",
              "      <td>44.525871</td>\n",
              "    </tr>\n",
              "    <tr>\n",
              "      <th>3</th>\n",
              "      <td>Gross enrolment ratio, upper secondary, both sexes (%)</td>\n",
              "      <td>42.613129</td>\n",
              "      <td>48.433571</td>\n",
              "      <td>89.651901</td>\n",
              "      <td>63.592419</td>\n",
              "      <td>49.690262</td>\n",
              "      <td>35.446571</td>\n",
              "    </tr>\n",
              "  </tbody>\n",
              "</table>\n",
              "</div>"
            ],
            "text/plain": [
              "Country Name                                          Indicator Name  ...   Pakistan\n",
              "0             Gross enrolment ratio, lower secondary, both sexes (%)  ...  56.638809\n",
              "1                     Gross enrolment ratio, primary, both sexes (%)  ...  92.709541\n",
              "2                   Gross enrolment ratio, secondary, both sexes (%)  ...  44.525871\n",
              "3             Gross enrolment ratio, upper secondary, both sexes (%)  ...  35.446571\n",
              "\n",
              "[4 rows x 7 columns]"
            ]
          },
          "metadata": {
            "tags": []
          },
          "execution_count": 349
        }
      ]
    },
    {
      "cell_type": "code",
      "metadata": {
        "colab": {
          "base_uri": "https://localhost:8080/",
          "height": 204
        },
        "id": "_6BWCeRRbcBd",
        "outputId": "0dc23b35-4241-4dd7-f34c-4d2c55eb9efd"
      },
      "source": [
        "filter2['Levels'] = ['lower secondary', 'primary', 'secondary', 'upper secondary']\n",
        "filter2.set_index('Levels', inplace=True)\n",
        "filter2"
      ],
      "execution_count": 364,
      "outputs": [
        {
          "output_type": "execute_result",
          "data": {
            "text/html": [
              "<div>\n",
              "<style scoped>\n",
              "    .dataframe tbody tr th:only-of-type {\n",
              "        vertical-align: middle;\n",
              "    }\n",
              "\n",
              "    .dataframe tbody tr th {\n",
              "        vertical-align: top;\n",
              "    }\n",
              "\n",
              "    .dataframe thead th {\n",
              "        text-align: right;\n",
              "    }\n",
              "</style>\n",
              "<table border=\"1\" class=\"dataframe\">\n",
              "  <thead>\n",
              "    <tr style=\"text-align: right;\">\n",
              "      <th>Country Name</th>\n",
              "      <th>Indicator Name</th>\n",
              "      <th>Afghanistan</th>\n",
              "      <th>Bangladesh</th>\n",
              "      <th>China</th>\n",
              "      <th>India</th>\n",
              "      <th>Nepal</th>\n",
              "      <th>Pakistan</th>\n",
              "    </tr>\n",
              "    <tr>\n",
              "      <th>Levels</th>\n",
              "      <th></th>\n",
              "      <th></th>\n",
              "      <th></th>\n",
              "      <th></th>\n",
              "      <th></th>\n",
              "      <th></th>\n",
              "      <th></th>\n",
              "    </tr>\n",
              "  </thead>\n",
              "  <tbody>\n",
              "    <tr>\n",
              "      <th>lower secondary</th>\n",
              "      <td>Gross enrolment ratio, lower secondary, both sexes (%)</td>\n",
              "      <td>67.447617</td>\n",
              "      <td>83.449203</td>\n",
              "      <td>99.125870</td>\n",
              "      <td>87.525589</td>\n",
              "      <td>90.407013</td>\n",
              "      <td>56.638809</td>\n",
              "    </tr>\n",
              "    <tr>\n",
              "      <th>primary</th>\n",
              "      <td>Gross enrolment ratio, primary, both sexes (%)</td>\n",
              "      <td>111.877083</td>\n",
              "      <td>120.433060</td>\n",
              "      <td>104.125130</td>\n",
              "      <td>108.600616</td>\n",
              "      <td>135.433502</td>\n",
              "      <td>92.709541</td>\n",
              "    </tr>\n",
              "    <tr>\n",
              "      <th>secondary</th>\n",
              "      <td>Gross enrolment ratio, secondary, both sexes (%)</td>\n",
              "      <td>55.644409</td>\n",
              "      <td>63.524529</td>\n",
              "      <td>94.299210</td>\n",
              "      <td>73.969200</td>\n",
              "      <td>67.169853</td>\n",
              "      <td>44.525871</td>\n",
              "    </tr>\n",
              "    <tr>\n",
              "      <th>upper secondary</th>\n",
              "      <td>Gross enrolment ratio, upper secondary, both sexes (%)</td>\n",
              "      <td>42.613129</td>\n",
              "      <td>48.433571</td>\n",
              "      <td>89.651901</td>\n",
              "      <td>63.592419</td>\n",
              "      <td>49.690262</td>\n",
              "      <td>35.446571</td>\n",
              "    </tr>\n",
              "  </tbody>\n",
              "</table>\n",
              "</div>"
            ],
            "text/plain": [
              "Country Name                                             Indicator Name  ...   Pakistan\n",
              "Levels                                                                   ...           \n",
              "lower secondary  Gross enrolment ratio, lower secondary, both sexes (%)  ...  56.638809\n",
              "primary                  Gross enrolment ratio, primary, both sexes (%)  ...  92.709541\n",
              "secondary              Gross enrolment ratio, secondary, both sexes (%)  ...  44.525871\n",
              "upper secondary  Gross enrolment ratio, upper secondary, both sexes (%)  ...  35.446571\n",
              "\n",
              "[4 rows x 7 columns]"
            ]
          },
          "metadata": {
            "tags": []
          },
          "execution_count": 364
        }
      ]
    },
    {
      "cell_type": "code",
      "metadata": {
        "colab": {
          "base_uri": "https://localhost:8080/",
          "height": 631
        },
        "id": "PAX7gEPoSHgO",
        "outputId": "80260327-f3e8-4b26-f1bd-080815a1a1c0"
      },
      "source": [
        "a = filter2.drop(['Indicator Name'], axis=1)\n",
        "\n",
        "a.plot.bar(figsize = (15,10),fontsize = 14)\n",
        "\n",
        "plt.title('Gross Enrolment Ratio for both sexes in 2015')\n",
        "plt.ylabel('Gross Enrolment Ratio')\n",
        "plt.xlabel('Level')\n",
        "plt.xticks(rotation=0)\n",
        "\n",
        "plt.show()"
      ],
      "execution_count": 372,
      "outputs": [
        {
          "output_type": "display_data",
          "data": {
            "image/png": "[encoded data removed]",
            "text/plain": [
              "<Figure size 1080x720 with 1 Axes>"
            ]
          },
          "metadata": {
            "tags": []
          }
        }
      ]
    },
    {
      "cell_type": "code",
      "metadata": {
        "colab": {
          "base_uri": "https://localhost:8080/",
          "height": 173
        },
        "id": "nBwQ7gliSHih",
        "outputId": "0ce2f43c-e3f2-401e-ca8f-3753b41586c9"
      },
      "source": [
        "# filter countries\n",
        "ind_df = df2.loc[df2['Country Code'].isin(['IND'])][['Indicator Name', '2007', '2008', '2009', '2010', '2011', '2012', '2013', '2014', '2015']]\n",
        "\n",
        "# filter for Indicators\n",
        "list1 = ['Gross enrolment ratio, lower secondary, both sexes (%)', 'Gross enrolment ratio, primary, both sexes (%)', 'Gross enrolment ratio, secondary, both sexes (%)', 'Gross enrolment ratio, upper secondary, both sexes (%)']\n",
        "filter1 = ind_df.loc[ind_df['Indicator Name'].isin(list1)].reset_index(drop=True)\n",
        "filter1"
      ],
      "execution_count": 389,
      "outputs": [
        {
          "output_type": "execute_result",
          "data": {
            "text/html": [
              "<div>\n",
              "<style scoped>\n",
              "    .dataframe tbody tr th:only-of-type {\n",
              "        vertical-align: middle;\n",
              "    }\n",
              "\n",
              "    .dataframe tbody tr th {\n",
              "        vertical-align: top;\n",
              "    }\n",
              "\n",
              "    .dataframe thead th {\n",
              "        text-align: right;\n",
              "    }\n",
              "</style>\n",
              "<table border=\"1\" class=\"dataframe\">\n",
              "  <thead>\n",
              "    <tr style=\"text-align: right;\">\n",
              "      <th></th>\n",
              "      <th>Indicator Name</th>\n",
              "      <th>2007</th>\n",
              "      <th>2008</th>\n",
              "      <th>2009</th>\n",
              "      <th>2010</th>\n",
              "      <th>2011</th>\n",
              "      <th>2012</th>\n",
              "      <th>2013</th>\n",
              "      <th>2014</th>\n",
              "      <th>2015</th>\n",
              "    </tr>\n",
              "  </thead>\n",
              "  <tbody>\n",
              "    <tr>\n",
              "      <th>0</th>\n",
              "      <td>Gross enrolment ratio, lower secondary, both sexes (%)</td>\n",
              "      <td>76.902924</td>\n",
              "      <td>77.636368</td>\n",
              "      <td>75.309807</td>\n",
              "      <td>80.176369</td>\n",
              "      <td>83.252243</td>\n",
              "      <td>84.074944</td>\n",
              "      <td>85.202026</td>\n",
              "      <td>87.848244</td>\n",
              "      <td>87.525589</td>\n",
              "    </tr>\n",
              "    <tr>\n",
              "      <th>1</th>\n",
              "      <td>Gross enrolment ratio, primary, both sexes (%)</td>\n",
              "      <td>110.221443</td>\n",
              "      <td>110.863503</td>\n",
              "      <td>109.573029</td>\n",
              "      <td>109.183647</td>\n",
              "      <td>108.374718</td>\n",
              "      <td>109.757751</td>\n",
              "      <td>110.584648</td>\n",
              "      <td>107.921432</td>\n",
              "      <td>108.600616</td>\n",
              "    </tr>\n",
              "    <tr>\n",
              "      <th>2</th>\n",
              "      <td>Gross enrolment ratio, secondary, both sexes (%)</td>\n",
              "      <td>57.477200</td>\n",
              "      <td>60.555740</td>\n",
              "      <td>59.793930</td>\n",
              "      <td>63.290939</td>\n",
              "      <td>66.421677</td>\n",
              "      <td>69.164146</td>\n",
              "      <td>68.897209</td>\n",
              "      <td>74.275436</td>\n",
              "      <td>73.969200</td>\n",
              "    </tr>\n",
              "    <tr>\n",
              "      <th>3</th>\n",
              "      <td>Gross enrolment ratio, upper secondary, both sexes (%)</td>\n",
              "      <td>42.539169</td>\n",
              "      <td>47.395660</td>\n",
              "      <td>47.822170</td>\n",
              "      <td>50.259708</td>\n",
              "      <td>53.445419</td>\n",
              "      <td>57.683140</td>\n",
              "      <td>56.364342</td>\n",
              "      <td>63.862450</td>\n",
              "      <td>63.592419</td>\n",
              "    </tr>\n",
              "  </tbody>\n",
              "</table>\n",
              "</div>"
            ],
            "text/plain": [
              "                                           Indicator Name  ...        2015\n",
              "0  Gross enrolment ratio, lower secondary, both sexes (%)  ...   87.525589\n",
              "1          Gross enrolment ratio, primary, both sexes (%)  ...  108.600616\n",
              "2        Gross enrolment ratio, secondary, both sexes (%)  ...   73.969200\n",
              "3  Gross enrolment ratio, upper secondary, both sexes (%)  ...   63.592419\n",
              "\n",
              "[4 rows x 10 columns]"
            ]
          },
          "metadata": {
            "tags": []
          },
          "execution_count": 389
        }
      ]
    },
    {
      "cell_type": "code",
      "metadata": {
        "colab": {
          "base_uri": "https://localhost:8080/",
          "height": 322
        },
        "id": "LthT_gX8SHlH",
        "outputId": "347ff753-b203-4028-8cf8-8141f51198ed"
      },
      "source": [
        "rainfall = list()\n",
        "Years = [2007, 2008, 2009, 2010, 2011, 2012, 2013, 2014, 2015]\n",
        "lower_sec = list(filter1.iloc[0, 1:])\n",
        "primary = list(filter1.iloc[1, 1:])\n",
        "secondary = list(filter1.iloc[2, 1:])\n",
        "upper_Sec = list(filter1.iloc[3, 1:])\n",
        "\n",
        "\n",
        "plt.figure(figsize=(10, 5))\n",
        "\n",
        "plt.plot(Years, lower_sec, label='lower secondary')\n",
        "plt.plot(Years, primary, label='primary')\n",
        "plt.plot(Years, secondary, label='secondary')\n",
        "plt.plot(Years, upper_Sec, label='upper secondary')\n",
        "plt.legend(bbox_to_anchor=(1.01, 1), loc=2,  borderaxespad=1.)\n",
        "plt.show()"
      ],
      "execution_count": 403,
      "outputs": [
        {
          "output_type": "display_data",
          "data": {
            "image/png": "[encoded data removed]",
            "text/plain": [
              "<Figure size 720x360 with 1 Axes>"
            ]
          },
          "metadata": {
            "tags": []
          }
        }
      ]
    },
    {
      "cell_type": "markdown",
      "metadata": {
        "id": "03v_UxJqhx-9"
      },
      "source": [
        "### 3. Variation in performance of Females and Males in PISA and TIMSS across years - for PISA - from 2000 to 2015; for TIMSS take 1995 - 2015 - consider only participating countries; data not available for all countries"
      ]
    },
    {
      "cell_type": "code",
      "metadata": {
        "id": "CP3MNj_ehx7y"
      },
      "source": [
        ""
      ],
      "execution_count": null,
      "outputs": []
    },
    {
      "cell_type": "code",
      "metadata": {
        "id": "0bn8KsR6hx5T"
      },
      "source": [
        ""
      ],
      "execution_count": null,
      "outputs": []
    },
    {
      "cell_type": "code",
      "metadata": {
        "id": "CtuBzFighx2t"
      },
      "source": [
        ""
      ],
      "execution_count": null,
      "outputs": []
    }
  ]
}