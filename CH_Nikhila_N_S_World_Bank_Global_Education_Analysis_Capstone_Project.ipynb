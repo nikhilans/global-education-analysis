{
  "nbformat": 4,
  "nbformat_minor": 0,
  "metadata": {
    "kernelspec": {
      "display_name": "Python 3",
      "language": "python",
      "name": "python3"
    },
    "language_info": {
      "codemirror_mode": {
        "name": "ipython",
        "version": 3
      },
      "file_extension": ".py",
      "mimetype": "text/x-python",
      "name": "python",
      "nbconvert_exporter": "python",
      "pygments_lexer": "ipython3",
      "version": "3.6.6"
    },
    "colab": {
      "name": "CH - Nikhila N S - World Bank Global Education Analysis - Capstone Project.ipynb",
      "provenance": [],
      "include_colab_link": true
    }
  },
  "cells": [
    {
      "cell_type": "markdown",
      "metadata": {
        "id": "view-in-github",
        "colab_type": "text"
      },
      "source": [
        "<a href=\"https://colab.research.google.com/github/nikhilans/global-education-analysis/blob/main/CH_Nikhila_N_S_World_Bank_Global_Education_Analysis_Capstone_Project.ipynb\" target=\"_parent\"><img src=\"https://colab.research.google.com/assets/colab-badge.svg\" alt=\"Open In Colab\"/></a>"
      ]
    },
    {
      "cell_type": "markdown",
      "metadata": {
        "id": "Y06xIdG26kRF"
      },
      "source": [
        "## <b> The World Bank EdStats All Indicator Query holds over 4,000 internationally comparable indicators that describe education access, progression, completion, literacy, teachers, population, and expenditures.The indicators cover the education cycle from pre-primary to vocational and tertiary education and also holds learning outcome data from international and regional learning assessments (e.g. PISA, TIMSS, PIRLS), equity data from household surveys, and projection/attainment data. </b>\n",
        "\n",
        "## <b> Explore and analyze the data to identify variation of indicators across the globe, which countries are more alike and different. Feel free to add more extensive analyses and details.</b>"
      ]
    },
    {
      "cell_type": "code",
      "metadata": {
        "id": "dByMsuzT8Tnw",
        "colab": {
          "base_uri": "https://localhost:8080/"
        },
        "outputId": "e5ffd9aa-f939-4ef9-ba9e-b94cf2691b9d"
      },
      "source": [
        "from google.colab import drive\n",
        "drive.mount('/content/drive')"
      ],
      "execution_count": null,
      "outputs": [
        {
          "output_type": "stream",
          "text": [
            "Mounted at /content/drive\n"
          ],
          "name": "stdout"
        }
      ]
    },
    {
      "cell_type": "code",
      "metadata": {
        "id": "Fufb8zMlY-Dz"
      },
      "source": [
        "path = '/content/drive/MyDrive/AlmaBetter - Cohort Himalaya/Module 1: Python for Data Science/World Bank Global Education Analysis - Nikhila N S/data/'"
      ],
      "execution_count": null,
      "outputs": []
    },
    {
      "cell_type": "code",
      "metadata": {
        "id": "VLZm1Xj_gBd5"
      },
      "source": [
        "# Import packages\n",
        "\n",
        "import pandas as pd\n",
        "import numpy as np"
      ],
      "execution_count": null,
      "outputs": []
    },
    {
      "cell_type": "code",
      "metadata": {
        "id": "S1KDRbK6Y9_B"
      },
      "source": [
        "df_country = pd.read_csv(path+ \"EdStatsCountry.csv\")\n",
        "df_data = pd.read_csv(path + \"EdStatsData.csv\")\n",
        "df_series = pd.read_csv(path + \"EdStatsSeries.csv\")\n",
        "df_footnote = pd.read_csv(path + \"EdStatsFootNote.csv\")\n",
        "df_countryseries = pd.read_csv(path + \"EdStatsCountry-Series.csv\")"
      ],
      "execution_count": null,
      "outputs": []
    },
    {
      "cell_type": "code",
      "metadata": {
        "id": "DvMkXdWexKpZ"
      },
      "source": [
        ""
      ],
      "execution_count": null,
      "outputs": []
    },
    {
      "cell_type": "markdown",
      "metadata": {
        "id": "_E6dKq_pxNdI"
      },
      "source": [
        "Let's try to understand what each dataset contains"
      ]
    },
    {
      "cell_type": "code",
      "metadata": {
        "id": "e_dfgKRzY98p",
        "colab": {
          "base_uri": "https://localhost:8080/",
          "height": 420
        },
        "outputId": "222ee8b6-eea1-4401-828b-79169602ae14"
      },
      "source": [
        "df_country.head(2)"
      ],
      "execution_count": null,
      "outputs": [
        {
          "output_type": "execute_result",
          "data": {
            "text/html": [
              "<div>\n",
              "<style scoped>\n",
              "    .dataframe tbody tr th:only-of-type {\n",
              "        vertical-align: middle;\n",
              "    }\n",
              "\n",
              "    .dataframe tbody tr th {\n",
              "        vertical-align: top;\n",
              "    }\n",
              "\n",
              "    .dataframe thead th {\n",
              "        text-align: right;\n",
              "    }\n",
              "</style>\n",
              "<table border=\"1\" class=\"dataframe\">\n",
              "  <thead>\n",
              "    <tr style=\"text-align: right;\">\n",
              "      <th></th>\n",
              "      <th>Country Code</th>\n",
              "      <th>Short Name</th>\n",
              "      <th>Table Name</th>\n",
              "      <th>Long Name</th>\n",
              "      <th>2-alpha code</th>\n",
              "      <th>Currency Unit</th>\n",
              "      <th>Special Notes</th>\n",
              "      <th>Region</th>\n",
              "      <th>Income Group</th>\n",
              "      <th>WB-2 code</th>\n",
              "      <th>National accounts base year</th>\n",
              "      <th>National accounts reference year</th>\n",
              "      <th>SNA price valuation</th>\n",
              "      <th>Lending category</th>\n",
              "      <th>Other groups</th>\n",
              "      <th>System of National Accounts</th>\n",
              "      <th>Alternative conversion factor</th>\n",
              "      <th>PPP survey year</th>\n",
              "      <th>Balance of Payments Manual in use</th>\n",
              "      <th>External debt Reporting status</th>\n",
              "      <th>System of trade</th>\n",
              "      <th>Government Accounting concept</th>\n",
              "      <th>IMF data dissemination standard</th>\n",
              "      <th>Latest population census</th>\n",
              "      <th>Latest household survey</th>\n",
              "      <th>Source of most recent Income and expenditure data</th>\n",
              "      <th>Vital registration complete</th>\n",
              "      <th>Latest agricultural census</th>\n",
              "      <th>Latest industrial data</th>\n",
              "      <th>Latest trade data</th>\n",
              "      <th>Latest water withdrawal data</th>\n",
              "      <th>Unnamed: 31</th>\n",
              "    </tr>\n",
              "  </thead>\n",
              "  <tbody>\n",
              "    <tr>\n",
              "      <th>0</th>\n",
              "      <td>ABW</td>\n",
              "      <td>Aruba</td>\n",
              "      <td>Aruba</td>\n",
              "      <td>Aruba</td>\n",
              "      <td>AW</td>\n",
              "      <td>Aruban florin</td>\n",
              "      <td>SNA data for 2000-2011 are updated from offici...</td>\n",
              "      <td>Latin America &amp; Caribbean</td>\n",
              "      <td>High income: nonOECD</td>\n",
              "      <td>AW</td>\n",
              "      <td>2000</td>\n",
              "      <td>NaN</td>\n",
              "      <td>Value added at basic prices (VAB)</td>\n",
              "      <td>NaN</td>\n",
              "      <td>NaN</td>\n",
              "      <td>Country uses the 1993 System of National Accou...</td>\n",
              "      <td>NaN</td>\n",
              "      <td>NaN</td>\n",
              "      <td>IMF Balance of Payments Manual, 6th edition.</td>\n",
              "      <td>NaN</td>\n",
              "      <td>Special trade system</td>\n",
              "      <td>NaN</td>\n",
              "      <td>NaN</td>\n",
              "      <td>2010</td>\n",
              "      <td>NaN</td>\n",
              "      <td>NaN</td>\n",
              "      <td>Yes</td>\n",
              "      <td>NaN</td>\n",
              "      <td>NaN</td>\n",
              "      <td>2012.0</td>\n",
              "      <td>NaN</td>\n",
              "      <td>NaN</td>\n",
              "    </tr>\n",
              "    <tr>\n",
              "      <th>1</th>\n",
              "      <td>AFG</td>\n",
              "      <td>Afghanistan</td>\n",
              "      <td>Afghanistan</td>\n",
              "      <td>Islamic State of Afghanistan</td>\n",
              "      <td>AF</td>\n",
              "      <td>Afghan afghani</td>\n",
              "      <td>Fiscal year end: March 20; reporting period fo...</td>\n",
              "      <td>South Asia</td>\n",
              "      <td>Low income</td>\n",
              "      <td>AF</td>\n",
              "      <td>2002/03</td>\n",
              "      <td>NaN</td>\n",
              "      <td>Value added at basic prices (VAB)</td>\n",
              "      <td>IDA</td>\n",
              "      <td>HIPC</td>\n",
              "      <td>Country uses the 1993 System of National Accou...</td>\n",
              "      <td>NaN</td>\n",
              "      <td>NaN</td>\n",
              "      <td>NaN</td>\n",
              "      <td>Actual</td>\n",
              "      <td>General trade system</td>\n",
              "      <td>Consolidated central government</td>\n",
              "      <td>General Data Dissemination System (GDDS)</td>\n",
              "      <td>1979</td>\n",
              "      <td>Multiple Indicator Cluster Survey (MICS), 2010/11</td>\n",
              "      <td>Integrated household survey (IHS), 2008</td>\n",
              "      <td>NaN</td>\n",
              "      <td>2013/14</td>\n",
              "      <td>NaN</td>\n",
              "      <td>2012.0</td>\n",
              "      <td>2000</td>\n",
              "      <td>NaN</td>\n",
              "    </tr>\n",
              "  </tbody>\n",
              "</table>\n",
              "</div>"
            ],
            "text/plain": [
              "  Country Code   Short Name  ... Latest water withdrawal data Unnamed: 31\n",
              "0          ABW        Aruba  ...                          NaN         NaN\n",
              "1          AFG  Afghanistan  ...                         2000         NaN\n",
              "\n",
              "[2 rows x 32 columns]"
            ]
          },
          "metadata": {
            "tags": []
          },
          "execution_count": 10
        }
      ]
    },
    {
      "cell_type": "code",
      "metadata": {
        "id": "xITG0-G7Y96R",
        "colab": {
          "base_uri": "https://localhost:8080/"
        },
        "outputId": "18929126-4dcf-4ba8-ee14-9875f8ec69cf"
      },
      "source": [
        "df_country.info()"
      ],
      "execution_count": null,
      "outputs": [
        {
          "output_type": "stream",
          "text": [
            "<class 'pandas.core.frame.DataFrame'>\n",
            "RangeIndex: 241 entries, 0 to 240\n",
            "Data columns (total 32 columns):\n",
            " #   Column                                             Non-Null Count  Dtype  \n",
            "---  ------                                             --------------  -----  \n",
            " 0   Country Code                                       241 non-null    object \n",
            " 1   Short Name                                         241 non-null    object \n",
            " 2   Table Name                                         241 non-null    object \n",
            " 3   Long Name                                          241 non-null    object \n",
            " 4   2-alpha code                                       238 non-null    object \n",
            " 5   Currency Unit                                      215 non-null    object \n",
            " 6   Special Notes                                      145 non-null    object \n",
            " 7   Region                                             214 non-null    object \n",
            " 8   Income Group                                       214 non-null    object \n",
            " 9   WB-2 code                                          240 non-null    object \n",
            " 10  National accounts base year                        205 non-null    object \n",
            " 11  National accounts reference year                   32 non-null     float64\n",
            " 12  SNA price valuation                                197 non-null    object \n",
            " 13  Lending category                                   144 non-null    object \n",
            " 14  Other groups                                       58 non-null     object \n",
            " 15  System of National Accounts                        215 non-null    object \n",
            " 16  Alternative conversion factor                      47 non-null     object \n",
            " 17  PPP survey year                                    145 non-null    object \n",
            " 18  Balance of Payments Manual in use                  181 non-null    object \n",
            " 19  External debt Reporting status                     124 non-null    object \n",
            " 20  System of trade                                    200 non-null    object \n",
            " 21  Government Accounting concept                      161 non-null    object \n",
            " 22  IMF data dissemination standard                    181 non-null    object \n",
            " 23  Latest population census                           213 non-null    object \n",
            " 24  Latest household survey                            141 non-null    object \n",
            " 25  Source of most recent Income and expenditure data  160 non-null    object \n",
            " 26  Vital registration complete                        111 non-null    object \n",
            " 27  Latest agricultural census                         142 non-null    object \n",
            " 28  Latest industrial data                             107 non-null    float64\n",
            " 29  Latest trade data                                  185 non-null    float64\n",
            " 30  Latest water withdrawal data                       179 non-null    object \n",
            " 31  Unnamed: 31                                        0 non-null      float64\n",
            "dtypes: float64(4), object(28)\n",
            "memory usage: 60.4+ KB\n"
          ],
          "name": "stdout"
        }
      ]
    },
    {
      "cell_type": "code",
      "metadata": {
        "id": "AQ8X2COooxjC",
        "colab": {
          "base_uri": "https://localhost:8080/"
        },
        "outputId": "414c76dc-687e-4f6d-c2c5-1f1780a2af87"
      },
      "source": [
        "df_country['Country Code'].nunique()"
      ],
      "execution_count": null,
      "outputs": [
        {
          "output_type": "execute_result",
          "data": {
            "text/plain": [
              "241"
            ]
          },
          "metadata": {
            "tags": []
          },
          "execution_count": 17
        }
      ]
    },
    {
      "cell_type": "code",
      "metadata": {
        "id": "VPea_29mY93p",
        "colab": {
          "base_uri": "https://localhost:8080/",
          "height": 318
        },
        "outputId": "49c7ba02-4d72-40e9-915a-e2bc99bdc246"
      },
      "source": [
        "df_data.head(2)"
      ],
      "execution_count": null,
      "outputs": [
        {
          "output_type": "execute_result",
          "data": {
            "text/html": [
              "<div>\n",
              "<style scoped>\n",
              "    .dataframe tbody tr th:only-of-type {\n",
              "        vertical-align: middle;\n",
              "    }\n",
              "\n",
              "    .dataframe tbody tr th {\n",
              "        vertical-align: top;\n",
              "    }\n",
              "\n",
              "    .dataframe thead th {\n",
              "        text-align: right;\n",
              "    }\n",
              "</style>\n",
              "<table border=\"1\" class=\"dataframe\">\n",
              "  <thead>\n",
              "    <tr style=\"text-align: right;\">\n",
              "      <th></th>\n",
              "      <th>Country Name</th>\n",
              "      <th>Country Code</th>\n",
              "      <th>Indicator Name</th>\n",
              "      <th>Indicator Code</th>\n",
              "      <th>1970</th>\n",
              "      <th>1971</th>\n",
              "      <th>1972</th>\n",
              "      <th>1973</th>\n",
              "      <th>1974</th>\n",
              "      <th>1975</th>\n",
              "      <th>1976</th>\n",
              "      <th>1977</th>\n",
              "      <th>1978</th>\n",
              "      <th>1979</th>\n",
              "      <th>1980</th>\n",
              "      <th>1981</th>\n",
              "      <th>1982</th>\n",
              "      <th>1983</th>\n",
              "      <th>1984</th>\n",
              "      <th>1985</th>\n",
              "      <th>1986</th>\n",
              "      <th>1987</th>\n",
              "      <th>1988</th>\n",
              "      <th>1989</th>\n",
              "      <th>1990</th>\n",
              "      <th>1991</th>\n",
              "      <th>1992</th>\n",
              "      <th>1993</th>\n",
              "      <th>1994</th>\n",
              "      <th>1995</th>\n",
              "      <th>1996</th>\n",
              "      <th>1997</th>\n",
              "      <th>1998</th>\n",
              "      <th>1999</th>\n",
              "      <th>2000</th>\n",
              "      <th>2001</th>\n",
              "      <th>2002</th>\n",
              "      <th>2003</th>\n",
              "      <th>2004</th>\n",
              "      <th>2005</th>\n",
              "      <th>2006</th>\n",
              "      <th>2007</th>\n",
              "      <th>2008</th>\n",
              "      <th>2009</th>\n",
              "      <th>2010</th>\n",
              "      <th>2011</th>\n",
              "      <th>2012</th>\n",
              "      <th>2013</th>\n",
              "      <th>2014</th>\n",
              "      <th>2015</th>\n",
              "      <th>2016</th>\n",
              "      <th>2017</th>\n",
              "      <th>2020</th>\n",
              "      <th>2025</th>\n",
              "      <th>2030</th>\n",
              "      <th>2035</th>\n",
              "      <th>2040</th>\n",
              "      <th>2045</th>\n",
              "      <th>2050</th>\n",
              "      <th>2055</th>\n",
              "      <th>2060</th>\n",
              "      <th>2065</th>\n",
              "      <th>2070</th>\n",
              "      <th>2075</th>\n",
              "      <th>2080</th>\n",
              "      <th>2085</th>\n",
              "      <th>2090</th>\n",
              "      <th>2095</th>\n",
              "      <th>2100</th>\n",
              "      <th>Unnamed: 69</th>\n",
              "    </tr>\n",
              "  </thead>\n",
              "  <tbody>\n",
              "    <tr>\n",
              "      <th>0</th>\n",
              "      <td>Arab World</td>\n",
              "      <td>ARB</td>\n",
              "      <td>Adjusted net enrolment rate, lower secondary, ...</td>\n",
              "      <td>UIS.NERA.2</td>\n",
              "      <td>NaN</td>\n",
              "      <td>NaN</td>\n",
              "      <td>NaN</td>\n",
              "      <td>NaN</td>\n",
              "      <td>NaN</td>\n",
              "      <td>NaN</td>\n",
              "      <td>NaN</td>\n",
              "      <td>NaN</td>\n",
              "      <td>NaN</td>\n",
              "      <td>NaN</td>\n",
              "      <td>NaN</td>\n",
              "      <td>NaN</td>\n",
              "      <td>NaN</td>\n",
              "      <td>NaN</td>\n",
              "      <td>NaN</td>\n",
              "      <td>NaN</td>\n",
              "      <td>NaN</td>\n",
              "      <td>NaN</td>\n",
              "      <td>NaN</td>\n",
              "      <td>NaN</td>\n",
              "      <td>NaN</td>\n",
              "      <td>NaN</td>\n",
              "      <td>NaN</td>\n",
              "      <td>NaN</td>\n",
              "      <td>NaN</td>\n",
              "      <td>NaN</td>\n",
              "      <td>NaN</td>\n",
              "      <td>NaN</td>\n",
              "      <td>NaN</td>\n",
              "      <td>NaN</td>\n",
              "      <td>NaN</td>\n",
              "      <td>NaN</td>\n",
              "      <td>NaN</td>\n",
              "      <td>NaN</td>\n",
              "      <td>NaN</td>\n",
              "      <td>NaN</td>\n",
              "      <td>NaN</td>\n",
              "      <td>NaN</td>\n",
              "      <td>NaN</td>\n",
              "      <td>NaN</td>\n",
              "      <td>NaN</td>\n",
              "      <td>NaN</td>\n",
              "      <td>NaN</td>\n",
              "      <td>NaN</td>\n",
              "      <td>NaN</td>\n",
              "      <td>NaN</td>\n",
              "      <td>NaN</td>\n",
              "      <td>NaN</td>\n",
              "      <td>NaN</td>\n",
              "      <td>NaN</td>\n",
              "      <td>NaN</td>\n",
              "      <td>NaN</td>\n",
              "      <td>NaN</td>\n",
              "      <td>NaN</td>\n",
              "      <td>NaN</td>\n",
              "      <td>NaN</td>\n",
              "      <td>NaN</td>\n",
              "      <td>NaN</td>\n",
              "      <td>NaN</td>\n",
              "      <td>NaN</td>\n",
              "      <td>NaN</td>\n",
              "      <td>NaN</td>\n",
              "      <td>NaN</td>\n",
              "      <td>NaN</td>\n",
              "      <td>NaN</td>\n",
              "      <td>NaN</td>\n",
              "    </tr>\n",
              "    <tr>\n",
              "      <th>1</th>\n",
              "      <td>Arab World</td>\n",
              "      <td>ARB</td>\n",
              "      <td>Adjusted net enrolment rate, lower secondary, ...</td>\n",
              "      <td>UIS.NERA.2.F</td>\n",
              "      <td>NaN</td>\n",
              "      <td>NaN</td>\n",
              "      <td>NaN</td>\n",
              "      <td>NaN</td>\n",
              "      <td>NaN</td>\n",
              "      <td>NaN</td>\n",
              "      <td>NaN</td>\n",
              "      <td>NaN</td>\n",
              "      <td>NaN</td>\n",
              "      <td>NaN</td>\n",
              "      <td>NaN</td>\n",
              "      <td>NaN</td>\n",
              "      <td>NaN</td>\n",
              "      <td>NaN</td>\n",
              "      <td>NaN</td>\n",
              "      <td>NaN</td>\n",
              "      <td>NaN</td>\n",
              "      <td>NaN</td>\n",
              "      <td>NaN</td>\n",
              "      <td>NaN</td>\n",
              "      <td>NaN</td>\n",
              "      <td>NaN</td>\n",
              "      <td>NaN</td>\n",
              "      <td>NaN</td>\n",
              "      <td>NaN</td>\n",
              "      <td>NaN</td>\n",
              "      <td>NaN</td>\n",
              "      <td>NaN</td>\n",
              "      <td>NaN</td>\n",
              "      <td>NaN</td>\n",
              "      <td>NaN</td>\n",
              "      <td>NaN</td>\n",
              "      <td>NaN</td>\n",
              "      <td>NaN</td>\n",
              "      <td>NaN</td>\n",
              "      <td>NaN</td>\n",
              "      <td>NaN</td>\n",
              "      <td>NaN</td>\n",
              "      <td>NaN</td>\n",
              "      <td>NaN</td>\n",
              "      <td>NaN</td>\n",
              "      <td>NaN</td>\n",
              "      <td>NaN</td>\n",
              "      <td>NaN</td>\n",
              "      <td>NaN</td>\n",
              "      <td>NaN</td>\n",
              "      <td>NaN</td>\n",
              "      <td>NaN</td>\n",
              "      <td>NaN</td>\n",
              "      <td>NaN</td>\n",
              "      <td>NaN</td>\n",
              "      <td>NaN</td>\n",
              "      <td>NaN</td>\n",
              "      <td>NaN</td>\n",
              "      <td>NaN</td>\n",
              "      <td>NaN</td>\n",
              "      <td>NaN</td>\n",
              "      <td>NaN</td>\n",
              "      <td>NaN</td>\n",
              "      <td>NaN</td>\n",
              "      <td>NaN</td>\n",
              "      <td>NaN</td>\n",
              "      <td>NaN</td>\n",
              "      <td>NaN</td>\n",
              "      <td>NaN</td>\n",
              "      <td>NaN</td>\n",
              "    </tr>\n",
              "  </tbody>\n",
              "</table>\n",
              "</div>"
            ],
            "text/plain": [
              "  Country Name Country Code  ... 2100 Unnamed: 69\n",
              "0   Arab World          ARB  ...  NaN         NaN\n",
              "1   Arab World          ARB  ...  NaN         NaN\n",
              "\n",
              "[2 rows x 70 columns]"
            ]
          },
          "metadata": {
            "tags": []
          },
          "execution_count": 13
        }
      ]
    },
    {
      "cell_type": "code",
      "metadata": {
        "id": "FoY4RrkVY91B",
        "colab": {
          "base_uri": "https://localhost:8080/"
        },
        "outputId": "eb83e757-7410-40c6-b790-d8c60a7dd261"
      },
      "source": [
        "df_data.info()"
      ],
      "execution_count": null,
      "outputs": [
        {
          "output_type": "stream",
          "text": [
            "<class 'pandas.core.frame.DataFrame'>\n",
            "RangeIndex: 886930 entries, 0 to 886929\n",
            "Data columns (total 70 columns):\n",
            " #   Column          Non-Null Count   Dtype  \n",
            "---  ------          --------------   -----  \n",
            " 0   Country Name    886930 non-null  object \n",
            " 1   Country Code    886930 non-null  object \n",
            " 2   Indicator Name  886930 non-null  object \n",
            " 3   Indicator Code  886930 non-null  object \n",
            " 4   1970            72288 non-null   float64\n",
            " 5   1971            35537 non-null   float64\n",
            " 6   1972            35619 non-null   float64\n",
            " 7   1973            35545 non-null   float64\n",
            " 8   1974            35730 non-null   float64\n",
            " 9   1975            87306 non-null   float64\n",
            " 10  1976            37483 non-null   float64\n",
            " 11  1977            37574 non-null   float64\n",
            " 12  1978            37576 non-null   float64\n",
            " 13  1979            36809 non-null   float64\n",
            " 14  1980            89122 non-null   float64\n",
            " 15  1981            38777 non-null   float64\n",
            " 16  1982            37511 non-null   float64\n",
            " 17  1983            38460 non-null   float64\n",
            " 18  1984            38606 non-null   float64\n",
            " 19  1985            90296 non-null   float64\n",
            " 20  1986            39372 non-null   float64\n",
            " 21  1987            38641 non-null   float64\n",
            " 22  1988            38552 non-null   float64\n",
            " 23  1989            37540 non-null   float64\n",
            " 24  1990            124405 non-null  float64\n",
            " 25  1991            74437 non-null   float64\n",
            " 26  1992            75543 non-null   float64\n",
            " 27  1993            75793 non-null   float64\n",
            " 28  1994            77462 non-null   float64\n",
            " 29  1995            131361 non-null  float64\n",
            " 30  1996            76807 non-null   float64\n",
            " 31  1997            73453 non-null   float64\n",
            " 32  1998            84914 non-null   float64\n",
            " 33  1999            118839 non-null  float64\n",
            " 34  2000            176676 non-null  float64\n",
            " 35  2001            123509 non-null  float64\n",
            " 36  2002            124205 non-null  float64\n",
            " 37  2003            130363 non-null  float64\n",
            " 38  2004            128814 non-null  float64\n",
            " 39  2005            184108 non-null  float64\n",
            " 40  2006            140312 non-null  float64\n",
            " 41  2007            137272 non-null  float64\n",
            " 42  2008            134387 non-null  float64\n",
            " 43  2009            142108 non-null  float64\n",
            " 44  2010            242442 non-null  float64\n",
            " 45  2011            146012 non-null  float64\n",
            " 46  2012            147264 non-null  float64\n",
            " 47  2013            137509 non-null  float64\n",
            " 48  2014            113789 non-null  float64\n",
            " 49  2015            131058 non-null  float64\n",
            " 50  2016            16460 non-null   float64\n",
            " 51  2017            143 non-null     float64\n",
            " 52  2020            51436 non-null   float64\n",
            " 53  2025            51436 non-null   float64\n",
            " 54  2030            51436 non-null   float64\n",
            " 55  2035            51436 non-null   float64\n",
            " 56  2040            51436 non-null   float64\n",
            " 57  2045            51436 non-null   float64\n",
            " 58  2050            51436 non-null   float64\n",
            " 59  2055            51436 non-null   float64\n",
            " 60  2060            51436 non-null   float64\n",
            " 61  2065            51436 non-null   float64\n",
            " 62  2070            51436 non-null   float64\n",
            " 63  2075            51436 non-null   float64\n",
            " 64  2080            51436 non-null   float64\n",
            " 65  2085            51436 non-null   float64\n",
            " 66  2090            51436 non-null   float64\n",
            " 67  2095            51436 non-null   float64\n",
            " 68  2100            51436 non-null   float64\n",
            " 69  Unnamed: 69     0 non-null       float64\n",
            "dtypes: float64(66), object(4)\n",
            "memory usage: 473.7+ MB\n"
          ],
          "name": "stdout"
        }
      ]
    },
    {
      "cell_type": "code",
      "metadata": {
        "id": "YGA31uAczpyX",
        "colab": {
          "base_uri": "https://localhost:8080/"
        },
        "outputId": "89e6b43c-58a9-4654-9dcc-978de4738eb7"
      },
      "source": [
        "df_data['Indicator Name'].nunique()"
      ],
      "execution_count": null,
      "outputs": [
        {
          "output_type": "execute_result",
          "data": {
            "text/plain": [
              "3665"
            ]
          },
          "metadata": {
            "tags": []
          },
          "execution_count": 51
        }
      ]
    },
    {
      "cell_type": "code",
      "metadata": {
        "id": "9cqLO1IzY9ya"
      },
      "source": [
        "df_data_subset1 = df_data[~df_data['1970'].isna()].iloc[:, 0:51]"
      ],
      "execution_count": null,
      "outputs": []
    },
    {
      "cell_type": "code",
      "metadata": {
        "id": "mN8EjCycux0w",
        "colab": {
          "base_uri": "https://localhost:8080/"
        },
        "outputId": "645807b7-0a4e-42e6-84d0-508dc49df653"
      },
      "source": [
        "df_data_subset1['Indicator Name'].nunique()"
      ],
      "execution_count": null,
      "outputs": [
        {
          "output_type": "execute_result",
          "data": {
            "text/plain": [
              "831"
            ]
          },
          "metadata": {
            "tags": []
          },
          "execution_count": 52
        }
      ]
    },
    {
      "cell_type": "code",
      "metadata": {
        "id": "v5WzelDDuXM4",
        "colab": {
          "base_uri": "https://localhost:8080/"
        },
        "outputId": "cd03d989-995f-4514-b471-dfe172b8368c"
      },
      "source": [
        "df_data.columns"
      ],
      "execution_count": null,
      "outputs": [
        {
          "output_type": "execute_result",
          "data": {
            "text/plain": [
              "Index(['Country Name', 'Country Code', 'Indicator Name', 'Indicator Code',\n",
              "       '1970', '1971', '1972', '1973', '1974', '1975', '1976', '1977', '1978',\n",
              "       '1979', '1980', '1981', '1982', '1983', '1984', '1985', '1986', '1987',\n",
              "       '1988', '1989', '1990', '1991', '1992', '1993', '1994', '1995', '1996',\n",
              "       '1997', '1998', '1999', '2000', '2001', '2002', '2003', '2004', '2005',\n",
              "       '2006', '2007', '2008', '2009', '2010', '2011', '2012', '2013', '2014',\n",
              "       '2015', '2016', '2017', '2020', '2025', '2030', '2035', '2040', '2045',\n",
              "       '2050', '2055', '2060', '2065', '2070', '2075', '2080', '2085', '2090',\n",
              "       '2095', '2100', 'Unnamed: 69'],\n",
              "      dtype='object')"
            ]
          },
          "metadata": {
            "tags": []
          },
          "execution_count": 27
        }
      ]
    },
    {
      "cell_type": "code",
      "metadata": {
        "id": "icD4NtZBsAZr"
      },
      "source": [
        "df_data_subset2 = df_data[~df_data['2020'].isna()][['Country Name', 'Country Code', 'Indicator Name', 'Indicator Code', '2020', '2025', '2030', '2035', '2040', '2045',\n",
        "       '2050', '2055', '2060', '2065', '2070', '2075', '2080', '2085', '2090',\n",
        "       '2095', '2100']]"
      ],
      "execution_count": null,
      "outputs": []
    },
    {
      "cell_type": "code",
      "metadata": {
        "id": "jvdSrfgesAcN",
        "colab": {
          "base_uri": "https://localhost:8080/"
        },
        "outputId": "d760c51b-0482-4c93-a40c-74928a7c8499"
      },
      "source": [
        "df_data_subset2['Indicator Name'].unique()"
      ],
      "execution_count": null,
      "outputs": [
        {
          "output_type": "execute_result",
          "data": {
            "text/plain": [
              "array(['Wittgenstein Projection: Mean years of schooling. Age 0-19. Female',\n",
              "       'Wittgenstein Projection: Mean years of schooling. Age 0-19. Male',\n",
              "       'Wittgenstein Projection: Mean years of schooling. Age 0-19. Total',\n",
              "       'Wittgenstein Projection: Mean years of schooling. Age 15+. Female',\n",
              "       'Wittgenstein Projection: Mean Years of Schooling. Age 15+. Gender Gap',\n",
              "       'Wittgenstein Projection: Mean years of schooling. Age 15+. Male',\n",
              "       'Wittgenstein Projection: Mean years of schooling. Age 15+. Total',\n",
              "       'Wittgenstein Projection: Mean years of schooling. Age 15-19. Female',\n",
              "       'Wittgenstein Projection: Mean years of schooling. Age 15-19. Male',\n",
              "       'Wittgenstein Projection: Mean years of schooling. Age 15-19. Total',\n",
              "       'Wittgenstein Projection: Mean years of schooling. Age 20-24. Female',\n",
              "       'Wittgenstein Projection: Mean years of schooling. Age 20-24. Male',\n",
              "       'Wittgenstein Projection: Mean years of schooling. Age 20-24. Total',\n",
              "       'Wittgenstein Projection: Mean years of schooling. Age 20-39. Female',\n",
              "       'Wittgenstein Projection: Mean years of schooling. Age 20-39. Male',\n",
              "       'Wittgenstein Projection: Mean years of schooling. Age 20-39. Total',\n",
              "       'Wittgenstein Projection: Mean years of schooling. Age 20-64. Female',\n",
              "       'Wittgenstein Projection: Mean years of schooling. Age 20-64. Male',\n",
              "       'Wittgenstein Projection: Mean years of schooling. Age 20-64. Total',\n",
              "       'Wittgenstein Projection: Mean years of schooling. Age 25+. Female',\n",
              "       'Wittgenstein Projection: Mean Years of Schooling. Age 25+. Gender Gap',\n",
              "       'Wittgenstein Projection: Mean years of schooling. Age 25+. Male',\n",
              "       'Wittgenstein Projection: Mean years of schooling. Age 25+. Total',\n",
              "       'Wittgenstein Projection: Mean years of schooling. Age 25-29. Female',\n",
              "       'Wittgenstein Projection: Mean years of schooling. Age 25-29. Male',\n",
              "       'Wittgenstein Projection: Mean years of schooling. Age 25-29. Total',\n",
              "       'Wittgenstein Projection: Mean years of schooling. Age 40-64. Female',\n",
              "       'Wittgenstein Projection: Mean years of schooling. Age 40-64. Male',\n",
              "       'Wittgenstein Projection: Mean years of schooling. Age 40-64. Total',\n",
              "       'Wittgenstein Projection: Mean years of schooling. Age 60+. Female',\n",
              "       'Wittgenstein Projection: Mean years of schooling. Age 60+. Male',\n",
              "       'Wittgenstein Projection: Mean years of schooling. Age 60+. Total',\n",
              "       'Wittgenstein Projection: Mean years of schooling. Age 65+. Female',\n",
              "       'Wittgenstein Projection: Mean years of schooling. Age 65+. Male',\n",
              "       'Wittgenstein Projection: Mean years of schooling. Age 65+. Total',\n",
              "       'Wittgenstein Projection: Mean years of schooling. Age 80+. Female',\n",
              "       'Wittgenstein Projection: Mean years of schooling. Age 80+. Male',\n",
              "       'Wittgenstein Projection: Mean years of schooling. Age 80+. Total',\n",
              "       'Wittgenstein Projection: Percentage of the population age 15+ by highest level of educational attainment. Incomplete Primary. Female',\n",
              "       'Wittgenstein Projection: Percentage of the population age 15+ by highest level of educational attainment. Incomplete Primary. Male',\n",
              "       'Wittgenstein Projection: Percentage of the population age 15+ by highest level of educational attainment. Incomplete Primary. Total',\n",
              "       'Wittgenstein Projection: Percentage of the population age 15+ by highest level of educational attainment. Lower Secondary. Female',\n",
              "       'Wittgenstein Projection: Percentage of the population age 15+ by highest level of educational attainment. Lower Secondary. Male',\n",
              "       'Wittgenstein Projection: Percentage of the population age 15+ by highest level of educational attainment. Lower Secondary. Total',\n",
              "       'Wittgenstein Projection: Percentage of the population age 15+ by highest level of educational attainment. No Education. Female',\n",
              "       'Wittgenstein Projection: Percentage of the population age 15+ by highest level of educational attainment. No Education. Male',\n",
              "       'Wittgenstein Projection: Percentage of the population age 15+ by highest level of educational attainment. No Education. Total',\n",
              "       'Wittgenstein Projection: Percentage of the population age 15+ by highest level of educational attainment. Post Secondary. Female',\n",
              "       'Wittgenstein Projection: Percentage of the population age 15+ by highest level of educational attainment. Post Secondary. Male',\n",
              "       'Wittgenstein Projection: Percentage of the population age 15+ by highest level of educational attainment. Post Secondary. Total',\n",
              "       'Wittgenstein Projection: Percentage of the population age 15+ by highest level of educational attainment. Primary. Female',\n",
              "       'Wittgenstein Projection: Percentage of the population age 15+ by highest level of educational attainment. Primary. Male',\n",
              "       'Wittgenstein Projection: Percentage of the population age 15+ by highest level of educational attainment. Primary. Total',\n",
              "       'Wittgenstein Projection: Percentage of the population age 15+ by highest level of educational attainment. Upper Secondary. Female',\n",
              "       'Wittgenstein Projection: Percentage of the population age 15+ by highest level of educational attainment. Upper Secondary. Male',\n",
              "       'Wittgenstein Projection: Percentage of the population age 15+ by highest level of educational attainment. Upper Secondary. Total',\n",
              "       'Wittgenstein Projection: Percentage of the population age 15-19 by highest level of educational attainment. Incomplete Primary. Female',\n",
              "       'Wittgenstein Projection: Percentage of the population age 15-19 by highest level of educational attainment. Incomplete Primary. Male',\n",
              "       'Wittgenstein Projection: Percentage of the population age 15-19 by highest level of educational attainment. Incomplete Primary. Total',\n",
              "       'Wittgenstein Projection: Percentage of the population age 15-19 by highest level of educational attainment. Lower Secondary. Female',\n",
              "       'Wittgenstein Projection: Percentage of the population age 15-19 by highest level of educational attainment. Lower Secondary. Male',\n",
              "       'Wittgenstein Projection: Percentage of the population age 15-19 by highest level of educational attainment. Lower Secondary. Total',\n",
              "       'Wittgenstein Projection: Percentage of the population age 15-19 by highest level of educational attainment. No Education. Female',\n",
              "       'Wittgenstein Projection: Percentage of the population age 15-19 by highest level of educational attainment. No Education. Male',\n",
              "       'Wittgenstein Projection: Percentage of the population age 15-19 by highest level of educational attainment. No Education. Total',\n",
              "       'Wittgenstein Projection: Percentage of the population age 15-19 by highest level of educational attainment. Post Secondary. Female',\n",
              "       'Wittgenstein Projection: Percentage of the population age 15-19 by highest level of educational attainment. Post Secondary. Male',\n",
              "       'Wittgenstein Projection: Percentage of the population age 15-19 by highest level of educational attainment. Post Secondary. Total',\n",
              "       'Wittgenstein Projection: Percentage of the population age 15-19 by highest level of educational attainment. Primary. Female',\n",
              "       'Wittgenstein Projection: Percentage of the population age 15-19 by highest level of educational attainment. Primary. Male',\n",
              "       'Wittgenstein Projection: Percentage of the population age 15-19 by highest level of educational attainment. Primary. Total',\n",
              "       'Wittgenstein Projection: Percentage of the population age 15-19 by highest level of educational attainment. Upper Secondary. Female',\n",
              "       'Wittgenstein Projection: Percentage of the population age 15-19 by highest level of educational attainment. Upper Secondary. Male',\n",
              "       'Wittgenstein Projection: Percentage of the population age 15-19 by highest level of educational attainment. Upper Secondary. Total',\n",
              "       'Wittgenstein Projection: Percentage of the population age 20-24 by highest level of educational attainment. Incomplete Primary. Female',\n",
              "       'Wittgenstein Projection: Percentage of the population age 20-24 by highest level of educational attainment. Incomplete Primary. Male',\n",
              "       'Wittgenstein Projection: Percentage of the population age 20-24 by highest level of educational attainment. Incomplete Primary. Total',\n",
              "       'Wittgenstein Projection: Percentage of the population age 20-24 by highest level of educational attainment. Lower Secondary. Female',\n",
              "       'Wittgenstein Projection: Percentage of the population age 20-24 by highest level of educational attainment. Lower Secondary. Male',\n",
              "       'Wittgenstein Projection: Percentage of the population age 20-24 by highest level of educational attainment. Lower Secondary. Total',\n",
              "       'Wittgenstein Projection: Percentage of the population age 20-24 by highest level of educational attainment. No Education. Female',\n",
              "       'Wittgenstein Projection: Percentage of the population age 20-24 by highest level of educational attainment. No Education. Male',\n",
              "       'Wittgenstein Projection: Percentage of the population age 20-24 by highest level of educational attainment. No Education. Total',\n",
              "       'Wittgenstein Projection: Percentage of the population age 20-24 by highest level of educational attainment. Post Secondary. Female',\n",
              "       'Wittgenstein Projection: Percentage of the population age 20-24 by highest level of educational attainment. Post Secondary. Male',\n",
              "       'Wittgenstein Projection: Percentage of the population age 20-24 by highest level of educational attainment. Post Secondary. Total',\n",
              "       'Wittgenstein Projection: Percentage of the population age 20-24 by highest level of educational attainment. Primary. Female',\n",
              "       'Wittgenstein Projection: Percentage of the population age 20-24 by highest level of educational attainment. Primary. Male',\n",
              "       'Wittgenstein Projection: Percentage of the population age 20-24 by highest level of educational attainment. Primary. Total',\n",
              "       'Wittgenstein Projection: Percentage of the population age 20-24 by highest level of educational attainment. Upper Secondary. Female',\n",
              "       'Wittgenstein Projection: Percentage of the population age 20-24 by highest level of educational attainment. Upper Secondary. Male',\n",
              "       'Wittgenstein Projection: Percentage of the population age 20-24 by highest level of educational attainment. Upper Secondary. Total',\n",
              "       'Wittgenstein Projection: Percentage of the population age 20-39 by highest level of educational attainment. Incomplete Primary. Female',\n",
              "       'Wittgenstein Projection: Percentage of the population age 20-39 by highest level of educational attainment. Incomplete Primary. Male',\n",
              "       'Wittgenstein Projection: Percentage of the population age 20-39 by highest level of educational attainment. Incomplete Primary. Total',\n",
              "       'Wittgenstein Projection: Percentage of the population age 20-39 by highest level of educational attainment. Lower Secondary. Female',\n",
              "       'Wittgenstein Projection: Percentage of the population age 20-39 by highest level of educational attainment. Lower Secondary. Male',\n",
              "       'Wittgenstein Projection: Percentage of the population age 20-39 by highest level of educational attainment. Lower Secondary. Total',\n",
              "       'Wittgenstein Projection: Percentage of the population age 20-39 by highest level of educational attainment. No Education. Female',\n",
              "       'Wittgenstein Projection: Percentage of the population age 20-39 by highest level of educational attainment. No Education. Male',\n",
              "       'Wittgenstein Projection: Percentage of the population age 20-39 by highest level of educational attainment. No Education. Total',\n",
              "       'Wittgenstein Projection: Percentage of the population age 20-39 by highest level of educational attainment. Post Secondary. Female',\n",
              "       'Wittgenstein Projection: Percentage of the population age 20-39 by highest level of educational attainment. Post Secondary. Male',\n",
              "       'Wittgenstein Projection: Percentage of the population age 20-39 by highest level of educational attainment. Post Secondary. Total',\n",
              "       'Wittgenstein Projection: Percentage of the population age 20-39 by highest level of educational attainment. Primary. Female',\n",
              "       'Wittgenstein Projection: Percentage of the population age 20-39 by highest level of educational attainment. Primary. Male',\n",
              "       'Wittgenstein Projection: Percentage of the population age 20-39 by highest level of educational attainment. Primary. Total',\n",
              "       'Wittgenstein Projection: Percentage of the population age 20-39 by highest level of educational attainment. Upper Secondary. Female',\n",
              "       'Wittgenstein Projection: Percentage of the population age 20-39 by highest level of educational attainment. Upper Secondary. Male',\n",
              "       'Wittgenstein Projection: Percentage of the population age 20-39 by highest level of educational attainment. Upper Secondary. Total',\n",
              "       'Wittgenstein Projection: Percentage of the population age 20-64 by highest level of educational attainment. Incomplete Primary. Female',\n",
              "       'Wittgenstein Projection: Percentage of the population age 20-64 by highest level of educational attainment. Incomplete Primary. Male',\n",
              "       'Wittgenstein Projection: Percentage of the population age 20-64 by highest level of educational attainment. Incomplete Primary. Total',\n",
              "       'Wittgenstein Projection: Percentage of the population age 20-64 by highest level of educational attainment. Lower Secondary. Female',\n",
              "       'Wittgenstein Projection: Percentage of the population age 20-64 by highest level of educational attainment. Lower Secondary. Male',\n",
              "       'Wittgenstein Projection: Percentage of the population age 20-64 by highest level of educational attainment. Lower Secondary. Total',\n",
              "       'Wittgenstein Projection: Percentage of the population age 20-64 by highest level of educational attainment. No Education. Female',\n",
              "       'Wittgenstein Projection: Percentage of the population age 20-64 by highest level of educational attainment. No Education. Male',\n",
              "       'Wittgenstein Projection: Percentage of the population age 20-64 by highest level of educational attainment. No Education. Total',\n",
              "       'Wittgenstein Projection: Percentage of the population age 20-64 by highest level of educational attainment. Post Secondary. Female',\n",
              "       'Wittgenstein Projection: Percentage of the population age 20-64 by highest level of educational attainment. Post Secondary. Male',\n",
              "       'Wittgenstein Projection: Percentage of the population age 20-64 by highest level of educational attainment. Post Secondary. Total',\n",
              "       'Wittgenstein Projection: Percentage of the population age 20-64 by highest level of educational attainment. Primary. Female',\n",
              "       'Wittgenstein Projection: Percentage of the population age 20-64 by highest level of educational attainment. Primary. Male',\n",
              "       'Wittgenstein Projection: Percentage of the population age 20-64 by highest level of educational attainment. Primary. Total',\n",
              "       'Wittgenstein Projection: Percentage of the population age 20-64 by highest level of educational attainment. Upper Secondary. Female',\n",
              "       'Wittgenstein Projection: Percentage of the population age 20-64 by highest level of educational attainment. Upper Secondary. Male',\n",
              "       'Wittgenstein Projection: Percentage of the population age 20-64 by highest level of educational attainment. Upper Secondary. Total',\n",
              "       'Wittgenstein Projection: Percentage of the population age 25+ by highest level of educational attainment. Incomplete Primary. Female',\n",
              "       'Wittgenstein Projection: Percentage of the population age 25+ by highest level of educational attainment. Incomplete Primary. Male',\n",
              "       'Wittgenstein Projection: Percentage of the population age 25+ by highest level of educational attainment. Incomplete Primary. Total',\n",
              "       'Wittgenstein Projection: Percentage of the population age 25+ by highest level of educational attainment. Lower Secondary. Female',\n",
              "       'Wittgenstein Projection: Percentage of the population age 25+ by highest level of educational attainment. Lower Secondary. Male',\n",
              "       'Wittgenstein Projection: Percentage of the population age 25+ by highest level of educational attainment. Lower Secondary. Total',\n",
              "       'Wittgenstein Projection: Percentage of the population age 25+ by highest level of educational attainment. No Education. Female',\n",
              "       'Wittgenstein Projection: Percentage of the population age 25+ by highest level of educational attainment. No Education. Male',\n",
              "       'Wittgenstein Projection: Percentage of the population age 25+ by highest level of educational attainment. No Education. Total',\n",
              "       'Wittgenstein Projection: Percentage of the population age 25+ by highest level of educational attainment. Post Secondary. Female',\n",
              "       'Wittgenstein Projection: Percentage of the population age 25+ by highest level of educational attainment. Post Secondary. Male',\n",
              "       'Wittgenstein Projection: Percentage of the population age 25+ by highest level of educational attainment. Post Secondary. Total',\n",
              "       'Wittgenstein Projection: Percentage of the population age 25+ by highest level of educational attainment. Primary. Female',\n",
              "       'Wittgenstein Projection: Percentage of the population age 25+ by highest level of educational attainment. Primary. Male',\n",
              "       'Wittgenstein Projection: Percentage of the population age 25+ by highest level of educational attainment. Primary. Total',\n",
              "       'Wittgenstein Projection: Percentage of the population age 25+ by highest level of educational attainment. Upper Secondary. Female',\n",
              "       'Wittgenstein Projection: Percentage of the population age 25+ by highest level of educational attainment. Upper Secondary. Male',\n",
              "       'Wittgenstein Projection: Percentage of the population age 25+ by highest level of educational attainment. Upper Secondary. Total',\n",
              "       'Wittgenstein Projection: Percentage of the population age 25-29 by highest level of educational attainment. Incomplete Primary. Female',\n",
              "       'Wittgenstein Projection: Percentage of the population age 25-29 by highest level of educational attainment. Incomplete Primary. Male',\n",
              "       'Wittgenstein Projection: Percentage of the population age 25-29 by highest level of educational attainment. Incomplete Primary. Total',\n",
              "       'Wittgenstein Projection: Percentage of the population age 25-29 by highest level of educational attainment. Lower Secondary. Female',\n",
              "       'Wittgenstein Projection: Percentage of the population age 25-29 by highest level of educational attainment. Lower Secondary. Male',\n",
              "       'Wittgenstein Projection: Percentage of the population age 25-29 by highest level of educational attainment. Lower Secondary. Total',\n",
              "       'Wittgenstein Projection: Percentage of the population age 25-29 by highest level of educational attainment. No Education. Female',\n",
              "       'Wittgenstein Projection: Percentage of the population age 25-29 by highest level of educational attainment. No Education. Male',\n",
              "       'Wittgenstein Projection: Percentage of the population age 25-29 by highest level of educational attainment. No Education. Total',\n",
              "       'Wittgenstein Projection: Percentage of the population age 25-29 by highest level of educational attainment. Post Secondary. Female',\n",
              "       'Wittgenstein Projection: Percentage of the population age 25-29 by highest level of educational attainment. Post Secondary. Male',\n",
              "       'Wittgenstein Projection: Percentage of the population age 25-29 by highest level of educational attainment. Post Secondary. Total',\n",
              "       'Wittgenstein Projection: Percentage of the population age 25-29 by highest level of educational attainment. Primary. Female',\n",
              "       'Wittgenstein Projection: Percentage of the population age 25-29 by highest level of educational attainment. Primary. Male',\n",
              "       'Wittgenstein Projection: Percentage of the population age 25-29 by highest level of educational attainment. Primary. Total',\n",
              "       'Wittgenstein Projection: Percentage of the population age 25-29 by highest level of educational attainment. Upper Secondary. Female',\n",
              "       'Wittgenstein Projection: Percentage of the population age 25-29 by highest level of educational attainment. Upper Secondary. Male',\n",
              "       'Wittgenstein Projection: Percentage of the population age 25-29 by highest level of educational attainment. Upper Secondary. Total',\n",
              "       'Wittgenstein Projection: Percentage of the population age 40-64 by highest level of educational attainment. Incomplete Primary. Female',\n",
              "       'Wittgenstein Projection: Percentage of the population age 40-64 by highest level of educational attainment. Incomplete Primary. Male',\n",
              "       'Wittgenstein Projection: Percentage of the population age 40-64 by highest level of educational attainment. Incomplete Primary. Total',\n",
              "       'Wittgenstein Projection: Percentage of the population age 40-64 by highest level of educational attainment. Lower Secondary. Female',\n",
              "       'Wittgenstein Projection: Percentage of the population age 40-64 by highest level of educational attainment. Lower Secondary. Male',\n",
              "       'Wittgenstein Projection: Percentage of the population age 40-64 by highest level of educational attainment. Lower Secondary. Total',\n",
              "       'Wittgenstein Projection: Percentage of the population age 40-64 by highest level of educational attainment. No Education. Female',\n",
              "       'Wittgenstein Projection: Percentage of the population age 40-64 by highest level of educational attainment. No Education. Male',\n",
              "       'Wittgenstein Projection: Percentage of the population age 40-64 by highest level of educational attainment. No Education. Total',\n",
              "       'Wittgenstein Projection: Percentage of the population age 40-64 by highest level of educational attainment. Post Secondary. Female',\n",
              "       'Wittgenstein Projection: Percentage of the population age 40-64 by highest level of educational attainment. Post Secondary. Male',\n",
              "       'Wittgenstein Projection: Percentage of the population age 40-64 by highest level of educational attainment. Post Secondary. Total',\n",
              "       'Wittgenstein Projection: Percentage of the population age 40-64 by highest level of educational attainment. Primary. Female',\n",
              "       'Wittgenstein Projection: Percentage of the population age 40-64 by highest level of educational attainment. Primary. Male',\n",
              "       'Wittgenstein Projection: Percentage of the population age 40-64 by highest level of educational attainment. Primary. Total',\n",
              "       'Wittgenstein Projection: Percentage of the population age 40-64 by highest level of educational attainment. Upper Secondary. Female',\n",
              "       'Wittgenstein Projection: Percentage of the population age 40-64 by highest level of educational attainment. Upper Secondary. Male',\n",
              "       'Wittgenstein Projection: Percentage of the population age 40-64 by highest level of educational attainment. Upper Secondary. Total',\n",
              "       'Wittgenstein Projection: Percentage of the population age 60+ by highest level of educational attainment. Incomplete Primary. Female',\n",
              "       'Wittgenstein Projection: Percentage of the population age 60+ by highest level of educational attainment. Incomplete Primary. Male',\n",
              "       'Wittgenstein Projection: Percentage of the population age 60+ by highest level of educational attainment. Incomplete Primary. Total',\n",
              "       'Wittgenstein Projection: Percentage of the population age 60+ by highest level of educational attainment. Lower Secondary. Female',\n",
              "       'Wittgenstein Projection: Percentage of the population age 60+ by highest level of educational attainment. Lower Secondary. Male',\n",
              "       'Wittgenstein Projection: Percentage of the population age 60+ by highest level of educational attainment. Lower Secondary. Total',\n",
              "       'Wittgenstein Projection: Percentage of the population age 60+ by highest level of educational attainment. No Education. Female',\n",
              "       'Wittgenstein Projection: Percentage of the population age 60+ by highest level of educational attainment. No Education. Male',\n",
              "       'Wittgenstein Projection: Percentage of the population age 60+ by highest level of educational attainment. No Education. Total',\n",
              "       'Wittgenstein Projection: Percentage of the population age 60+ by highest level of educational attainment. Post Secondary. Female',\n",
              "       'Wittgenstein Projection: Percentage of the population age 60+ by highest level of educational attainment. Post Secondary. Male',\n",
              "       'Wittgenstein Projection: Percentage of the population age 60+ by highest level of educational attainment. Post Secondary. Total',\n",
              "       'Wittgenstein Projection: Percentage of the population age 60+ by highest level of educational attainment. Primary. Female',\n",
              "       'Wittgenstein Projection: Percentage of the population age 60+ by highest level of educational attainment. Primary. Male',\n",
              "       'Wittgenstein Projection: Percentage of the population age 60+ by highest level of educational attainment. Primary. Total',\n",
              "       'Wittgenstein Projection: Percentage of the population age 60+ by highest level of educational attainment. Upper Secondary. Female',\n",
              "       'Wittgenstein Projection: Percentage of the population age 60+ by highest level of educational attainment. Upper Secondary. Male',\n",
              "       'Wittgenstein Projection: Percentage of the population age 60+ by highest level of educational attainment. Upper Secondary. Total',\n",
              "       'Wittgenstein Projection: Percentage of the population age 80+ by highest level of educational attainment. Incomplete Primary. Female',\n",
              "       'Wittgenstein Projection: Percentage of the population age 80+ by highest level of educational attainment. Incomplete Primary. Male',\n",
              "       'Wittgenstein Projection: Percentage of the population age 80+ by highest level of educational attainment. Incomplete Primary. Total',\n",
              "       'Wittgenstein Projection: Percentage of the population age 80+ by highest level of educational attainment. Lower Secondary. Female',\n",
              "       'Wittgenstein Projection: Percentage of the population age 80+ by highest level of educational attainment. Lower Secondary. Male',\n",
              "       'Wittgenstein Projection: Percentage of the population age 80+ by highest level of educational attainment. Lower Secondary. Total',\n",
              "       'Wittgenstein Projection: Percentage of the population age 80+ by highest level of educational attainment. No Education. Female',\n",
              "       'Wittgenstein Projection: Percentage of the population age 80+ by highest level of educational attainment. No Education. Male',\n",
              "       'Wittgenstein Projection: Percentage of the population age 80+ by highest level of educational attainment. No Education. Total',\n",
              "       'Wittgenstein Projection: Percentage of the population age 80+ by highest level of educational attainment. Post Secondary. Female',\n",
              "       'Wittgenstein Projection: Percentage of the population age 80+ by highest level of educational attainment. Post Secondary. Male',\n",
              "       'Wittgenstein Projection: Percentage of the population age 80+ by highest level of educational attainment. Post Secondary. Total',\n",
              "       'Wittgenstein Projection: Percentage of the population age 80+ by highest level of educational attainment. Primary. Female',\n",
              "       'Wittgenstein Projection: Percentage of the population age 80+ by highest level of educational attainment. Primary. Male',\n",
              "       'Wittgenstein Projection: Percentage of the population age 80+ by highest level of educational attainment. Primary. Total',\n",
              "       'Wittgenstein Projection: Percentage of the population age 80+ by highest level of educational attainment. Upper Secondary. Female',\n",
              "       'Wittgenstein Projection: Percentage of the population age 80+ by highest level of educational attainment. Upper Secondary. Male',\n",
              "       'Wittgenstein Projection: Percentage of the population age 80+ by highest level of educational attainment. Upper Secondary. Total',\n",
              "       'Wittgenstein Projection: Percentage of the total population by highest level of educational attainment. Incomplete Primary. Female',\n",
              "       'Wittgenstein Projection: Percentage of the total population by highest level of educational attainment. Incomplete Primary. Male',\n",
              "       'Wittgenstein Projection: Percentage of the total population by highest level of educational attainment. Incomplete Primary. Total',\n",
              "       'Wittgenstein Projection: Percentage of the total population by highest level of educational attainment. Lower Secondary. Female',\n",
              "       'Wittgenstein Projection: Percentage of the total population by highest level of educational attainment. Lower Secondary. Male',\n",
              "       'Wittgenstein Projection: Percentage of the total population by highest level of educational attainment. Lower Secondary. Total',\n",
              "       'Wittgenstein Projection: Percentage of the total population by highest level of educational attainment. No Education. Female',\n",
              "       'Wittgenstein Projection: Percentage of the total population by highest level of educational attainment. No Education. Male',\n",
              "       'Wittgenstein Projection: Percentage of the total population by highest level of educational attainment. No Education. Total',\n",
              "       'Wittgenstein Projection: Percentage of the total population by highest level of educational attainment. Post Secondary. Female',\n",
              "       'Wittgenstein Projection: Percentage of the total population by highest level of educational attainment. Post Secondary. Male',\n",
              "       'Wittgenstein Projection: Percentage of the total population by highest level of educational attainment. Post Secondary. Total',\n",
              "       'Wittgenstein Projection: Percentage of the total population by highest level of educational attainment. Primary. Female',\n",
              "       'Wittgenstein Projection: Percentage of the total population by highest level of educational attainment. Primary. Male',\n",
              "       'Wittgenstein Projection: Percentage of the total population by highest level of educational attainment. Primary. Total',\n",
              "       'Wittgenstein Projection: Percentage of the total population by highest level of educational attainment. Upper Secondary. Female',\n",
              "       'Wittgenstein Projection: Percentage of the total population by highest level of educational attainment. Upper Secondary. Male',\n",
              "       'Wittgenstein Projection: Percentage of the total population by highest level of educational attainment. Upper Secondary. Total',\n",
              "       'Wittgenstein Projection: Population age 15-19 in thousands by highest level of educational attainment. Incomplete Primary. Female',\n",
              "       'Wittgenstein Projection: Population age 15-19 in thousands by highest level of educational attainment. Incomplete Primary. Male',\n",
              "       'Wittgenstein Projection: Population age 15-19 in thousands by highest level of educational attainment. Incomplete Primary. Total',\n",
              "       'Wittgenstein Projection: Population age 15-19 in thousands by highest level of educational attainment. Lower Secondary. Female',\n",
              "       'Wittgenstein Projection: Population age 15-19 in thousands by highest level of educational attainment. Lower Secondary. Male',\n",
              "       'Wittgenstein Projection: Population age 15-19 in thousands by highest level of educational attainment. Lower Secondary. Total',\n",
              "       'Wittgenstein Projection: Population age 15-19 in thousands by highest level of educational attainment. No Education. Female',\n",
              "       'Wittgenstein Projection: Population age 15-19 in thousands by highest level of educational attainment. No Education. Male',\n",
              "       'Wittgenstein Projection: Population age 15-19 in thousands by highest level of educational attainment. No Education. Total',\n",
              "       'Wittgenstein Projection: Population age 15-19 in thousands by highest level of educational attainment. Post Secondary. Female',\n",
              "       'Wittgenstein Projection: Population age 15-19 in thousands by highest level of educational attainment. Post Secondary. Male',\n",
              "       'Wittgenstein Projection: Population age 15-19 in thousands by highest level of educational attainment. Post Secondary. Total',\n",
              "       'Wittgenstein Projection: Population age 15-19 in thousands by highest level of educational attainment. Primary. Female',\n",
              "       'Wittgenstein Projection: Population age 15-19 in thousands by highest level of educational attainment. Primary. Male',\n",
              "       'Wittgenstein Projection: Population age 15-19 in thousands by highest level of educational attainment. Primary. Total',\n",
              "       'Wittgenstein Projection: Population age 15-19 in thousands by highest level of educational attainment. Upper Secondary. Female',\n",
              "       'Wittgenstein Projection: Population age 15-19 in thousands by highest level of educational attainment. Upper Secondary. Male',\n",
              "       'Wittgenstein Projection: Population age 15-19 in thousands by highest level of educational attainment. Upper Secondary. Total',\n",
              "       'Wittgenstein Projection: Population age 20-24 in thousands by highest level of educational attainment. Incomplete Primary. Female',\n",
              "       'Wittgenstein Projection: Population age 20-24 in thousands by highest level of educational attainment. Incomplete Primary. Male',\n",
              "       'Wittgenstein Projection: Population age 20-24 in thousands by highest level of educational attainment. Incomplete Primary. Total',\n",
              "       'Wittgenstein Projection: Population age 20-24 in thousands by highest level of educational attainment. Lower Secondary. Female',\n",
              "       'Wittgenstein Projection: Population age 20-24 in thousands by highest level of educational attainment. Lower Secondary. Male',\n",
              "       'Wittgenstein Projection: Population age 20-24 in thousands by highest level of educational attainment. Lower Secondary. Total',\n",
              "       'Wittgenstein Projection: Population age 20-24 in thousands by highest level of educational attainment. No Education. Female',\n",
              "       'Wittgenstein Projection: Population age 20-24 in thousands by highest level of educational attainment. No Education. Male',\n",
              "       'Wittgenstein Projection: Population age 20-24 in thousands by highest level of educational attainment. No Education. Total',\n",
              "       'Wittgenstein Projection: Population age 20-24 in thousands by highest level of educational attainment. Post Secondary. Female',\n",
              "       'Wittgenstein Projection: Population age 20-24 in thousands by highest level of educational attainment. Post Secondary. Male',\n",
              "       'Wittgenstein Projection: Population age 20-24 in thousands by highest level of educational attainment. Post Secondary. Total',\n",
              "       'Wittgenstein Projection: Population age 20-24 in thousands by highest level of educational attainment. Primary. Female',\n",
              "       'Wittgenstein Projection: Population age 20-24 in thousands by highest level of educational attainment. Primary. Male',\n",
              "       'Wittgenstein Projection: Population age 20-24 in thousands by highest level of educational attainment. Primary. Total',\n",
              "       'Wittgenstein Projection: Population age 20-24 in thousands by highest level of educational attainment. Upper Secondary. Female',\n",
              "       'Wittgenstein Projection: Population age 20-24 in thousands by highest level of educational attainment. Upper Secondary. Male',\n",
              "       'Wittgenstein Projection: Population age 20-24 in thousands by highest level of educational attainment. Upper Secondary. Total',\n",
              "       'Wittgenstein Projection: Population age 25-29 in thousands by highest level of educational attainment. Incomplete Primary. Female',\n",
              "       'Wittgenstein Projection: Population age 25-29 in thousands by highest level of educational attainment. Incomplete Primary. Male',\n",
              "       'Wittgenstein Projection: Population age 25-29 in thousands by highest level of educational attainment. Incomplete Primary. Total',\n",
              "       'Wittgenstein Projection: Population age 25-29 in thousands by highest level of educational attainment. Lower Secondary. Female',\n",
              "       'Wittgenstein Projection: Population age 25-29 in thousands by highest level of educational attainment. Lower Secondary. Male',\n",
              "       'Wittgenstein Projection: Population age 25-29 in thousands by highest level of educational attainment. Lower Secondary. Total',\n",
              "       'Wittgenstein Projection: Population age 25-29 in thousands by highest level of educational attainment. No Education. Female',\n",
              "       'Wittgenstein Projection: Population age 25-29 in thousands by highest level of educational attainment. No Education. Male',\n",
              "       'Wittgenstein Projection: Population age 25-29 in thousands by highest level of educational attainment. No Education. Total',\n",
              "       'Wittgenstein Projection: Population age 25-29 in thousands by highest level of educational attainment. Post Secondary. Female',\n",
              "       'Wittgenstein Projection: Population age 25-29 in thousands by highest level of educational attainment. Post Secondary. Male',\n",
              "       'Wittgenstein Projection: Population age 25-29 in thousands by highest level of educational attainment. Post Secondary. Total',\n",
              "       'Wittgenstein Projection: Population age 25-29 in thousands by highest level of educational attainment. Primary. Female',\n",
              "       'Wittgenstein Projection: Population age 25-29 in thousands by highest level of educational attainment. Primary. Male',\n",
              "       'Wittgenstein Projection: Population age 25-29 in thousands by highest level of educational attainment. Primary. Total',\n",
              "       'Wittgenstein Projection: Population age 25-29 in thousands by highest level of educational attainment. Upper Secondary. Female',\n",
              "       'Wittgenstein Projection: Population age 25-29 in thousands by highest level of educational attainment. Upper Secondary. Male',\n",
              "       'Wittgenstein Projection: Population age 25-29 in thousands by highest level of educational attainment. Upper Secondary. Total',\n",
              "       'Wittgenstein Projection: Population in thousands by highest level of educational attainment. Incomplete Primary. Female',\n",
              "       'Wittgenstein Projection: Population in thousands by highest level of educational attainment. Incomplete Primary. Male',\n",
              "       'Wittgenstein Projection: Population in thousands by highest level of educational attainment. Incomplete Primary. Total',\n",
              "       'Wittgenstein Projection: Population in thousands by highest level of educational attainment. Lower Secondary. Female',\n",
              "       'Wittgenstein Projection: Population in thousands by highest level of educational attainment. Lower Secondary. Male',\n",
              "       'Wittgenstein Projection: Population in thousands by highest level of educational attainment. Lower Secondary. Total',\n",
              "       'Wittgenstein Projection: Population in thousands by highest level of educational attainment. No Education. Female',\n",
              "       'Wittgenstein Projection: Population in thousands by highest level of educational attainment. No Education. Male',\n",
              "       'Wittgenstein Projection: Population in thousands by highest level of educational attainment. No Education. Total',\n",
              "       'Wittgenstein Projection: Population in thousands by highest level of educational attainment. Post Secondary. Female',\n",
              "       'Wittgenstein Projection: Population in thousands by highest level of educational attainment. Post Secondary. Male',\n",
              "       'Wittgenstein Projection: Population in thousands by highest level of educational attainment. Post Secondary. Total',\n",
              "       'Wittgenstein Projection: Population in thousands by highest level of educational attainment. Primary. Female',\n",
              "       'Wittgenstein Projection: Population in thousands by highest level of educational attainment. Primary. Male',\n",
              "       'Wittgenstein Projection: Population in thousands by highest level of educational attainment. Primary. Total',\n",
              "       'Wittgenstein Projection: Population in thousands by highest level of educational attainment. Upper Secondary. Female',\n",
              "       'Wittgenstein Projection: Population in thousands by highest level of educational attainment. Upper Secondary. Male',\n",
              "       'Wittgenstein Projection: Population in thousands by highest level of educational attainment. Upper Secondary. Total'],\n",
              "      dtype=object)"
            ]
          },
          "metadata": {
            "tags": []
          },
          "execution_count": 36
        }
      ]
    },
    {
      "cell_type": "code",
      "metadata": {
        "id": "kvrHFSPrsAep",
        "colab": {
          "base_uri": "https://localhost:8080/",
          "height": 335
        },
        "outputId": "2aa63a96-8ab1-4adb-d916-4157e28ce719"
      },
      "source": [
        "df_series.head(2)"
      ],
      "execution_count": null,
      "outputs": [
        {
          "output_type": "execute_result",
          "data": {
            "text/html": [
              "<div>\n",
              "<style scoped>\n",
              "    .dataframe tbody tr th:only-of-type {\n",
              "        vertical-align: middle;\n",
              "    }\n",
              "\n",
              "    .dataframe tbody tr th {\n",
              "        vertical-align: top;\n",
              "    }\n",
              "\n",
              "    .dataframe thead th {\n",
              "        text-align: right;\n",
              "    }\n",
              "</style>\n",
              "<table border=\"1\" class=\"dataframe\">\n",
              "  <thead>\n",
              "    <tr style=\"text-align: right;\">\n",
              "      <th></th>\n",
              "      <th>Series Code</th>\n",
              "      <th>Topic</th>\n",
              "      <th>Indicator Name</th>\n",
              "      <th>Short definition</th>\n",
              "      <th>Long definition</th>\n",
              "      <th>Unit of measure</th>\n",
              "      <th>Periodicity</th>\n",
              "      <th>Base Period</th>\n",
              "      <th>Other notes</th>\n",
              "      <th>Aggregation method</th>\n",
              "      <th>Limitations and exceptions</th>\n",
              "      <th>Notes from original source</th>\n",
              "      <th>General comments</th>\n",
              "      <th>Source</th>\n",
              "      <th>Statistical concept and methodology</th>\n",
              "      <th>Development relevance</th>\n",
              "      <th>Related source links</th>\n",
              "      <th>Other web links</th>\n",
              "      <th>Related indicators</th>\n",
              "      <th>License Type</th>\n",
              "      <th>Unnamed: 20</th>\n",
              "    </tr>\n",
              "  </thead>\n",
              "  <tbody>\n",
              "    <tr>\n",
              "      <th>0</th>\n",
              "      <td>BAR.NOED.1519.FE.ZS</td>\n",
              "      <td>Attainment</td>\n",
              "      <td>Barro-Lee: Percentage of female population age...</td>\n",
              "      <td>Percentage of female population age 15-19 with...</td>\n",
              "      <td>Percentage of female population age 15-19 with...</td>\n",
              "      <td>NaN</td>\n",
              "      <td>NaN</td>\n",
              "      <td>NaN</td>\n",
              "      <td>NaN</td>\n",
              "      <td>NaN</td>\n",
              "      <td>NaN</td>\n",
              "      <td>NaN</td>\n",
              "      <td>NaN</td>\n",
              "      <td>Robert J. Barro and Jong-Wha Lee: http://www.b...</td>\n",
              "      <td>NaN</td>\n",
              "      <td>NaN</td>\n",
              "      <td>NaN</td>\n",
              "      <td>NaN</td>\n",
              "      <td>NaN</td>\n",
              "      <td>NaN</td>\n",
              "      <td>NaN</td>\n",
              "    </tr>\n",
              "    <tr>\n",
              "      <th>1</th>\n",
              "      <td>BAR.NOED.1519.ZS</td>\n",
              "      <td>Attainment</td>\n",
              "      <td>Barro-Lee: Percentage of population age 15-19 ...</td>\n",
              "      <td>Percentage of population age 15-19 with no edu...</td>\n",
              "      <td>Percentage of population age 15-19 with no edu...</td>\n",
              "      <td>NaN</td>\n",
              "      <td>NaN</td>\n",
              "      <td>NaN</td>\n",
              "      <td>NaN</td>\n",
              "      <td>NaN</td>\n",
              "      <td>NaN</td>\n",
              "      <td>NaN</td>\n",
              "      <td>NaN</td>\n",
              "      <td>Robert J. Barro and Jong-Wha Lee: http://www.b...</td>\n",
              "      <td>NaN</td>\n",
              "      <td>NaN</td>\n",
              "      <td>NaN</td>\n",
              "      <td>NaN</td>\n",
              "      <td>NaN</td>\n",
              "      <td>NaN</td>\n",
              "      <td>NaN</td>\n",
              "    </tr>\n",
              "  </tbody>\n",
              "</table>\n",
              "</div>"
            ],
            "text/plain": [
              "           Series Code       Topic  ... License Type Unnamed: 20\n",
              "0  BAR.NOED.1519.FE.ZS  Attainment  ...          NaN         NaN\n",
              "1     BAR.NOED.1519.ZS  Attainment  ...          NaN         NaN\n",
              "\n",
              "[2 rows x 21 columns]"
            ]
          },
          "metadata": {
            "tags": []
          },
          "execution_count": 37
        }
      ]
    },
    {
      "cell_type": "code",
      "metadata": {
        "id": "Rk9RMTS8v9cA",
        "colab": {
          "base_uri": "https://localhost:8080/"
        },
        "outputId": "7a57d80f-590e-4005-ff04-78adcaf99835"
      },
      "source": [
        "df_series.info()"
      ],
      "execution_count": null,
      "outputs": [
        {
          "output_type": "stream",
          "text": [
            "<class 'pandas.core.frame.DataFrame'>\n",
            "RangeIndex: 3665 entries, 0 to 3664\n",
            "Data columns (total 21 columns):\n",
            " #   Column                               Non-Null Count  Dtype  \n",
            "---  ------                               --------------  -----  \n",
            " 0   Series Code                          3665 non-null   object \n",
            " 1   Topic                                3665 non-null   object \n",
            " 2   Indicator Name                       3665 non-null   object \n",
            " 3   Short definition                     2156 non-null   object \n",
            " 4   Long definition                      3665 non-null   object \n",
            " 5   Unit of measure                      0 non-null      float64\n",
            " 6   Periodicity                          99 non-null     object \n",
            " 7   Base Period                          314 non-null    object \n",
            " 8   Other notes                          552 non-null    object \n",
            " 9   Aggregation method                   47 non-null     object \n",
            " 10  Limitations and exceptions           14 non-null     object \n",
            " 11  Notes from original source           0 non-null      float64\n",
            " 12  General comments                     14 non-null     object \n",
            " 13  Source                               3665 non-null   object \n",
            " 14  Statistical concept and methodology  23 non-null     object \n",
            " 15  Development relevance                3 non-null      object \n",
            " 16  Related source links                 215 non-null    object \n",
            " 17  Other web links                      0 non-null      float64\n",
            " 18  Related indicators                   0 non-null      float64\n",
            " 19  License Type                         0 non-null      float64\n",
            " 20  Unnamed: 20                          0 non-null      float64\n",
            "dtypes: float64(6), object(15)\n",
            "memory usage: 601.4+ KB\n"
          ],
          "name": "stdout"
        }
      ]
    },
    {
      "cell_type": "code",
      "metadata": {
        "id": "_omXpJVhsAg4",
        "colab": {
          "base_uri": "https://localhost:8080/",
          "height": 111
        },
        "outputId": "8423f7f9-e17e-4341-ea43-929d865f1186"
      },
      "source": [
        "df_countryseries.head(2)"
      ],
      "execution_count": null,
      "outputs": [
        {
          "output_type": "execute_result",
          "data": {
            "text/html": [
              "<div>\n",
              "<style scoped>\n",
              "    .dataframe tbody tr th:only-of-type {\n",
              "        vertical-align: middle;\n",
              "    }\n",
              "\n",
              "    .dataframe tbody tr th {\n",
              "        vertical-align: top;\n",
              "    }\n",
              "\n",
              "    .dataframe thead th {\n",
              "        text-align: right;\n",
              "    }\n",
              "</style>\n",
              "<table border=\"1\" class=\"dataframe\">\n",
              "  <thead>\n",
              "    <tr style=\"text-align: right;\">\n",
              "      <th></th>\n",
              "      <th>CountryCode</th>\n",
              "      <th>SeriesCode</th>\n",
              "      <th>DESCRIPTION</th>\n",
              "      <th>Unnamed: 3</th>\n",
              "    </tr>\n",
              "  </thead>\n",
              "  <tbody>\n",
              "    <tr>\n",
              "      <th>0</th>\n",
              "      <td>ABW</td>\n",
              "      <td>SP.POP.TOTL</td>\n",
              "      <td>Data sources : United Nations World Population...</td>\n",
              "      <td>NaN</td>\n",
              "    </tr>\n",
              "    <tr>\n",
              "      <th>1</th>\n",
              "      <td>ABW</td>\n",
              "      <td>SP.POP.GROW</td>\n",
              "      <td>Data sources: United Nations World Population ...</td>\n",
              "      <td>NaN</td>\n",
              "    </tr>\n",
              "  </tbody>\n",
              "</table>\n",
              "</div>"
            ],
            "text/plain": [
              "  CountryCode  ... Unnamed: 3\n",
              "0         ABW  ...        NaN\n",
              "1         ABW  ...        NaN\n",
              "\n",
              "[2 rows x 4 columns]"
            ]
          },
          "metadata": {
            "tags": []
          },
          "execution_count": 38
        }
      ]
    },
    {
      "cell_type": "code",
      "metadata": {
        "id": "ZfzXkOursAjL",
        "colab": {
          "base_uri": "https://localhost:8080/"
        },
        "outputId": "f4d8a31c-9657-4309-9228-b77141c9ae0f"
      },
      "source": [
        "df_countryseries.info()"
      ],
      "execution_count": null,
      "outputs": [
        {
          "output_type": "stream",
          "text": [
            "<class 'pandas.core.frame.DataFrame'>\n",
            "RangeIndex: 613 entries, 0 to 612\n",
            "Data columns (total 4 columns):\n",
            " #   Column       Non-Null Count  Dtype  \n",
            "---  ------       --------------  -----  \n",
            " 0   CountryCode  613 non-null    object \n",
            " 1   SeriesCode   613 non-null    object \n",
            " 2   DESCRIPTION  613 non-null    object \n",
            " 3   Unnamed: 3   0 non-null      float64\n",
            "dtypes: float64(1), object(3)\n",
            "memory usage: 19.3+ KB\n"
          ],
          "name": "stdout"
        }
      ]
    },
    {
      "cell_type": "code",
      "metadata": {
        "id": "G6GtsvykwOne",
        "colab": {
          "base_uri": "https://localhost:8080/"
        },
        "outputId": "7fbac452-159c-4a5b-ff37-f228a274b473"
      },
      "source": [
        "pd.set_option('display.max_colwidth', None)\n",
        "df_countryseries['DESCRIPTION']"
      ],
      "execution_count": null,
      "outputs": [
        {
          "output_type": "execute_result",
          "data": {
            "text/plain": [
              "0                               Data sources : United Nations World Population Prospects\n",
              "1                                Data sources: United Nations World Population Prospects\n",
              "2                                Data sources: United Nations World Population Prospects\n",
              "3                                                     Estimates are based on regression.\n",
              "4                               Data sources : United Nations World Population Prospects\n",
              "                                             ...                                        \n",
              "608    Data sources : Statistics South Africa, United Nations World Population Prospects\n",
              "609                              Data sources: United Nations World Population Prospects\n",
              "610                             Data sources : United Nations World Population Prospects\n",
              "611                             Data sources : United Nations World Population Prospects\n",
              "612                              Data sources: United Nations World Population Prospects\n",
              "Name: DESCRIPTION, Length: 613, dtype: object"
            ]
          },
          "metadata": {
            "tags": []
          },
          "execution_count": 44
        }
      ]
    },
    {
      "cell_type": "code",
      "metadata": {
        "id": "r-qNcz4qwiI2",
        "colab": {
          "base_uri": "https://localhost:8080/"
        },
        "outputId": "e5a6fb32-8e3a-4e17-d5c7-76505532da2b"
      },
      "source": [
        "df_countryseries['CountryCode'].nunique()"
      ],
      "execution_count": null,
      "outputs": [
        {
          "output_type": "execute_result",
          "data": {
            "text/plain": [
              "211"
            ]
          },
          "metadata": {
            "tags": []
          },
          "execution_count": 46
        }
      ]
    },
    {
      "cell_type": "code",
      "metadata": {
        "id": "SLBiSVOKwsQP",
        "colab": {
          "base_uri": "https://localhost:8080/",
          "height": 111
        },
        "outputId": "e655f601-412d-4c5f-fa46-340442ef9602"
      },
      "source": [
        "df_footnote.head(2)"
      ],
      "execution_count": null,
      "outputs": [
        {
          "output_type": "execute_result",
          "data": {
            "text/html": [
              "<div>\n",
              "<style scoped>\n",
              "    .dataframe tbody tr th:only-of-type {\n",
              "        vertical-align: middle;\n",
              "    }\n",
              "\n",
              "    .dataframe tbody tr th {\n",
              "        vertical-align: top;\n",
              "    }\n",
              "\n",
              "    .dataframe thead th {\n",
              "        text-align: right;\n",
              "    }\n",
              "</style>\n",
              "<table border=\"1\" class=\"dataframe\">\n",
              "  <thead>\n",
              "    <tr style=\"text-align: right;\">\n",
              "      <th></th>\n",
              "      <th>CountryCode</th>\n",
              "      <th>SeriesCode</th>\n",
              "      <th>Year</th>\n",
              "      <th>DESCRIPTION</th>\n",
              "      <th>Unnamed: 4</th>\n",
              "    </tr>\n",
              "  </thead>\n",
              "  <tbody>\n",
              "    <tr>\n",
              "      <th>0</th>\n",
              "      <td>ABW</td>\n",
              "      <td>SE.PRE.ENRL.FE</td>\n",
              "      <td>YR2001</td>\n",
              "      <td>Country estimation.</td>\n",
              "      <td>NaN</td>\n",
              "    </tr>\n",
              "    <tr>\n",
              "      <th>1</th>\n",
              "      <td>ABW</td>\n",
              "      <td>SE.TER.TCHR.FE</td>\n",
              "      <td>YR2005</td>\n",
              "      <td>Country estimation.</td>\n",
              "      <td>NaN</td>\n",
              "    </tr>\n",
              "  </tbody>\n",
              "</table>\n",
              "</div>"
            ],
            "text/plain": [
              "  CountryCode      SeriesCode    Year          DESCRIPTION  Unnamed: 4\n",
              "0         ABW  SE.PRE.ENRL.FE  YR2001  Country estimation.         NaN\n",
              "1         ABW  SE.TER.TCHR.FE  YR2005  Country estimation.         NaN"
            ]
          },
          "metadata": {
            "tags": []
          },
          "execution_count": 47
        }
      ]
    },
    {
      "cell_type": "code",
      "metadata": {
        "id": "ehvW0gWB1MAV",
        "colab": {
          "base_uri": "https://localhost:8080/"
        },
        "outputId": "a50f91ef-86d0-48ec-e710-c1e2e517a11d"
      },
      "source": [
        "np.sort(df_footnote['Year'].unique())"
      ],
      "execution_count": null,
      "outputs": [
        {
          "output_type": "execute_result",
          "data": {
            "text/plain": [
              "array(['YR1970', 'YR1971', 'YR1972', 'YR1973', 'YR1974', 'YR1975',\n",
              "       'YR1976', 'YR1977', 'YR1978', 'YR1979', 'YR1980', 'YR1981',\n",
              "       'YR1982', 'YR1983', 'YR1984', 'YR1985', 'YR1986', 'YR1987',\n",
              "       'YR1988', 'YR1989', 'YR1990', 'YR1991', 'YR1992', 'YR1993',\n",
              "       'YR1994', 'YR1995', 'YR1996', 'YR1997', 'YR1998', 'YR1999',\n",
              "       'YR2000', 'YR2001', 'YR2002', 'YR2003', 'YR2004', 'YR2005',\n",
              "       'YR2006', 'YR2007', 'YR2008', 'YR2009', 'YR2010', 'YR2011',\n",
              "       'YR2012', 'YR2013', 'YR2014', 'YR2015', 'YR2016', 'YR2017',\n",
              "       'YR2020', 'YR2025', 'YR2030', 'YR2035', 'YR2040', 'YR2045',\n",
              "       'YR2050', 'yr2012'], dtype=object)"
            ]
          },
          "metadata": {
            "tags": []
          },
          "execution_count": 57
        }
      ]
    },
    {
      "cell_type": "code",
      "metadata": {
        "id": "7TiNGPGn1--N",
        "colab": {
          "base_uri": "https://localhost:8080/"
        },
        "outputId": "60d65481-6d2d-45d5-90d4-7b4ced3e0c9a"
      },
      "source": [
        "df_footnote.info()"
      ],
      "execution_count": null,
      "outputs": [
        {
          "output_type": "stream",
          "text": [
            "<class 'pandas.core.frame.DataFrame'>\n",
            "RangeIndex: 643638 entries, 0 to 643637\n",
            "Data columns (total 5 columns):\n",
            " #   Column       Non-Null Count   Dtype  \n",
            "---  ------       --------------   -----  \n",
            " 0   CountryCode  643638 non-null  object \n",
            " 1   SeriesCode   643638 non-null  object \n",
            " 2   Year         643638 non-null  object \n",
            " 3   DESCRIPTION  643638 non-null  object \n",
            " 4   Unnamed: 4   0 non-null       float64\n",
            "dtypes: float64(1), object(4)\n",
            "memory usage: 24.6+ MB\n"
          ],
          "name": "stdout"
        }
      ]
    },
    {
      "cell_type": "code",
      "metadata": {
        "id": "7mLhNEshw8UO",
        "colab": {
          "base_uri": "https://localhost:8080/"
        },
        "outputId": "f651b75b-6875-4e51-ac01-a6b30cc3369e"
      },
      "source": [
        "df_footnote['DESCRIPTION'].value_counts()"
      ],
      "execution_count": null,
      "outputs": [
        {
          "output_type": "execute_result",
          "data": {
            "text/plain": [
              "Country Data                                      191188\n",
              "UNESCO Institute for Statistics (UIS) estimate    171527\n",
              "Estimated                                         117155\n",
              "UIS Estimation                                     31395\n",
              "Country estimation.                                26308\n",
              "                                                   ...  \n",
              "Uncertainty bound is 68.9 - 76.3                       1\n",
              "Uncertainty bound is 192.7 - 218.7                     1\n",
              "Uncertainty bound is 193.9 - 220.9                     1\n",
              "Uncertainty bound is 141.3 - 173.4                     1\n",
              "Uncertainty bound is 65.8 - 85                         1\n",
              "Name: DESCRIPTION, Length: 9102, dtype: int64"
            ]
          },
          "metadata": {
            "tags": []
          },
          "execution_count": 49
        }
      ]
    },
    {
      "cell_type": "markdown",
      "metadata": {
        "id": "PQcMJ8Uqw8SK"
      },
      "source": [
        "Initial understanding of each of the datasets:\n",
        "\n",
        "* df_country(EdStatsCountry.csv) - contains list of all countries that are present in the data (total of 241 countries) - along with other features specific to the country like - Region, Income Group specific to the country etc\n",
        "* df_data(EdStatsData.csv) - contains each country, with list of indicators (3665 unique indicators); contains measurement value for each indicator from years 1970 to 2017; from 2020 to 2100 - contains projections\n",
        "* df_series - contains list of all indicators and the definition of each indicator\n",
        "* df_countryseries - contains indicators and data sources for certain countries\n",
        "* df_footnote - contains the estimations and uncertainty bounds for each year - looks like some years are missing\n",
        "\n"
      ]
    },
    {
      "cell_type": "code",
      "metadata": {
        "id": "GQ9xlWFEw8PX"
      },
      "source": [
        ""
      ],
      "execution_count": null,
      "outputs": []
    },
    {
      "cell_type": "code",
      "metadata": {
        "id": "Me3vBYlEw8Mu"
      },
      "source": [
        ""
      ],
      "execution_count": null,
      "outputs": []
    }
  ]
}