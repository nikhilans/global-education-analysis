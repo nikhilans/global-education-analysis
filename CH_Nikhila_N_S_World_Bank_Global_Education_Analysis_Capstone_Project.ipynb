{
  "nbformat": 4,
  "nbformat_minor": 0,
  "metadata": {
    "kernelspec": {
      "display_name": "Python 3",
      "language": "python",
      "name": "python3"
    },
    "language_info": {
      "codemirror_mode": {
        "name": "ipython",
        "version": 3
      },
      "file_extension": ".py",
      "mimetype": "text/x-python",
      "name": "python",
      "nbconvert_exporter": "python",
      "pygments_lexer": "ipython3",
      "version": "3.6.6"
    },
    "colab": {
      "name": "CH - Nikhila N S - World Bank Global Education Analysis - Capstone Project.ipynb",
      "provenance": [],
      "collapsed_sections": [],
      "include_colab_link": true
    }
  },
  "cells": [
    {
      "cell_type": "markdown",
      "metadata": {
        "id": "view-in-github",
        "colab_type": "text"
      },
      "source": [
        "<a href=\"https://colab.research.google.com/github/nikhilans/global-education-analysis/blob/main/CH_Nikhila_N_S_World_Bank_Global_Education_Analysis_Capstone_Project.ipynb\" target=\"_parent\"><img src=\"https://colab.research.google.com/assets/colab-badge.svg\" alt=\"Open In Colab\"/></a>"
      ]
    },
    {
      "cell_type": "markdown",
      "metadata": {
        "id": "Y06xIdG26kRF"
      },
      "source": [
        "## <b> The World Bank EdStats All Indicator Query holds over 4,000 internationally comparable indicators that describe education access, progression, completion, literacy, teachers, population, and expenditures.The indicators cover the education cycle from pre-primary to vocational and tertiary education and also holds learning outcome data from international and regional learning assessments (e.g. PISA, TIMSS, PIRLS), equity data from household surveys, and projection/attainment data. </b>\n",
        "\n",
        "## <b> Explore and analyze the data to identify variation of indicators across the globe, which countries are more alike and different. Feel free to add more extensive analyses and details.</b>"
      ]
    },
    {
      "cell_type": "code",
      "metadata": {
        "id": "dByMsuzT8Tnw",
        "colab": {
          "base_uri": "https://localhost:8080/"
        },
        "outputId": "95a37081-d524-42ca-920b-118e035dc481"
      },
      "source": [
        "from google.colab import drive\n",
        "drive.mount('/content/drive')"
      ],
      "execution_count": 134,
      "outputs": [
        {
          "output_type": "stream",
          "text": [
            "Drive already mounted at /content/drive; to attempt to forcibly remount, call drive.mount(\"/content/drive\", force_remount=True).\n"
          ],
          "name": "stdout"
        }
      ]
    },
    {
      "cell_type": "code",
      "metadata": {
        "id": "Fufb8zMlY-Dz"
      },
      "source": [
        "path = '/content/drive/MyDrive/AlmaBetter - Cohort Himalaya/Module 1: Python for Data Science/World Bank Global Education Analysis - Nikhila N S/data/'"
      ],
      "execution_count": 135,
      "outputs": []
    },
    {
      "cell_type": "code",
      "metadata": {
        "id": "VLZm1Xj_gBd5"
      },
      "source": [
        "# Import packages\n",
        "import pandas as pd\n",
        "import numpy as np"
      ],
      "execution_count": 136,
      "outputs": []
    },
    {
      "cell_type": "code",
      "metadata": {
        "id": "S1KDRbK6Y9_B"
      },
      "source": [
        "df_country = pd.read_csv(path+ \"EdStatsCountry.csv\")\n",
        "df_data = pd.read_csv(path + \"EdStatsData.csv\")\n",
        "df_series = pd.read_csv(path + \"EdStatsSeries.csv\")\n",
        "df_footnote = pd.read_csv(path + \"EdStatsFootNote.csv\")\n",
        "df_countryseries = pd.read_csv(path + \"EdStatsCountry-Series.csv\")"
      ],
      "execution_count": 137,
      "outputs": []
    },
    {
      "cell_type": "markdown",
      "metadata": {
        "id": "_E6dKq_pxNdI"
      },
      "source": [
        "Let's try to understand what each dataset contains"
      ]
    },
    {
      "cell_type": "code",
      "metadata": {
        "id": "e_dfgKRzY98p",
        "colab": {
          "base_uri": "https://localhost:8080/",
          "height": 420
        },
        "outputId": "c5801e3b-08db-4519-9ba6-106d84407066"
      },
      "source": [
        "df_country.head(2)"
      ],
      "execution_count": 138,
      "outputs": [
        {
          "output_type": "execute_result",
          "data": {
            "text/html": [
              "<div>\n",
              "<style scoped>\n",
              "    .dataframe tbody tr th:only-of-type {\n",
              "        vertical-align: middle;\n",
              "    }\n",
              "\n",
              "    .dataframe tbody tr th {\n",
              "        vertical-align: top;\n",
              "    }\n",
              "\n",
              "    .dataframe thead th {\n",
              "        text-align: right;\n",
              "    }\n",
              "</style>\n",
              "<table border=\"1\" class=\"dataframe\">\n",
              "  <thead>\n",
              "    <tr style=\"text-align: right;\">\n",
              "      <th></th>\n",
              "      <th>Country Code</th>\n",
              "      <th>Short Name</th>\n",
              "      <th>Table Name</th>\n",
              "      <th>Long Name</th>\n",
              "      <th>2-alpha code</th>\n",
              "      <th>Currency Unit</th>\n",
              "      <th>Special Notes</th>\n",
              "      <th>Region</th>\n",
              "      <th>Income Group</th>\n",
              "      <th>WB-2 code</th>\n",
              "      <th>National accounts base year</th>\n",
              "      <th>National accounts reference year</th>\n",
              "      <th>SNA price valuation</th>\n",
              "      <th>Lending category</th>\n",
              "      <th>Other groups</th>\n",
              "      <th>System of National Accounts</th>\n",
              "      <th>Alternative conversion factor</th>\n",
              "      <th>PPP survey year</th>\n",
              "      <th>Balance of Payments Manual in use</th>\n",
              "      <th>External debt Reporting status</th>\n",
              "      <th>System of trade</th>\n",
              "      <th>Government Accounting concept</th>\n",
              "      <th>IMF data dissemination standard</th>\n",
              "      <th>Latest population census</th>\n",
              "      <th>Latest household survey</th>\n",
              "      <th>Source of most recent Income and expenditure data</th>\n",
              "      <th>Vital registration complete</th>\n",
              "      <th>Latest agricultural census</th>\n",
              "      <th>Latest industrial data</th>\n",
              "      <th>Latest trade data</th>\n",
              "      <th>Latest water withdrawal data</th>\n",
              "      <th>Unnamed: 31</th>\n",
              "    </tr>\n",
              "  </thead>\n",
              "  <tbody>\n",
              "    <tr>\n",
              "      <th>0</th>\n",
              "      <td>ABW</td>\n",
              "      <td>Aruba</td>\n",
              "      <td>Aruba</td>\n",
              "      <td>Aruba</td>\n",
              "      <td>AW</td>\n",
              "      <td>Aruban florin</td>\n",
              "      <td>SNA data for 2000-2011 are updated from offici...</td>\n",
              "      <td>Latin America &amp; Caribbean</td>\n",
              "      <td>High income: nonOECD</td>\n",
              "      <td>AW</td>\n",
              "      <td>2000</td>\n",
              "      <td>NaN</td>\n",
              "      <td>Value added at basic prices (VAB)</td>\n",
              "      <td>NaN</td>\n",
              "      <td>NaN</td>\n",
              "      <td>Country uses the 1993 System of National Accou...</td>\n",
              "      <td>NaN</td>\n",
              "      <td>NaN</td>\n",
              "      <td>IMF Balance of Payments Manual, 6th edition.</td>\n",
              "      <td>NaN</td>\n",
              "      <td>Special trade system</td>\n",
              "      <td>NaN</td>\n",
              "      <td>NaN</td>\n",
              "      <td>2010</td>\n",
              "      <td>NaN</td>\n",
              "      <td>NaN</td>\n",
              "      <td>Yes</td>\n",
              "      <td>NaN</td>\n",
              "      <td>NaN</td>\n",
              "      <td>2012.0</td>\n",
              "      <td>NaN</td>\n",
              "      <td>NaN</td>\n",
              "    </tr>\n",
              "    <tr>\n",
              "      <th>1</th>\n",
              "      <td>AFG</td>\n",
              "      <td>Afghanistan</td>\n",
              "      <td>Afghanistan</td>\n",
              "      <td>Islamic State of Afghanistan</td>\n",
              "      <td>AF</td>\n",
              "      <td>Afghan afghani</td>\n",
              "      <td>Fiscal year end: March 20; reporting period fo...</td>\n",
              "      <td>South Asia</td>\n",
              "      <td>Low income</td>\n",
              "      <td>AF</td>\n",
              "      <td>2002/03</td>\n",
              "      <td>NaN</td>\n",
              "      <td>Value added at basic prices (VAB)</td>\n",
              "      <td>IDA</td>\n",
              "      <td>HIPC</td>\n",
              "      <td>Country uses the 1993 System of National Accou...</td>\n",
              "      <td>NaN</td>\n",
              "      <td>NaN</td>\n",
              "      <td>NaN</td>\n",
              "      <td>Actual</td>\n",
              "      <td>General trade system</td>\n",
              "      <td>Consolidated central government</td>\n",
              "      <td>General Data Dissemination System (GDDS)</td>\n",
              "      <td>1979</td>\n",
              "      <td>Multiple Indicator Cluster Survey (MICS), 2010/11</td>\n",
              "      <td>Integrated household survey (IHS), 2008</td>\n",
              "      <td>NaN</td>\n",
              "      <td>2013/14</td>\n",
              "      <td>NaN</td>\n",
              "      <td>2012.0</td>\n",
              "      <td>2000</td>\n",
              "      <td>NaN</td>\n",
              "    </tr>\n",
              "  </tbody>\n",
              "</table>\n",
              "</div>"
            ],
            "text/plain": [
              "  Country Code   Short Name  ... Latest water withdrawal data Unnamed: 31\n",
              "0          ABW        Aruba  ...                          NaN         NaN\n",
              "1          AFG  Afghanistan  ...                         2000         NaN\n",
              "\n",
              "[2 rows x 32 columns]"
            ]
          },
          "metadata": {
            "tags": []
          },
          "execution_count": 138
        }
      ]
    },
    {
      "cell_type": "code",
      "metadata": {
        "id": "xITG0-G7Y96R",
        "colab": {
          "base_uri": "https://localhost:8080/"
        },
        "outputId": "2c2ea81a-e93a-4e05-e22d-97c2cbf38113"
      },
      "source": [
        "df_country.info()"
      ],
      "execution_count": 139,
      "outputs": [
        {
          "output_type": "stream",
          "text": [
            "<class 'pandas.core.frame.DataFrame'>\n",
            "RangeIndex: 241 entries, 0 to 240\n",
            "Data columns (total 32 columns):\n",
            " #   Column                                             Non-Null Count  Dtype  \n",
            "---  ------                                             --------------  -----  \n",
            " 0   Country Code                                       241 non-null    object \n",
            " 1   Short Name                                         241 non-null    object \n",
            " 2   Table Name                                         241 non-null    object \n",
            " 3   Long Name                                          241 non-null    object \n",
            " 4   2-alpha code                                       238 non-null    object \n",
            " 5   Currency Unit                                      215 non-null    object \n",
            " 6   Special Notes                                      145 non-null    object \n",
            " 7   Region                                             214 non-null    object \n",
            " 8   Income Group                                       214 non-null    object \n",
            " 9   WB-2 code                                          240 non-null    object \n",
            " 10  National accounts base year                        205 non-null    object \n",
            " 11  National accounts reference year                   32 non-null     float64\n",
            " 12  SNA price valuation                                197 non-null    object \n",
            " 13  Lending category                                   144 non-null    object \n",
            " 14  Other groups                                       58 non-null     object \n",
            " 15  System of National Accounts                        215 non-null    object \n",
            " 16  Alternative conversion factor                      47 non-null     object \n",
            " 17  PPP survey year                                    145 non-null    object \n",
            " 18  Balance of Payments Manual in use                  181 non-null    object \n",
            " 19  External debt Reporting status                     124 non-null    object \n",
            " 20  System of trade                                    200 non-null    object \n",
            " 21  Government Accounting concept                      161 non-null    object \n",
            " 22  IMF data dissemination standard                    181 non-null    object \n",
            " 23  Latest population census                           213 non-null    object \n",
            " 24  Latest household survey                            141 non-null    object \n",
            " 25  Source of most recent Income and expenditure data  160 non-null    object \n",
            " 26  Vital registration complete                        111 non-null    object \n",
            " 27  Latest agricultural census                         142 non-null    object \n",
            " 28  Latest industrial data                             107 non-null    float64\n",
            " 29  Latest trade data                                  185 non-null    float64\n",
            " 30  Latest water withdrawal data                       179 non-null    object \n",
            " 31  Unnamed: 31                                        0 non-null      float64\n",
            "dtypes: float64(4), object(28)\n",
            "memory usage: 60.4+ KB\n"
          ],
          "name": "stdout"
        }
      ]
    },
    {
      "cell_type": "code",
      "metadata": {
        "colab": {
          "base_uri": "https://localhost:8080/"
        },
        "id": "pzqxph28SXj0",
        "outputId": "516bbcdc-a8f8-44cc-eb07-2819b3dc9c5c"
      },
      "source": [
        "df_country['Special Notes'].unique()"
      ],
      "execution_count": 140,
      "outputs": [
        {
          "output_type": "execute_result",
          "data": {
            "text/plain": [
              "array(['SNA data for 2000-2011 are updated from official government statistics; 1994-1999 from UN databases. Base year has changed from 1995 to 2000.',\n",
              "       'Fiscal year end: March 20; reporting period for national accounts data: FY (from 2013 are CY). National accounts data are sourced from the IMF and differ from the Central Statistics Organization numbers due to exclusion of the opium economy.',\n",
              "       'April 2013 database update: Based on IMF data, national accounts data were revised for 2000 onward; the base year changed to 2002.',\n",
              "       nan,\n",
              "       'Arab World aggregate. Arab World is composed of members of the League of Arab States.',\n",
              "       'April 2013 database update: Based on data from the National Bureau of Statistics, national accounts data were revised for 2001 onward; the base year changed to 2007.',\n",
              "       'April 2012 database update: Based on official government statistics, national accounts data were revised for 2000 onward; the base year changed to 2006.',\n",
              "       'Fiscal year end: June 30; reporting period for national accounts data: FY. Value added current series updated by the Australian Bureau of Statistics; data revised from 1990 onward; Australia reports using SNA 2008.',\n",
              "       'A simple multiplier is used to convert the national currencies of EMU members to euros. The following irrevocable euro conversion rate was adopted by the EU Council on January 1, 1999: 1 euro = 13.7603 Austrian schilling. Please note that historical data before 1999 are not actual euros and are not comparable or suitable for aggregation across countries.',\n",
              "       'April 2012 database update: National accounts historical expenditure series in constant prices were revised in line with State Statistical Committee data that were not previously available.',\n",
              "       'A simple multiplier is used to convert the national currencies of EMU members to euros. The following irrevocable euro conversion rate was adopted by the EU Council on January 1, 1999: 1 euro = 40.3399 Belgian franc. Please note that historical data before 1999 are not actual euros and are not comparable or suitable for aggregation across countries.',\n",
              "       'Fiscal year end: June 30; reporting period for national accounts data: FY.',\n",
              "       'April 2011 database update: The National Statistical Office revised national accounts data from 1995 onward. GDP in current prices were about 4 percent higher than previous estimates.',\n",
              "       'April 2013 database update: Data were updated using the government of Bhutan macroeconomic framework.',\n",
              "       'Fiscal year end: March 31; reporting period for national accounts data: CY. Based on official government statistics, national accounts data have been revised from 2006 onward; the new base year is 2006. Data before 2006 were reported on a fiscal year basis.',\n",
              "       'Fiscal year end: March 31; reporting period for national accounts data: CY.',\n",
              "       'On 1 July 1997 China resumed its exercise of sovereignty over Hong Kong; and on 20 December 1999 China resumed its exercise of sovereignty over Macao. Unless otherwise noted, data for China do not include data for Hong Kong SAR, China; Macao SAR, China; or Taiwan, China. Based on data from the National Bureau of Statistics, the methodology for national accounts exports and imports of goods and services in constant prices have been revised from 2000 onward.',\n",
              "       'Based on INS (2000-09) and IMF (2010-13) data, national accounts data were revised for 2000 onward; the base year changed to 2005.',\n",
              "       'April 2013 database update: Based on IMF data, national accounts data were revised for 1990 onward; the base year changed to 1990.',\n",
              "       'Cabo Verde is the new name for the country previously listed as Cape Verde. Based on official government statistics and IMF data, national accounts data have been revised from 1990 onward; the new base year is 2007.',\n",
              "       'A simple multiplier is used to convert the national currencies of EMU members to euros. The following irrevocable euro conversion rate entered into force on January 1, 2008: 1 euro = 0.585274 Cyprus pounds. Please note that historical data are not actual euros and are not comparable or suitable for aggregation across countries.',\n",
              "       'A simple multiplier is used to convert the national currencies of EMU members to euros. The following irrevocable euro conversion rate was adopted by the EU Council on January 1, 1999: 1 euro = 1.95583 German mark. Please note that historical data before 1999 are not actual euros and are not comparable or suitable for aggregation across countries.',\n",
              "       'East Asia and Pacific regional aggregate (does not include high-income economies).',\n",
              "       'East Asia and Pacific regional aggregate (including high-income economies).',\n",
              "       'Europe and Central Asia regional aggregate (does not include high-income economies).',\n",
              "       'Europe and Central Asia regional aggregate (including high-income economies).',\n",
              "       'National accounts have been revised from 1965 onward based on official government data; the new base year is 2007. The large upward changes are due to an improved calculation method for nominal GDP.',\n",
              "       'Euro area aggregate.',\n",
              "       'April 2013 database update: Based on IMF data, national accounts data were revised for 2000 onward; the base year changed to 2000.',\n",
              "       'A simple multiplier is used to convert the national currencies of EMU members to euros. The following irrevocable euro conversion rate was adopted by the EU Council on January 1, 1999: 1 euro = 166.386 Spanish peseta. Please note that historical data before 1999 are not actual euros and are not comparable or suitable for aggregation across countries.',\n",
              "       'A simple multiplier is used to convert the national currencies of EMU members to euros. The following irrevocable euro conversion rate entered into force on January 1, 2011: 1 euro = 15.6466 Estonian kroon. Please note that historical data are not actual euros and are not comparable or suitable for aggregation across countries.',\n",
              "       'Fiscal year end: July 7; reporting period for national accounts data: FY. Based on IMF data, national accounts data have been revised for 2000 onward; the new base year is 2011.',\n",
              "       'European Union aggregate.',\n",
              "       'A simple multiplier is used to convert the national currencies of EMU members to euros. The following irrevocable euro conversion rate was adopted by the EU Council on January 1, 1999: 1 euro = 5.94573 Finnish markka. Please note that historical data before 1999 are not actual euros and are not comparable or suitable for aggregation across countries.',\n",
              "       'Based on data from the Bureau of Statistics, national accounts data on the expenditure side have been revised from 2005 onward; the new base year is 2005.',\n",
              "       'A simple multiplier is used to convert the national currencies of EMU members to euros. The following irrevocable euro conversion rate was adopted by the EU Council on January 1, 1999: 1 euro = 6.55957 French franc. Please note that historical data before 1999 are not actual euros and are not comparable or suitable for aggregation across countries.',\n",
              "       'Fiscal year ends on September 30; reporting period for national accounts data: FY. Based on the Pacific and Virgin Islands Training Initiative, national accounts data have been revised from 2009 onward. 2013 estimates are based on the IMF Small States Monitor, Issue 1.2014. In 2010, the government statistical office revised national accounts data for 1995-2008.',\n",
              "       \"In 2010, the Ghana Statistical Service revised the base year for Ghana's national accounts series from 1993 to 2006. The new GDP data were about 60 percent higher than previously reported and incorporated improved data sources and methodology.\",\n",
              "       'Fiscal year end: June 30; reporting period for national accounts data: CY. April 2013 database update: Based on official government statistics, national accounts data were revised for 2004 onward; the base year changed to 2004.',\n",
              "       'In 2010, national accounts data for 2003-09 were revised. The new data had broader coverage of all sectors of the economy, and GDP in current prices averaged 89 percent higher than previous estimates.',\n",
              "       'National accounts have been revised from 1980 onward based on official government data; the new base year is 2006.',\n",
              "       'A simple multiplier is used to convert the national currencies of EMU members to euros. The following irrevocable euro conversion rate was adopted by the EU Council on January 1, 1999: 1 euro = 340.75 Greek drachma. Please note that historical data before 1999 are not actual euros and are not comparable or suitable for aggregation across countries.',\n",
              "       'In 2010, the Bureau of Statistics introduced a new series of GDP rebased to year 2006. Current price GDP averaged 63 percent higher than previous estimates.',\n",
              "       'High income group aggregate. High-income economies are those in which 2013 GNI per capita was $12,746 or more.',\n",
              "       'On 1 July 1997 China resumed its exercise of sovereignty over Hong Kong. Unless otherwise noted, data for China do not include data for Hong Kong SAR, China; Macao SAR, China; or Taiwan, China. Agriculture value added includes mining and quarrying.',\n",
              "       'Heavily indebted poor countries aggregate.',\n",
              "       'April 2013 database update: Based on official government statistics, the base year for constant price series changed to 2005.',\n",
              "       'Fiscal year end: September 30; reporting period for national accounts data: FY. In 2010, the government revised national accounts data following changes in the methodology. Current price series since 1991 and constant price series since 1996 were revised.',\n",
              "       'April 2012 database update: Based on data from the Organisation for Economic Co-operation and Development, national accounts data were revised for 1991 onward.',\n",
              "       'Fiscal year end: March 31; reporting period for national accounts data: CY. Data for Indonesia include Timor-Leste through 1999 unless otherwise noted.',\n",
              "       'Fiscal year end: March 31; reporting period for national accounts data: FY. April 2013 database update: The India Central Statistical Office revised historical data series both current and constant going back to 1960 with 2004–05 as the base.',\n",
              "       'A simple multiplier is used to convert the national currencies of EMU members to euros. The following irrevocable euro conversion rate was adopted by the EU Council on January 1, 1999: 1 euro = 0.787564 Irish pound. Please note that historical data before 1999 are not actual euros and are not comparable or suitable for aggregation across countries.',\n",
              "       'Fiscal year end: March 20; reporting period for national accounts data: FY.',\n",
              "       'National accounts have been revised from 2000 onward based on official government data; the new base year is 1988. The new series raises GDP significantly from previous estimates.',\n",
              "       'A simple multiplier is used to convert the national currencies of EMU members to euros. The following irrevocable euro conversion rate was adopted by the EU Council on January 1, 1999: 1 euro = 1936.27 Italian lira. Please note that historical data before 1999 are not actual euros and are not comparable or suitable for aggregation across countries.',\n",
              "       'April 2013 database update: Based on official government statistics, national accounts data were revised for 2002 onward; the base year changed to 2007.',\n",
              "       'Fiscal year end: June 30; reporting period for national accounts data: CY.',\n",
              "       'Based on IMF and World Bank data, GDP in current and constant prices have been revised from 2000 onward. Value added components are calculated using shares from the Asian Development Bank.',\n",
              "       'New base year is 2010. GDP data are available from 1970 onward while components are revised from 2000 onward only. Historical data in constant prices are linked to preserve growth rates.',\n",
              "       'Latin America and Caribbean regional aggregate (does not include high-income economies).',\n",
              "       'National accounts data are revised from 2010 to 2013 based on IMF and World Bank staff estimates.',\n",
              "       'Latin America and Caribbean regional aggregate (including high-income economies).',\n",
              "       'Least developed countries (UN classification) aggregate.',\n",
              "       'Low income group aggregate. Low-income economies are those in which 2013 GNI per capita was $1,045 or less.',\n",
              "       'Lower middle income group aggregate. Lower-middle-income economies are those in which 2013 GNI per capita was between $1,046 and $4,125.',\n",
              "       'Low and middle income group aggregate (all developing economies). Low- and middle-income economies are those in which 2013 GNI per capita was $12,745 or less.',\n",
              "       'A simple multiplier is used to convert the national currencies of EMU members to euros. The following irrevocable euro conversion rate was adopted by the EU Council on January 1, 1999: 1 euro = 40.3399 Luxembourg franc. Please note that historical data before 1999 are not actual euros and are not comparable or suitable for aggregation across countries.',\n",
              "       'Country joined euro area on 1 January 2014; data in the WDI database are reported in lats.',\n",
              "       'On 20 December 1999 China resumed its exercise of sovereignty over Macao. Unless otherwise noted, data for China do not include data for Hong Kong SAR, China; Macao SAR, China; or Taiwan, China.',\n",
              "       'April 2012 database update: The Department of National Planning revised national accounts data for 2000 onward; the base year changed to 2003.',\n",
              "       'Middle East and North Africa regional aggregate (including high-income economies).',\n",
              "       'The new base year is 2008.',\n",
              "       'Fiscal year ends on September 30; reporting period for national accounts data: FY.',\n",
              "       'Middle income group aggregate. Middle-income economies are those in which 2013 GNI per capita was between $1,046 and $12,745.',\n",
              "       'April 2012 database update: Based on official statistics, national accounts data were revised for 2003 onward.',\n",
              "       'A simple multiplier is used to convert the national currencies of EMU members to euros. The following irrevocable euro conversion rate entered into force on January 1, 2008: 1 euro = 0.4293 Maltese lira. Please note that historical data are not actual euros and are not comparable or suitable for aggregation across countries.',\n",
              "       'Fiscal year end: March 31; reporting period for national accounts data: FY.',\n",
              "       'Middle East and North Africa regional aggregate (does not include high-income economies).',\n",
              "       'Montenegro declared independence from Serbia and Montenegro on June 3, 2006. Where available, data for each country are shown separately. However, for Serbia, some indicators continue to include data for Montenegro through 2005.',\n",
              "       'April 2012 database update: Based on official government statistics, data were revised for 1991 onward; the base year for constant price series changed to 2004.',\n",
              "       'Fiscal year end: March 31; reporting period for national accounts data: CY. Based on IMF data, national accounts data have been revised for 2000 onward; the new base year is 2009.',\n",
              "       'Based on official government statistics, value added in services in constant and current prices have been revised from 1990 onward. National accounts data in constant prices have been linked back to 1960; the new base year is 2005.',\n",
              "       'North America regional aggregate. There are no economies in North America classified as low or middle income.',\n",
              "       'Fiscal year end: March 31; reporting period for national accounts data: CY. Based on official government statistics, national accounts data have been revised from 1980 onward; the new base year is 2010.',\n",
              "       'Based on official government statistics, national accounts data have been revised from 2006 onward; the new base year is 2006.',\n",
              "       'Based on official government statistics released 6 April, 2014, national accounts data have been revised from 2010 onward; the new base year is 2010. The new GDP data are 60 to 75 percent higher than previously reported and incorporate improved data sources and methodology.',\n",
              "       'April 2013 database update: Based on official government statistics, national accounts data were revised for 1994 onward; the base year changed to 2006.',\n",
              "       'A simple multiplier is used to convert the national currencies of EMU members to euros. The following irrevocable euro conversion rate was adopted by the EU Council on January 1, 1999: 1 euro = 2.20371 Netherlands guilder. Please note that historical data before 1999 are not actual euros and are not comparable or suitable for aggregation across countries.',\n",
              "       'Fiscal year end: July 14; reporting period for national accounts data: FY.',\n",
              "       'OECD members aggregate (all, including developing countries).',\n",
              "       'Fiscal year end: June 30; reporting period for national accounts data: FY. The new base year is 2005/06.',\n",
              "       'Source for GNI and net income from abroad is changed to national statistical office from central bank. April 2012 database update: National accounts data were revised for 1998 onward. Because intellectual property products are now reported as a part of gross fixed capital formation, gross domestic product (GDP) in current prices averaged 4 percent higher than previous estimates.',\n",
              "       'Fiscal year ends on September 30; reporting period for national accounts data: FY. National accounts data are revised based on IMF reports.',\n",
              "       'Fiscal year end: June 30; reporting period for national accounts data: FY. April 2012 database update: Based on data from the Instituto de Estadísticas de Puerto Rico, national accounts data were revised for 2001 onward.',\n",
              "       'A simple multiplier is used to convert the national currencies of EMU members to euros. The following irrevocable euro conversion rate was adopted by the EU Council on January 1, 1999: 1 euro = 200.482 Portuguese escudo. Please note that historical data before 1999 are not actual euros and are not comparable or suitable for aggregation across countries.',\n",
              "       'National accounts data have been revised from 1960 onward. The methodology and base year have not changed but the output of two hydroelectric plants (shared with neighboring countries) has been added raising GDP from previous estimates. On the supply side, it was added in \"gas, electricity and water.\" On the demand side changes were mainly to exports, but also for imports, investment and consumption. National accounts price valuations for 1991 to 2012 have also been corrected and changed from VAP to VAB.',\n",
              "       'National accounts have been revised based on data from the National Statistical Institute; the new base year is 2000.',\n",
              "       'Based on official government statistics, national accounts data are revised for 2006 onward; the new base year is 2011.',\n",
              "       'South Asia regional aggregate. There are no economies in South Asia classified as high income.',\n",
              "       'Total population data are reported separately for Sudan and South Sudan; see specific notes for other demographic-related series. National accounts data exclude South Sudan after July 9, 2011. Other data reported for Sudan include South Sudan unless otherwise noted.',\n",
              "       'Fiscal year end: March 31; reporting period for national accounts data: CY. Country reports using a blend of SNA 1993 and SNA 2008. April 2012 database update: National accounts time series were replaced with official government statistics.',\n",
              "       'National accounts data have been revised from 2007 to 2013 based on IMF reports.',\n",
              "       'Fiscal year end: June 30; reporting period for national accounts data: CY. April 2013 database update: Based on official government statistics, national accounts data were revised for 1990 onward; the base year changed to 2006.',\n",
              "       'Montenegro declared independence from Serbia and Montenegro on June 3, 2006. Where available, data for each country are shown separately. However, for Serbia, some indicators, such as those series for which data appear only for Serbia and not Montenegro--e.g., aid, environment, external debt, balance of payments, various social indicators excluding population--continue to include data for Montenegro through 2005. Moreover, data from 1999 onward for Serbia for most indicators exclude data for Kosovo, 1999 being the year when Kosovo became a territory under international administration pursuant to UN Security Council Resolution 1244 (1999); any exceptions are noted. Kosovo became a World Bank member on June 29, 2009; available data are shown separately for Kosovo. In 2011, the Statistical Office of Serbia improved the methodology of national accounts data for 2003 onward. Specifically, the classification of sectors was revised, and GDP is now calculated using chain linked volumes in 2005 prices.',\n",
              "       'Sub-Saharan Africa regional aggregate (does not include high-income economies).',\n",
              "       \"South Sudan declared its independence on July 9, 2011. Data are shown separately for South Sudan where available. However, data reported for Sudan include South Sudan unless otherwise noted. Though limited data are available in the WDI database for South Sudan, additional data are available from South Sudan's National Bureau of Statistics (http://ssnbs.org/).\",\n",
              "       'Sub-Saharan Africa regional aggregate (including high-income economies).',\n",
              "       'Based on IMF data, national accounts data have been revised for 2000 onward; the new base year is 2000.',\n",
              "       'A simple multiplier is used to convert the national currencies of EMU members to euros. The following irrevocable euro conversion rate entered into force on January 1, 2009: 1 euro = 30.126 Slovak koruna. Please note that historical data are not actual euros and are not comparable or suitable for aggregation across countries.',\n",
              "       'A simple multiplier is used to convert the national currencies of EMU members to euros. The following irrevocable euro conversion rate entered into force on January 1, 2007: 1 euro = 239.64 Slovenian tolar. Please note that historical data are not actual euros and are not comparable or suitable for aggregation across countries.',\n",
              "       'Fiscal year end: March 31; reporting period for national accounts data: CY. In 2011, the Central Statistical Office revised national accounts data for 1990 onward.',\n",
              "       'April 2013 database update: Based on official government statistics, national accounts data were revised for 1976 onward; the base year changed to 2006.',\n",
              "       'April 2013 database update: Based on data from the Central Bureau of Statistics, national accounts data were revised for 2003 onward.',\n",
              "       'Based on IMF data, national accounts data have been revised for 2005 onward; the new base year is 2005.',\n",
              "       'April 2013 database update: Based on IMF data, national accounts data have been revised for 2000; the new base year is 2000.',\n",
              "       'Fiscal year end: September 30; reporting period for national accounts data: CY.',\n",
              "       'On January 1, 2009, the Turkmen manat was redenominated (1 new manat = 5,000 old manats).',\n",
              "       'Based on official government statistics, national account data have been revised, and value added is measured at basic prices; the new base year is 2010.',\n",
              "       'Fiscal year ends on June 30; reporting period for national accounts data: FY. April 2013 database update: Based on data from the National Bureau of Statistics, national accounts data were revised; the base year changed to 2010/11.',\n",
              "       'National accounts data from 2005 onward have been revised based on data published by the Tunisian authorities. April 2012 database update: Based on data from the Central Bank and its Statistical Bulletin, national accounts data were revised for 1997 onward.',\n",
              "       'Based on data from the IMF, World Bank and government official statistics, national accounts data have been revised from 2006 onward. Value added is measured at producer prices up to 1999 and at basic prices from 2000 onward.',\n",
              "       'Fiscal year end: June 30; reporting period for national accounts data: FY. In 2011, the Bureau of Statistics revised national accounts series for 1998 onward; the base year for constant price series changed to 2001/02.',\n",
              "       'Upper middle income group aggregate. Upper-middle-income economies are those in which 2013 GNI per capita was between $4,126 and $12,745.',\n",
              "       'In 2011, the Central Bank revised national accounts data for 2006 onward.',\n",
              "       'Based on data from the Vietnam Statistics Office, national accounts data have been revised from 2000 onward; the new base year is 2010.',\n",
              "       'Based on official government statistics, value added is measured at producer prices through 1997 and at basic prices from 1998 onward.',\n",
              "       'World aggregate.',\n",
              "       'Fiscal year ends on June 30; reporting period for national accounts data: FY. Data are revised from Samoa Bureau of Statistics and Central Bank of Samoa.',\n",
              "       'Kosovo became a World Bank member on June 29, 2009. Since 1999, Kosovo has been a territory under international administration pursuant to UN Security Council Resolution 1244 (1999).',\n",
              "       'Based on official government statistics and International Monetary Fund data, national accounts data have been revised for 1990 onward.',\n",
              "       'National accounts data have rebased to reflect the January 1, 2013, introduction of the new Zambian kwacha at a rate of 1,000 old kwacha = 1 new kwacha.',\n",
              "       'Fiscal year end: June 30; reporting period for national accounts data: CY. As of January 2009, multiple hard currencies, such as rand, pound sterling, euro and U.S. dollar are in use. Data are reported in U.S. dollars, the most-used currency.'],\n",
              "      dtype=object)"
            ]
          },
          "metadata": {
            "tags": []
          },
          "execution_count": 140
        }
      ]
    },
    {
      "cell_type": "code",
      "metadata": {
        "colab": {
          "base_uri": "https://localhost:8080/"
        },
        "id": "5UaVXmGISXhV",
        "outputId": "f4519b83-1633-4483-b665-a5e9210c7859"
      },
      "source": [
        "df_country['Region'].unique()"
      ],
      "execution_count": 141,
      "outputs": [
        {
          "output_type": "execute_result",
          "data": {
            "text/plain": [
              "array(['Latin America & Caribbean', 'South Asia', 'Sub-Saharan Africa',\n",
              "       'Europe & Central Asia', nan, 'Middle East & North Africa',\n",
              "       'East Asia & Pacific', 'North America'], dtype=object)"
            ]
          },
          "metadata": {
            "tags": []
          },
          "execution_count": 141
        }
      ]
    },
    {
      "cell_type": "code",
      "metadata": {
        "id": "AQ8X2COooxjC",
        "colab": {
          "base_uri": "https://localhost:8080/"
        },
        "outputId": "dcced31e-1efb-45e0-a5e9-c34d4c8ce5b2"
      },
      "source": [
        "df_country['Country Code'].nunique()"
      ],
      "execution_count": 142,
      "outputs": [
        {
          "output_type": "execute_result",
          "data": {
            "text/plain": [
              "241"
            ]
          },
          "metadata": {
            "tags": []
          },
          "execution_count": 142
        }
      ]
    },
    {
      "cell_type": "code",
      "metadata": {
        "id": "VPea_29mY93p",
        "colab": {
          "base_uri": "https://localhost:8080/",
          "height": 318
        },
        "outputId": "cff34e15-8546-4201-bb07-d09e737f95af"
      },
      "source": [
        "df_data.head(2)"
      ],
      "execution_count": 143,
      "outputs": [
        {
          "output_type": "execute_result",
          "data": {
            "text/html": [
              "<div>\n",
              "<style scoped>\n",
              "    .dataframe tbody tr th:only-of-type {\n",
              "        vertical-align: middle;\n",
              "    }\n",
              "\n",
              "    .dataframe tbody tr th {\n",
              "        vertical-align: top;\n",
              "    }\n",
              "\n",
              "    .dataframe thead th {\n",
              "        text-align: right;\n",
              "    }\n",
              "</style>\n",
              "<table border=\"1\" class=\"dataframe\">\n",
              "  <thead>\n",
              "    <tr style=\"text-align: right;\">\n",
              "      <th></th>\n",
              "      <th>Country Name</th>\n",
              "      <th>Country Code</th>\n",
              "      <th>Indicator Name</th>\n",
              "      <th>Indicator Code</th>\n",
              "      <th>1970</th>\n",
              "      <th>1971</th>\n",
              "      <th>1972</th>\n",
              "      <th>1973</th>\n",
              "      <th>1974</th>\n",
              "      <th>1975</th>\n",
              "      <th>1976</th>\n",
              "      <th>1977</th>\n",
              "      <th>1978</th>\n",
              "      <th>1979</th>\n",
              "      <th>1980</th>\n",
              "      <th>1981</th>\n",
              "      <th>1982</th>\n",
              "      <th>1983</th>\n",
              "      <th>1984</th>\n",
              "      <th>1985</th>\n",
              "      <th>1986</th>\n",
              "      <th>1987</th>\n",
              "      <th>1988</th>\n",
              "      <th>1989</th>\n",
              "      <th>1990</th>\n",
              "      <th>1991</th>\n",
              "      <th>1992</th>\n",
              "      <th>1993</th>\n",
              "      <th>1994</th>\n",
              "      <th>1995</th>\n",
              "      <th>1996</th>\n",
              "      <th>1997</th>\n",
              "      <th>1998</th>\n",
              "      <th>1999</th>\n",
              "      <th>2000</th>\n",
              "      <th>2001</th>\n",
              "      <th>2002</th>\n",
              "      <th>2003</th>\n",
              "      <th>2004</th>\n",
              "      <th>2005</th>\n",
              "      <th>2006</th>\n",
              "      <th>2007</th>\n",
              "      <th>2008</th>\n",
              "      <th>2009</th>\n",
              "      <th>2010</th>\n",
              "      <th>2011</th>\n",
              "      <th>2012</th>\n",
              "      <th>2013</th>\n",
              "      <th>2014</th>\n",
              "      <th>2015</th>\n",
              "      <th>2016</th>\n",
              "      <th>2017</th>\n",
              "      <th>2020</th>\n",
              "      <th>2025</th>\n",
              "      <th>2030</th>\n",
              "      <th>2035</th>\n",
              "      <th>2040</th>\n",
              "      <th>2045</th>\n",
              "      <th>2050</th>\n",
              "      <th>2055</th>\n",
              "      <th>2060</th>\n",
              "      <th>2065</th>\n",
              "      <th>2070</th>\n",
              "      <th>2075</th>\n",
              "      <th>2080</th>\n",
              "      <th>2085</th>\n",
              "      <th>2090</th>\n",
              "      <th>2095</th>\n",
              "      <th>2100</th>\n",
              "      <th>Unnamed: 69</th>\n",
              "    </tr>\n",
              "  </thead>\n",
              "  <tbody>\n",
              "    <tr>\n",
              "      <th>0</th>\n",
              "      <td>Arab World</td>\n",
              "      <td>ARB</td>\n",
              "      <td>Adjusted net enrolment rate, lower secondary, ...</td>\n",
              "      <td>UIS.NERA.2</td>\n",
              "      <td>NaN</td>\n",
              "      <td>NaN</td>\n",
              "      <td>NaN</td>\n",
              "      <td>NaN</td>\n",
              "      <td>NaN</td>\n",
              "      <td>NaN</td>\n",
              "      <td>NaN</td>\n",
              "      <td>NaN</td>\n",
              "      <td>NaN</td>\n",
              "      <td>NaN</td>\n",
              "      <td>NaN</td>\n",
              "      <td>NaN</td>\n",
              "      <td>NaN</td>\n",
              "      <td>NaN</td>\n",
              "      <td>NaN</td>\n",
              "      <td>NaN</td>\n",
              "      <td>NaN</td>\n",
              "      <td>NaN</td>\n",
              "      <td>NaN</td>\n",
              "      <td>NaN</td>\n",
              "      <td>NaN</td>\n",
              "      <td>NaN</td>\n",
              "      <td>NaN</td>\n",
              "      <td>NaN</td>\n",
              "      <td>NaN</td>\n",
              "      <td>NaN</td>\n",
              "      <td>NaN</td>\n",
              "      <td>NaN</td>\n",
              "      <td>NaN</td>\n",
              "      <td>NaN</td>\n",
              "      <td>NaN</td>\n",
              "      <td>NaN</td>\n",
              "      <td>NaN</td>\n",
              "      <td>NaN</td>\n",
              "      <td>NaN</td>\n",
              "      <td>NaN</td>\n",
              "      <td>NaN</td>\n",
              "      <td>NaN</td>\n",
              "      <td>NaN</td>\n",
              "      <td>NaN</td>\n",
              "      <td>NaN</td>\n",
              "      <td>NaN</td>\n",
              "      <td>NaN</td>\n",
              "      <td>NaN</td>\n",
              "      <td>NaN</td>\n",
              "      <td>NaN</td>\n",
              "      <td>NaN</td>\n",
              "      <td>NaN</td>\n",
              "      <td>NaN</td>\n",
              "      <td>NaN</td>\n",
              "      <td>NaN</td>\n",
              "      <td>NaN</td>\n",
              "      <td>NaN</td>\n",
              "      <td>NaN</td>\n",
              "      <td>NaN</td>\n",
              "      <td>NaN</td>\n",
              "      <td>NaN</td>\n",
              "      <td>NaN</td>\n",
              "      <td>NaN</td>\n",
              "      <td>NaN</td>\n",
              "      <td>NaN</td>\n",
              "      <td>NaN</td>\n",
              "      <td>NaN</td>\n",
              "      <td>NaN</td>\n",
              "      <td>NaN</td>\n",
              "      <td>NaN</td>\n",
              "    </tr>\n",
              "    <tr>\n",
              "      <th>1</th>\n",
              "      <td>Arab World</td>\n",
              "      <td>ARB</td>\n",
              "      <td>Adjusted net enrolment rate, lower secondary, ...</td>\n",
              "      <td>UIS.NERA.2.F</td>\n",
              "      <td>NaN</td>\n",
              "      <td>NaN</td>\n",
              "      <td>NaN</td>\n",
              "      <td>NaN</td>\n",
              "      <td>NaN</td>\n",
              "      <td>NaN</td>\n",
              "      <td>NaN</td>\n",
              "      <td>NaN</td>\n",
              "      <td>NaN</td>\n",
              "      <td>NaN</td>\n",
              "      <td>NaN</td>\n",
              "      <td>NaN</td>\n",
              "      <td>NaN</td>\n",
              "      <td>NaN</td>\n",
              "      <td>NaN</td>\n",
              "      <td>NaN</td>\n",
              "      <td>NaN</td>\n",
              "      <td>NaN</td>\n",
              "      <td>NaN</td>\n",
              "      <td>NaN</td>\n",
              "      <td>NaN</td>\n",
              "      <td>NaN</td>\n",
              "      <td>NaN</td>\n",
              "      <td>NaN</td>\n",
              "      <td>NaN</td>\n",
              "      <td>NaN</td>\n",
              "      <td>NaN</td>\n",
              "      <td>NaN</td>\n",
              "      <td>NaN</td>\n",
              "      <td>NaN</td>\n",
              "      <td>NaN</td>\n",
              "      <td>NaN</td>\n",
              "      <td>NaN</td>\n",
              "      <td>NaN</td>\n",
              "      <td>NaN</td>\n",
              "      <td>NaN</td>\n",
              "      <td>NaN</td>\n",
              "      <td>NaN</td>\n",
              "      <td>NaN</td>\n",
              "      <td>NaN</td>\n",
              "      <td>NaN</td>\n",
              "      <td>NaN</td>\n",
              "      <td>NaN</td>\n",
              "      <td>NaN</td>\n",
              "      <td>NaN</td>\n",
              "      <td>NaN</td>\n",
              "      <td>NaN</td>\n",
              "      <td>NaN</td>\n",
              "      <td>NaN</td>\n",
              "      <td>NaN</td>\n",
              "      <td>NaN</td>\n",
              "      <td>NaN</td>\n",
              "      <td>NaN</td>\n",
              "      <td>NaN</td>\n",
              "      <td>NaN</td>\n",
              "      <td>NaN</td>\n",
              "      <td>NaN</td>\n",
              "      <td>NaN</td>\n",
              "      <td>NaN</td>\n",
              "      <td>NaN</td>\n",
              "      <td>NaN</td>\n",
              "      <td>NaN</td>\n",
              "      <td>NaN</td>\n",
              "      <td>NaN</td>\n",
              "      <td>NaN</td>\n",
              "      <td>NaN</td>\n",
              "    </tr>\n",
              "  </tbody>\n",
              "</table>\n",
              "</div>"
            ],
            "text/plain": [
              "  Country Name Country Code  ... 2100 Unnamed: 69\n",
              "0   Arab World          ARB  ...  NaN         NaN\n",
              "1   Arab World          ARB  ...  NaN         NaN\n",
              "\n",
              "[2 rows x 70 columns]"
            ]
          },
          "metadata": {
            "tags": []
          },
          "execution_count": 143
        }
      ]
    },
    {
      "cell_type": "code",
      "metadata": {
        "id": "FoY4RrkVY91B",
        "colab": {
          "base_uri": "https://localhost:8080/"
        },
        "outputId": "a9d8de98-7c2c-4a87-9afb-eb4d4bc86c3b"
      },
      "source": [
        "df_data.info()"
      ],
      "execution_count": 144,
      "outputs": [
        {
          "output_type": "stream",
          "text": [
            "<class 'pandas.core.frame.DataFrame'>\n",
            "RangeIndex: 886930 entries, 0 to 886929\n",
            "Data columns (total 70 columns):\n",
            " #   Column          Non-Null Count   Dtype  \n",
            "---  ------          --------------   -----  \n",
            " 0   Country Name    886930 non-null  object \n",
            " 1   Country Code    886930 non-null  object \n",
            " 2   Indicator Name  886930 non-null  object \n",
            " 3   Indicator Code  886930 non-null  object \n",
            " 4   1970            72288 non-null   float64\n",
            " 5   1971            35537 non-null   float64\n",
            " 6   1972            35619 non-null   float64\n",
            " 7   1973            35545 non-null   float64\n",
            " 8   1974            35730 non-null   float64\n",
            " 9   1975            87306 non-null   float64\n",
            " 10  1976            37483 non-null   float64\n",
            " 11  1977            37574 non-null   float64\n",
            " 12  1978            37576 non-null   float64\n",
            " 13  1979            36809 non-null   float64\n",
            " 14  1980            89122 non-null   float64\n",
            " 15  1981            38777 non-null   float64\n",
            " 16  1982            37511 non-null   float64\n",
            " 17  1983            38460 non-null   float64\n",
            " 18  1984            38606 non-null   float64\n",
            " 19  1985            90296 non-null   float64\n",
            " 20  1986            39372 non-null   float64\n",
            " 21  1987            38641 non-null   float64\n",
            " 22  1988            38552 non-null   float64\n",
            " 23  1989            37540 non-null   float64\n",
            " 24  1990            124405 non-null  float64\n",
            " 25  1991            74437 non-null   float64\n",
            " 26  1992            75543 non-null   float64\n",
            " 27  1993            75793 non-null   float64\n",
            " 28  1994            77462 non-null   float64\n",
            " 29  1995            131361 non-null  float64\n",
            " 30  1996            76807 non-null   float64\n",
            " 31  1997            73453 non-null   float64\n",
            " 32  1998            84914 non-null   float64\n",
            " 33  1999            118839 non-null  float64\n",
            " 34  2000            176676 non-null  float64\n",
            " 35  2001            123509 non-null  float64\n",
            " 36  2002            124205 non-null  float64\n",
            " 37  2003            130363 non-null  float64\n",
            " 38  2004            128814 non-null  float64\n",
            " 39  2005            184108 non-null  float64\n",
            " 40  2006            140312 non-null  float64\n",
            " 41  2007            137272 non-null  float64\n",
            " 42  2008            134387 non-null  float64\n",
            " 43  2009            142108 non-null  float64\n",
            " 44  2010            242442 non-null  float64\n",
            " 45  2011            146012 non-null  float64\n",
            " 46  2012            147264 non-null  float64\n",
            " 47  2013            137509 non-null  float64\n",
            " 48  2014            113789 non-null  float64\n",
            " 49  2015            131058 non-null  float64\n",
            " 50  2016            16460 non-null   float64\n",
            " 51  2017            143 non-null     float64\n",
            " 52  2020            51436 non-null   float64\n",
            " 53  2025            51436 non-null   float64\n",
            " 54  2030            51436 non-null   float64\n",
            " 55  2035            51436 non-null   float64\n",
            " 56  2040            51436 non-null   float64\n",
            " 57  2045            51436 non-null   float64\n",
            " 58  2050            51436 non-null   float64\n",
            " 59  2055            51436 non-null   float64\n",
            " 60  2060            51436 non-null   float64\n",
            " 61  2065            51436 non-null   float64\n",
            " 62  2070            51436 non-null   float64\n",
            " 63  2075            51436 non-null   float64\n",
            " 64  2080            51436 non-null   float64\n",
            " 65  2085            51436 non-null   float64\n",
            " 66  2090            51436 non-null   float64\n",
            " 67  2095            51436 non-null   float64\n",
            " 68  2100            51436 non-null   float64\n",
            " 69  Unnamed: 69     0 non-null       float64\n",
            "dtypes: float64(66), object(4)\n",
            "memory usage: 473.7+ MB\n"
          ],
          "name": "stdout"
        }
      ]
    },
    {
      "cell_type": "code",
      "metadata": {
        "id": "YGA31uAczpyX",
        "colab": {
          "base_uri": "https://localhost:8080/"
        },
        "outputId": "96c6f0a5-e7d4-42d3-d1ad-746933dcce82"
      },
      "source": [
        "df_data['Indicator Name'].nunique()"
      ],
      "execution_count": 145,
      "outputs": [
        {
          "output_type": "execute_result",
          "data": {
            "text/plain": [
              "3665"
            ]
          },
          "metadata": {
            "tags": []
          },
          "execution_count": 145
        }
      ]
    },
    {
      "cell_type": "code",
      "metadata": {
        "colab": {
          "base_uri": "https://localhost:8080/"
        },
        "id": "u9xCOkmp-DkS",
        "outputId": "9df2c25d-7a81-40e2-815e-2496e153057b"
      },
      "source": [
        "df_data['Country Code'].nunique()"
      ],
      "execution_count": 146,
      "outputs": [
        {
          "output_type": "execute_result",
          "data": {
            "text/plain": [
              "242"
            ]
          },
          "metadata": {
            "tags": []
          },
          "execution_count": 146
        }
      ]
    },
    {
      "cell_type": "code",
      "metadata": {
        "id": "v5WzelDDuXM4",
        "colab": {
          "base_uri": "https://localhost:8080/"
        },
        "outputId": "b72104aa-509e-4bd0-c91f-26adbf85c406"
      },
      "source": [
        "df_data.columns"
      ],
      "execution_count": 147,
      "outputs": [
        {
          "output_type": "execute_result",
          "data": {
            "text/plain": [
              "Index(['Country Name', 'Country Code', 'Indicator Name', 'Indicator Code',\n",
              "       '1970', '1971', '1972', '1973', '1974', '1975', '1976', '1977', '1978',\n",
              "       '1979', '1980', '1981', '1982', '1983', '1984', '1985', '1986', '1987',\n",
              "       '1988', '1989', '1990', '1991', '1992', '1993', '1994', '1995', '1996',\n",
              "       '1997', '1998', '1999', '2000', '2001', '2002', '2003', '2004', '2005',\n",
              "       '2006', '2007', '2008', '2009', '2010', '2011', '2012', '2013', '2014',\n",
              "       '2015', '2016', '2017', '2020', '2025', '2030', '2035', '2040', '2045',\n",
              "       '2050', '2055', '2060', '2065', '2070', '2075', '2080', '2085', '2090',\n",
              "       '2095', '2100', 'Unnamed: 69'],\n",
              "      dtype='object')"
            ]
          },
          "metadata": {
            "tags": []
          },
          "execution_count": 147
        }
      ]
    },
    {
      "cell_type": "code",
      "metadata": {
        "id": "icD4NtZBsAZr"
      },
      "source": [
        "df_data_subset2 = df_data[~df_data['2020'].isna()][['Country Name', 'Country Code', 'Indicator Name', 'Indicator Code', '2020', '2025', '2030', '2035', '2040', '2045',\n",
        "       '2050', '2055', '2060', '2065', '2070', '2075', '2080', '2085', '2090',\n",
        "       '2095', '2100']]"
      ],
      "execution_count": 16,
      "outputs": []
    },
    {
      "cell_type": "code",
      "metadata": {
        "id": "jvdSrfgesAcN",
        "colab": {
          "base_uri": "https://localhost:8080/"
        },
        "outputId": "6e175967-58d3-4b39-9e85-5eeef272d704"
      },
      "source": [
        "df_data_subset2['Indicator Name'].unique()"
      ],
      "execution_count": 17,
      "outputs": [
        {
          "output_type": "execute_result",
          "data": {
            "text/plain": [
              "array(['Wittgenstein Projection: Mean years of schooling. Age 0-19. Female',\n",
              "       'Wittgenstein Projection: Mean years of schooling. Age 0-19. Male',\n",
              "       'Wittgenstein Projection: Mean years of schooling. Age 0-19. Total',\n",
              "       'Wittgenstein Projection: Mean years of schooling. Age 15+. Female',\n",
              "       'Wittgenstein Projection: Mean Years of Schooling. Age 15+. Gender Gap',\n",
              "       'Wittgenstein Projection: Mean years of schooling. Age 15+. Male',\n",
              "       'Wittgenstein Projection: Mean years of schooling. Age 15+. Total',\n",
              "       'Wittgenstein Projection: Mean years of schooling. Age 15-19. Female',\n",
              "       'Wittgenstein Projection: Mean years of schooling. Age 15-19. Male',\n",
              "       'Wittgenstein Projection: Mean years of schooling. Age 15-19. Total',\n",
              "       'Wittgenstein Projection: Mean years of schooling. Age 20-24. Female',\n",
              "       'Wittgenstein Projection: Mean years of schooling. Age 20-24. Male',\n",
              "       'Wittgenstein Projection: Mean years of schooling. Age 20-24. Total',\n",
              "       'Wittgenstein Projection: Mean years of schooling. Age 20-39. Female',\n",
              "       'Wittgenstein Projection: Mean years of schooling. Age 20-39. Male',\n",
              "       'Wittgenstein Projection: Mean years of schooling. Age 20-39. Total',\n",
              "       'Wittgenstein Projection: Mean years of schooling. Age 20-64. Female',\n",
              "       'Wittgenstein Projection: Mean years of schooling. Age 20-64. Male',\n",
              "       'Wittgenstein Projection: Mean years of schooling. Age 20-64. Total',\n",
              "       'Wittgenstein Projection: Mean years of schooling. Age 25+. Female',\n",
              "       'Wittgenstein Projection: Mean Years of Schooling. Age 25+. Gender Gap',\n",
              "       'Wittgenstein Projection: Mean years of schooling. Age 25+. Male',\n",
              "       'Wittgenstein Projection: Mean years of schooling. Age 25+. Total',\n",
              "       'Wittgenstein Projection: Mean years of schooling. Age 25-29. Female',\n",
              "       'Wittgenstein Projection: Mean years of schooling. Age 25-29. Male',\n",
              "       'Wittgenstein Projection: Mean years of schooling. Age 25-29. Total',\n",
              "       'Wittgenstein Projection: Mean years of schooling. Age 40-64. Female',\n",
              "       'Wittgenstein Projection: Mean years of schooling. Age 40-64. Male',\n",
              "       'Wittgenstein Projection: Mean years of schooling. Age 40-64. Total',\n",
              "       'Wittgenstein Projection: Mean years of schooling. Age 60+. Female',\n",
              "       'Wittgenstein Projection: Mean years of schooling. Age 60+. Male',\n",
              "       'Wittgenstein Projection: Mean years of schooling. Age 60+. Total',\n",
              "       'Wittgenstein Projection: Mean years of schooling. Age 65+. Female',\n",
              "       'Wittgenstein Projection: Mean years of schooling. Age 65+. Male',\n",
              "       'Wittgenstein Projection: Mean years of schooling. Age 65+. Total',\n",
              "       'Wittgenstein Projection: Mean years of schooling. Age 80+. Female',\n",
              "       'Wittgenstein Projection: Mean years of schooling. Age 80+. Male',\n",
              "       'Wittgenstein Projection: Mean years of schooling. Age 80+. Total',\n",
              "       'Wittgenstein Projection: Percentage of the population age 15+ by highest level of educational attainment. Incomplete Primary. Female',\n",
              "       'Wittgenstein Projection: Percentage of the population age 15+ by highest level of educational attainment. Incomplete Primary. Male',\n",
              "       'Wittgenstein Projection: Percentage of the population age 15+ by highest level of educational attainment. Incomplete Primary. Total',\n",
              "       'Wittgenstein Projection: Percentage of the population age 15+ by highest level of educational attainment. Lower Secondary. Female',\n",
              "       'Wittgenstein Projection: Percentage of the population age 15+ by highest level of educational attainment. Lower Secondary. Male',\n",
              "       'Wittgenstein Projection: Percentage of the population age 15+ by highest level of educational attainment. Lower Secondary. Total',\n",
              "       'Wittgenstein Projection: Percentage of the population age 15+ by highest level of educational attainment. No Education. Female',\n",
              "       'Wittgenstein Projection: Percentage of the population age 15+ by highest level of educational attainment. No Education. Male',\n",
              "       'Wittgenstein Projection: Percentage of the population age 15+ by highest level of educational attainment. No Education. Total',\n",
              "       'Wittgenstein Projection: Percentage of the population age 15+ by highest level of educational attainment. Post Secondary. Female',\n",
              "       'Wittgenstein Projection: Percentage of the population age 15+ by highest level of educational attainment. Post Secondary. Male',\n",
              "       'Wittgenstein Projection: Percentage of the population age 15+ by highest level of educational attainment. Post Secondary. Total',\n",
              "       'Wittgenstein Projection: Percentage of the population age 15+ by highest level of educational attainment. Primary. Female',\n",
              "       'Wittgenstein Projection: Percentage of the population age 15+ by highest level of educational attainment. Primary. Male',\n",
              "       'Wittgenstein Projection: Percentage of the population age 15+ by highest level of educational attainment. Primary. Total',\n",
              "       'Wittgenstein Projection: Percentage of the population age 15+ by highest level of educational attainment. Upper Secondary. Female',\n",
              "       'Wittgenstein Projection: Percentage of the population age 15+ by highest level of educational attainment. Upper Secondary. Male',\n",
              "       'Wittgenstein Projection: Percentage of the population age 15+ by highest level of educational attainment. Upper Secondary. Total',\n",
              "       'Wittgenstein Projection: Percentage of the population age 15-19 by highest level of educational attainment. Incomplete Primary. Female',\n",
              "       'Wittgenstein Projection: Percentage of the population age 15-19 by highest level of educational attainment. Incomplete Primary. Male',\n",
              "       'Wittgenstein Projection: Percentage of the population age 15-19 by highest level of educational attainment. Incomplete Primary. Total',\n",
              "       'Wittgenstein Projection: Percentage of the population age 15-19 by highest level of educational attainment. Lower Secondary. Female',\n",
              "       'Wittgenstein Projection: Percentage of the population age 15-19 by highest level of educational attainment. Lower Secondary. Male',\n",
              "       'Wittgenstein Projection: Percentage of the population age 15-19 by highest level of educational attainment. Lower Secondary. Total',\n",
              "       'Wittgenstein Projection: Percentage of the population age 15-19 by highest level of educational attainment. No Education. Female',\n",
              "       'Wittgenstein Projection: Percentage of the population age 15-19 by highest level of educational attainment. No Education. Male',\n",
              "       'Wittgenstein Projection: Percentage of the population age 15-19 by highest level of educational attainment. No Education. Total',\n",
              "       'Wittgenstein Projection: Percentage of the population age 15-19 by highest level of educational attainment. Post Secondary. Female',\n",
              "       'Wittgenstein Projection: Percentage of the population age 15-19 by highest level of educational attainment. Post Secondary. Male',\n",
              "       'Wittgenstein Projection: Percentage of the population age 15-19 by highest level of educational attainment. Post Secondary. Total',\n",
              "       'Wittgenstein Projection: Percentage of the population age 15-19 by highest level of educational attainment. Primary. Female',\n",
              "       'Wittgenstein Projection: Percentage of the population age 15-19 by highest level of educational attainment. Primary. Male',\n",
              "       'Wittgenstein Projection: Percentage of the population age 15-19 by highest level of educational attainment. Primary. Total',\n",
              "       'Wittgenstein Projection: Percentage of the population age 15-19 by highest level of educational attainment. Upper Secondary. Female',\n",
              "       'Wittgenstein Projection: Percentage of the population age 15-19 by highest level of educational attainment. Upper Secondary. Male',\n",
              "       'Wittgenstein Projection: Percentage of the population age 15-19 by highest level of educational attainment. Upper Secondary. Total',\n",
              "       'Wittgenstein Projection: Percentage of the population age 20-24 by highest level of educational attainment. Incomplete Primary. Female',\n",
              "       'Wittgenstein Projection: Percentage of the population age 20-24 by highest level of educational attainment. Incomplete Primary. Male',\n",
              "       'Wittgenstein Projection: Percentage of the population age 20-24 by highest level of educational attainment. Incomplete Primary. Total',\n",
              "       'Wittgenstein Projection: Percentage of the population age 20-24 by highest level of educational attainment. Lower Secondary. Female',\n",
              "       'Wittgenstein Projection: Percentage of the population age 20-24 by highest level of educational attainment. Lower Secondary. Male',\n",
              "       'Wittgenstein Projection: Percentage of the population age 20-24 by highest level of educational attainment. Lower Secondary. Total',\n",
              "       'Wittgenstein Projection: Percentage of the population age 20-24 by highest level of educational attainment. No Education. Female',\n",
              "       'Wittgenstein Projection: Percentage of the population age 20-24 by highest level of educational attainment. No Education. Male',\n",
              "       'Wittgenstein Projection: Percentage of the population age 20-24 by highest level of educational attainment. No Education. Total',\n",
              "       'Wittgenstein Projection: Percentage of the population age 20-24 by highest level of educational attainment. Post Secondary. Female',\n",
              "       'Wittgenstein Projection: Percentage of the population age 20-24 by highest level of educational attainment. Post Secondary. Male',\n",
              "       'Wittgenstein Projection: Percentage of the population age 20-24 by highest level of educational attainment. Post Secondary. Total',\n",
              "       'Wittgenstein Projection: Percentage of the population age 20-24 by highest level of educational attainment. Primary. Female',\n",
              "       'Wittgenstein Projection: Percentage of the population age 20-24 by highest level of educational attainment. Primary. Male',\n",
              "       'Wittgenstein Projection: Percentage of the population age 20-24 by highest level of educational attainment. Primary. Total',\n",
              "       'Wittgenstein Projection: Percentage of the population age 20-24 by highest level of educational attainment. Upper Secondary. Female',\n",
              "       'Wittgenstein Projection: Percentage of the population age 20-24 by highest level of educational attainment. Upper Secondary. Male',\n",
              "       'Wittgenstein Projection: Percentage of the population age 20-24 by highest level of educational attainment. Upper Secondary. Total',\n",
              "       'Wittgenstein Projection: Percentage of the population age 20-39 by highest level of educational attainment. Incomplete Primary. Female',\n",
              "       'Wittgenstein Projection: Percentage of the population age 20-39 by highest level of educational attainment. Incomplete Primary. Male',\n",
              "       'Wittgenstein Projection: Percentage of the population age 20-39 by highest level of educational attainment. Incomplete Primary. Total',\n",
              "       'Wittgenstein Projection: Percentage of the population age 20-39 by highest level of educational attainment. Lower Secondary. Female',\n",
              "       'Wittgenstein Projection: Percentage of the population age 20-39 by highest level of educational attainment. Lower Secondary. Male',\n",
              "       'Wittgenstein Projection: Percentage of the population age 20-39 by highest level of educational attainment. Lower Secondary. Total',\n",
              "       'Wittgenstein Projection: Percentage of the population age 20-39 by highest level of educational attainment. No Education. Female',\n",
              "       'Wittgenstein Projection: Percentage of the population age 20-39 by highest level of educational attainment. No Education. Male',\n",
              "       'Wittgenstein Projection: Percentage of the population age 20-39 by highest level of educational attainment. No Education. Total',\n",
              "       'Wittgenstein Projection: Percentage of the population age 20-39 by highest level of educational attainment. Post Secondary. Female',\n",
              "       'Wittgenstein Projection: Percentage of the population age 20-39 by highest level of educational attainment. Post Secondary. Male',\n",
              "       'Wittgenstein Projection: Percentage of the population age 20-39 by highest level of educational attainment. Post Secondary. Total',\n",
              "       'Wittgenstein Projection: Percentage of the population age 20-39 by highest level of educational attainment. Primary. Female',\n",
              "       'Wittgenstein Projection: Percentage of the population age 20-39 by highest level of educational attainment. Primary. Male',\n",
              "       'Wittgenstein Projection: Percentage of the population age 20-39 by highest level of educational attainment. Primary. Total',\n",
              "       'Wittgenstein Projection: Percentage of the population age 20-39 by highest level of educational attainment. Upper Secondary. Female',\n",
              "       'Wittgenstein Projection: Percentage of the population age 20-39 by highest level of educational attainment. Upper Secondary. Male',\n",
              "       'Wittgenstein Projection: Percentage of the population age 20-39 by highest level of educational attainment. Upper Secondary. Total',\n",
              "       'Wittgenstein Projection: Percentage of the population age 20-64 by highest level of educational attainment. Incomplete Primary. Female',\n",
              "       'Wittgenstein Projection: Percentage of the population age 20-64 by highest level of educational attainment. Incomplete Primary. Male',\n",
              "       'Wittgenstein Projection: Percentage of the population age 20-64 by highest level of educational attainment. Incomplete Primary. Total',\n",
              "       'Wittgenstein Projection: Percentage of the population age 20-64 by highest level of educational attainment. Lower Secondary. Female',\n",
              "       'Wittgenstein Projection: Percentage of the population age 20-64 by highest level of educational attainment. Lower Secondary. Male',\n",
              "       'Wittgenstein Projection: Percentage of the population age 20-64 by highest level of educational attainment. Lower Secondary. Total',\n",
              "       'Wittgenstein Projection: Percentage of the population age 20-64 by highest level of educational attainment. No Education. Female',\n",
              "       'Wittgenstein Projection: Percentage of the population age 20-64 by highest level of educational attainment. No Education. Male',\n",
              "       'Wittgenstein Projection: Percentage of the population age 20-64 by highest level of educational attainment. No Education. Total',\n",
              "       'Wittgenstein Projection: Percentage of the population age 20-64 by highest level of educational attainment. Post Secondary. Female',\n",
              "       'Wittgenstein Projection: Percentage of the population age 20-64 by highest level of educational attainment. Post Secondary. Male',\n",
              "       'Wittgenstein Projection: Percentage of the population age 20-64 by highest level of educational attainment. Post Secondary. Total',\n",
              "       'Wittgenstein Projection: Percentage of the population age 20-64 by highest level of educational attainment. Primary. Female',\n",
              "       'Wittgenstein Projection: Percentage of the population age 20-64 by highest level of educational attainment. Primary. Male',\n",
              "       'Wittgenstein Projection: Percentage of the population age 20-64 by highest level of educational attainment. Primary. Total',\n",
              "       'Wittgenstein Projection: Percentage of the population age 20-64 by highest level of educational attainment. Upper Secondary. Female',\n",
              "       'Wittgenstein Projection: Percentage of the population age 20-64 by highest level of educational attainment. Upper Secondary. Male',\n",
              "       'Wittgenstein Projection: Percentage of the population age 20-64 by highest level of educational attainment. Upper Secondary. Total',\n",
              "       'Wittgenstein Projection: Percentage of the population age 25+ by highest level of educational attainment. Incomplete Primary. Female',\n",
              "       'Wittgenstein Projection: Percentage of the population age 25+ by highest level of educational attainment. Incomplete Primary. Male',\n",
              "       'Wittgenstein Projection: Percentage of the population age 25+ by highest level of educational attainment. Incomplete Primary. Total',\n",
              "       'Wittgenstein Projection: Percentage of the population age 25+ by highest level of educational attainment. Lower Secondary. Female',\n",
              "       'Wittgenstein Projection: Percentage of the population age 25+ by highest level of educational attainment. Lower Secondary. Male',\n",
              "       'Wittgenstein Projection: Percentage of the population age 25+ by highest level of educational attainment. Lower Secondary. Total',\n",
              "       'Wittgenstein Projection: Percentage of the population age 25+ by highest level of educational attainment. No Education. Female',\n",
              "       'Wittgenstein Projection: Percentage of the population age 25+ by highest level of educational attainment. No Education. Male',\n",
              "       'Wittgenstein Projection: Percentage of the population age 25+ by highest level of educational attainment. No Education. Total',\n",
              "       'Wittgenstein Projection: Percentage of the population age 25+ by highest level of educational attainment. Post Secondary. Female',\n",
              "       'Wittgenstein Projection: Percentage of the population age 25+ by highest level of educational attainment. Post Secondary. Male',\n",
              "       'Wittgenstein Projection: Percentage of the population age 25+ by highest level of educational attainment. Post Secondary. Total',\n",
              "       'Wittgenstein Projection: Percentage of the population age 25+ by highest level of educational attainment. Primary. Female',\n",
              "       'Wittgenstein Projection: Percentage of the population age 25+ by highest level of educational attainment. Primary. Male',\n",
              "       'Wittgenstein Projection: Percentage of the population age 25+ by highest level of educational attainment. Primary. Total',\n",
              "       'Wittgenstein Projection: Percentage of the population age 25+ by highest level of educational attainment. Upper Secondary. Female',\n",
              "       'Wittgenstein Projection: Percentage of the population age 25+ by highest level of educational attainment. Upper Secondary. Male',\n",
              "       'Wittgenstein Projection: Percentage of the population age 25+ by highest level of educational attainment. Upper Secondary. Total',\n",
              "       'Wittgenstein Projection: Percentage of the population age 25-29 by highest level of educational attainment. Incomplete Primary. Female',\n",
              "       'Wittgenstein Projection: Percentage of the population age 25-29 by highest level of educational attainment. Incomplete Primary. Male',\n",
              "       'Wittgenstein Projection: Percentage of the population age 25-29 by highest level of educational attainment. Incomplete Primary. Total',\n",
              "       'Wittgenstein Projection: Percentage of the population age 25-29 by highest level of educational attainment. Lower Secondary. Female',\n",
              "       'Wittgenstein Projection: Percentage of the population age 25-29 by highest level of educational attainment. Lower Secondary. Male',\n",
              "       'Wittgenstein Projection: Percentage of the population age 25-29 by highest level of educational attainment. Lower Secondary. Total',\n",
              "       'Wittgenstein Projection: Percentage of the population age 25-29 by highest level of educational attainment. No Education. Female',\n",
              "       'Wittgenstein Projection: Percentage of the population age 25-29 by highest level of educational attainment. No Education. Male',\n",
              "       'Wittgenstein Projection: Percentage of the population age 25-29 by highest level of educational attainment. No Education. Total',\n",
              "       'Wittgenstein Projection: Percentage of the population age 25-29 by highest level of educational attainment. Post Secondary. Female',\n",
              "       'Wittgenstein Projection: Percentage of the population age 25-29 by highest level of educational attainment. Post Secondary. Male',\n",
              "       'Wittgenstein Projection: Percentage of the population age 25-29 by highest level of educational attainment. Post Secondary. Total',\n",
              "       'Wittgenstein Projection: Percentage of the population age 25-29 by highest level of educational attainment. Primary. Female',\n",
              "       'Wittgenstein Projection: Percentage of the population age 25-29 by highest level of educational attainment. Primary. Male',\n",
              "       'Wittgenstein Projection: Percentage of the population age 25-29 by highest level of educational attainment. Primary. Total',\n",
              "       'Wittgenstein Projection: Percentage of the population age 25-29 by highest level of educational attainment. Upper Secondary. Female',\n",
              "       'Wittgenstein Projection: Percentage of the population age 25-29 by highest level of educational attainment. Upper Secondary. Male',\n",
              "       'Wittgenstein Projection: Percentage of the population age 25-29 by highest level of educational attainment. Upper Secondary. Total',\n",
              "       'Wittgenstein Projection: Percentage of the population age 40-64 by highest level of educational attainment. Incomplete Primary. Female',\n",
              "       'Wittgenstein Projection: Percentage of the population age 40-64 by highest level of educational attainment. Incomplete Primary. Male',\n",
              "       'Wittgenstein Projection: Percentage of the population age 40-64 by highest level of educational attainment. Incomplete Primary. Total',\n",
              "       'Wittgenstein Projection: Percentage of the population age 40-64 by highest level of educational attainment. Lower Secondary. Female',\n",
              "       'Wittgenstein Projection: Percentage of the population age 40-64 by highest level of educational attainment. Lower Secondary. Male',\n",
              "       'Wittgenstein Projection: Percentage of the population age 40-64 by highest level of educational attainment. Lower Secondary. Total',\n",
              "       'Wittgenstein Projection: Percentage of the population age 40-64 by highest level of educational attainment. No Education. Female',\n",
              "       'Wittgenstein Projection: Percentage of the population age 40-64 by highest level of educational attainment. No Education. Male',\n",
              "       'Wittgenstein Projection: Percentage of the population age 40-64 by highest level of educational attainment. No Education. Total',\n",
              "       'Wittgenstein Projection: Percentage of the population age 40-64 by highest level of educational attainment. Post Secondary. Female',\n",
              "       'Wittgenstein Projection: Percentage of the population age 40-64 by highest level of educational attainment. Post Secondary. Male',\n",
              "       'Wittgenstein Projection: Percentage of the population age 40-64 by highest level of educational attainment. Post Secondary. Total',\n",
              "       'Wittgenstein Projection: Percentage of the population age 40-64 by highest level of educational attainment. Primary. Female',\n",
              "       'Wittgenstein Projection: Percentage of the population age 40-64 by highest level of educational attainment. Primary. Male',\n",
              "       'Wittgenstein Projection: Percentage of the population age 40-64 by highest level of educational attainment. Primary. Total',\n",
              "       'Wittgenstein Projection: Percentage of the population age 40-64 by highest level of educational attainment. Upper Secondary. Female',\n",
              "       'Wittgenstein Projection: Percentage of the population age 40-64 by highest level of educational attainment. Upper Secondary. Male',\n",
              "       'Wittgenstein Projection: Percentage of the population age 40-64 by highest level of educational attainment. Upper Secondary. Total',\n",
              "       'Wittgenstein Projection: Percentage of the population age 60+ by highest level of educational attainment. Incomplete Primary. Female',\n",
              "       'Wittgenstein Projection: Percentage of the population age 60+ by highest level of educational attainment. Incomplete Primary. Male',\n",
              "       'Wittgenstein Projection: Percentage of the population age 60+ by highest level of educational attainment. Incomplete Primary. Total',\n",
              "       'Wittgenstein Projection: Percentage of the population age 60+ by highest level of educational attainment. Lower Secondary. Female',\n",
              "       'Wittgenstein Projection: Percentage of the population age 60+ by highest level of educational attainment. Lower Secondary. Male',\n",
              "       'Wittgenstein Projection: Percentage of the population age 60+ by highest level of educational attainment. Lower Secondary. Total',\n",
              "       'Wittgenstein Projection: Percentage of the population age 60+ by highest level of educational attainment. No Education. Female',\n",
              "       'Wittgenstein Projection: Percentage of the population age 60+ by highest level of educational attainment. No Education. Male',\n",
              "       'Wittgenstein Projection: Percentage of the population age 60+ by highest level of educational attainment. No Education. Total',\n",
              "       'Wittgenstein Projection: Percentage of the population age 60+ by highest level of educational attainment. Post Secondary. Female',\n",
              "       'Wittgenstein Projection: Percentage of the population age 60+ by highest level of educational attainment. Post Secondary. Male',\n",
              "       'Wittgenstein Projection: Percentage of the population age 60+ by highest level of educational attainment. Post Secondary. Total',\n",
              "       'Wittgenstein Projection: Percentage of the population age 60+ by highest level of educational attainment. Primary. Female',\n",
              "       'Wittgenstein Projection: Percentage of the population age 60+ by highest level of educational attainment. Primary. Male',\n",
              "       'Wittgenstein Projection: Percentage of the population age 60+ by highest level of educational attainment. Primary. Total',\n",
              "       'Wittgenstein Projection: Percentage of the population age 60+ by highest level of educational attainment. Upper Secondary. Female',\n",
              "       'Wittgenstein Projection: Percentage of the population age 60+ by highest level of educational attainment. Upper Secondary. Male',\n",
              "       'Wittgenstein Projection: Percentage of the population age 60+ by highest level of educational attainment. Upper Secondary. Total',\n",
              "       'Wittgenstein Projection: Percentage of the population age 80+ by highest level of educational attainment. Incomplete Primary. Female',\n",
              "       'Wittgenstein Projection: Percentage of the population age 80+ by highest level of educational attainment. Incomplete Primary. Male',\n",
              "       'Wittgenstein Projection: Percentage of the population age 80+ by highest level of educational attainment. Incomplete Primary. Total',\n",
              "       'Wittgenstein Projection: Percentage of the population age 80+ by highest level of educational attainment. Lower Secondary. Female',\n",
              "       'Wittgenstein Projection: Percentage of the population age 80+ by highest level of educational attainment. Lower Secondary. Male',\n",
              "       'Wittgenstein Projection: Percentage of the population age 80+ by highest level of educational attainment. Lower Secondary. Total',\n",
              "       'Wittgenstein Projection: Percentage of the population age 80+ by highest level of educational attainment. No Education. Female',\n",
              "       'Wittgenstein Projection: Percentage of the population age 80+ by highest level of educational attainment. No Education. Male',\n",
              "       'Wittgenstein Projection: Percentage of the population age 80+ by highest level of educational attainment. No Education. Total',\n",
              "       'Wittgenstein Projection: Percentage of the population age 80+ by highest level of educational attainment. Post Secondary. Female',\n",
              "       'Wittgenstein Projection: Percentage of the population age 80+ by highest level of educational attainment. Post Secondary. Male',\n",
              "       'Wittgenstein Projection: Percentage of the population age 80+ by highest level of educational attainment. Post Secondary. Total',\n",
              "       'Wittgenstein Projection: Percentage of the population age 80+ by highest level of educational attainment. Primary. Female',\n",
              "       'Wittgenstein Projection: Percentage of the population age 80+ by highest level of educational attainment. Primary. Male',\n",
              "       'Wittgenstein Projection: Percentage of the population age 80+ by highest level of educational attainment. Primary. Total',\n",
              "       'Wittgenstein Projection: Percentage of the population age 80+ by highest level of educational attainment. Upper Secondary. Female',\n",
              "       'Wittgenstein Projection: Percentage of the population age 80+ by highest level of educational attainment. Upper Secondary. Male',\n",
              "       'Wittgenstein Projection: Percentage of the population age 80+ by highest level of educational attainment. Upper Secondary. Total',\n",
              "       'Wittgenstein Projection: Percentage of the total population by highest level of educational attainment. Incomplete Primary. Female',\n",
              "       'Wittgenstein Projection: Percentage of the total population by highest level of educational attainment. Incomplete Primary. Male',\n",
              "       'Wittgenstein Projection: Percentage of the total population by highest level of educational attainment. Incomplete Primary. Total',\n",
              "       'Wittgenstein Projection: Percentage of the total population by highest level of educational attainment. Lower Secondary. Female',\n",
              "       'Wittgenstein Projection: Percentage of the total population by highest level of educational attainment. Lower Secondary. Male',\n",
              "       'Wittgenstein Projection: Percentage of the total population by highest level of educational attainment. Lower Secondary. Total',\n",
              "       'Wittgenstein Projection: Percentage of the total population by highest level of educational attainment. No Education. Female',\n",
              "       'Wittgenstein Projection: Percentage of the total population by highest level of educational attainment. No Education. Male',\n",
              "       'Wittgenstein Projection: Percentage of the total population by highest level of educational attainment. No Education. Total',\n",
              "       'Wittgenstein Projection: Percentage of the total population by highest level of educational attainment. Post Secondary. Female',\n",
              "       'Wittgenstein Projection: Percentage of the total population by highest level of educational attainment. Post Secondary. Male',\n",
              "       'Wittgenstein Projection: Percentage of the total population by highest level of educational attainment. Post Secondary. Total',\n",
              "       'Wittgenstein Projection: Percentage of the total population by highest level of educational attainment. Primary. Female',\n",
              "       'Wittgenstein Projection: Percentage of the total population by highest level of educational attainment. Primary. Male',\n",
              "       'Wittgenstein Projection: Percentage of the total population by highest level of educational attainment. Primary. Total',\n",
              "       'Wittgenstein Projection: Percentage of the total population by highest level of educational attainment. Upper Secondary. Female',\n",
              "       'Wittgenstein Projection: Percentage of the total population by highest level of educational attainment. Upper Secondary. Male',\n",
              "       'Wittgenstein Projection: Percentage of the total population by highest level of educational attainment. Upper Secondary. Total',\n",
              "       'Wittgenstein Projection: Population age 15-19 in thousands by highest level of educational attainment. Incomplete Primary. Female',\n",
              "       'Wittgenstein Projection: Population age 15-19 in thousands by highest level of educational attainment. Incomplete Primary. Male',\n",
              "       'Wittgenstein Projection: Population age 15-19 in thousands by highest level of educational attainment. Incomplete Primary. Total',\n",
              "       'Wittgenstein Projection: Population age 15-19 in thousands by highest level of educational attainment. Lower Secondary. Female',\n",
              "       'Wittgenstein Projection: Population age 15-19 in thousands by highest level of educational attainment. Lower Secondary. Male',\n",
              "       'Wittgenstein Projection: Population age 15-19 in thousands by highest level of educational attainment. Lower Secondary. Total',\n",
              "       'Wittgenstein Projection: Population age 15-19 in thousands by highest level of educational attainment. No Education. Female',\n",
              "       'Wittgenstein Projection: Population age 15-19 in thousands by highest level of educational attainment. No Education. Male',\n",
              "       'Wittgenstein Projection: Population age 15-19 in thousands by highest level of educational attainment. No Education. Total',\n",
              "       'Wittgenstein Projection: Population age 15-19 in thousands by highest level of educational attainment. Post Secondary. Female',\n",
              "       'Wittgenstein Projection: Population age 15-19 in thousands by highest level of educational attainment. Post Secondary. Male',\n",
              "       'Wittgenstein Projection: Population age 15-19 in thousands by highest level of educational attainment. Post Secondary. Total',\n",
              "       'Wittgenstein Projection: Population age 15-19 in thousands by highest level of educational attainment. Primary. Female',\n",
              "       'Wittgenstein Projection: Population age 15-19 in thousands by highest level of educational attainment. Primary. Male',\n",
              "       'Wittgenstein Projection: Population age 15-19 in thousands by highest level of educational attainment. Primary. Total',\n",
              "       'Wittgenstein Projection: Population age 15-19 in thousands by highest level of educational attainment. Upper Secondary. Female',\n",
              "       'Wittgenstein Projection: Population age 15-19 in thousands by highest level of educational attainment. Upper Secondary. Male',\n",
              "       'Wittgenstein Projection: Population age 15-19 in thousands by highest level of educational attainment. Upper Secondary. Total',\n",
              "       'Wittgenstein Projection: Population age 20-24 in thousands by highest level of educational attainment. Incomplete Primary. Female',\n",
              "       'Wittgenstein Projection: Population age 20-24 in thousands by highest level of educational attainment. Incomplete Primary. Male',\n",
              "       'Wittgenstein Projection: Population age 20-24 in thousands by highest level of educational attainment. Incomplete Primary. Total',\n",
              "       'Wittgenstein Projection: Population age 20-24 in thousands by highest level of educational attainment. Lower Secondary. Female',\n",
              "       'Wittgenstein Projection: Population age 20-24 in thousands by highest level of educational attainment. Lower Secondary. Male',\n",
              "       'Wittgenstein Projection: Population age 20-24 in thousands by highest level of educational attainment. Lower Secondary. Total',\n",
              "       'Wittgenstein Projection: Population age 20-24 in thousands by highest level of educational attainment. No Education. Female',\n",
              "       'Wittgenstein Projection: Population age 20-24 in thousands by highest level of educational attainment. No Education. Male',\n",
              "       'Wittgenstein Projection: Population age 20-24 in thousands by highest level of educational attainment. No Education. Total',\n",
              "       'Wittgenstein Projection: Population age 20-24 in thousands by highest level of educational attainment. Post Secondary. Female',\n",
              "       'Wittgenstein Projection: Population age 20-24 in thousands by highest level of educational attainment. Post Secondary. Male',\n",
              "       'Wittgenstein Projection: Population age 20-24 in thousands by highest level of educational attainment. Post Secondary. Total',\n",
              "       'Wittgenstein Projection: Population age 20-24 in thousands by highest level of educational attainment. Primary. Female',\n",
              "       'Wittgenstein Projection: Population age 20-24 in thousands by highest level of educational attainment. Primary. Male',\n",
              "       'Wittgenstein Projection: Population age 20-24 in thousands by highest level of educational attainment. Primary. Total',\n",
              "       'Wittgenstein Projection: Population age 20-24 in thousands by highest level of educational attainment. Upper Secondary. Female',\n",
              "       'Wittgenstein Projection: Population age 20-24 in thousands by highest level of educational attainment. Upper Secondary. Male',\n",
              "       'Wittgenstein Projection: Population age 20-24 in thousands by highest level of educational attainment. Upper Secondary. Total',\n",
              "       'Wittgenstein Projection: Population age 25-29 in thousands by highest level of educational attainment. Incomplete Primary. Female',\n",
              "       'Wittgenstein Projection: Population age 25-29 in thousands by highest level of educational attainment. Incomplete Primary. Male',\n",
              "       'Wittgenstein Projection: Population age 25-29 in thousands by highest level of educational attainment. Incomplete Primary. Total',\n",
              "       'Wittgenstein Projection: Population age 25-29 in thousands by highest level of educational attainment. Lower Secondary. Female',\n",
              "       'Wittgenstein Projection: Population age 25-29 in thousands by highest level of educational attainment. Lower Secondary. Male',\n",
              "       'Wittgenstein Projection: Population age 25-29 in thousands by highest level of educational attainment. Lower Secondary. Total',\n",
              "       'Wittgenstein Projection: Population age 25-29 in thousands by highest level of educational attainment. No Education. Female',\n",
              "       'Wittgenstein Projection: Population age 25-29 in thousands by highest level of educational attainment. No Education. Male',\n",
              "       'Wittgenstein Projection: Population age 25-29 in thousands by highest level of educational attainment. No Education. Total',\n",
              "       'Wittgenstein Projection: Population age 25-29 in thousands by highest level of educational attainment. Post Secondary. Female',\n",
              "       'Wittgenstein Projection: Population age 25-29 in thousands by highest level of educational attainment. Post Secondary. Male',\n",
              "       'Wittgenstein Projection: Population age 25-29 in thousands by highest level of educational attainment. Post Secondary. Total',\n",
              "       'Wittgenstein Projection: Population age 25-29 in thousands by highest level of educational attainment. Primary. Female',\n",
              "       'Wittgenstein Projection: Population age 25-29 in thousands by highest level of educational attainment. Primary. Male',\n",
              "       'Wittgenstein Projection: Population age 25-29 in thousands by highest level of educational attainment. Primary. Total',\n",
              "       'Wittgenstein Projection: Population age 25-29 in thousands by highest level of educational attainment. Upper Secondary. Female',\n",
              "       'Wittgenstein Projection: Population age 25-29 in thousands by highest level of educational attainment. Upper Secondary. Male',\n",
              "       'Wittgenstein Projection: Population age 25-29 in thousands by highest level of educational attainment. Upper Secondary. Total',\n",
              "       'Wittgenstein Projection: Population in thousands by highest level of educational attainment. Incomplete Primary. Female',\n",
              "       'Wittgenstein Projection: Population in thousands by highest level of educational attainment. Incomplete Primary. Male',\n",
              "       'Wittgenstein Projection: Population in thousands by highest level of educational attainment. Incomplete Primary. Total',\n",
              "       'Wittgenstein Projection: Population in thousands by highest level of educational attainment. Lower Secondary. Female',\n",
              "       'Wittgenstein Projection: Population in thousands by highest level of educational attainment. Lower Secondary. Male',\n",
              "       'Wittgenstein Projection: Population in thousands by highest level of educational attainment. Lower Secondary. Total',\n",
              "       'Wittgenstein Projection: Population in thousands by highest level of educational attainment. No Education. Female',\n",
              "       'Wittgenstein Projection: Population in thousands by highest level of educational attainment. No Education. Male',\n",
              "       'Wittgenstein Projection: Population in thousands by highest level of educational attainment. No Education. Total',\n",
              "       'Wittgenstein Projection: Population in thousands by highest level of educational attainment. Post Secondary. Female',\n",
              "       'Wittgenstein Projection: Population in thousands by highest level of educational attainment. Post Secondary. Male',\n",
              "       'Wittgenstein Projection: Population in thousands by highest level of educational attainment. Post Secondary. Total',\n",
              "       'Wittgenstein Projection: Population in thousands by highest level of educational attainment. Primary. Female',\n",
              "       'Wittgenstein Projection: Population in thousands by highest level of educational attainment. Primary. Male',\n",
              "       'Wittgenstein Projection: Population in thousands by highest level of educational attainment. Primary. Total',\n",
              "       'Wittgenstein Projection: Population in thousands by highest level of educational attainment. Upper Secondary. Female',\n",
              "       'Wittgenstein Projection: Population in thousands by highest level of educational attainment. Upper Secondary. Male',\n",
              "       'Wittgenstein Projection: Population in thousands by highest level of educational attainment. Upper Secondary. Total'],\n",
              "      dtype=object)"
            ]
          },
          "metadata": {
            "tags": []
          },
          "execution_count": 17
        }
      ]
    },
    {
      "cell_type": "code",
      "metadata": {
        "id": "9cqLO1IzY9ya"
      },
      "source": [
        "df_data_subset1 = df_data[~df_data['1970'].isna()].iloc[:, 0:51]"
      ],
      "execution_count": 13,
      "outputs": []
    },
    {
      "cell_type": "code",
      "metadata": {
        "id": "mN8EjCycux0w",
        "colab": {
          "base_uri": "https://localhost:8080/"
        },
        "outputId": "09673615-c7d0-418c-fc6e-242102ea8bb9"
      },
      "source": [
        "df_data_subset1['Indicator Name'].nunique()"
      ],
      "execution_count": 14,
      "outputs": [
        {
          "output_type": "execute_result",
          "data": {
            "text/plain": [
              "831"
            ]
          },
          "metadata": {
            "tags": []
          },
          "execution_count": 14
        }
      ]
    },
    {
      "cell_type": "code",
      "metadata": {
        "colab": {
          "base_uri": "https://localhost:8080/",
          "height": 131
        },
        "id": "KJCC4Re-ekEE",
        "outputId": "8f88eeb0-ff6a-4803-f9f9-6d8c1cf5644a"
      },
      "source": [
        "# Let's look at which years have the least data available\n",
        "years = df_data.iloc[:, 4:-1]\n",
        "percent_missing = years.isnull().sum() * 100 / len(years)\n",
        "percent_missing =  pd.DataFrame({'years': years.columns,\n",
        "                                 'percent_missing': percent_missing})\n",
        "\n",
        "percent_missing.T"
      ],
      "execution_count": 165,
      "outputs": [
        {
          "output_type": "execute_result",
          "data": {
            "text/html": [
              "<div>\n",
              "<style scoped>\n",
              "    .dataframe tbody tr th:only-of-type {\n",
              "        vertical-align: middle;\n",
              "    }\n",
              "\n",
              "    .dataframe tbody tr th {\n",
              "        vertical-align: top;\n",
              "    }\n",
              "\n",
              "    .dataframe thead th {\n",
              "        text-align: right;\n",
              "    }\n",
              "</style>\n",
              "<table border=\"1\" class=\"dataframe\">\n",
              "  <thead>\n",
              "    <tr style=\"text-align: right;\">\n",
              "      <th></th>\n",
              "      <th>1970</th>\n",
              "      <th>1971</th>\n",
              "      <th>1972</th>\n",
              "      <th>1973</th>\n",
              "      <th>1974</th>\n",
              "      <th>1975</th>\n",
              "      <th>1976</th>\n",
              "      <th>1977</th>\n",
              "      <th>1978</th>\n",
              "      <th>1979</th>\n",
              "      <th>1980</th>\n",
              "      <th>1981</th>\n",
              "      <th>1982</th>\n",
              "      <th>1983</th>\n",
              "      <th>1984</th>\n",
              "      <th>1985</th>\n",
              "      <th>1986</th>\n",
              "      <th>1987</th>\n",
              "      <th>1988</th>\n",
              "      <th>1989</th>\n",
              "      <th>1990</th>\n",
              "      <th>1991</th>\n",
              "      <th>1992</th>\n",
              "      <th>1993</th>\n",
              "      <th>1994</th>\n",
              "      <th>1995</th>\n",
              "      <th>1996</th>\n",
              "      <th>1997</th>\n",
              "      <th>1998</th>\n",
              "      <th>1999</th>\n",
              "      <th>2000</th>\n",
              "      <th>2001</th>\n",
              "      <th>2002</th>\n",
              "      <th>2003</th>\n",
              "      <th>2004</th>\n",
              "      <th>2005</th>\n",
              "      <th>2006</th>\n",
              "      <th>2007</th>\n",
              "      <th>2008</th>\n",
              "      <th>2009</th>\n",
              "      <th>2010</th>\n",
              "      <th>2011</th>\n",
              "      <th>2012</th>\n",
              "      <th>2013</th>\n",
              "      <th>2014</th>\n",
              "      <th>2015</th>\n",
              "      <th>2016</th>\n",
              "      <th>2017</th>\n",
              "      <th>2020</th>\n",
              "      <th>2025</th>\n",
              "      <th>2030</th>\n",
              "      <th>2035</th>\n",
              "      <th>2040</th>\n",
              "      <th>2045</th>\n",
              "      <th>2050</th>\n",
              "      <th>2055</th>\n",
              "      <th>2060</th>\n",
              "      <th>2065</th>\n",
              "      <th>2070</th>\n",
              "      <th>2075</th>\n",
              "      <th>2080</th>\n",
              "      <th>2085</th>\n",
              "      <th>2090</th>\n",
              "      <th>2095</th>\n",
              "      <th>2100</th>\n",
              "    </tr>\n",
              "  </thead>\n",
              "  <tbody>\n",
              "    <tr>\n",
              "      <th>years</th>\n",
              "      <td>1970</td>\n",
              "      <td>1971</td>\n",
              "      <td>1972</td>\n",
              "      <td>1973</td>\n",
              "      <td>1974</td>\n",
              "      <td>1975</td>\n",
              "      <td>1976</td>\n",
              "      <td>1977</td>\n",
              "      <td>1978</td>\n",
              "      <td>1979</td>\n",
              "      <td>1980</td>\n",
              "      <td>1981</td>\n",
              "      <td>1982</td>\n",
              "      <td>1983</td>\n",
              "      <td>1984</td>\n",
              "      <td>1985</td>\n",
              "      <td>1986</td>\n",
              "      <td>1987</td>\n",
              "      <td>1988</td>\n",
              "      <td>1989</td>\n",
              "      <td>1990</td>\n",
              "      <td>1991</td>\n",
              "      <td>1992</td>\n",
              "      <td>1993</td>\n",
              "      <td>1994</td>\n",
              "      <td>1995</td>\n",
              "      <td>1996</td>\n",
              "      <td>1997</td>\n",
              "      <td>1998</td>\n",
              "      <td>1999</td>\n",
              "      <td>2000</td>\n",
              "      <td>2001</td>\n",
              "      <td>2002</td>\n",
              "      <td>2003</td>\n",
              "      <td>2004</td>\n",
              "      <td>2005</td>\n",
              "      <td>2006</td>\n",
              "      <td>2007</td>\n",
              "      <td>2008</td>\n",
              "      <td>2009</td>\n",
              "      <td>2010</td>\n",
              "      <td>2011</td>\n",
              "      <td>2012</td>\n",
              "      <td>2013</td>\n",
              "      <td>2014</td>\n",
              "      <td>2015</td>\n",
              "      <td>2016</td>\n",
              "      <td>2017</td>\n",
              "      <td>2020</td>\n",
              "      <td>2025</td>\n",
              "      <td>2030</td>\n",
              "      <td>2035</td>\n",
              "      <td>2040</td>\n",
              "      <td>2045</td>\n",
              "      <td>2050</td>\n",
              "      <td>2055</td>\n",
              "      <td>2060</td>\n",
              "      <td>2065</td>\n",
              "      <td>2070</td>\n",
              "      <td>2075</td>\n",
              "      <td>2080</td>\n",
              "      <td>2085</td>\n",
              "      <td>2090</td>\n",
              "      <td>2095</td>\n",
              "      <td>2100</td>\n",
              "    </tr>\n",
              "    <tr>\n",
              "      <th>percent_missing</th>\n",
              "      <td>91.8496</td>\n",
              "      <td>95.9933</td>\n",
              "      <td>95.984</td>\n",
              "      <td>95.9924</td>\n",
              "      <td>95.9715</td>\n",
              "      <td>90.1564</td>\n",
              "      <td>95.7738</td>\n",
              "      <td>95.7636</td>\n",
              "      <td>95.7634</td>\n",
              "      <td>95.8498</td>\n",
              "      <td>89.9516</td>\n",
              "      <td>95.628</td>\n",
              "      <td>95.7707</td>\n",
              "      <td>95.6637</td>\n",
              "      <td>95.6472</td>\n",
              "      <td>89.8193</td>\n",
              "      <td>95.5609</td>\n",
              "      <td>95.6433</td>\n",
              "      <td>95.6533</td>\n",
              "      <td>95.7674</td>\n",
              "      <td>85.9735</td>\n",
              "      <td>91.6073</td>\n",
              "      <td>91.4826</td>\n",
              "      <td>91.4545</td>\n",
              "      <td>91.2663</td>\n",
              "      <td>85.1892</td>\n",
              "      <td>91.3401</td>\n",
              "      <td>91.7183</td>\n",
              "      <td>90.4261</td>\n",
              "      <td>86.6011</td>\n",
              "      <td>80.0801</td>\n",
              "      <td>86.0745</td>\n",
              "      <td>85.9961</td>\n",
              "      <td>85.3018</td>\n",
              "      <td>85.4764</td>\n",
              "      <td>79.2421</td>\n",
              "      <td>84.18</td>\n",
              "      <td>84.5228</td>\n",
              "      <td>84.8481</td>\n",
              "      <td>83.9775</td>\n",
              "      <td>72.665</td>\n",
              "      <td>83.5374</td>\n",
              "      <td>83.3962</td>\n",
              "      <td>84.4961</td>\n",
              "      <td>87.1705</td>\n",
              "      <td>85.2234</td>\n",
              "      <td>98.1442</td>\n",
              "      <td>99.9839</td>\n",
              "      <td>94.2007</td>\n",
              "      <td>94.2007</td>\n",
              "      <td>94.2007</td>\n",
              "      <td>94.2007</td>\n",
              "      <td>94.2007</td>\n",
              "      <td>94.2007</td>\n",
              "      <td>94.2007</td>\n",
              "      <td>94.2007</td>\n",
              "      <td>94.2007</td>\n",
              "      <td>94.2007</td>\n",
              "      <td>94.2007</td>\n",
              "      <td>94.2007</td>\n",
              "      <td>94.2007</td>\n",
              "      <td>94.2007</td>\n",
              "      <td>94.2007</td>\n",
              "      <td>94.2007</td>\n",
              "      <td>94.2007</td>\n",
              "    </tr>\n",
              "  </tbody>\n",
              "</table>\n",
              "</div>"
            ],
            "text/plain": [
              "                    1970     1971    1972  ...     2090     2095     2100\n",
              "years               1970     1971    1972  ...     2090     2095     2100\n",
              "percent_missing  91.8496  95.9933  95.984  ...  94.2007  94.2007  94.2007\n",
              "\n",
              "[2 rows x 65 columns]"
            ]
          },
          "metadata": {
            "tags": []
          },
          "execution_count": 165
        }
      ]
    },
    {
      "cell_type": "code",
      "metadata": {
        "colab": {
          "base_uri": "https://localhost:8080/",
          "height": 320
        },
        "id": "WKYeXZnXiuc8",
        "outputId": "899e8eb2-945f-44d7-c549-90ac0fb02419"
      },
      "source": [
        "from matplotlib import pyplot as plt\n",
        "%matplotlib inline\n",
        "percent_missing.plot(figsize=(20,5), grid=True)\n",
        "plt.show()"
      ],
      "execution_count": 166,
      "outputs": [
        {
          "output_type": "display_data",
          "data": {
            "image/png": "[encoded data removed]",
            "text/plain": [
              "<Figure size 1440x360 with 1 Axes>"
            ]
          },
          "metadata": {
            "tags": [],
            "needs_background": "light"
          }
        }
      ]
    },
    {
      "cell_type": "markdown",
      "metadata": {
        "id": "lMAW97TTkp9l"
      },
      "source": [
        "Null values are least starting from 2000 to 2015 - which means, most data is available for the years 2000 to 2010\n",
        "Also, post 2020, the data mostly contains only projections"
      ]
    },
    {
      "cell_type": "code",
      "metadata": {
        "colab": {
          "base_uri": "https://localhost:8080/",
          "height": 111
        },
        "id": "7EaWvSpdkp3E",
        "outputId": "0da57540-e43b-45a9-cf00-2a111b9ce47e"
      },
      "source": [
        "df_data_subset = df_data.drop(df_data.iloc[:, 4:34], axis=1)\n",
        "df_data_subset = df_data_subset.drop(df_data_subset.iloc[:, 20:], axis=1)\n",
        "df_data_subset.head(2)"
      ],
      "execution_count": 20,
      "outputs": [
        {
          "output_type": "execute_result",
          "data": {
            "text/html": [
              "<div>\n",
              "<style scoped>\n",
              "    .dataframe tbody tr th:only-of-type {\n",
              "        vertical-align: middle;\n",
              "    }\n",
              "\n",
              "    .dataframe tbody tr th {\n",
              "        vertical-align: top;\n",
              "    }\n",
              "\n",
              "    .dataframe thead th {\n",
              "        text-align: right;\n",
              "    }\n",
              "</style>\n",
              "<table border=\"1\" class=\"dataframe\">\n",
              "  <thead>\n",
              "    <tr style=\"text-align: right;\">\n",
              "      <th></th>\n",
              "      <th>Country Name</th>\n",
              "      <th>Country Code</th>\n",
              "      <th>Indicator Name</th>\n",
              "      <th>Indicator Code</th>\n",
              "      <th>2000</th>\n",
              "      <th>2001</th>\n",
              "      <th>2002</th>\n",
              "      <th>2003</th>\n",
              "      <th>2004</th>\n",
              "      <th>2005</th>\n",
              "      <th>2006</th>\n",
              "      <th>2007</th>\n",
              "      <th>2008</th>\n",
              "      <th>2009</th>\n",
              "      <th>2010</th>\n",
              "      <th>2011</th>\n",
              "      <th>2012</th>\n",
              "      <th>2013</th>\n",
              "      <th>2014</th>\n",
              "      <th>2015</th>\n",
              "    </tr>\n",
              "  </thead>\n",
              "  <tbody>\n",
              "    <tr>\n",
              "      <th>0</th>\n",
              "      <td>Arab World</td>\n",
              "      <td>ARB</td>\n",
              "      <td>Adjusted net enrolment rate, lower secondary, ...</td>\n",
              "      <td>UIS.NERA.2</td>\n",
              "      <td>NaN</td>\n",
              "      <td>NaN</td>\n",
              "      <td>NaN</td>\n",
              "      <td>NaN</td>\n",
              "      <td>NaN</td>\n",
              "      <td>NaN</td>\n",
              "      <td>NaN</td>\n",
              "      <td>NaN</td>\n",
              "      <td>NaN</td>\n",
              "      <td>NaN</td>\n",
              "      <td>NaN</td>\n",
              "      <td>NaN</td>\n",
              "      <td>NaN</td>\n",
              "      <td>NaN</td>\n",
              "      <td>NaN</td>\n",
              "      <td>NaN</td>\n",
              "    </tr>\n",
              "    <tr>\n",
              "      <th>1</th>\n",
              "      <td>Arab World</td>\n",
              "      <td>ARB</td>\n",
              "      <td>Adjusted net enrolment rate, lower secondary, ...</td>\n",
              "      <td>UIS.NERA.2.F</td>\n",
              "      <td>NaN</td>\n",
              "      <td>NaN</td>\n",
              "      <td>NaN</td>\n",
              "      <td>NaN</td>\n",
              "      <td>NaN</td>\n",
              "      <td>NaN</td>\n",
              "      <td>NaN</td>\n",
              "      <td>NaN</td>\n",
              "      <td>NaN</td>\n",
              "      <td>NaN</td>\n",
              "      <td>NaN</td>\n",
              "      <td>NaN</td>\n",
              "      <td>NaN</td>\n",
              "      <td>NaN</td>\n",
              "      <td>NaN</td>\n",
              "      <td>NaN</td>\n",
              "    </tr>\n",
              "  </tbody>\n",
              "</table>\n",
              "</div>"
            ],
            "text/plain": [
              "  Country Name Country Code  ... 2014 2015\n",
              "0   Arab World          ARB  ...  NaN  NaN\n",
              "1   Arab World          ARB  ...  NaN  NaN\n",
              "\n",
              "[2 rows x 20 columns]"
            ]
          },
          "metadata": {
            "tags": []
          },
          "execution_count": 20
        }
      ]
    },
    {
      "cell_type": "code",
      "metadata": {
        "colab": {
          "base_uri": "https://localhost:8080/"
        },
        "id": "UGDnE_PnAYDU",
        "outputId": "e626414b-1749-47c3-af5e-df8643a62409"
      },
      "source": [
        "df_data_subset[df_data_subset['Indicator Name'].str.contains('GDP')]['Indicator Name'].unique()"
      ],
      "execution_count": 175,
      "outputs": [
        {
          "output_type": "execute_result",
          "data": {
            "text/plain": [
              "array(['GDP at market prices (constant 2005 US$)',\n",
              "       'GDP at market prices (current US$)',\n",
              "       'GDP per capita (constant 2005 US$)',\n",
              "       'GDP per capita (current US$)',\n",
              "       'GDP per capita, PPP (constant 2011 international $)',\n",
              "       'GDP per capita, PPP (current international $)',\n",
              "       'GDP, PPP (constant 2011 international $)',\n",
              "       'GDP, PPP (current international $)',\n",
              "       'Government expenditure in educational institutions as % of GDP (%)',\n",
              "       'Government expenditure in post-secondary non-tertiary institutions as % of GDP (%)',\n",
              "       'Government expenditure in pre-primary institutions as % of GDP (%)',\n",
              "       'Government expenditure in primary institutions as % of GDP (%)',\n",
              "       'Government expenditure in secondary institutions education as % of GDP (%)',\n",
              "       'Government expenditure in tertiary institutions as % of GDP (%)',\n",
              "       'Government expenditure on education as % of GDP (%)',\n",
              "       'Government expenditure on post-secondary non-tertiary education as % of GDP (%)',\n",
              "       'Government expenditure on pre-primary education as % of GDP (%)',\n",
              "       'Government expenditure on primary education as % of GDP (%)',\n",
              "       'Government expenditure on secondary and post-secondary non-tertiary vocational education as % of GDP (%)',\n",
              "       'Government expenditure on secondary education as % of GDP (%)',\n",
              "       'Government expenditure on tertiary education as % of GDP (%)',\n",
              "       'Government expenditure per lower secondary student as % of GDP per capita (%)',\n",
              "       'Government expenditure per post-secondary non-tertiary student as % of GDP per capita (%)',\n",
              "       'Government expenditure per primary student as % of GDP per capita (%)',\n",
              "       'Government expenditure per secondary student as % of GDP per capita (%)',\n",
              "       'Government expenditure per tertiary student as % of GDP per capita (%)',\n",
              "       'Government expenditure per upper secondary student as % of GDP per capita (%)'],\n",
              "      dtype=object)"
            ]
          },
          "metadata": {
            "tags": []
          },
          "execution_count": 175
        }
      ]
    },
    {
      "cell_type": "code",
      "metadata": {
        "colab": {
          "base_uri": "https://localhost:8080/"
        },
        "id": "o68_j5zIAYBK",
        "outputId": "b2021054-eb0d-4438-ce7c-68f8222cc157"
      },
      "source": [
        "df_data_subset[df_data_subset['Indicator Name'].str.contains('literacy')]['Indicator Name'].unique()"
      ],
      "execution_count": 176,
      "outputs": [
        {
          "output_type": "execute_result",
          "data": {
            "text/plain": [
              "array(['Adult literacy rate, population 15+ years, both sexes (%)',\n",
              "       'Adult literacy rate, population 15+ years, female (%)',\n",
              "       'Adult literacy rate, population 15+ years, gender parity index (GPI)',\n",
              "       'Adult literacy rate, population 15+ years, male (%)',\n",
              "       'Elderly literacy rate, population 65+ years, both sexes (%)',\n",
              "       'Elderly literacy rate, population 65+ years, female (%)',\n",
              "       'Elderly literacy rate, population 65+ years, gender parity index (GPI)',\n",
              "       'Elderly literacy rate, population 65+ years, male (%)',\n",
              "       'PIAAC: Adults by literacy proficiency level (%). Below Level 1',\n",
              "       'PIAAC: Adults by literacy proficiency level (%). Level 1',\n",
              "       'PIAAC: Adults by literacy proficiency level (%). Level 2',\n",
              "       'PIAAC: Adults by literacy proficiency level (%). Level 3',\n",
              "       'PIAAC: Adults by literacy proficiency level (%). Level 4',\n",
              "       'PIAAC: Adults by literacy proficiency level (%). Level 5',\n",
              "       'PIAAC: Female adults by literacy proficiency level (%). Below Level 1',\n",
              "       'PIAAC: Female adults by literacy proficiency level (%). Level 1',\n",
              "       'PIAAC: Female adults by literacy proficiency level (%). Level 2',\n",
              "       'PIAAC: Female adults by literacy proficiency level (%). Level 3',\n",
              "       'PIAAC: Female adults by literacy proficiency level (%). Level 4 & 5',\n",
              "       'PIAAC: Male adults by literacy proficiency level (%). Below Level 1',\n",
              "       'PIAAC: Male adults by literacy proficiency level (%). Level 1',\n",
              "       'PIAAC: Male adults by literacy proficiency level (%). Level 2',\n",
              "       'PIAAC: Male adults by literacy proficiency level (%). Level 3',\n",
              "       'PIAAC: Male adults by literacy proficiency level (%). Level 4 & 5',\n",
              "       'PIAAC: Young adults by literacy proficiency level (%). Below Level 1',\n",
              "       'PIAAC: Young adults by literacy proficiency level (%). Level 1',\n",
              "       'PIAAC: Young adults by literacy proficiency level (%). Level 2',\n",
              "       'PIAAC: Young adults by literacy proficiency level (%). Level 3',\n",
              "       'PIAAC: Young adults by literacy proficiency level (%). Level 4 & 5',\n",
              "       'Youth literacy rate, population 15-24 years, both sexes (%)',\n",
              "       'Youth literacy rate, population 15-24 years, female (%)',\n",
              "       'Youth literacy rate, population 15-24 years, gender parity index (GPI)',\n",
              "       'Youth literacy rate, population 15-24 years, male (%)'],\n",
              "      dtype=object)"
            ]
          },
          "metadata": {
            "tags": []
          },
          "execution_count": 176
        }
      ]
    },
    {
      "cell_type": "code",
      "metadata": {
        "colab": {
          "base_uri": "https://localhost:8080/"
        },
        "id": "itFbahgJAX-m",
        "outputId": "1351af26-8869-4179-b555-d91f8d4e2574"
      },
      "source": [
        "df1 = pd.merge(df_data_subset, df_country[['Country Code', 'Region', 'Income Group']], how = 'left', on = 'Country Code').reset_index(drop=True)\n",
        "df1.shape"
      ],
      "execution_count": 183,
      "outputs": [
        {
          "output_type": "execute_result",
          "data": {
            "text/plain": [
              "(886930, 22)"
            ]
          },
          "metadata": {
            "tags": []
          },
          "execution_count": 183
        }
      ]
    },
    {
      "cell_type": "code",
      "metadata": {
        "colab": {
          "base_uri": "https://localhost:8080/"
        },
        "id": "Ml51cLnAAX8Q",
        "outputId": "3f1771be-038f-4d1d-e476-9a5017896961"
      },
      "source": [
        "df1['Region'].value_counts()"
      ],
      "execution_count": 184,
      "outputs": [
        {
          "output_type": "execute_result",
          "data": {
            "text/plain": [
              "Europe & Central Asia         208905\n",
              "Sub-Saharan Africa            175920\n",
              "Latin America & Caribbean     150265\n",
              "East Asia & Pacific           131940\n",
              "Middle East & North Africa     76965\n",
              "South Asia                     29320\n",
              "North America                  10995\n",
              "Name: Region, dtype: int64"
            ]
          },
          "metadata": {
            "tags": []
          },
          "execution_count": 184
        }
      ]
    },
    {
      "cell_type": "code",
      "metadata": {
        "colab": {
          "base_uri": "https://localhost:8080/"
        },
        "id": "okhqTCfeAX3A",
        "outputId": "7b660682-d7c3-44dc-d154-7883a83693ce"
      },
      "source": [
        "df1.groupby(['Region', 'Country Name']).size()"
      ],
      "execution_count": 200,
      "outputs": [
        {
          "output_type": "execute_result",
          "data": {
            "text/plain": [
              "Region               Country Name     \n",
              "East Asia & Pacific  American Samoa       3665\n",
              "                     Australia            3665\n",
              "                     Brunei Darussalam    3665\n",
              "                     Cambodia             3665\n",
              "                     China                3665\n",
              "                                          ... \n",
              "Sub-Saharan Africa   Tanzania             3665\n",
              "                     Togo                 3665\n",
              "                     Uganda               3665\n",
              "                     Zambia               3665\n",
              "                     Zimbabwe             3665\n",
              "Length: 214, dtype: int64"
            ]
          },
          "metadata": {
            "tags": []
          },
          "execution_count": 200
        }
      ]
    },
    {
      "cell_type": "code",
      "metadata": {
        "colab": {
          "base_uri": "https://localhost:8080/"
        },
        "id": "T5t44fJpIuw1",
        "outputId": "7d3c89d1-e837-4b8c-a852-35301842f8c9"
      },
      "source": [
        "df1.info()"
      ],
      "execution_count": 203,
      "outputs": [
        {
          "output_type": "stream",
          "text": [
            "<class 'pandas.core.frame.DataFrame'>\n",
            "RangeIndex: 886930 entries, 0 to 886929\n",
            "Data columns (total 22 columns):\n",
            " #   Column          Non-Null Count   Dtype  \n",
            "---  ------          --------------   -----  \n",
            " 0   Country Name    886930 non-null  object \n",
            " 1   Country Code    886930 non-null  object \n",
            " 2   Indicator Name  886930 non-null  object \n",
            " 3   Indicator Code  886930 non-null  object \n",
            " 4   2000            176676 non-null  float64\n",
            " 5   2001            123509 non-null  float64\n",
            " 6   2002            124205 non-null  float64\n",
            " 7   2003            130363 non-null  float64\n",
            " 8   2004            128814 non-null  float64\n",
            " 9   2005            184108 non-null  float64\n",
            " 10  2006            140312 non-null  float64\n",
            " 11  2007            137272 non-null  float64\n",
            " 12  2008            134387 non-null  float64\n",
            " 13  2009            142108 non-null  float64\n",
            " 14  2010            242442 non-null  float64\n",
            " 15  2011            146012 non-null  float64\n",
            " 16  2012            147264 non-null  float64\n",
            " 17  2013            137509 non-null  float64\n",
            " 18  2014            113789 non-null  float64\n",
            " 19  2015            131058 non-null  float64\n",
            " 20  Region          784310 non-null  object \n",
            " 21  Income Group    784310 non-null  object \n",
            "dtypes: float64(16), object(6)\n",
            "memory usage: 148.9+ MB\n"
          ],
          "name": "stdout"
        }
      ]
    },
    {
      "cell_type": "code",
      "metadata": {
        "colab": {
          "base_uri": "https://localhost:8080/"
        },
        "id": "rnWHCxkfAX0Z",
        "outputId": "56b18907-ad6f-48a9-aba1-3b58972affb0"
      },
      "source": [
        "df2 = df1[~df1['Region'].isna()]\n",
        "\n",
        "df2[df2['Region'].str.contains('South Asia')]['Country Name'].unique()"
      ],
      "execution_count": 206,
      "outputs": [
        {
          "output_type": "execute_result",
          "data": {
            "text/plain": [
              "array(['Afghanistan', 'Bangladesh', 'Bhutan', 'India', 'Maldives',\n",
              "       'Nepal', 'Pakistan', 'Sri Lanka'], dtype=object)"
            ]
          },
          "metadata": {
            "tags": []
          },
          "execution_count": 206
        }
      ]
    },
    {
      "cell_type": "code",
      "metadata": {
        "colab": {
          "base_uri": "https://localhost:8080/"
        },
        "id": "WdiCe1voJSDM",
        "outputId": "1e7851f9-7fa6-47ea-a76d-c8a70b7fed55"
      },
      "source": [
        "df2['Income Group'].unique()"
      ],
      "execution_count": 207,
      "outputs": [
        {
          "output_type": "execute_result",
          "data": {
            "text/plain": [
              "array(['Low income', 'Upper middle income', 'High income: nonOECD',\n",
              "       'Lower middle income', 'High income: OECD'], dtype=object)"
            ]
          },
          "metadata": {
            "tags": []
          },
          "execution_count": 207
        }
      ]
    },
    {
      "cell_type": "code",
      "metadata": {
        "colab": {
          "base_uri": "https://localhost:8080/"
        },
        "id": "Th3Rk62aJMv0",
        "outputId": "673d18e7-2c5b-41bf-a225-a579d548d546"
      },
      "source": [
        "df2[df2['Income Group'].str.contains('Lower middle income')]['Country Name'].unique()"
      ],
      "execution_count": 208,
      "outputs": [
        {
          "output_type": "execute_result",
          "data": {
            "text/plain": [
              "array(['Armenia', 'Bhutan', 'Bolivia', 'Cabo Verde', 'Cameroon',\n",
              "       'Congo, Rep.', \"Cote d'Ivoire\", 'Djibouti', 'Egypt, Arab Rep.',\n",
              "       'El Salvador', 'Georgia', 'Ghana', 'Guatemala', 'Guyana',\n",
              "       'Honduras', 'India', 'Indonesia', 'Kiribati', 'Kosovo',\n",
              "       'Kyrgyz Republic', 'Lao PDR', 'Lesotho', 'Mauritania',\n",
              "       'Micronesia, Fed. Sts.', 'Moldova', 'Mongolia', 'Morocco',\n",
              "       'Nicaragua', 'Nigeria', 'Pakistan', 'Papua New Guinea', 'Paraguay',\n",
              "       'Philippines', 'Samoa', 'Sao Tome and Principe', 'Senegal',\n",
              "       'Solomon Islands', 'South Sudan', 'Sri Lanka', 'Sudan',\n",
              "       'Swaziland', 'Syrian Arab Republic', 'Timor-Leste', 'Ukraine',\n",
              "       'Uzbekistan', 'Vanuatu', 'Vietnam', 'West Bank and Gaza',\n",
              "       'Yemen, Rep.', 'Zambia'], dtype=object)"
            ]
          },
          "metadata": {
            "tags": []
          },
          "execution_count": 208
        }
      ]
    },
    {
      "cell_type": "code",
      "metadata": {
        "colab": {
          "base_uri": "https://localhost:8080/"
        },
        "id": "IxwkTivLKtOB",
        "outputId": "0ea02a8d-907f-4335-edf7-3e4f0ea768f5"
      },
      "source": [
        "df1[df1['Indicator Name'].str.contains('PISA')]['Indicator Name'].unique()"
      ],
      "execution_count": 209,
      "outputs": [
        {
          "output_type": "execute_result",
          "data": {
            "text/plain": [
              "array(['PISA: 15-year-olds by mathematics proficiency level (%). Below Level 1',\n",
              "       'PISA: 15-year-olds by mathematics proficiency level (%). Level 1',\n",
              "       'PISA: 15-year-olds by mathematics proficiency level (%). Level 2',\n",
              "       'PISA: 15-year-olds by mathematics proficiency level (%). Level 3',\n",
              "       'PISA: 15-year-olds by mathematics proficiency level (%). Level 4',\n",
              "       'PISA: 15-year-olds by mathematics proficiency level (%). Level 5',\n",
              "       'PISA: 15-year-olds by mathematics proficiency level (%). Level 6',\n",
              "       'PISA: 15-year-olds by reading proficiency level (%). Below Level 1B',\n",
              "       'PISA: 15-year-olds by reading proficiency level (%). Level 1A',\n",
              "       'PISA: 15-year-olds by reading proficiency level (%). Level 1B',\n",
              "       'PISA: 15-year-olds by reading proficiency level (%). Level 2',\n",
              "       'PISA: 15-year-olds by reading proficiency level (%). Level 3',\n",
              "       'PISA: 15-year-olds by reading proficiency level (%). Level 4',\n",
              "       'PISA: 15-year-olds by reading proficiency level (%). Level 5',\n",
              "       'PISA: 15-year-olds by reading proficiency level (%). Level 6',\n",
              "       'PISA: 15-year-olds by science proficiency level (%). Below Level 1B',\n",
              "       'PISA: 15-year-olds by science proficiency level (%). Level 1A',\n",
              "       'PISA: 15-year-olds by science proficiency level (%). Level 1B',\n",
              "       'PISA: 15-year-olds by science proficiency level (%). Level 2',\n",
              "       'PISA: 15-year-olds by science proficiency level (%). Level 3',\n",
              "       'PISA: 15-year-olds by science proficiency level (%). Level 4',\n",
              "       'PISA: 15-year-olds by science proficiency level (%). Level 5',\n",
              "       'PISA: 15-year-olds by science proficiency level (%). Level 6',\n",
              "       'PISA: Distribution of Mathematics Scores: 10th Percentile Score',\n",
              "       'PISA: Distribution of Mathematics Scores: 25th Percentile Score',\n",
              "       'PISA: Distribution of Mathematics Scores: 50th Percentile Score',\n",
              "       'PISA: Distribution of Mathematics Scores: 5th Percentile Score',\n",
              "       'PISA: Distribution of Mathematics Scores: 75th Percentile Score',\n",
              "       'PISA: Distribution of Mathematics Scores: 90th Percentile Score',\n",
              "       'PISA: Distribution of Mathematics Scores: 95th Percentile Score',\n",
              "       'PISA: Distribution of Reading Scores: 10th Percentile Score',\n",
              "       'PISA: Distribution of Reading Scores: 25th Percentile Score',\n",
              "       'PISA: Distribution of Reading Scores: 50th Percentile Score',\n",
              "       'PISA: Distribution of Reading Scores: 5th Percentile Score',\n",
              "       'PISA: Distribution of Reading Scores: 75th Percentile Score',\n",
              "       'PISA: Distribution of Reading Scores: 90th Percentile Score',\n",
              "       'PISA: Distribution of Reading Scores: 95th Percentile Score',\n",
              "       'PISA: Distribution of Science Scores: 10th Percentile Score',\n",
              "       'PISA: Distribution of Science Scores: 25th Percentile Score',\n",
              "       'PISA: Distribution of Science Scores: 50th Percentile Score',\n",
              "       'PISA: Distribution of Science Scores: 5th Percentile Score',\n",
              "       'PISA: Distribution of Science Scores: 75th Percentile Score',\n",
              "       'PISA: Distribution of Science Scores: 90th Percentile Score',\n",
              "       'PISA: Distribution of Science Scores: 95th Percentile Score',\n",
              "       'PISA: Female 15-year-olds by mathematics proficiency level (%). Below Level 1',\n",
              "       'PISA: Female 15-year-olds by mathematics proficiency level (%). Level 1',\n",
              "       'PISA: Female 15-year-olds by mathematics proficiency level (%). Level 2',\n",
              "       'PISA: Female 15-year-olds by mathematics proficiency level (%). Level 3',\n",
              "       'PISA: Female 15-year-olds by mathematics proficiency level (%). Level 4',\n",
              "       'PISA: Female 15-year-olds by mathematics proficiency level (%). Level 5',\n",
              "       'PISA: Female 15-year-olds by mathematics proficiency level (%). Level 6',\n",
              "       'PISA: Female 15-year-olds by reading proficiency level (%). Below Level 1B',\n",
              "       'PISA: Female 15-year-olds by reading proficiency level (%). Level 1A',\n",
              "       'PISA: Female 15-year-olds by reading proficiency level (%). Level 1B',\n",
              "       'PISA: Female 15-year-olds by reading proficiency level (%). Level 2',\n",
              "       'PISA: Female 15-year-olds by reading proficiency level (%). Level 3',\n",
              "       'PISA: Female 15-year-olds by reading proficiency level (%). Level 4',\n",
              "       'PISA: Female 15-year-olds by reading proficiency level (%). Level 5',\n",
              "       'PISA: Female 15-year-olds by reading proficiency level (%). Level 6',\n",
              "       'PISA: Female 15-year-olds by science proficiency level (%). Below Level 1B',\n",
              "       'PISA: Female 15-year-olds by science proficiency level (%). Level 1A',\n",
              "       'PISA: Female 15-year-olds by science proficiency level (%). Level 1B',\n",
              "       'PISA: Female 15-year-olds by science proficiency level (%). Level 2',\n",
              "       'PISA: Female 15-year-olds by science proficiency level (%). Level 3',\n",
              "       'PISA: Female 15-year-olds by science proficiency level (%). Level 4',\n",
              "       'PISA: Female 15-year-olds by science proficiency level (%). Level 5',\n",
              "       'PISA: Female 15-year-olds by science proficiency level (%). Level 6',\n",
              "       'PISA: Male 15-year-olds by mathematics proficiency level (%). Below Level 1',\n",
              "       'PISA: Male 15-year-olds by mathematics proficiency level (%). Level 1',\n",
              "       'PISA: Male 15-year-olds by mathematics proficiency level (%). Level 2',\n",
              "       'PISA: Male 15-year-olds by mathematics proficiency level (%). Level 3',\n",
              "       'PISA: Male 15-year-olds by mathematics proficiency level (%). Level 4',\n",
              "       'PISA: Male 15-year-olds by mathematics proficiency level (%). Level 5',\n",
              "       'PISA: Male 15-year-olds by mathematics proficiency level (%). Level 6',\n",
              "       'PISA: Male 15-year-olds by reading proficiency level (%). Below Level 1B',\n",
              "       'PISA: Male 15-year-olds by reading proficiency level (%). Level 1A',\n",
              "       'PISA: Male 15-year-olds by reading proficiency level (%). Level 1B',\n",
              "       'PISA: Male 15-year-olds by reading proficiency level (%). Level 2',\n",
              "       'PISA: Male 15-year-olds by reading proficiency level (%). Level 3',\n",
              "       'PISA: Male 15-year-olds by reading proficiency level (%). Level 4',\n",
              "       'PISA: Male 15-year-olds by reading proficiency level (%). Level 5',\n",
              "       'PISA: Male 15-year-olds by reading proficiency level (%). Level 6',\n",
              "       'PISA: Male 15-year-olds by science proficiency level (%). Below Level 1B',\n",
              "       'PISA: Male 15-year-olds by science proficiency level (%). Level 1A',\n",
              "       'PISA: Male 15-year-olds by science proficiency level (%). Level 1B',\n",
              "       'PISA: Male 15-year-olds by science proficiency level (%). Level 2',\n",
              "       'PISA: Male 15-year-olds by science proficiency level (%). Level 3',\n",
              "       'PISA: Male 15-year-olds by science proficiency level (%). Level 4',\n",
              "       'PISA: Male 15-year-olds by science proficiency level (%). Level 5',\n",
              "       'PISA: Male 15-year-olds by science proficiency level (%). Level 6',\n",
              "       'PISA: Mean performance on the mathematics scale',\n",
              "       'PISA: Mean performance on the mathematics scale. Female',\n",
              "       'PISA: Mean performance on the mathematics scale. Male',\n",
              "       'PISA: Mean performance on the reading scale',\n",
              "       'PISA: Mean performance on the reading scale. Female',\n",
              "       'PISA: Mean performance on the reading scale. Male',\n",
              "       'PISA: Mean performance on the science scale',\n",
              "       'PISA: Mean performance on the science scale. Female',\n",
              "       'PISA: Mean performance on the science scale. Male'], dtype=object)"
            ]
          },
          "metadata": {
            "tags": []
          },
          "execution_count": 209
        }
      ]
    },
    {
      "cell_type": "code",
      "metadata": {
        "colab": {
          "base_uri": "https://localhost:8080/"
        },
        "id": "3aU32AAGKtQa",
        "outputId": "250a4e8c-4898-4891-d36b-2ad587ab5175"
      },
      "source": [
        "df1[df1['Indicator Name'].str.contains('TIMSS')]['Indicator Name'].unique()"
      ],
      "execution_count": 210,
      "outputs": [
        {
          "output_type": "execute_result",
          "data": {
            "text/plain": [
              "array(['TIMSS: Distribution of 4th Grade Mathematics Scores: 10th Percentile Score',\n",
              "       'TIMSS: Distribution of 4th Grade Mathematics Scores: 25th Percentile Score',\n",
              "       'TIMSS: Distribution of 4th Grade Mathematics Scores: 50th Percentile Score',\n",
              "       'TIMSS: Distribution of 4th Grade Mathematics Scores: 5th Percentile Score',\n",
              "       'TIMSS: Distribution of 4th Grade Mathematics Scores: 75th Percentile Score',\n",
              "       'TIMSS: Distribution of 4th Grade Mathematics Scores: 90th Percentile Score',\n",
              "       'TIMSS: Distribution of 4th Grade Mathematics Scores: 95th Percentile Score',\n",
              "       'TIMSS: Distribution of 4th Grade Science Scores: 10th Percentile Score',\n",
              "       'TIMSS: Distribution of 4th Grade Science Scores: 25th Percentile Score',\n",
              "       'TIMSS: Distribution of 4th Grade Science Scores: 50th Percentile Score',\n",
              "       'TIMSS: Distribution of 4th Grade Science Scores: 5th Percentile Score',\n",
              "       'TIMSS: Distribution of 4th Grade Science Scores: 75th Percentile Score',\n",
              "       'TIMSS: Distribution of 4th Grade Science Scores: 90th Percentile Score',\n",
              "       'TIMSS: Distribution of 4th Grade Science Scores: 95th Percentile Score',\n",
              "       'TIMSS: Distribution of 8th Grade Mathematics Scores: 10th Percentile Score',\n",
              "       'TIMSS: Distribution of 8th Grade Mathematics Scores: 25th Percentile Score',\n",
              "       'TIMSS: Distribution of 8th Grade Mathematics Scores: 50th Percentile Score',\n",
              "       'TIMSS: Distribution of 8th Grade Mathematics Scores: 5th Percentile Score',\n",
              "       'TIMSS: Distribution of 8th Grade Mathematics Scores: 75th Percentile Score',\n",
              "       'TIMSS: Distribution of 8th Grade Mathematics Scores: 90th Percentile Score',\n",
              "       'TIMSS: Distribution of 8th Grade Mathematics Scores: 95th Percentile Score',\n",
              "       'TIMSS: Distribution of 8th Grade Science Scores: 10th Percentile Score',\n",
              "       'TIMSS: Distribution of 8th Grade Science Scores: 25th Percentile Score',\n",
              "       'TIMSS: Distribution of 8th Grade Science Scores: 50th Percentile Score',\n",
              "       'TIMSS: Distribution of 8th Grade Science Scores: 5th Percentile Score',\n",
              "       'TIMSS: Distribution of 8th Grade Science Scores: 75th Percentile Score',\n",
              "       'TIMSS: Distribution of 8th Grade Science Scores: 90th Percentile Score',\n",
              "       'TIMSS: Distribution of 8th Grade Science Scores: 95th Percentile Score',\n",
              "       'TIMSS: Eighth grade students reaching the advanced international benchmark of mathematics achievement (%)',\n",
              "       'TIMSS: Eighth grade students reaching the advanced international benchmark of science achievement (%)',\n",
              "       'TIMSS: Eighth grade students reaching the high international benchmark of mathematics achievement (%)',\n",
              "       'TIMSS: Eighth grade students reaching the high international benchmark of science achievement (%)',\n",
              "       'TIMSS: Eighth grade students reaching the intermediate international benchmark of mathematics achievement (%)',\n",
              "       'TIMSS: Eighth grade students reaching the intermediate international benchmark of science achievement (%)',\n",
              "       'TIMSS: Eighth grade students reaching the low international benchmark of mathematics achievement (%)',\n",
              "       'TIMSS: Eighth grade students reaching the low international benchmark of science achievement (%)',\n",
              "       'TIMSS: Eighth grade students who did not reach the low international benchmark of mathematics achievement (%)',\n",
              "       'TIMSS: Eighth grade students who did not reach the low international benchmark of science achievement (%)',\n",
              "       'TIMSS: Female 4th grade students reaching the advanced international benchmark of mathematics achievement (%)',\n",
              "       'TIMSS: Female 4th grade students reaching the advanced international benchmark of science achievement (%)',\n",
              "       'TIMSS: Female 4th grade students reaching the high international benchmark of mathematics achievement (%)',\n",
              "       'TIMSS: Female 4th grade students reaching the high international benchmark of science achievement (%)',\n",
              "       'TIMSS: Female 4th grade students reaching the intermediate international benchmark of mathematics achievement (%)',\n",
              "       'TIMSS: Female 4th grade students reaching the intermediate international benchmark of science achievement (%)',\n",
              "       'TIMSS: Female 4th grade students reaching the low international benchmark of mathematics achievement (%)',\n",
              "       'TIMSS: Female 4th grade students reaching the low international benchmark of science achievement (%)',\n",
              "       'TIMSS: Female 4th grade students who did not reach the low international benchmark of mathematics achievement (%)',\n",
              "       'TIMSS: Female 4th grade students who did not reach the low international benchmark of science achievement (%)',\n",
              "       'TIMSS: Female 8th grade students reaching the advanced international benchmark of mathematics achievement (%)',\n",
              "       'TIMSS: Female 8th grade students reaching the advanced international benchmark of science achievement (%)',\n",
              "       'TIMSS: Female 8th grade students reaching the high international benchmark of mathematics achievement (%)',\n",
              "       'TIMSS: Female 8th grade students reaching the high international benchmark of science achievement (%)',\n",
              "       'TIMSS: Female 8th grade students reaching the intermediate international benchmark of mathematics achievement (%)',\n",
              "       'TIMSS: Female 8th grade students reaching the intermediate international benchmark of science achievement (%)',\n",
              "       'TIMSS: Female 8th grade students reaching the low international benchmark of mathematics achievement (%)',\n",
              "       'TIMSS: Female 8th grade students reaching the low international benchmark of science achievement (%)',\n",
              "       'TIMSS: Female 8th grade students who did not reach the low international benchmark of mathematics achievement (%)',\n",
              "       'TIMSS: Female 8th grade students who did not reach the low international benchmark of science achievement (%)',\n",
              "       'TIMSS: Fourth grade students reaching the advanced international benchmark of mathematics achievement (%)',\n",
              "       'TIMSS: Fourth grade students reaching the advanced international benchmark of science achievement (%)',\n",
              "       'TIMSS: Fourth grade students reaching the high international benchmark of mathematics achievement (%)',\n",
              "       'TIMSS: Fourth grade students reaching the high international benchmark of science achievement (%)',\n",
              "       'TIMSS: Fourth grade students reaching the intermediate international benchmark of mathematics achievement (%)',\n",
              "       'TIMSS: Fourth grade students reaching the intermediate international benchmark of science achievement (%)',\n",
              "       'TIMSS: Fourth grade students reaching the low international benchmark of mathematics achievement (%)',\n",
              "       'TIMSS: Fourth grade students reaching the low international benchmark of science achievement (%)',\n",
              "       'TIMSS: Fourth grade students who did not reach the low international benchmark of mathematics achievement (%)',\n",
              "       'TIMSS: Fourth grade students who did not reach the low international benchmark of science achievement (%)',\n",
              "       'TIMSS: Male 4th grade students reaching the advanced international benchmark of mathematics achievement (%)',\n",
              "       'TIMSS: Male 4th grade students reaching the advanced international benchmark of science achievement (%)',\n",
              "       'TIMSS: Male 4th grade students reaching the high international benchmark of mathematics achievement (%)',\n",
              "       'TIMSS: Male 4th grade students reaching the high international benchmark of science achievement (%)',\n",
              "       'TIMSS: Male 4th grade students reaching the intermediate international benchmark of mathematics achievement (%)',\n",
              "       'TIMSS: Male 4th grade students reaching the intermediate international benchmark of science achievement (%)',\n",
              "       'TIMSS: Male 4th grade students reaching the low international benchmark of mathematics achievement (%)',\n",
              "       'TIMSS: Male 4th grade students reaching the low international benchmark of science achievement (%)',\n",
              "       'TIMSS: Male 4th grade students who did not reach the low international benchmark of mathematics achievement (%)',\n",
              "       'TIMSS: Male 4th grade students who did not reach the low international benchmark of science achievement (%)',\n",
              "       'TIMSS: Male 8th grade students reaching the advanced international benchmark of mathematics achievement (%)',\n",
              "       'TIMSS: Male 8th grade students reaching the advanced international benchmark of science achievement (%)',\n",
              "       'TIMSS: Male 8th grade students reaching the high international benchmark of mathematics achievement (%)',\n",
              "       'TIMSS: Male 8th grade students reaching the high international benchmark of science achievement (%)',\n",
              "       'TIMSS: Male 8th grade students reaching the intermediate international benchmark of mathematics achievement (%)',\n",
              "       'TIMSS: Male 8th grade students reaching the intermediate international benchmark of science achievement (%)',\n",
              "       'TIMSS: Male 8th grade students reaching the low international benchmark of mathematics achievement (%)',\n",
              "       'TIMSS: Male 8th grade students reaching the low international benchmark of science achievement (%)',\n",
              "       'TIMSS: Male 8th grade students who did not reach the low international benchmark of mathematics achievement (%)',\n",
              "       'TIMSS: Male 8th grade students who did not reach the low international benchmark of science achievement (%)',\n",
              "       'TIMSS: Mean performance on the mathematics scale for eighth grade students, female',\n",
              "       'TIMSS: Mean performance on the mathematics scale for eighth grade students, male',\n",
              "       'TIMSS: Mean performance on the mathematics scale for eighth grade students, total',\n",
              "       'TIMSS: Mean performance on the mathematics scale for fourth grade students, female',\n",
              "       'TIMSS: Mean performance on the mathematics scale for fourth grade students, male',\n",
              "       'TIMSS: Mean performance on the mathematics scale for fourth grade students, total',\n",
              "       'TIMSS: Mean performance on the science scale for eighth grade students, female',\n",
              "       'TIMSS: Mean performance on the science scale for eighth grade students, male',\n",
              "       'TIMSS: Mean performance on the science scale for eighth grade students, total',\n",
              "       'TIMSS: Mean performance on the science scale for fourth grade students, female',\n",
              "       'TIMSS: Mean performance on the science scale for fourth grade students, male',\n",
              "       'TIMSS: Mean performance on the science scale for fourth grade students, total'],\n",
              "      dtype=object)"
            ]
          },
          "metadata": {
            "tags": []
          },
          "execution_count": 210
        }
      ]
    },
    {
      "cell_type": "code",
      "metadata": {
        "colab": {
          "base_uri": "https://localhost:8080/"
        },
        "id": "UGDFk1XoKtS5",
        "outputId": "46d7d0ec-451f-447a-bfd8-1764f2051009"
      },
      "source": [
        "df1[df1['Indicator Name'].str.contains('Enrolment')]['Indicator Name'].unique()"
      ],
      "execution_count": 211,
      "outputs": [
        {
          "output_type": "execute_result",
          "data": {
            "text/plain": [
              "array(['Enrolment in early childhood education, both sexes (number)',\n",
              "       'Enrolment in early childhood education, female (number)',\n",
              "       'Enrolment in early childhood education, private institutions, both sexes (number)',\n",
              "       'Enrolment in early childhood education, private institutions, female (number)',\n",
              "       'Enrolment in early childhood education, public institutions, both sexes (number)',\n",
              "       'Enrolment in early childhood education, public institutions, female (number)',\n",
              "       'Enrolment in early childhood educational development programmes, both sexes (number)',\n",
              "       'Enrolment in early childhood educational development programmes, female (number)',\n",
              "       'Enrolment in early childhood educational development programmes, private institutions, both sexes (number)',\n",
              "       'Enrolment in early childhood educational development programmes, private institutions, female (number)',\n",
              "       'Enrolment in early childhood educational development programmes, public institutions, both sexes (number)',\n",
              "       'Enrolment in early childhood educational development programmes, public institutions, female (number)',\n",
              "       'Enrolment in Grade 1 of lower secondary general education, both sexes (number)',\n",
              "       'Enrolment in Grade 1 of lower secondary general education, female (number)',\n",
              "       'Enrolment in Grade 1 of primary education, both sexes (number)',\n",
              "       'Enrolment in Grade 1 of primary education, female (number)',\n",
              "       'Enrolment in Grade 2 of lower secondary general education, both sexes (number)',\n",
              "       'Enrolment in Grade 2 of lower secondary general education, female (number)',\n",
              "       'Enrolment in Grade 2 of primary education, both sexes (number)',\n",
              "       'Enrolment in Grade 2 of primary education, female (number)',\n",
              "       'Enrolment in Grade 3 of lower secondary general education, both sexes (number)',\n",
              "       'Enrolment in Grade 3 of lower secondary general education, female (number)',\n",
              "       'Enrolment in Grade 3 of primary education, both sexes (number)',\n",
              "       'Enrolment in Grade 3 of primary education, female (number)',\n",
              "       'Enrolment in Grade 4 of lower secondary general education, both sexes (number)',\n",
              "       'Enrolment in Grade 4 of lower secondary general education, female (number)',\n",
              "       'Enrolment in Grade 4 of primary education, both sexes (number)',\n",
              "       'Enrolment in Grade 4 of primary education, female (number)',\n",
              "       'Enrolment in Grade 5 of lower secondary general education, both sexes (number)',\n",
              "       'Enrolment in Grade 5 of lower secondary general education, female (number)',\n",
              "       'Enrolment in Grade 5 of primary education, both sexes (number)',\n",
              "       'Enrolment in Grade 5 of primary education, female (number)',\n",
              "       'Enrolment in Grade 6 of lower secondary general education, both sexes (number)',\n",
              "       'Enrolment in Grade 6 of lower secondary general education, female (number)',\n",
              "       'Enrolment in Grade 6 of primary education, both sexes (number)',\n",
              "       'Enrolment in Grade 6 of primary education, female (number)',\n",
              "       'Enrolment in Grade 7 of primary education, both sexes (number)',\n",
              "       'Enrolment in Grade 7 of primary education, female (number)',\n",
              "       'Enrolment in lower secondary education, both sexes (number)',\n",
              "       'Enrolment in lower secondary education, female (number)',\n",
              "       'Enrolment in lower secondary education, private institutions, both sexes (number)',\n",
              "       'Enrolment in lower secondary education, private institutions, female (number)',\n",
              "       'Enrolment in lower secondary education, public institutions, both sexes (number)',\n",
              "       'Enrolment in lower secondary education, public institutions, female (number)',\n",
              "       'Enrolment in lower secondary general education, Grade unspecified, both sexes (number)',\n",
              "       'Enrolment in lower secondary general education, Grade unspecified, female (number)',\n",
              "       'Enrolment in lower secondary general, both sexes (number)',\n",
              "       'Enrolment in lower secondary general, female (number)',\n",
              "       'Enrolment in lower secondary vocational, both sexes (number)',\n",
              "       'Enrolment in lower secondary vocational, female (number)',\n",
              "       'Enrolment in post-secondary non-tertiary education, both sexes (number)',\n",
              "       'Enrolment in post-secondary non-tertiary education, female (number)',\n",
              "       'Enrolment in post-secondary non-tertiary education, private institutions, both sexes (number)',\n",
              "       'Enrolment in post-secondary non-tertiary education, private institutions, female (number)',\n",
              "       'Enrolment in post-secondary non-tertiary education, public institutions, both sexes (number)',\n",
              "       'Enrolment in post-secondary non-tertiary education, public institutions, female (number)',\n",
              "       'Enrolment in pre-primary education, both sexes (number)',\n",
              "       'Enrolment in pre-primary education, female (number)',\n",
              "       'Enrolment in pre-primary education, private institutions, both sexes (number)',\n",
              "       'Enrolment in pre-primary education, private institutions, female (number)',\n",
              "       'Enrolment in pre-primary education, public institutions, both sexes (number)',\n",
              "       'Enrolment in pre-primary education, public institutions, female (number)',\n",
              "       'Enrolment in primary education, both sexes (number)',\n",
              "       'Enrolment in primary education, female (number)',\n",
              "       'Enrolment in primary education, Grade unspecified, both sexes (number)',\n",
              "       'Enrolment in primary education, Grade unspecified, female (number)',\n",
              "       'Enrolment in primary education, private institutions, both sexes (number)',\n",
              "       'Enrolment in primary education, private institutions, female (number)',\n",
              "       'Enrolment in primary education, public institutions, both sexes (number)',\n",
              "       'Enrolment in primary education, public institutions, female (number)',\n",
              "       'Enrolment in secondary education, both sexes (number)',\n",
              "       'Enrolment in secondary education, female (number)',\n",
              "       'Enrolment in secondary education, private institutions, both sexes (number)',\n",
              "       'Enrolment in secondary education, private institutions, female (number)',\n",
              "       'Enrolment in secondary education, public institutions, both sexes (number)',\n",
              "       'Enrolment in secondary education, public institutions, female (number)',\n",
              "       'Enrolment in secondary general, both sexes (number)',\n",
              "       'Enrolment in secondary general, female (number)',\n",
              "       'Enrolment in secondary vocational, both sexes (number)',\n",
              "       'Enrolment in secondary vocational, female (number)',\n",
              "       'Enrolment in tertiary education per 100,000 inhabitants, both sexes',\n",
              "       'Enrolment in tertiary education per 100,000 inhabitants, female',\n",
              "       'Enrolment in tertiary education per 100,000 inhabitants, male',\n",
              "       'Enrolment in tertiary education, all programmes, both sexes (number)',\n",
              "       'Enrolment in tertiary education, all programmes, female (number)',\n",
              "       'Enrolment in tertiary education, ISCED 5 programmes, both sexes (number)',\n",
              "       'Enrolment in tertiary education, ISCED 5 programmes, female (number)',\n",
              "       'Enrolment in tertiary education, ISCED 6 programmes, both sexes (number)',\n",
              "       'Enrolment in tertiary education, ISCED 6 programmes, female (number)',\n",
              "       'Enrolment in tertiary education, ISCED 7 programmes, both sexes (number)',\n",
              "       'Enrolment in tertiary education, ISCED 7 programmes, female (number)',\n",
              "       'Enrolment in tertiary education, ISCED 8 programmes, both sexes (number)',\n",
              "       'Enrolment in tertiary education, ISCED 8 programmes, female (number)',\n",
              "       'Enrolment in upper secondary education, both sexes (number)',\n",
              "       'Enrolment in upper secondary education, female (number)',\n",
              "       'Enrolment in upper secondary education, private institutions, both sexes (number)',\n",
              "       'Enrolment in upper secondary education, private institutions, female (number)',\n",
              "       'Enrolment in upper secondary education, public institutions, both sexes (number)',\n",
              "       'Enrolment in upper secondary education, public institutions, female (number)',\n",
              "       'Enrolment in upper secondary general, both sexes (number)',\n",
              "       'Enrolment in upper secondary general, female (number)',\n",
              "       'Enrolment in upper secondary vocational, both sexes (number)',\n",
              "       'Enrolment in upper secondary vocational, female (number)'],\n",
              "      dtype=object)"
            ]
          },
          "metadata": {
            "tags": []
          },
          "execution_count": 211
        }
      ]
    },
    {
      "cell_type": "code",
      "metadata": {
        "colab": {
          "base_uri": "https://localhost:8080/"
        },
        "id": "YlV-0iGZNWnq",
        "outputId": "9e255a86-1b4f-4c35-877a-3248e13871f8"
      },
      "source": [
        "df1[df1['Indicator Name'].str.contains('Complete')]['Indicator Name'].unique()"
      ],
      "execution_count": 213,
      "outputs": [
        {
          "output_type": "execute_result",
          "data": {
            "text/plain": [
              "array(['Barro-Lee: Percentage of female population age 15+ with primary schooling. Completed Primary',\n",
              "       'Barro-Lee: Percentage of female population age 15+ with primary schooling. Total (Incomplete and Completed Primary)',\n",
              "       'Barro-Lee: Percentage of female population age 15+ with secondary schooling. Completed Secondary',\n",
              "       'Barro-Lee: Percentage of female population age 15+ with secondary schooling. Total (Incomplete and Completed Secondary)',\n",
              "       'Barro-Lee: Percentage of female population age 15+ with tertiary schooling. Completed Tertiary',\n",
              "       'Barro-Lee: Percentage of female population age 15+ with tertiary schooling. Total (Incomplete and Completed Tertiary)',\n",
              "       'Barro-Lee: Percentage of female population age 15-19 with primary schooling. Completed Primary',\n",
              "       'Barro-Lee: Percentage of female population age 15-19 with primary schooling. Total (Incomplete and Completed Primary)',\n",
              "       'Barro-Lee: Percentage of female population age 15-19 with secondary schooling. Completed Secondary',\n",
              "       'Barro-Lee: Percentage of female population age 15-19 with secondary schooling. Total (Incomplete and Completed Secondary)',\n",
              "       'Barro-Lee: Percentage of female population age 15-19 with tertiary schooling. Completed Tertiary',\n",
              "       'Barro-Lee: Percentage of female population age 15-19 with tertiary schooling. Total (Incomplete and Completed Tertiary)',\n",
              "       'Barro-Lee: Percentage of female population age 20-24 with primary schooling. Completed Primary',\n",
              "       'Barro-Lee: Percentage of female population age 20-24 with primary schooling. Total (Incomplete and Completed Primary)',\n",
              "       'Barro-Lee: Percentage of female population age 20-24 with secondary schooling. Completed Secondary',\n",
              "       'Barro-Lee: Percentage of female population age 20-24 with secondary schooling. Total (Incomplete and Completed Secondary)',\n",
              "       'Barro-Lee: Percentage of female population age 20-24 with tertiary schooling. Completed Tertiary',\n",
              "       'Barro-Lee: Percentage of female population age 20-24 with tertiary schooling. Total (Incomplete and Completed Tertiary)',\n",
              "       'Barro-Lee: Percentage of female population age 25+ with primary schooling. Completed Primary',\n",
              "       'Barro-Lee: Percentage of female population age 25+ with primary schooling. Total (Incomplete and Completed Primary)',\n",
              "       'Barro-Lee: Percentage of female population age 25+ with secondary schooling. Completed Secondary',\n",
              "       'Barro-Lee: Percentage of female population age 25+ with secondary schooling. Total (Incomplete and Completed Secondary)',\n",
              "       'Barro-Lee: Percentage of female population age 25+ with tertiary schooling. Completed Tertiary',\n",
              "       'Barro-Lee: Percentage of female population age 25+ with tertiary schooling. Total (Incomplete and Completed Tertiary)',\n",
              "       'Barro-Lee: Percentage of female population age 25-29 with primary schooling. Completed Primary',\n",
              "       'Barro-Lee: Percentage of female population age 25-29 with primary schooling. Total (Incomplete and Completed Primary)',\n",
              "       'Barro-Lee: Percentage of female population age 25-29 with secondary schooling. Completed Secondary',\n",
              "       'Barro-Lee: Percentage of female population age 25-29 with secondary schooling. Total (Incomplete and Completed Secondary)',\n",
              "       'Barro-Lee: Percentage of female population age 25-29 with tertiary schooling. Completed Tertiary',\n",
              "       'Barro-Lee: Percentage of female population age 25-29 with tertiary schooling. Total (Incomplete and Completed Tertiary)',\n",
              "       'Barro-Lee: Percentage of female population age 30-34 with primary schooling. Completed Primary',\n",
              "       'Barro-Lee: Percentage of female population age 30-34 with primary schooling. Total (Incomplete and Completed Primary)',\n",
              "       'Barro-Lee: Percentage of female population age 30-34 with secondary schooling. Completed Secondary',\n",
              "       'Barro-Lee: Percentage of female population age 30-34 with secondary schooling. Total (Incomplete and Completed Secondary)',\n",
              "       'Barro-Lee: Percentage of female population age 30-34 with tertiary schooling. Completed Tertiary',\n",
              "       'Barro-Lee: Percentage of female population age 30-34 with tertiary schooling. Total (Incomplete and Completed Tertiary)',\n",
              "       'Barro-Lee: Percentage of female population age 35-39 with primary schooling. Completed Primary',\n",
              "       'Barro-Lee: Percentage of female population age 35-39 with primary schooling. Total (Incomplete and Completed Primary)',\n",
              "       'Barro-Lee: Percentage of female population age 35-39 with secondary schooling. Completed Secondary',\n",
              "       'Barro-Lee: Percentage of female population age 35-39 with secondary schooling. Total (Incomplete and Completed Secondary)',\n",
              "       'Barro-Lee: Percentage of female population age 35-39 with tertiary schooling. Completed Tertiary',\n",
              "       'Barro-Lee: Percentage of female population age 35-39 with tertiary schooling. Total (Incomplete and Completed Tertiary)',\n",
              "       'Barro-Lee: Percentage of female population age 40-44 with primary schooling. Completed Primary',\n",
              "       'Barro-Lee: Percentage of female population age 40-44 with primary schooling. Total (Incomplete and Completed Primary)',\n",
              "       'Barro-Lee: Percentage of female population age 40-44 with secondary schooling. Completed Secondary',\n",
              "       'Barro-Lee: Percentage of female population age 40-44 with secondary schooling. Total (Incomplete and Completed Secondary)',\n",
              "       'Barro-Lee: Percentage of female population age 40-44 with tertiary schooling. Completed Tertiary',\n",
              "       'Barro-Lee: Percentage of female population age 40-44 with tertiary schooling. Total (Incomplete and Completed Tertiary)',\n",
              "       'Barro-Lee: Percentage of female population age 45-49 with primary schooling. Completed Primary',\n",
              "       'Barro-Lee: Percentage of female population age 45-49 with primary schooling. Total (Incomplete and Completed Primary)',\n",
              "       'Barro-Lee: Percentage of female population age 45-49 with secondary schooling. Completed Secondary',\n",
              "       'Barro-Lee: Percentage of female population age 45-49 with secondary schooling. Total (Incomplete and Completed Secondary)',\n",
              "       'Barro-Lee: Percentage of female population age 45-49 with tertiary schooling. Completed Tertiary',\n",
              "       'Barro-Lee: Percentage of female population age 45-49 with tertiary schooling. Total (Incomplete and Completed Tertiary)',\n",
              "       'Barro-Lee: Percentage of female population age 50-54 with primary schooling. Completed Primary',\n",
              "       'Barro-Lee: Percentage of female population age 50-54 with primary schooling. Total (Incomplete and Completed Primary)',\n",
              "       'Barro-Lee: Percentage of female population age 50-54 with secondary schooling. Completed Secondary',\n",
              "       'Barro-Lee: Percentage of female population age 50-54 with secondary schooling. Total (Incomplete and Completed Secondary)',\n",
              "       'Barro-Lee: Percentage of female population age 50-54 with tertiary schooling. Completed Tertiary',\n",
              "       'Barro-Lee: Percentage of female population age 50-54 with tertiary schooling. Total (Incomplete and Completed Tertiary)',\n",
              "       'Barro-Lee: Percentage of female population age 55-59 with primary schooling. Completed Primary',\n",
              "       'Barro-Lee: Percentage of female population age 55-59 with primary schooling. Total (Incomplete and Completed Primary)',\n",
              "       'Barro-Lee: Percentage of female population age 55-59 with secondary schooling. Completed Secondary',\n",
              "       'Barro-Lee: Percentage of female population age 55-59 with secondary schooling. Total (Incomplete and Completed Secondary)',\n",
              "       'Barro-Lee: Percentage of female population age 55-59 with tertiary schooling. Completed Tertiary',\n",
              "       'Barro-Lee: Percentage of female population age 55-59 with tertiary schooling. Total (Incomplete and Completed Tertiary)',\n",
              "       'Barro-Lee: Percentage of female population age 60-64 with primary schooling. Completed Primary',\n",
              "       'Barro-Lee: Percentage of female population age 60-64 with primary schooling. Total (Incomplete and Completed Primary)',\n",
              "       'Barro-Lee: Percentage of female population age 60-64 with secondary schooling. Completed Secondary',\n",
              "       'Barro-Lee: Percentage of female population age 60-64 with secondary schooling. Total (Incomplete and Completed Secondary)',\n",
              "       'Barro-Lee: Percentage of female population age 60-64 with tertiary schooling. Completed Tertiary',\n",
              "       'Barro-Lee: Percentage of female population age 60-64 with tertiary schooling. Total (Incomplete and Completed Tertiary)',\n",
              "       'Barro-Lee: Percentage of female population age 65-69 with primary schooling. Completed Primary',\n",
              "       'Barro-Lee: Percentage of female population age 65-69 with primary schooling. Total (Incomplete and Completed Primary)',\n",
              "       'Barro-Lee: Percentage of female population age 65-69 with secondary schooling. Completed Secondary',\n",
              "       'Barro-Lee: Percentage of female population age 65-69 with secondary schooling. Total (Incomplete and Completed Secondary)',\n",
              "       'Barro-Lee: Percentage of female population age 65-69 with tertiary schooling. Completed Tertiary',\n",
              "       'Barro-Lee: Percentage of female population age 65-69 with tertiary schooling. Total (Incomplete and Completed Tertiary)',\n",
              "       'Barro-Lee: Percentage of female population age 70-74 with primary schooling. Completed Primary',\n",
              "       'Barro-Lee: Percentage of female population age 70-74 with primary schooling. Total (Incomplete and Completed Primary)',\n",
              "       'Barro-Lee: Percentage of female population age 70-74 with secondary schooling. Completed Secondary',\n",
              "       'Barro-Lee: Percentage of female population age 70-74 with secondary schooling. Total (Incomplete and Completed Secondary)',\n",
              "       'Barro-Lee: Percentage of female population age 70-74 with tertiary schooling. Completed Tertiary',\n",
              "       'Barro-Lee: Percentage of female population age 70-74 with tertiary schooling. Total (Incomplete and Completed Tertiary)',\n",
              "       'Barro-Lee: Percentage of female population age 75+ with primary schooling. Completed Primary',\n",
              "       'Barro-Lee: Percentage of female population age 75+ with primary schooling. Total (Incomplete and Completed Primary)',\n",
              "       'Barro-Lee: Percentage of female population age 75+ with secondary schooling. Completed Secondary',\n",
              "       'Barro-Lee: Percentage of female population age 75+ with secondary schooling. Total (Incomplete and Completed Secondary)',\n",
              "       'Barro-Lee: Percentage of female population age 75+ with tertiary schooling. Completed Tertiary',\n",
              "       'Barro-Lee: Percentage of female population age 75+ with tertiary schooling. Total (Incomplete and Completed Tertiary)',\n",
              "       'Barro-Lee: Percentage of population age 15+ with primary schooling. Completed Primary',\n",
              "       'Barro-Lee: Percentage of population age 15+ with primary schooling. Total (Incomplete and Completed Primary)',\n",
              "       'Barro-Lee: Percentage of population age 15+ with secondary schooling. Completed Secondary',\n",
              "       'Barro-Lee: Percentage of population age 15+ with secondary schooling. Total (Incomplete and Completed Secondary)',\n",
              "       'Barro-Lee: Percentage of population age 15+ with tertiary schooling. Completed Tertiary',\n",
              "       'Barro-Lee: Percentage of population age 15+ with tertiary schooling. Total (Incomplete and Completed Tertiary)',\n",
              "       'Barro-Lee: Percentage of population age 15-19 with primary schooling. Completed Primary',\n",
              "       'Barro-Lee: Percentage of population age 15-19 with primary schooling. Total (Incomplete and Completed Primary)',\n",
              "       'Barro-Lee: Percentage of population age 15-19 with secondary schooling. Completed Secondary',\n",
              "       'Barro-Lee: Percentage of population age 15-19 with secondary schooling. Total (Incomplete and Completed Secondary)',\n",
              "       'Barro-Lee: Percentage of population age 15-19 with tertiary schooling. Completed Tertiary',\n",
              "       'Barro-Lee: Percentage of population age 15-19 with tertiary schooling. Total (Incomplete and Completed Tertiary)',\n",
              "       'Barro-Lee: Percentage of population age 20-24 with primary schooling. Completed Primary',\n",
              "       'Barro-Lee: Percentage of population age 20-24 with primary schooling. Total (Incomplete and Completed Primary)',\n",
              "       'Barro-Lee: Percentage of population age 20-24 with secondary schooling. Completed Secondary',\n",
              "       'Barro-Lee: Percentage of population age 20-24 with secondary schooling. Total (Incomplete and Completed Secondary)',\n",
              "       'Barro-Lee: Percentage of population age 20-24 with tertiary schooling. Completed Tertiary',\n",
              "       'Barro-Lee: Percentage of population age 20-24 with tertiary schooling. Total (Incomplete and Completed Tertiary)',\n",
              "       'Barro-Lee: Percentage of population age 25+ with primary schooling. Completed Primary',\n",
              "       'Barro-Lee: Percentage of population age 25+ with primary schooling. Total (Incomplete and Completed Primary)',\n",
              "       'Barro-Lee: Percentage of population age 25+ with secondary schooling. Completed Secondary',\n",
              "       'Barro-Lee: Percentage of population age 25+ with secondary schooling. Total (Incomplete and Completed Secondary)',\n",
              "       'Barro-Lee: Percentage of population age 25+ with tertiary schooling. Completed Tertiary',\n",
              "       'Barro-Lee: Percentage of population age 25+ with tertiary schooling. Total (Incomplete and Completed Tertiary)',\n",
              "       'Barro-Lee: Percentage of population age 25-29 with primary schooling. Completed Primary',\n",
              "       'Barro-Lee: Percentage of population age 25-29 with primary schooling. Total (Incomplete and Completed Primary)',\n",
              "       'Barro-Lee: Percentage of population age 25-29 with secondary schooling. Completed Secondary',\n",
              "       'Barro-Lee: Percentage of population age 25-29 with secondary schooling. Total (Incomplete and Completed Secondary)',\n",
              "       'Barro-Lee: Percentage of population age 25-29 with tertiary schooling. Completed Tertiary',\n",
              "       'Barro-Lee: Percentage of population age 25-29 with tertiary schooling. Total (Incomplete and Completed Tertiary)',\n",
              "       'Barro-Lee: Percentage of population age 30-34 with primary schooling. Completed Primary',\n",
              "       'Barro-Lee: Percentage of population age 30-34 with primary schooling. Total (Incomplete and Completed Primary)',\n",
              "       'Barro-Lee: Percentage of population age 30-34 with secondary schooling. Completed Secondary',\n",
              "       'Barro-Lee: Percentage of population age 30-34 with secondary schooling. Total (Incomplete and Completed Secondary)',\n",
              "       'Barro-Lee: Percentage of population age 30-34 with tertiary schooling. Completed Tertiary',\n",
              "       'Barro-Lee: Percentage of population age 30-34 with tertiary schooling. Total (Incomplete and Completed Tertiary)',\n",
              "       'Barro-Lee: Percentage of population age 35-39 with primary schooling. Completed Primary',\n",
              "       'Barro-Lee: Percentage of population age 35-39 with primary schooling. Total (Incomplete and Completed Primary)',\n",
              "       'Barro-Lee: Percentage of population age 35-39 with secondary schooling. Completed Secondary',\n",
              "       'Barro-Lee: Percentage of population age 35-39 with secondary schooling. Total (Incomplete and Completed Secondary)',\n",
              "       'Barro-Lee: Percentage of population age 35-39 with tertiary schooling. Completed Tertiary',\n",
              "       'Barro-Lee: Percentage of population age 35-39 with tertiary schooling. Total (Incomplete and Completed Tertiary)',\n",
              "       'Barro-Lee: Percentage of population age 40-44 with primary schooling. Completed Primary',\n",
              "       'Barro-Lee: Percentage of population age 40-44 with primary schooling. Total (Incomplete and Completed Primary)',\n",
              "       'Barro-Lee: Percentage of population age 40-44 with secondary schooling. Completed Secondary',\n",
              "       'Barro-Lee: Percentage of population age 40-44 with secondary schooling. Total (Incomplete and Completed Secondary)',\n",
              "       'Barro-Lee: Percentage of population age 40-44 with tertiary schooling. Completed Tertiary',\n",
              "       'Barro-Lee: Percentage of population age 40-44 with tertiary schooling. Total (Incomplete and Completed Tertiary)',\n",
              "       'Barro-Lee: Percentage of population age 45-49 with primary schooling. Completed Primary',\n",
              "       'Barro-Lee: Percentage of population age 45-49 with primary schooling. Total (Incomplete and Completed Primary)',\n",
              "       'Barro-Lee: Percentage of population age 45-49 with secondary schooling. Completed Secondary',\n",
              "       'Barro-Lee: Percentage of population age 45-49 with secondary schooling. Total (Incomplete and Completed Secondary)',\n",
              "       'Barro-Lee: Percentage of population age 45-49 with tertiary schooling. Completed Tertiary',\n",
              "       'Barro-Lee: Percentage of population age 45-49 with tertiary schooling. Total (Incomplete and Completed Tertiary)',\n",
              "       'Barro-Lee: Percentage of population age 50-54 with primary schooling. Completed Primary',\n",
              "       'Barro-Lee: Percentage of population age 50-54 with primary schooling. Total (Incomplete and Completed Primary)',\n",
              "       'Barro-Lee: Percentage of population age 50-54 with secondary schooling. Completed Secondary',\n",
              "       'Barro-Lee: Percentage of population age 50-54 with secondary schooling. Total (Incomplete and Completed Secondary)',\n",
              "       'Barro-Lee: Percentage of population age 50-54 with tertiary schooling. Completed Tertiary',\n",
              "       'Barro-Lee: Percentage of population age 50-54 with tertiary schooling. Total (Incomplete and Completed Tertiary)',\n",
              "       'Barro-Lee: Percentage of population age 55-59 with primary schooling. Completed Primary',\n",
              "       'Barro-Lee: Percentage of population age 55-59 with primary schooling. Total (Incomplete and Completed Primary)',\n",
              "       'Barro-Lee: Percentage of population age 55-59 with secondary schooling. Completed Secondary',\n",
              "       'Barro-Lee: Percentage of population age 55-59 with secondary schooling. Total (Incomplete and Completed Secondary)',\n",
              "       'Barro-Lee: Percentage of population age 55-59 with tertiary schooling. Completed Tertiary',\n",
              "       'Barro-Lee: Percentage of population age 55-59 with tertiary schooling. Total (Incomplete and Completed Tertiary)',\n",
              "       'Barro-Lee: Percentage of population age 60-64 with primary schooling. Completed Primary',\n",
              "       'Barro-Lee: Percentage of population age 60-64 with primary schooling. Total (Incomplete and Completed Primary)',\n",
              "       'Barro-Lee: Percentage of population age 60-64 with secondary schooling. Completed Secondary',\n",
              "       'Barro-Lee: Percentage of population age 60-64 with secondary schooling. Total (Incomplete and Completed Secondary)',\n",
              "       'Barro-Lee: Percentage of population age 60-64 with tertiary schooling. Completed Tertiary',\n",
              "       'Barro-Lee: Percentage of population age 60-64 with tertiary schooling. Total (Incomplete and Completed Tertiary)',\n",
              "       'Barro-Lee: Percentage of population age 65-69 with primary schooling. Completed Primary',\n",
              "       'Barro-Lee: Percentage of population age 65-69 with primary schooling. Total (Incomplete and Completed Primary)',\n",
              "       'Barro-Lee: Percentage of population age 65-69 with secondary schooling. Completed Secondary',\n",
              "       'Barro-Lee: Percentage of population age 65-69 with secondary schooling. Total (Incomplete and Completed Secondary)',\n",
              "       'Barro-Lee: Percentage of population age 65-69 with tertiary schooling. Completed Tertiary',\n",
              "       'Barro-Lee: Percentage of population age 65-69 with tertiary schooling. Total (Incomplete and Completed Tertiary)',\n",
              "       'Barro-Lee: Percentage of population age 70-74 with primary schooling. Completed Primary',\n",
              "       'Barro-Lee: Percentage of population age 70-74 with primary schooling. Total (Incomplete and Completed Primary)',\n",
              "       'Barro-Lee: Percentage of population age 70-74 with secondary schooling. Completed Secondary',\n",
              "       'Barro-Lee: Percentage of population age 70-74 with secondary schooling. Total (Incomplete and Completed Secondary)',\n",
              "       'Barro-Lee: Percentage of population age 70-74 with tertiary schooling. Completed Tertiary',\n",
              "       'Barro-Lee: Percentage of population age 70-74 with tertiary schooling. Total (Incomplete and Completed Tertiary)',\n",
              "       'Barro-Lee: Percentage of population age 75+ with primary schooling. Completed Primary',\n",
              "       'Barro-Lee: Percentage of population age 75+ with primary schooling. Total (Incomplete and Completed Primary)',\n",
              "       'Barro-Lee: Percentage of population age 75+ with secondary schooling. Completed Secondary',\n",
              "       'Barro-Lee: Percentage of population age 75+ with secondary schooling. Total (Incomplete and Completed Secondary)',\n",
              "       'Barro-Lee: Percentage of population age 75+ with tertiary schooling. Completed Tertiary',\n",
              "       'Barro-Lee: Percentage of population age 75+ with tertiary schooling. Total (Incomplete and Completed Tertiary)'],\n",
              "      dtype=object)"
            ]
          },
          "metadata": {
            "tags": []
          },
          "execution_count": 213
        }
      ]
    },
    {
      "cell_type": "code",
      "metadata": {
        "colab": {
          "base_uri": "https://localhost:8080/"
        },
        "id": "pcrc1HYSKtVM",
        "outputId": "e6b8414e-360e-4c18-b819-7561302ee71d"
      },
      "source": [
        "df1[df1['Indicator Name'].str.contains('Internet')]['Indicator Name'].unique()"
      ],
      "execution_count": 214,
      "outputs": [
        {
          "output_type": "execute_result",
          "data": {
            "text/plain": [
              "array(['Internet users (per 100 people)'], dtype=object)"
            ]
          },
          "metadata": {
            "tags": []
          },
          "execution_count": 214
        }
      ]
    },
    {
      "cell_type": "code",
      "metadata": {
        "id": "kvrHFSPrsAep",
        "colab": {
          "base_uri": "https://localhost:8080/",
          "height": 335
        },
        "outputId": "2aa63a96-8ab1-4adb-d916-4157e28ce719"
      },
      "source": [
        "df_series.head(2)"
      ],
      "execution_count": null,
      "outputs": [
        {
          "output_type": "execute_result",
          "data": {
            "text/html": [
              "<div>\n",
              "<style scoped>\n",
              "    .dataframe tbody tr th:only-of-type {\n",
              "        vertical-align: middle;\n",
              "    }\n",
              "\n",
              "    .dataframe tbody tr th {\n",
              "        vertical-align: top;\n",
              "    }\n",
              "\n",
              "    .dataframe thead th {\n",
              "        text-align: right;\n",
              "    }\n",
              "</style>\n",
              "<table border=\"1\" class=\"dataframe\">\n",
              "  <thead>\n",
              "    <tr style=\"text-align: right;\">\n",
              "      <th></th>\n",
              "      <th>Series Code</th>\n",
              "      <th>Topic</th>\n",
              "      <th>Indicator Name</th>\n",
              "      <th>Short definition</th>\n",
              "      <th>Long definition</th>\n",
              "      <th>Unit of measure</th>\n",
              "      <th>Periodicity</th>\n",
              "      <th>Base Period</th>\n",
              "      <th>Other notes</th>\n",
              "      <th>Aggregation method</th>\n",
              "      <th>Limitations and exceptions</th>\n",
              "      <th>Notes from original source</th>\n",
              "      <th>General comments</th>\n",
              "      <th>Source</th>\n",
              "      <th>Statistical concept and methodology</th>\n",
              "      <th>Development relevance</th>\n",
              "      <th>Related source links</th>\n",
              "      <th>Other web links</th>\n",
              "      <th>Related indicators</th>\n",
              "      <th>License Type</th>\n",
              "      <th>Unnamed: 20</th>\n",
              "    </tr>\n",
              "  </thead>\n",
              "  <tbody>\n",
              "    <tr>\n",
              "      <th>0</th>\n",
              "      <td>BAR.NOED.1519.FE.ZS</td>\n",
              "      <td>Attainment</td>\n",
              "      <td>Barro-Lee: Percentage of female population age...</td>\n",
              "      <td>Percentage of female population age 15-19 with...</td>\n",
              "      <td>Percentage of female population age 15-19 with...</td>\n",
              "      <td>NaN</td>\n",
              "      <td>NaN</td>\n",
              "      <td>NaN</td>\n",
              "      <td>NaN</td>\n",
              "      <td>NaN</td>\n",
              "      <td>NaN</td>\n",
              "      <td>NaN</td>\n",
              "      <td>NaN</td>\n",
              "      <td>Robert J. Barro and Jong-Wha Lee: http://www.b...</td>\n",
              "      <td>NaN</td>\n",
              "      <td>NaN</td>\n",
              "      <td>NaN</td>\n",
              "      <td>NaN</td>\n",
              "      <td>NaN</td>\n",
              "      <td>NaN</td>\n",
              "      <td>NaN</td>\n",
              "    </tr>\n",
              "    <tr>\n",
              "      <th>1</th>\n",
              "      <td>BAR.NOED.1519.ZS</td>\n",
              "      <td>Attainment</td>\n",
              "      <td>Barro-Lee: Percentage of population age 15-19 ...</td>\n",
              "      <td>Percentage of population age 15-19 with no edu...</td>\n",
              "      <td>Percentage of population age 15-19 with no edu...</td>\n",
              "      <td>NaN</td>\n",
              "      <td>NaN</td>\n",
              "      <td>NaN</td>\n",
              "      <td>NaN</td>\n",
              "      <td>NaN</td>\n",
              "      <td>NaN</td>\n",
              "      <td>NaN</td>\n",
              "      <td>NaN</td>\n",
              "      <td>Robert J. Barro and Jong-Wha Lee: http://www.b...</td>\n",
              "      <td>NaN</td>\n",
              "      <td>NaN</td>\n",
              "      <td>NaN</td>\n",
              "      <td>NaN</td>\n",
              "      <td>NaN</td>\n",
              "      <td>NaN</td>\n",
              "      <td>NaN</td>\n",
              "    </tr>\n",
              "  </tbody>\n",
              "</table>\n",
              "</div>"
            ],
            "text/plain": [
              "           Series Code       Topic  ... License Type Unnamed: 20\n",
              "0  BAR.NOED.1519.FE.ZS  Attainment  ...          NaN         NaN\n",
              "1     BAR.NOED.1519.ZS  Attainment  ...          NaN         NaN\n",
              "\n",
              "[2 rows x 21 columns]"
            ]
          },
          "metadata": {
            "tags": []
          },
          "execution_count": 37
        }
      ]
    },
    {
      "cell_type": "code",
      "metadata": {
        "id": "Rk9RMTS8v9cA",
        "colab": {
          "base_uri": "https://localhost:8080/"
        },
        "outputId": "7a57d80f-590e-4005-ff04-78adcaf99835"
      },
      "source": [
        "df_series.info()"
      ],
      "execution_count": null,
      "outputs": [
        {
          "output_type": "stream",
          "text": [
            "<class 'pandas.core.frame.DataFrame'>\n",
            "RangeIndex: 3665 entries, 0 to 3664\n",
            "Data columns (total 21 columns):\n",
            " #   Column                               Non-Null Count  Dtype  \n",
            "---  ------                               --------------  -----  \n",
            " 0   Series Code                          3665 non-null   object \n",
            " 1   Topic                                3665 non-null   object \n",
            " 2   Indicator Name                       3665 non-null   object \n",
            " 3   Short definition                     2156 non-null   object \n",
            " 4   Long definition                      3665 non-null   object \n",
            " 5   Unit of measure                      0 non-null      float64\n",
            " 6   Periodicity                          99 non-null     object \n",
            " 7   Base Period                          314 non-null    object \n",
            " 8   Other notes                          552 non-null    object \n",
            " 9   Aggregation method                   47 non-null     object \n",
            " 10  Limitations and exceptions           14 non-null     object \n",
            " 11  Notes from original source           0 non-null      float64\n",
            " 12  General comments                     14 non-null     object \n",
            " 13  Source                               3665 non-null   object \n",
            " 14  Statistical concept and methodology  23 non-null     object \n",
            " 15  Development relevance                3 non-null      object \n",
            " 16  Related source links                 215 non-null    object \n",
            " 17  Other web links                      0 non-null      float64\n",
            " 18  Related indicators                   0 non-null      float64\n",
            " 19  License Type                         0 non-null      float64\n",
            " 20  Unnamed: 20                          0 non-null      float64\n",
            "dtypes: float64(6), object(15)\n",
            "memory usage: 601.4+ KB\n"
          ],
          "name": "stdout"
        }
      ]
    },
    {
      "cell_type": "code",
      "metadata": {
        "colab": {
          "base_uri": "https://localhost:8080/"
        },
        "id": "wwRMOpGRV-zL",
        "outputId": "5860342f-3eca-4cb9-df75-472201338a76"
      },
      "source": [
        "df_series['Series Code'].nunique()"
      ],
      "execution_count": 11,
      "outputs": [
        {
          "output_type": "execute_result",
          "data": {
            "text/plain": [
              "3665"
            ]
          },
          "metadata": {
            "tags": []
          },
          "execution_count": 11
        }
      ]
    },
    {
      "cell_type": "code",
      "metadata": {
        "colab": {
          "base_uri": "https://localhost:8080/"
        },
        "id": "6SFfEd_6V-xC",
        "outputId": "ff8a63bb-485b-47c2-d076-258e1156559d"
      },
      "source": [
        "df_series['Topic'].unique()"
      ],
      "execution_count": 13,
      "outputs": [
        {
          "output_type": "execute_result",
          "data": {
            "text/plain": [
              "array(['Attainment', 'Education Equality',\n",
              "       'Infrastructure: Communications', 'Learning Outcomes',\n",
              "       'Economic Policy & Debt: National accounts: US$ at current prices: Aggregate indicators',\n",
              "       'Economic Policy & Debt: National accounts: US$ at constant 2010 prices: Aggregate indicators',\n",
              "       'Economic Policy & Debt: Purchasing power parity',\n",
              "       'Economic Policy & Debt: National accounts: Atlas GNI & GNI per capita',\n",
              "       'Teachers', 'Education Management Information Systems (SABER)',\n",
              "       'Early Child Development (SABER)',\n",
              "       'Engaging the Private Sector (SABER)',\n",
              "       'School Health and School Feeding (SABER)',\n",
              "       'School Autonomy and Accountability (SABER)',\n",
              "       'School Finance (SABER)', 'Student Assessment (SABER)',\n",
              "       'Teachers (SABER)', 'Tertiary Education (SABER)',\n",
              "       'Workforce Development (SABER)', 'Literacy', 'Background',\n",
              "       'Primary', 'Secondary', 'Tertiary', 'Early Childhood Education',\n",
              "       'Pre-Primary', 'Expenditures', 'Health: Risk factors',\n",
              "       'Health: Mortality',\n",
              "       'Social Protection & Labor: Labor force structure', 'Laber',\n",
              "       'Social Protection & Labor: Unemployment',\n",
              "       'Health: Population: Structure', 'Population',\n",
              "       'Health: Population: Dynamics', 'EMIS',\n",
              "       'Post-Secondary/Non-Tertiary'], dtype=object)"
            ]
          },
          "metadata": {
            "tags": []
          },
          "execution_count": 13
        }
      ]
    },
    {
      "cell_type": "code",
      "metadata": {
        "id": "_omXpJVhsAg4",
        "colab": {
          "base_uri": "https://localhost:8080/",
          "height": 111
        },
        "outputId": "8423f7f9-e17e-4341-ea43-929d865f1186"
      },
      "source": [
        "df_countryseries.head(2)"
      ],
      "execution_count": null,
      "outputs": [
        {
          "output_type": "execute_result",
          "data": {
            "text/html": [
              "<div>\n",
              "<style scoped>\n",
              "    .dataframe tbody tr th:only-of-type {\n",
              "        vertical-align: middle;\n",
              "    }\n",
              "\n",
              "    .dataframe tbody tr th {\n",
              "        vertical-align: top;\n",
              "    }\n",
              "\n",
              "    .dataframe thead th {\n",
              "        text-align: right;\n",
              "    }\n",
              "</style>\n",
              "<table border=\"1\" class=\"dataframe\">\n",
              "  <thead>\n",
              "    <tr style=\"text-align: right;\">\n",
              "      <th></th>\n",
              "      <th>CountryCode</th>\n",
              "      <th>SeriesCode</th>\n",
              "      <th>DESCRIPTION</th>\n",
              "      <th>Unnamed: 3</th>\n",
              "    </tr>\n",
              "  </thead>\n",
              "  <tbody>\n",
              "    <tr>\n",
              "      <th>0</th>\n",
              "      <td>ABW</td>\n",
              "      <td>SP.POP.TOTL</td>\n",
              "      <td>Data sources : United Nations World Population...</td>\n",
              "      <td>NaN</td>\n",
              "    </tr>\n",
              "    <tr>\n",
              "      <th>1</th>\n",
              "      <td>ABW</td>\n",
              "      <td>SP.POP.GROW</td>\n",
              "      <td>Data sources: United Nations World Population ...</td>\n",
              "      <td>NaN</td>\n",
              "    </tr>\n",
              "  </tbody>\n",
              "</table>\n",
              "</div>"
            ],
            "text/plain": [
              "  CountryCode  ... Unnamed: 3\n",
              "0         ABW  ...        NaN\n",
              "1         ABW  ...        NaN\n",
              "\n",
              "[2 rows x 4 columns]"
            ]
          },
          "metadata": {
            "tags": []
          },
          "execution_count": 38
        }
      ]
    },
    {
      "cell_type": "code",
      "metadata": {
        "id": "ZfzXkOursAjL",
        "colab": {
          "base_uri": "https://localhost:8080/"
        },
        "outputId": "f4d8a31c-9657-4309-9228-b77141c9ae0f"
      },
      "source": [
        "df_countryseries.info()"
      ],
      "execution_count": null,
      "outputs": [
        {
          "output_type": "stream",
          "text": [
            "<class 'pandas.core.frame.DataFrame'>\n",
            "RangeIndex: 613 entries, 0 to 612\n",
            "Data columns (total 4 columns):\n",
            " #   Column       Non-Null Count  Dtype  \n",
            "---  ------       --------------  -----  \n",
            " 0   CountryCode  613 non-null    object \n",
            " 1   SeriesCode   613 non-null    object \n",
            " 2   DESCRIPTION  613 non-null    object \n",
            " 3   Unnamed: 3   0 non-null      float64\n",
            "dtypes: float64(1), object(3)\n",
            "memory usage: 19.3+ KB\n"
          ],
          "name": "stdout"
        }
      ]
    },
    {
      "cell_type": "code",
      "metadata": {
        "id": "G6GtsvykwOne",
        "colab": {
          "base_uri": "https://localhost:8080/"
        },
        "outputId": "7fbac452-159c-4a5b-ff37-f228a274b473"
      },
      "source": [
        "pd.set_option('display.max_colwidth', None)\n",
        "df_countryseries['DESCRIPTION']"
      ],
      "execution_count": null,
      "outputs": [
        {
          "output_type": "execute_result",
          "data": {
            "text/plain": [
              "0                               Data sources : United Nations World Population Prospects\n",
              "1                                Data sources: United Nations World Population Prospects\n",
              "2                                Data sources: United Nations World Population Prospects\n",
              "3                                                     Estimates are based on regression.\n",
              "4                               Data sources : United Nations World Population Prospects\n",
              "                                             ...                                        \n",
              "608    Data sources : Statistics South Africa, United Nations World Population Prospects\n",
              "609                              Data sources: United Nations World Population Prospects\n",
              "610                             Data sources : United Nations World Population Prospects\n",
              "611                             Data sources : United Nations World Population Prospects\n",
              "612                              Data sources: United Nations World Population Prospects\n",
              "Name: DESCRIPTION, Length: 613, dtype: object"
            ]
          },
          "metadata": {
            "tags": []
          },
          "execution_count": 44
        }
      ]
    },
    {
      "cell_type": "code",
      "metadata": {
        "id": "r-qNcz4qwiI2",
        "colab": {
          "base_uri": "https://localhost:8080/"
        },
        "outputId": "e5a6fb32-8e3a-4e17-d5c7-76505532da2b"
      },
      "source": [
        "df_countryseries['CountryCode'].nunique()"
      ],
      "execution_count": null,
      "outputs": [
        {
          "output_type": "execute_result",
          "data": {
            "text/plain": [
              "211"
            ]
          },
          "metadata": {
            "tags": []
          },
          "execution_count": 46
        }
      ]
    },
    {
      "cell_type": "code",
      "metadata": {
        "id": "SLBiSVOKwsQP",
        "colab": {
          "base_uri": "https://localhost:8080/",
          "height": 514
        },
        "outputId": "54c434f8-d29a-499c-c3f4-1f3aabf829ef"
      },
      "source": [
        "df_footnote.head(15)"
      ],
      "execution_count": 14,
      "outputs": [
        {
          "output_type": "execute_result",
          "data": {
            "text/html": [
              "<div>\n",
              "<style scoped>\n",
              "    .dataframe tbody tr th:only-of-type {\n",
              "        vertical-align: middle;\n",
              "    }\n",
              "\n",
              "    .dataframe tbody tr th {\n",
              "        vertical-align: top;\n",
              "    }\n",
              "\n",
              "    .dataframe thead th {\n",
              "        text-align: right;\n",
              "    }\n",
              "</style>\n",
              "<table border=\"1\" class=\"dataframe\">\n",
              "  <thead>\n",
              "    <tr style=\"text-align: right;\">\n",
              "      <th></th>\n",
              "      <th>CountryCode</th>\n",
              "      <th>SeriesCode</th>\n",
              "      <th>Year</th>\n",
              "      <th>DESCRIPTION</th>\n",
              "      <th>Unnamed: 4</th>\n",
              "    </tr>\n",
              "  </thead>\n",
              "  <tbody>\n",
              "    <tr>\n",
              "      <th>0</th>\n",
              "      <td>ABW</td>\n",
              "      <td>SE.PRE.ENRL.FE</td>\n",
              "      <td>YR2001</td>\n",
              "      <td>Country estimation.</td>\n",
              "      <td>NaN</td>\n",
              "    </tr>\n",
              "    <tr>\n",
              "      <th>1</th>\n",
              "      <td>ABW</td>\n",
              "      <td>SE.TER.TCHR.FE</td>\n",
              "      <td>YR2005</td>\n",
              "      <td>Country estimation.</td>\n",
              "      <td>NaN</td>\n",
              "    </tr>\n",
              "    <tr>\n",
              "      <th>2</th>\n",
              "      <td>ABW</td>\n",
              "      <td>SE.PRE.TCHR.FE</td>\n",
              "      <td>YR2000</td>\n",
              "      <td>Country estimation.</td>\n",
              "      <td>NaN</td>\n",
              "    </tr>\n",
              "    <tr>\n",
              "      <th>3</th>\n",
              "      <td>ABW</td>\n",
              "      <td>SE.SEC.ENRL.GC</td>\n",
              "      <td>YR2004</td>\n",
              "      <td>Country estimation.</td>\n",
              "      <td>NaN</td>\n",
              "    </tr>\n",
              "    <tr>\n",
              "      <th>4</th>\n",
              "      <td>ABW</td>\n",
              "      <td>SE.PRE.TCHR</td>\n",
              "      <td>YR2006</td>\n",
              "      <td>Country estimation.</td>\n",
              "      <td>NaN</td>\n",
              "    </tr>\n",
              "    <tr>\n",
              "      <th>5</th>\n",
              "      <td>ABW</td>\n",
              "      <td>SE.PRE.NENR</td>\n",
              "      <td>YR2000</td>\n",
              "      <td>Country estimation.</td>\n",
              "      <td>NaN</td>\n",
              "    </tr>\n",
              "    <tr>\n",
              "      <th>6</th>\n",
              "      <td>ABW</td>\n",
              "      <td>SE.SEC.ENRL.VO.FE</td>\n",
              "      <td>YR2005</td>\n",
              "      <td>Country estimation.</td>\n",
              "      <td>NaN</td>\n",
              "    </tr>\n",
              "    <tr>\n",
              "      <th>7</th>\n",
              "      <td>ABW</td>\n",
              "      <td>SE.SEC.ENRL.GC</td>\n",
              "      <td>YR2003</td>\n",
              "      <td>Country estimation.</td>\n",
              "      <td>NaN</td>\n",
              "    </tr>\n",
              "    <tr>\n",
              "      <th>8</th>\n",
              "      <td>ABW</td>\n",
              "      <td>SE.PRM.TCHR.FE</td>\n",
              "      <td>YR1999</td>\n",
              "      <td>Country estimation.</td>\n",
              "      <td>NaN</td>\n",
              "    </tr>\n",
              "    <tr>\n",
              "      <th>9</th>\n",
              "      <td>ABW</td>\n",
              "      <td>SE.PRE.TCHR.FE.ZS</td>\n",
              "      <td>YR2008</td>\n",
              "      <td>Country estimation.</td>\n",
              "      <td>NaN</td>\n",
              "    </tr>\n",
              "    <tr>\n",
              "      <th>10</th>\n",
              "      <td>ABW</td>\n",
              "      <td>SE.PRE.ENRL</td>\n",
              "      <td>YR2006</td>\n",
              "      <td>Country estimation.</td>\n",
              "      <td>NaN</td>\n",
              "    </tr>\n",
              "    <tr>\n",
              "      <th>11</th>\n",
              "      <td>ABW</td>\n",
              "      <td>SE.PRE.NENR.FE</td>\n",
              "      <td>YR2000</td>\n",
              "      <td>Country estimation.</td>\n",
              "      <td>NaN</td>\n",
              "    </tr>\n",
              "    <tr>\n",
              "      <th>12</th>\n",
              "      <td>ABW</td>\n",
              "      <td>SE.SEC.ENRL.VO.FE.ZS</td>\n",
              "      <td>YR2002</td>\n",
              "      <td>Country estimation.</td>\n",
              "      <td>NaN</td>\n",
              "    </tr>\n",
              "    <tr>\n",
              "      <th>13</th>\n",
              "      <td>ABW</td>\n",
              "      <td>SE.SEC.TCHR.FE</td>\n",
              "      <td>YR2006</td>\n",
              "      <td>Country estimation.</td>\n",
              "      <td>NaN</td>\n",
              "    </tr>\n",
              "    <tr>\n",
              "      <th>14</th>\n",
              "      <td>ABW</td>\n",
              "      <td>SE.SEC.ENRL.VO.FE.ZS</td>\n",
              "      <td>YR2007</td>\n",
              "      <td>Country estimation.</td>\n",
              "      <td>NaN</td>\n",
              "    </tr>\n",
              "  </tbody>\n",
              "</table>\n",
              "</div>"
            ],
            "text/plain": [
              "   CountryCode            SeriesCode    Year          DESCRIPTION  Unnamed: 4\n",
              "0          ABW        SE.PRE.ENRL.FE  YR2001  Country estimation.         NaN\n",
              "1          ABW        SE.TER.TCHR.FE  YR2005  Country estimation.         NaN\n",
              "2          ABW        SE.PRE.TCHR.FE  YR2000  Country estimation.         NaN\n",
              "3          ABW        SE.SEC.ENRL.GC  YR2004  Country estimation.         NaN\n",
              "4          ABW           SE.PRE.TCHR  YR2006  Country estimation.         NaN\n",
              "5          ABW           SE.PRE.NENR  YR2000  Country estimation.         NaN\n",
              "6          ABW     SE.SEC.ENRL.VO.FE  YR2005  Country estimation.         NaN\n",
              "7          ABW        SE.SEC.ENRL.GC  YR2003  Country estimation.         NaN\n",
              "8          ABW        SE.PRM.TCHR.FE  YR1999  Country estimation.         NaN\n",
              "9          ABW     SE.PRE.TCHR.FE.ZS  YR2008  Country estimation.         NaN\n",
              "10         ABW           SE.PRE.ENRL  YR2006  Country estimation.         NaN\n",
              "11         ABW        SE.PRE.NENR.FE  YR2000  Country estimation.         NaN\n",
              "12         ABW  SE.SEC.ENRL.VO.FE.ZS  YR2002  Country estimation.         NaN\n",
              "13         ABW        SE.SEC.TCHR.FE  YR2006  Country estimation.         NaN\n",
              "14         ABW  SE.SEC.ENRL.VO.FE.ZS  YR2007  Country estimation.         NaN"
            ]
          },
          "metadata": {
            "tags": []
          },
          "execution_count": 14
        }
      ]
    },
    {
      "cell_type": "code",
      "metadata": {
        "id": "ehvW0gWB1MAV",
        "colab": {
          "base_uri": "https://localhost:8080/"
        },
        "outputId": "a50f91ef-86d0-48ec-e710-c1e2e517a11d"
      },
      "source": [
        "np.sort(df_footnote['Year'].unique())"
      ],
      "execution_count": null,
      "outputs": [
        {
          "output_type": "execute_result",
          "data": {
            "text/plain": [
              "array(['YR1970', 'YR1971', 'YR1972', 'YR1973', 'YR1974', 'YR1975',\n",
              "       'YR1976', 'YR1977', 'YR1978', 'YR1979', 'YR1980', 'YR1981',\n",
              "       'YR1982', 'YR1983', 'YR1984', 'YR1985', 'YR1986', 'YR1987',\n",
              "       'YR1988', 'YR1989', 'YR1990', 'YR1991', 'YR1992', 'YR1993',\n",
              "       'YR1994', 'YR1995', 'YR1996', 'YR1997', 'YR1998', 'YR1999',\n",
              "       'YR2000', 'YR2001', 'YR2002', 'YR2003', 'YR2004', 'YR2005',\n",
              "       'YR2006', 'YR2007', 'YR2008', 'YR2009', 'YR2010', 'YR2011',\n",
              "       'YR2012', 'YR2013', 'YR2014', 'YR2015', 'YR2016', 'YR2017',\n",
              "       'YR2020', 'YR2025', 'YR2030', 'YR2035', 'YR2040', 'YR2045',\n",
              "       'YR2050', 'yr2012'], dtype=object)"
            ]
          },
          "metadata": {
            "tags": []
          },
          "execution_count": 57
        }
      ]
    },
    {
      "cell_type": "code",
      "metadata": {
        "id": "7TiNGPGn1--N",
        "colab": {
          "base_uri": "https://localhost:8080/"
        },
        "outputId": "60d65481-6d2d-45d5-90d4-7b4ced3e0c9a"
      },
      "source": [
        "df_footnote.info()"
      ],
      "execution_count": null,
      "outputs": [
        {
          "output_type": "stream",
          "text": [
            "<class 'pandas.core.frame.DataFrame'>\n",
            "RangeIndex: 643638 entries, 0 to 643637\n",
            "Data columns (total 5 columns):\n",
            " #   Column       Non-Null Count   Dtype  \n",
            "---  ------       --------------   -----  \n",
            " 0   CountryCode  643638 non-null  object \n",
            " 1   SeriesCode   643638 non-null  object \n",
            " 2   Year         643638 non-null  object \n",
            " 3   DESCRIPTION  643638 non-null  object \n",
            " 4   Unnamed: 4   0 non-null       float64\n",
            "dtypes: float64(1), object(4)\n",
            "memory usage: 24.6+ MB\n"
          ],
          "name": "stdout"
        }
      ]
    },
    {
      "cell_type": "code",
      "metadata": {
        "id": "7mLhNEshw8UO",
        "colab": {
          "base_uri": "https://localhost:8080/"
        },
        "outputId": "f651b75b-6875-4e51-ac01-a6b30cc3369e"
      },
      "source": [
        "df_footnote['DESCRIPTION'].value_counts()"
      ],
      "execution_count": null,
      "outputs": [
        {
          "output_type": "execute_result",
          "data": {
            "text/plain": [
              "Country Data                                      191188\n",
              "UNESCO Institute for Statistics (UIS) estimate    171527\n",
              "Estimated                                         117155\n",
              "UIS Estimation                                     31395\n",
              "Country estimation.                                26308\n",
              "                                                   ...  \n",
              "Uncertainty bound is 68.9 - 76.3                       1\n",
              "Uncertainty bound is 192.7 - 218.7                     1\n",
              "Uncertainty bound is 193.9 - 220.9                     1\n",
              "Uncertainty bound is 141.3 - 173.4                     1\n",
              "Uncertainty bound is 65.8 - 85                         1\n",
              "Name: DESCRIPTION, Length: 9102, dtype: int64"
            ]
          },
          "metadata": {
            "tags": []
          },
          "execution_count": 49
        }
      ]
    },
    {
      "cell_type": "markdown",
      "metadata": {
        "id": "PQcMJ8Uqw8SK"
      },
      "source": [
        "Initial understanding of each of the datasets:\n",
        "\n",
        "* df_country(EdStatsCountry.csv) - contains list of all countries that are present in the data (total of 241 countries) - along with other features specific to the country like - Region, Income Group specific to the country etc\n",
        "* df_data(EdStatsData.csv) - contains each country, with list of indicators (3665 unique indicators); contains measurement value for each indicator from years 1970 to 2017; from 2020 to 2100 - contains projections\n",
        "* df_series - contains list of all indicators and the definition of each indicator\n",
        "* df_countryseries - contains indicators and data sources for certain countries\n",
        "* df_footnote - contains the estimations and uncertainty bounds for each year - looks like some years are missing\n",
        "\n"
      ]
    },
    {
      "cell_type": "code",
      "metadata": {
        "id": "GQ9xlWFEw8PX"
      },
      "source": [
        ""
      ],
      "execution_count": null,
      "outputs": []
    },
    {
      "cell_type": "code",
      "metadata": {
        "id": "Me3vBYlEw8Mu"
      },
      "source": [
        ""
      ],
      "execution_count": null,
      "outputs": []
    }
  ]
}